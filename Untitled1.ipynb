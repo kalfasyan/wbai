{
 "cells": [
  {
   "cell_type": "code",
   "execution_count": 10,
   "metadata": {},
   "outputs": [
    {
     "name": "stderr",
     "output_type": "stream",
     "text": [
      "/home/kalfasyan/anaconda3/envs/wbai/lib/python3.6/site-packages/torchaudio/backend/utils.py:54: UserWarning: \"sox\" backend is being deprecated. The default backend will be changed to \"sox_io\" backend in 0.8.0 and \"sox\" backend will be removed in 0.9.0. Please migrate to \"sox_io\" backend. Please refer to https://github.com/pytorch/audio/issues/903 for the detail.\n",
      "  '\"sox\" backend is being deprecated. '\n"
     ]
    },
    {
     "name": "stdout",
     "output_type": "stream",
     "text": [
      "Available workers: 16\n"
     ]
    }
   ],
   "source": [
    "import torch\n",
    "torch.manual_seed(42)\n",
    "import torch.nn as nn\n",
    "import torch.nn.functional as F\n",
    "import numpy as np\n",
    "import torch.optim as optim\n",
    "from utils import *\n",
    "from wingbeat_datasets import *\n",
    "from wingbeat_models import *"
   ]
  },
  {
   "cell_type": "code",
   "execution_count": 223,
   "metadata": {},
   "outputs": [],
   "source": [
    "class Conv1dNetRAW(nn.Module):\n",
    "\n",
    "    def __init__(self):\n",
    "        super(Conv1dNetRAW, self).__init__()\n",
    "        self.conv1 = nn.Conv1d(1, 16, 3)\n",
    "        self.relu1 = nn.ReLU()\n",
    "        self.bn1 = nn.BatchNorm1d(16)\n",
    "        self.pool1 = nn.MaxPool1d(2)\n",
    "\n",
    "        self.conv2 = nn.Conv1d(16, 32, 3)\n",
    "        self.relu2 = nn.ReLU()\n",
    "        self.bn2 = nn.BatchNorm1d(32)\n",
    "        self.pool2 = nn.MaxPool1d(2)\n",
    "\n",
    "        self.conv3 = nn.Conv1d(32, 64, 3)\n",
    "        self.relu3 = nn.ReLU()\n",
    "        self.bn3 = nn.BatchNorm1d(64)\n",
    "        self.pool3 = nn.MaxPool1d(2)\n",
    "\n",
    "        self.conv4 = nn.Conv1d(64, 128, 3)\n",
    "        self.relu4 = nn.ReLU()\n",
    "        self.bn4 = nn.BatchNorm1d(128)\n",
    "        self.pool4 = nn.MaxPool1d(2)\n",
    "\n",
    "        self.conv5 = nn.Conv1d(128, 256, 3)\n",
    "        self.relu5 = nn.ReLU()\n",
    "        self.bn5 = nn.BatchNorm1d(256)\n",
    "        self.pool5 = nn.MaxPool1d(2)    \n",
    "\n",
    "        self.dropout = nn.Dropout()\n",
    "        self.avgPool = nn.AdaptiveAvgPool2d((256,1))#nn.AvgPool1d(154)\n",
    "        self.fc1 = nn.Linear(256, 2)\n",
    "\n",
    "    def forward(self, x):\n",
    "        # print(\"######\")\n",
    "\n",
    "        x = self.conv1(x)\n",
    "        x = F.relu(x)\n",
    "        print(f\"relu: \\t{x.shape}\")\n",
    "        x = self.bn1(x)\n",
    "        print(f\"bnrm1: \\t{x.shape}\")\n",
    "        x = self.pool1(x)\n",
    "        print(f\"pool1: \\t{x.shape}\")\n",
    "\n",
    "        x = self.conv2(x)\n",
    "        x = F.relu(x)\n",
    "        print(f\"relu2: \\t{x.shape}\")\n",
    "        x = self.bn2(x)\n",
    "        print(f\"bnrm2: \\t{x.shape}\")\n",
    "        x = self.pool2(x)\n",
    "        print(f\"pool2: \\t{x.shape}\")\n",
    "\n",
    "\n",
    "        x = self.conv3(x)\n",
    "        x = F.relu(x)\n",
    "        print(f\"relu3: \\t{x.shape}\")\n",
    "        x = self.bn3(x)\n",
    "        print(f\"bnrm3: \\t{x.shape}\")\n",
    "        x = self.pool3(x)\n",
    "        print(f\"pool3: \\t{x.shape}\")\n",
    "\n",
    "        x = self.conv4(x)\n",
    "        x = F.relu(x)\n",
    "        print(f\"relu4: \\t{x.shape}\")\n",
    "        x = self.bn4(x)\n",
    "        print(f\"bnrm4: \\t{x.shape}\")\n",
    "        x = self.pool4(x)\n",
    "        print(f\"pool4: \\t{x.shape}\")\n",
    "\n",
    "        x = self.conv5(x)\n",
    "        x = F.relu(x)\n",
    "        print(f\"relu: \\t{x.shape}\")\n",
    "        x = self.bn5(x)\n",
    "        print(f\"bnrm5: \\t{x.shape}\")\n",
    "        x = self.pool5(x)\n",
    "        print(f\"pool5: \\t{x.shape}\")\n",
    "\n",
    "        x = self.dropout(x)\n",
    "        print(f\"dropout: \\t{x.shape}\")\n",
    "        x = self.avgPool(x)\n",
    "        print(f\"avgPool: \\t{x.shape}\")\n",
    "        x = x.view(x.shape[0], -1)\n",
    "        x = self.fc1(x)\n",
    "        print(f\"fc1: \\t{x.shape}\")\n",
    "        return x"
   ]
  },
  {
   "cell_type": "code",
   "execution_count": 224,
   "metadata": {},
   "outputs": [],
   "source": [
    "model = Conv1dNetRAW()\n",
    "criterion = nn.CrossEntropyLoss()\n",
    "optimizer = torch.optim.Adam(model.parameters(), lr=0.01, betas=(0.9, 0.999))\n",
    "scheduler = optim.lr_scheduler.ReduceLROnPlateau(optimizer, patience=3, verbose=True)\n",
    "early_stopping = EarlyStopping(patience=7, verbose=1)"
   ]
  },
  {
   "cell_type": "code",
   "execution_count": 225,
   "metadata": {},
   "outputs": [
    {
     "name": "stdout",
     "output_type": "stream",
     "text": [
      "Found 12150 in dataset: Melanogaster_RL/Z, and 1 label(s): ['D. melanogaster']\n",
      "Label(s) changed to [0]\n"
     ]
    },
    {
     "data": {
      "text/plain": [
       "(tensor([[-0.0108, -0.0039,  0.0022,  ...,  0.0088,  0.0102,  0.0101]]),\n",
       " 0,\n",
       " '/home/kalfasyan/data/wingbeats/Melanogaster_RL/Z/D_20_12_12_21_38_42/F201212_215903_134_G_050_T_21.1_H_116.1.wav',\n",
       " 1)"
      ]
     },
     "execution_count": 225,
     "metadata": {},
     "output_type": "execute_result"
    }
   ],
   "source": [
    "dmel1 = WingbeatsDataset(dsname=\"Melanogaster_RL/Z\", custom_label=[0], clean=True)#, transform=transforms.Compose(FilterWingbeat(setting='bandpass')))\n",
    "dmel1[1]"
   ]
  },
  {
   "cell_type": "code",
   "execution_count": 226,
   "metadata": {},
   "outputs": [
    {
     "data": {
      "text/plain": [
       "torch.Size([1, 1, 5000])"
      ]
     },
     "execution_count": 226,
     "metadata": {},
     "output_type": "execute_result"
    }
   ],
   "source": [
    "x = torch.from_numpy(np.expand_dims(dmel1[0][0],axis=0))\n",
    "type(x)\n",
    "x.shape"
   ]
  },
  {
   "cell_type": "code",
   "execution_count": 227,
   "metadata": {},
   "outputs": [
    {
     "name": "stdout",
     "output_type": "stream",
     "text": [
      "relu: \ttorch.Size([1, 16, 4998])\n",
      "bnrm1: \ttorch.Size([1, 16, 4998])\n",
      "pool1: \ttorch.Size([1, 16, 2499])\n",
      "relu2: \ttorch.Size([1, 32, 2497])\n",
      "bnrm2: \ttorch.Size([1, 32, 2497])\n",
      "pool2: \ttorch.Size([1, 32, 1248])\n",
      "relu3: \ttorch.Size([1, 64, 1246])\n",
      "bnrm3: \ttorch.Size([1, 64, 1246])\n",
      "pool3: \ttorch.Size([1, 64, 623])\n",
      "relu4: \ttorch.Size([1, 128, 621])\n",
      "bnrm4: \ttorch.Size([1, 128, 621])\n",
      "pool4: \ttorch.Size([1, 128, 310])\n",
      "relu: \ttorch.Size([1, 256, 308])\n",
      "bnrm5: \ttorch.Size([1, 256, 308])\n",
      "pool5: \ttorch.Size([1, 256, 154])\n",
      "dropout: \ttorch.Size([1, 256, 154])\n",
      "avgPool: \ttorch.Size([1, 256, 1])\n",
      "fc1: \ttorch.Size([1, 2])\n",
      "torch.Size([1, 2])\n"
     ]
    }
   ],
   "source": [
    "output = model(x)\n",
    "print(output.shape)"
   ]
  },
  {
   "cell_type": "code",
   "execution_count": 217,
   "metadata": {},
   "outputs": [
    {
     "data": {
      "text/plain": [
       "256.0"
      ]
     },
     "execution_count": 217,
     "metadata": {},
     "output_type": "execute_result"
    }
   ],
   "source": [
    "65536/256"
   ]
  },
  {
   "cell_type": "code",
   "execution_count": null,
   "metadata": {},
   "outputs": [],
   "source": []
  }
 ],
 "metadata": {
  "kernelspec": {
   "display_name": "Python 3.6.12 64-bit ('wbai': conda)",
   "language": "python",
   "name": "python361264bitwbaiconda266a283de1054ff0a4833719d03ff907"
  },
  "language_info": {
   "codemirror_mode": {
    "name": "ipython",
    "version": 3
   },
   "file_extension": ".py",
   "mimetype": "text/x-python",
   "name": "python",
   "nbconvert_exporter": "python",
   "pygments_lexer": "ipython3",
   "version": "3.6.12"
  }
 },
 "nbformat": 4,
 "nbformat_minor": 4
}
