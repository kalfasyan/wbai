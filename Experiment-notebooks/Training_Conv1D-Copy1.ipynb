{
 "cells": [
  {
   "cell_type": "code",
   "execution_count": 1,
   "metadata": {},
   "outputs": [],
   "source": [
    "%reset -f\n",
    "%reload_ext autoreload\n",
    "%autoreload 2\n",
    "%matplotlib inline\n",
    "%config Completer.use_jedi = False"
   ]
  },
  {
   "cell_type": "code",
   "execution_count": 2,
   "metadata": {},
   "outputs": [
    {
     "name": "stdout",
     "output_type": "stream",
     "text": [
      "Available workers: 16\n"
     ]
    }
   ],
   "source": [
    "import sys\n",
    "sys.path.insert(0,\"..\")\n",
    "from tqdm import tqdm\n",
    "# from tqdm.notebook import tqdm as tqdm\n",
    "import numpy as np\n",
    "import pandas as pd\n",
    "import torch\n",
    "torch.backends.cudnn.benchmark = True\n",
    "torch.manual_seed(42)\n",
    "import torch.nn as nn\n",
    "import torch.optim as optim\n",
    "import torchaudio\n",
    "from torch.utils.data import Dataset, ConcatDataset\n",
    "from torch.utils.data.sampler import SubsetRandomSampler\n",
    "from torchvision import datasets, transforms\n",
    "torchaudio.set_audio_backend('soundfile')\n",
    "import os\n",
    "import random\n",
    "from pathlib import Path\n",
    "from IPython.display import Audio\n",
    "\n",
    "import matplotlib.pyplot as plt\n",
    "import psutil\n",
    "import requests\n",
    "from sklearn.model_selection import train_test_split\n",
    "from utils import *\n",
    "from datasets import *\n",
    "from models import *\n",
    "from transforms import *\n",
    "from sklearn.metrics import confusion_matrix, balanced_accuracy_score\n",
    "import  seaborn as sns"
   ]
  },
  {
   "cell_type": "code",
   "execution_count": 3,
   "metadata": {},
   "outputs": [],
   "source": [
    "train_or_load_pretrained = \"train\" # Set this to \"train\" if you want to train a new network\n",
    "num_epochs = 35\n",
    "batch_size = 32\n",
    "batch_size_val = 32\n",
    "validation_split = .3\n",
    "shuffle_dataset = True\n",
    "num_workers = 4\n",
    "random_seed= 42\n",
    "setting = 'raw'\n",
    "modeltype = 'wingbeatraw' #'inception' #wingbeatraw\n",
    "normalize = \"\"#\"sample\"\n",
    "\n",
    "train_df = pd.read_parquet('../data_created/suzmel_train.parquet')\n",
    "test_df = pd.read_parquet('../data_created/suzmel_test.parquet')\n",
    "\n",
    "transforms_list_train = [Bandpass(lowcut=140, highcut=1500), RandomRoll() ,RandomFlip()]#, RandomNoise(), RandomRoll()]\n",
    "transforms_list_test = [Bandpass(lowcut=140, highcut=1500)]\n"
   ]
  },
  {
   "cell_type": "code",
   "execution_count": 4,
   "metadata": {},
   "outputs": [],
   "source": [
    "X, y = train_df.iloc[:, 0], train_df.iloc[:, 1]\n",
    "X_train, X_valid, y_train, y_valid = train_test_split(X, y, test_size=0.13, shuffle=True, random_state=42, stratify=y)\n",
    "X_test, y_test = test_df.iloc[:,0], test_df.iloc[:,1]\n",
    "\n",
    "train_dataset = DataFrameset(pd.concat([X_train, y_train], axis=1), transform=transforms.Compose(transforms_list_train))\n",
    "valid_dataset = DataFrameset(pd.concat([X_valid, y_valid], axis=1), transform=transforms.Compose(transforms_list_test))\n",
    "test_dataset = DataFrameset(pd.concat([X_test, y_test], axis=1), transform=transforms.Compose(transforms_list_test))\n",
    "\n",
    "train_dataloader = DataLoader(train_dataset, batch_size=batch_size, shuffle=True, num_workers=4, pin_memory=True, worker_init_fn=worker_init_fn)\n",
    "valid_dataloader = DataLoader(valid_dataset, batch_size=batch_size_val, shuffle=True, num_workers=4, pin_memory=True, worker_init_fn=worker_init_fn)\n",
    "test_dataloader = DataLoader(test_dataset, batch_size=batch_size_val, shuffle=False, num_workers=4, pin_memory=True, worker_init_fn=worker_init_fn)"
   ]
  },
  {
   "cell_type": "code",
   "execution_count": 5,
   "metadata": {},
   "outputs": [
    {
     "data": {
      "image/png": "[encoded data removed]",
      "text/plain": [
       "<Figure size 432x288 with 1 Axes>"
      ]
     },
     "metadata": {
      "needs_background": "light"
     },
     "output_type": "display_data"
    }
   ],
   "source": [
    "plot_wingbeat(train_dataset, idx=2)"
   ]
  },
  {
   "cell_type": "code",
   "execution_count": 6,
   "metadata": {},
   "outputs": [
    {
     "ename": "NameError",
     "evalue": "name 'Conv1dNetRAW' is not defined",
     "output_type": "error",
     "traceback": [
      "\u001b[0;31m---------------------------------------------------------------------------\u001b[0m",
      "\u001b[0;31mNameError\u001b[0m                                 Traceback (most recent call last)",
      "\u001b[0;32m<ipython-input-6-ee78aa415a73>\u001b[0m in \u001b[0;36m<module>\u001b[0;34m\u001b[0m\n\u001b[1;32m      1\u001b[0m \u001b[0mouts\u001b[0m \u001b[0;34m=\u001b[0m \u001b[0;36m2\u001b[0m\u001b[0;34m\u001b[0m\u001b[0;34m\u001b[0m\u001b[0m\n\u001b[1;32m      2\u001b[0m \u001b[0;32mif\u001b[0m \u001b[0mmodeltype\u001b[0m \u001b[0;34m==\u001b[0m \u001b[0;34m'wingbeatraw'\u001b[0m\u001b[0;34m:\u001b[0m\u001b[0;34m\u001b[0m\u001b[0;34m\u001b[0m\u001b[0m\n\u001b[0;32m----> 3\u001b[0;31m     \u001b[0mmodel\u001b[0m \u001b[0;34m=\u001b[0m \u001b[0mConv1dNetRAW\u001b[0m\u001b[0;34m(\u001b[0m\u001b[0moutputs\u001b[0m\u001b[0;34m=\u001b[0m\u001b[0mouts\u001b[0m\u001b[0;34m,\u001b[0m \u001b[0mdropout_p\u001b[0m\u001b[0;34m=\u001b[0m\u001b[0;36m.2\u001b[0m\u001b[0;34m)\u001b[0m\u001b[0;34m\u001b[0m\u001b[0;34m\u001b[0m\u001b[0m\n\u001b[0m\u001b[1;32m      4\u001b[0m \u001b[0;32melif\u001b[0m \u001b[0mmodeltype\u001b[0m \u001b[0;34m==\u001b[0m \u001b[0;34m'inception'\u001b[0m\u001b[0;34m:\u001b[0m\u001b[0;34m\u001b[0m\u001b[0;34m\u001b[0m\u001b[0m\n\u001b[1;32m      5\u001b[0m     model = nn.Sequential(\n",
      "\u001b[0;31mNameError\u001b[0m: name 'Conv1dNetRAW' is not defined"
     ]
    }
   ],
   "source": [
    "outs = 2\n",
    "if modeltype == 'wingbeatraw':\n",
    "    model = Conv1dNetRAW(outputs=outs, dropout_p=.2)\n",
    "elif modeltype == 'inception':\n",
    "    model = nn.Sequential(\n",
    "                    InceptionBlock(\n",
    "                        in_channels=1, \n",
    "                        n_filters=32, \n",
    "                        kernel_sizes=[5, 11, 23],\n",
    "                        bottleneck_channels=32,\n",
    "                        use_residual=True,\n",
    "                        activation=nn.ReLU()\n",
    "                    ),\n",
    "                    InceptionBlock(\n",
    "                        in_channels=32*4, \n",
    "                        n_filters=32, \n",
    "                        kernel_sizes=[5, 11, 23],\n",
    "                        bottleneck_channels=32,\n",
    "                        use_residual=True,\n",
    "                        activation=nn.ReLU()\n",
    "                    ),\n",
    "                    nn.AdaptiveAvgPool1d(output_size=1),\n",
    "                    Flatten(out_features=32*4*1),\n",
    "                    nn.Linear(in_features=4*32*1, out_features=outs))\n",
    "\n",
    "class_sample_count = np.unique(y_train, return_counts=True)[1]\n",
    "weight = 1. / class_sample_count    \n",
    "\n",
    "if outs == 1:\n",
    "    criterion = torch.nn.BCEWithLogitsLoss(weight=torch.Tensor(weight).cuda())\n",
    "elif outs == 2:\n",
    "    criterion = nn.CrossEntropyLoss(weight=torch.Tensor(weight).cuda())\n",
    "\n",
    "optimizer = optim.Adam(model.parameters(), lr=0.001, eps=1e-3, amsgrad=True)\n",
    "scheduler = torch.optim.lr_scheduler.CyclicLR(optimizer, base_lr=0.0001, max_lr=0.01, cycle_momentum=False, mode=\"triangular\")\n",
    "# early_stopping = EarlyStopping(patience=10, verbose=1)"
   ]
  },
  {
   "cell_type": "markdown",
   "metadata": {},
   "source": [
    "## Training"
   ]
  },
  {
   "cell_type": "code",
   "execution_count": null,
   "metadata": {
    "tags": []
   },
   "outputs": [],
   "source": [
    "if train_or_load_pretrained == 'train':\n",
    "    # Choosing whether to train on a gpu\n",
    "    train_on_gpu = torch.cuda.is_available()\n",
    "    print(f'Train on gpu: {train_on_gpu}')# Number of gpus\n",
    "    model = model.to('cuda', dtype=torch.float)\n",
    "\n",
    "    results = {\"loss\":[], \"val_loss\":[], \"train_accuracy\":[], \"valid_accuracy\":[]}\n",
    "    best_valacc = 0\n",
    "    # Model training\n",
    "    for epoch in range(num_epochs):\n",
    "        # Going through the training set\n",
    "        correct_train = 0\n",
    "        model.train()\n",
    "        for x_batch,y_batch,_,_ in tqdm(train_dataloader, desc='Training..\\t'):        \n",
    "            y_batch = torch.as_tensor(y_batch).type(torch.LongTensor)\n",
    "            x_batch,y_batch = x_batch.cuda(), y_batch.cuda()\n",
    "            for param in model.parameters():\n",
    "                param.grad = None\n",
    "            pred = model(x_batch)\n",
    "            if outs == 1:\n",
    "                y_batch = y_batch.type(torch.FloatTensor).cuda()\n",
    "                correct_train += ((pred>0.5).int().squeeze() == y_batch.squeeze()).float().sum().item()\n",
    "                loss = criterion(pred, y_batch.unsqueeze(1))\n",
    "            elif outs == 2:\n",
    "                y_batch = y_batch.type(torch.LongTensor).cuda()\n",
    "                correct_train += (pred.argmax(axis=1) == y_batch).float().sum().item()\n",
    "                loss = criterion(pred, y_batch)\n",
    "            loss.backward()\n",
    "            optimizer.step()\n",
    "        train_accuracy = correct_train / len(train_dataset) * 100.\n",
    "\n",
    "        # Going through the validation set\n",
    "        correct_valid = 0\n",
    "        model.eval()\n",
    "        for x_batch,y_batch,_,_ in tqdm(valid_dataloader, desc='Validating..\\t'):\n",
    "            y_batch = torch.as_tensor(y_batch)\n",
    "            x_batch,y_batch = x_batch.cuda(), y_batch.cuda()\n",
    "            pred = model(x_batch)\n",
    "            if outs == 1:\n",
    "                y_batch = y_batch.type(torch.FloatTensor).cuda()\n",
    "                correct_valid += ((pred>0.5).int().squeeze().cuda() == y_batch.squeeze()).float().sum().item()\n",
    "                val_loss = criterion(pred, y_batch.unsqueeze(1))\n",
    "            elif outs == 2:\n",
    "                y_batch = y_batch.type(torch.LongTensor).cuda()\n",
    "                correct_valid += (pred.argmax(axis=1) == y_batch).float().sum().item()\n",
    "                val_loss = criterion(pred, y_batch)\n",
    "        valid_accuracy = correct_valid / len(valid_dataset) * 100.\n",
    "\n",
    "        scheduler.step()\n",
    "    #     early_stopping(val_loss, model)\n",
    "    #     if early_stopping.early_stop:\n",
    "    #         print(\"Early stopping\")\n",
    "    #         break\n",
    "\n",
    "            # Printing results\n",
    "        print(f\"Epoch {epoch}: train_acc: {train_accuracy:.1f}% loss: {loss:.7f},  val_loss: {val_loss:.7f} val_acc: {valid_accuracy:.1f}%\")\n",
    "\n",
    "        is_best = valid_accuracy > best_valacc\n",
    "        if is_best:\n",
    "            print(f\"Validation accuracy improved from {best_valacc:.2f} to {valid_accuracy:.2f}. Saving model..\")\n",
    "        best_valacc = max(valid_accuracy, best_valacc)\n",
    "        save_checkpoint({\n",
    "            'epoch': epoch,\n",
    "            'state_dict': model.state_dict(),\n",
    "            'best_valacc': best_valacc,\n",
    "            'loss': results['loss'].append(loss.detach().cpu()),\n",
    "            'val_loss': results['val_loss'].append(val_loss.detach().cpu()),\n",
    "            'train_accuracy': results['train_accuracy'].append(train_accuracy),\n",
    "            'valid_accuracy': results['valid_accuracy'].append(valid_accuracy),\n",
    "            'optimizer' : optimizer.state_dict(),\n",
    "        }, is_best, \"model_time_202111\")\n",
    "elif train_or_load_pretrained == 'load':\n",
    "    model, optimizer = load_checkpoint(f'{BASE_DATACREATEDDIR}/{pretrained_modelname}.pth.tar', model, optimizer)\n",
    "    model = model.to('cuda', dtype=torch.float)\n",
    "else:\n",
    "    print(\"Set train_or_load_pretrained to either \\'train\\' or \\'load\\'\")"
   ]
  },
  {
   "cell_type": "markdown",
   "metadata": {},
   "source": [
    "# MORE LAYERS?"
   ]
  },
  {
   "cell_type": "markdown",
   "metadata": {},
   "source": [
    "## Testing on test set"
   ]
  },
  {
   "cell_type": "code",
   "execution_count": null,
   "metadata": {},
   "outputs": [],
   "source": [
    "model, optimizer = load_checkpoint(f'{BASE_DATACREATEDDIR}/model_best.pth.tar', model, optimizer)"
   ]
  },
  {
   "cell_type": "code",
   "execution_count": null,
   "metadata": {},
   "outputs": [],
   "source": [
    "model = model.to('cuda', dtype=torch.float)\n",
    "\n",
    "_ = test_model(model,test_dataloader, test_dataset)"
   ]
  },
  {
   "cell_type": "markdown",
   "metadata": {},
   "source": [
    "## Testing on extra mebios data"
   ]
  },
  {
   "cell_type": "code",
   "execution_count": 21,
   "metadata": {},
   "outputs": [],
   "source": [
    "extra_df = pd.read_parquet('../data_created/suzmel_extra.parquet')\n",
    "X_extra, y_extra = extra_df.iloc[:,0], extra_df.iloc[:,1]\n",
    "\n",
    "extra_dataset = DataFrameset(pd.concat([X_extra, y_extra], axis=1), transform=transforms.Compose(transforms_list_test))\n",
    "extra_dataloader = DataLoader(extra_dataset, batch_size=batch_size_val, shuffle=False, num_workers=4, pin_memory=True, worker_init_fn=worker_init_fn)"
   ]
  },
  {
   "cell_type": "code",
   "execution_count": 22,
   "metadata": {},
   "outputs": [
    {
     "name": "stderr",
     "output_type": "stream",
     "text": [
      "Testing..\t: 100%|██████████| 768/768 [00:07<00:00, 107.85it/s]"
     ]
    },
    {
     "name": "stdout",
     "output_type": "stream",
     "text": [
      "Accuracy: 93.02\n",
      "Balanced accuracy: 91.80\n",
      "Confusion matrix: \n",
      "[[0.90437956 0.09562044]\n",
      " [0.06828175 0.93171825]]\n"
     ]
    },
    {
     "name": "stderr",
     "output_type": "stream",
     "text": [
      "\n"
     ]
    }
   ],
   "source": [
    "_ = test_model(model,extra_dataloader, extra_dataset)"
   ]
  },
  {
   "cell_type": "code",
   "execution_count": null,
   "metadata": {},
   "outputs": [],
   "source": []
  },
  {
   "cell_type": "code",
   "execution_count": 23,
   "metadata": {},
   "outputs": [],
   "source": [
    "def softmax_out(x):\n",
    "    return np.argmax(F.softmax(x, dim=1), axis=1).tolist()[0]"
   ]
  },
  {
   "cell_type": "code",
   "execution_count": 24,
   "metadata": {},
   "outputs": [],
   "source": [
    "from utils import get_all_preds"
   ]
  },
  {
   "cell_type": "code",
   "execution_count": 25,
   "metadata": {},
   "outputs": [
    {
     "name": "stderr",
     "output_type": "stream",
     "text": [
      "100%|██████████| 803/803 [00:07<00:00, 109.35it/s]\n"
     ]
    }
   ],
   "source": [
    "df_out = get_all_preds(model, test_dataloader, dataframe=True, final_nodes=2)"
   ]
  },
  {
   "cell_type": "code",
   "execution_count": 26,
   "metadata": {},
   "outputs": [
    {
     "data": {
      "image/png": "[encoded data removed]",
      "text/plain": [
       "<Figure size 1440x864 with 2 Axes>"
      ]
     },
     "metadata": {},
     "output_type": "display_data"
    }
   ],
   "source": [
    "cm = confusion_matrix(y_true = df_out.y, y_pred=df_out.softmax, normalize='true')\n",
    "\n",
    "sns.set(font_scale=1.9)\n",
    "plt.figure(figsize=(20,12))\n",
    "sns.heatmap(cm, annot=True, fmt='.0%', vmin=0, vmax=1)\n",
    "plt.title(f\"{balanced_accuracy_score(y_true = df_out.y, y_pred=df_out.softmax):.2%}\");\n",
    "plt.savefig(\"/home/kalfasyan/Dropbox/kuleuven/paper2_figures/confmatmain.eps\", format='eps', bbox_inches='tight');"
   ]
  },
  {
   "cell_type": "code",
   "execution_count": 27,
   "metadata": {},
   "outputs": [
    {
     "data": {
      "text/plain": [
       "array([[10615,  1500],\n",
       "       [  609, 12951]])"
      ]
     },
     "execution_count": 27,
     "metadata": {},
     "output_type": "execute_result"
    }
   ],
   "source": [
    "cm = confusion_matrix(y_true = df_out.y, y_pred=df_out.softmax, normalize=None)\n",
    "cm"
   ]
  },
  {
   "cell_type": "markdown",
   "metadata": {},
   "source": [
    "# ------------------------------------------"
   ]
  },
  {
   "cell_type": "code",
   "execution_count": 28,
   "metadata": {},
   "outputs": [],
   "source": [
    "extra_df = pd.read_parquet('../data_created/suzmel_extra.parquet')"
   ]
  },
  {
   "cell_type": "code",
   "execution_count": 29,
   "metadata": {},
   "outputs": [],
   "source": [
    "m = extra_df[extra_df.y==0].sample(1000)\n",
    "s = extra_df[extra_df.y==1].sample(1000)\n",
    "extra_df = pd.concat([m,s]).reset_index(drop=True)"
   ]
  },
  {
   "cell_type": "code",
   "execution_count": 30,
   "metadata": {},
   "outputs": [],
   "source": [
    "X_extra, y_extra = extra_df.iloc[:,0], extra_df.iloc[:,1]\n",
    "\n",
    "extra_dataset = DataFrameset(pd.concat([X_extra, y_extra], axis=1), transform=transforms.Compose(transforms_list_test))\n",
    "extra_dataloader = DataLoader(extra_dataset, batch_size=batch_size_val, shuffle=False, num_workers=4, pin_memory=True, worker_init_fn=worker_init_fn)"
   ]
  },
  {
   "cell_type": "code",
   "execution_count": 31,
   "metadata": {},
   "outputs": [
    {
     "name": "stderr",
     "output_type": "stream",
     "text": [
      "100%|██████████| 63/63 [00:00<00:00, 76.46it/s]\n"
     ]
    }
   ],
   "source": [
    "df_out = get_all_preds(model, extra_dataloader, dataframe=True, final_nodes=2)"
   ]
  },
  {
   "cell_type": "code",
   "execution_count": 32,
   "metadata": {},
   "outputs": [
    {
     "data": {
      "image/png": "[encoded data removed]",
      "text/plain": [
       "<Figure size 1440x864 with 2 Axes>"
      ]
     },
     "metadata": {},
     "output_type": "display_data"
    }
   ],
   "source": [
    "cm = confusion_matrix(y_true = df_out.y, y_pred=df_out.softmax, normalize='true')\n",
    "\n",
    "sns.set(font_scale=1.9)\n",
    "plt.figure(figsize=(20,12))\n",
    "sns.heatmap(cm, annot=True, fmt='.0%', vmin=0, vmax=1)\n",
    "plt.title(f\"{balanced_accuracy_score(y_true = df_out.y, y_pred=df_out.softmax):.2%}\");\n",
    "plt.savefig(\"/home/kalfasyan/Dropbox/kuleuven/paper2_figures/confmatsecondary.eps\", format='eps', bbox_inches='tight');"
   ]
  },
  {
   "cell_type": "code",
   "execution_count": 33,
   "metadata": {},
   "outputs": [
    {
     "data": {
      "text/plain": [
       "array([[909,  91],\n",
       "       [ 62, 938]])"
      ]
     },
     "execution_count": 33,
     "metadata": {},
     "output_type": "execute_result"
    }
   ],
   "source": [
    "cm = confusion_matrix(y_true = df_out.y, y_pred=df_out.softmax, normalize=None)\n",
    "cm"
   ]
  },
  {
   "cell_type": "code",
   "execution_count": null,
   "metadata": {},
   "outputs": [],
   "source": []
  }
 ],
 "metadata": {
  "kernelspec": {
   "display_name": "Python 3",
   "language": "python",
   "name": "python3"
  },
  "language_info": {
   "codemirror_mode": {
    "name": "ipython",
    "version": 3
   },
   "file_extension": ".py",
   "mimetype": "text/x-python",
   "name": "python",
   "nbconvert_exporter": "python",
   "pygments_lexer": "ipython3",
   "version": "3.8.10"
  }
 },
 "nbformat": 4,
 "nbformat_minor": 4
}
