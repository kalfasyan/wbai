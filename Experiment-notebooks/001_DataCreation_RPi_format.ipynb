{
 "cells": [
  {
   "cell_type": "code",
   "execution_count": 1,
   "id": "717d7131-ce15-4ad8-b367-29c264729831",
   "metadata": {},
   "outputs": [],
   "source": [
    "%reset -f\n",
    "%reload_ext autoreload\n",
    "%autoreload 2\n",
    "%matplotlib inline\n",
    "%config Completer.use_jedi = False"
   ]
  },
  {
   "cell_type": "code",
   "execution_count": 2,
   "id": "5043e22c-63aa-4503-b050-f9a441349fca",
   "metadata": {},
   "outputs": [
    {
     "name": "stdout",
     "output_type": "stream",
     "text": [
      "Available workers: 16\n"
     ]
    }
   ],
   "source": [
    "import sys\n",
    "sys.path.insert(0,\"..\")\n",
    "from tqdm import tqdm\n",
    "# from tqdm.notebook import tqdm as tqdm\n",
    "import numpy as np\n",
    "import pandas as pd\n",
    "import torch\n",
    "torch.manual_seed(42)\n",
    "import torch.nn as nn\n",
    "import torch.optim as optim\n",
    "import torchaudio\n",
    "from torch.utils.data import Dataset, ConcatDataset\n",
    "from torch.utils.data.sampler import SubsetRandomSampler\n",
    "from torchvision import datasets, transforms\n",
    "torchaudio.set_audio_backend('soundfile')\n",
    "import os\n",
    "import random\n",
    "from pathlib import Path\n",
    "from sklearn.model_selection import train_test_split\n",
    "import matplotlib.pyplot as plt\n",
    "import psutil\n",
    "import requests\n",
    "import seaborn as sns\n",
    "\n",
    "from utils import *\n",
    "from datasets import *\n",
    "from models import *\n",
    "from transforms import *\n",
    "from profiler import *"
   ]
  },
  {
   "cell_type": "code",
   "execution_count": 3,
   "id": "9aba5696-0f32-443f-a4ac-3ba7158750eb",
   "metadata": {},
   "outputs": [],
   "source": [
    "maxpeaks = 15\n",
    "minpeaks = 1\n",
    "maxscore = 12\n",
    "minscore = 3.5\n",
    "selection = f\"peaks>{minpeaks} & peaks<{maxpeaks} & score>{minscore} & score<={maxscore} & duration>100\""
   ]
  },
  {
   "cell_type": "markdown",
   "id": "9da483df-5db7-41d7-b69c-0b7bae2e8b2b",
   "metadata": {},
   "source": [
    "# Melanogaster and Suzukii main data"
   ]
  },
  {
   "cell_type": "code",
   "execution_count": 6,
   "id": "9b5cd667-9918-4218-8092-f7301c7b1105",
   "metadata": {},
   "outputs": [
    {
     "name": "stdout",
     "output_type": "stream",
     "text": [
      "Found 232 in dataset: /home/kalfasyan/data/wingbeats/wingbeats_20211129/wingbeats_correct_dates/Melanogaster_202111_RPi/a/, and 1 label(s): ['wingbeats_correct_dates']\n",
      "Label(s) changed to [0]\n"
     ]
    },
    {
     "name": "stderr",
     "output_type": "stream",
     "text": [
      "Collecting all data from the dataloader..: 15it [00:00, 39.79it/s]                        \n"
     ]
    },
    {
     "name": "stdout",
     "output_type": "stream",
     "text": [
      "Creating a pandas Dataframe with file-paths, clean-scores, duration, sums of abs values, indice and labels..\n",
      "Finished.\n"
     ]
    },
    {
     "data": {
      "text/plain": [
       "(161, 13)"
      ]
     },
     "execution_count": 6,
     "metadata": {},
     "output_type": "execute_result"
    }
   ],
   "source": [
    "mel = WingbeatDatasetProfiler(dsname=\"/home/kalfasyan/data/wingbeats/wingbeats_20211129/wingbeats_correct_dates/Melanogaster_202111_RPi/a/\", custom_label=[0], rpiformat=True, \n",
    "                              bandpass_low=1, bandpass_high=5000)\n",
    "mel.df = mel.df.query(selection)\n",
    "mel.df.shape"
   ]
  },
  {
   "cell_type": "code",
   "execution_count": 7,
   "id": "e3f07ccb-3820-41b5-b3f9-8d63be24857b",
   "metadata": {},
   "outputs": [],
   "source": [
    "from scipy.io.wavfile import write\n",
    "import soundfile\n",
    "\n",
    "new_dir = f\"{BASE_DATAPATH}/Melanogaster_Rpi_converted_wingbeats\"\n",
    "if not os.path.isdir(new_dir):\n",
    "    os.makedirs(new_dir)\n",
    "    \n",
    "for fname in mel.df.x.tolist():\n",
    "    sig, rate = open_wingbeat(fname, rate=True, rpiformat=True)\n",
    "    filepath = os.path.join(new_dir, fname.split('/')[-1])\n",
    "#     write(filename=filepath, rate=8000, data=sig.numpy())\n",
    "    soundfile.write(filepath, sig.numpy(), 8000, subtype='PCM_16')"
   ]
  },
  {
   "cell_type": "code",
   "execution_count": null,
   "id": "7b4d130c-f6e2-4d9e-a02d-3d35e9c4db20",
   "metadata": {},
   "outputs": [],
   "source": []
  },
  {
   "cell_type": "code",
   "execution_count": 73,
   "id": "4bbc1155-f28d-4261-87f9-9535c75a41fe",
   "metadata": {},
   "outputs": [],
   "source": []
  },
  {
   "cell_type": "code",
   "execution_count": 9,
   "id": "9c109985-2b1b-48d9-a5ea-3b6438c1c691",
   "metadata": {},
   "outputs": [
    {
     "name": "stdout",
     "output_type": "stream",
     "text": [
      "Found 166 in dataset: /home/kalfasyan/data/wingbeats/Flytrap_rpi/Backup_rpi_freeflight_20210328/20210328/wingbeats, and 1 label(s): ['Backup_rpi_freeflight_20210328']\n",
      "Label(s) changed to [0]\n"
     ]
    },
    {
     "name": "stderr",
     "output_type": "stream",
     "text": [
      "Collecting all data from the dataloader..: 11it [00:00, 25.92it/s]                       \n"
     ]
    },
    {
     "name": "stdout",
     "output_type": "stream",
     "text": [
      "Creating a pandas Dataframe with file-paths, clean-scores, duration, sums of abs values, indice and labels..\n",
      "Finished.\n"
     ]
    },
    {
     "data": {
      "text/plain": [
       "(128, 13)"
      ]
     },
     "execution_count": 9,
     "metadata": {},
     "output_type": "execute_result"
    }
   ],
   "source": [
    "suz = WingbeatDatasetProfiler(dsname=\"/home/kalfasyan/data/wingbeats/Flytrap_rpi/Backup_rpi_freeflight_20210328/20210328/wingbeats\", custom_label=[0], rpiformat=True, \n",
    "                              bandpass_low=1, bandpass_high=5000)\n",
    "suz.df = suz.df.query(selection)\n",
    "suz.df.shape"
   ]
  },
  {
   "cell_type": "code",
   "execution_count": 10,
   "id": "598a23d7-0188-4c69-8f00-fdfe0dde4df7",
   "metadata": {},
   "outputs": [],
   "source": [
    "from scipy.io.wavfile import write\n",
    "import soundfile\n",
    "\n",
    "new_dir = f\"{BASE_DATAPATH}/Suzukii_Rpi_converted_wingbeats\"\n",
    "if not os.path.isdir(new_dir):\n",
    "    os.makedirs(new_dir)\n",
    "    \n",
    "for fname in suz.df.x.tolist():\n",
    "    sig, rate = open_wingbeat(fname, rate=True, rpiformat=True)\n",
    "    filepath = os.path.join(new_dir, fname.split('/')[-1])\n",
    "#     write(filename=filepath, rate=8000, data=sig.numpy())\n",
    "    soundfile.write(filepath, sig.numpy(), 8000, subtype='PCM_16')"
   ]
  },
  {
   "cell_type": "code",
   "execution_count": null,
   "id": "df401e6f-8525-4188-8b0d-0f9ed5f708b2",
   "metadata": {},
   "outputs": [],
   "source": []
  },
  {
   "cell_type": "code",
   "execution_count": null,
   "id": "93ac00b7-9c9f-4ba1-8f5d-1b033a0c52ef",
   "metadata": {},
   "outputs": [],
   "source": []
  },
  {
   "cell_type": "code",
   "execution_count": null,
   "id": "bd53cbe5-c926-4046-a445-9bdbc904bc17",
   "metadata": {},
   "outputs": [],
   "source": []
  },
  {
   "cell_type": "code",
   "execution_count": 112,
   "id": "29cf6380-9e39-4ef9-931a-a8e9d50a7298",
   "metadata": {},
   "outputs": [],
   "source": [
    "def inspect_file(path):\n",
    "  print(\"-\" * 10)\n",
    "  print(\"Source:\", path)\n",
    "  print(\"-\" * 10)\n",
    "  print(f\" - File size: {os.path.getsize(path)} bytes\")\n",
    "  print(f\" - {torchaudio.info(path)}\")"
   ]
  },
  {
   "cell_type": "code",
   "execution_count": 113,
   "id": "e0247771-6cdd-41e0-9d29-2476f5bbcf31",
   "metadata": {},
   "outputs": [
    {
     "name": "stdout",
     "output_type": "stream",
     "text": [
      "----------\n",
      "Source: /home/kalfasyan/data/wingbeats/Suzukii_Rpi_converted_wingbeats/20210326_003812_Tna_Hna.wav\n",
      "----------\n",
      " - File size: 10044 bytes\n",
      " - AudioMetaData(sample_rate=8000, num_frames=5000, num_channels=1, bits_per_sample=16, encoding=PCM_S)\n"
     ]
    }
   ],
   "source": [
    "inspect_file(filepath)"
   ]
  },
  {
   "cell_type": "code",
   "execution_count": 102,
   "id": "8b38edb7-9c5f-4211-9586-014b7120531b",
   "metadata": {},
   "outputs": [],
   "source": [
    "filepath = \"/home/kalfasyan/data/wingbeats/Melanogaster_RL/X/D_20_10_09_20_52_59/F201009_205258_100_G_050_T_25.9_H_89.7.wav\""
   ]
  },
  {
   "cell_type": "code",
   "execution_count": 103,
   "id": "8b31ad3e-3153-4c55-b7f3-18d62884b75d",
   "metadata": {},
   "outputs": [
    {
     "name": "stdout",
     "output_type": "stream",
     "text": [
      "----------\n",
      "Source: /home/kalfasyan/data/wingbeats/Melanogaster_RL/X/D_20_10_09_20_52_59/F201009_205258_100_G_050_T_25.9_H_89.7.wav\n",
      "----------\n",
      " - File size: 10044 bytes\n",
      " - AudioMetaData(sample_rate=8000, num_frames=5000, num_channels=1, bits_per_sample=16, encoding=PCM_S)\n"
     ]
    }
   ],
   "source": [
    "inspect_file(filepath)"
   ]
  },
  {
   "cell_type": "code",
   "execution_count": 104,
   "id": "f5d6eb11-395d-45e1-bc33-35333558a7fa",
   "metadata": {},
   "outputs": [],
   "source": [
    "import soundfile"
   ]
  },
  {
   "cell_type": "code",
   "execution_count": 105,
   "id": "f111b860-4d19-4f27-911b-2ac87041aa8c",
   "metadata": {},
   "outputs": [],
   "source": [
    "filepath = suz.df.x.iloc[0]"
   ]
  },
  {
   "cell_type": "code",
   "execution_count": 108,
   "id": "e6784c5c-e67d-4ae6-b1ae-ec81eec54083",
   "metadata": {},
   "outputs": [],
   "source": [
    "data,rate = soundfile.read(filepath)"
   ]
  },
  {
   "cell_type": "code",
   "execution_count": 109,
   "id": "551cf80e-b9c2-40f8-9c9b-ef63fa08252f",
   "metadata": {},
   "outputs": [
    {
     "data": {
      "text/plain": [
       "array([0.00198364, 0.00036621, 0.00039673, ..., 0.00045776, 0.00167847,\n",
       "       0.00384521])"
      ]
     },
     "execution_count": 109,
     "metadata": {},
     "output_type": "execute_result"
    }
   ],
   "source": [
    "soundfile.write(\"\")"
   ]
  },
  {
   "cell_type": "code",
   "execution_count": null,
   "id": "ee757ed2-303b-4fbb-a946-8ff3daef60df",
   "metadata": {},
   "outputs": [],
   "source": []
  },
  {
   "cell_type": "code",
   "execution_count": null,
   "id": "8731995d-364f-461f-a84a-86db2d347d90",
   "metadata": {},
   "outputs": [],
   "source": []
  },
  {
   "cell_type": "code",
   "execution_count": null,
   "id": "61c4476b-b443-4350-b107-cd0ae700bda8",
   "metadata": {},
   "outputs": [],
   "source": []
  },
  {
   "cell_type": "code",
   "execution_count": null,
   "id": "9e5415dd-9880-493c-81bb-2166add6f35b",
   "metadata": {},
   "outputs": [],
   "source": []
  },
  {
   "cell_type": "code",
   "execution_count": null,
   "id": "8e7bf84b-bf00-4ff0-8d6a-262a56ef2382",
   "metadata": {},
   "outputs": [],
   "source": []
  },
  {
   "cell_type": "code",
   "execution_count": 79,
   "id": "81fcd212-cc97-40bc-b497-8b24d73c7ed9",
   "metadata": {},
   "outputs": [
    {
     "name": "stdout",
     "output_type": "stream",
     "text": [
      "Found 29002 in dataset: /home/kalfasyan/data/wingbeats/Melanogaster_RL/Y, and 1 label(s): ['D. melanogaster']\n",
      "Label(s) changed to [0]\n"
     ]
    },
    {
     "name": "stderr",
     "output_type": "stream",
     "text": [
      "Collecting all data from the dataloader..: 1813it [00:39, 46.07it/s]                          \n"
     ]
    },
    {
     "name": "stdout",
     "output_type": "stream",
     "text": [
      "Creating a pandas Dataframe with file-paths, clean-scores, duration, sums of abs values, indice and labels..\n",
      "Finished.\n"
     ]
    }
   ],
   "source": [
    "suz = WingbeatDatasetProfiler(dsname=\"/home/kalfasyan/data/wingbeats/Melanogaster_RL/Y\", custom_label=[0], rpiformat=False)\n",
    "suz.df = suz.df.query(selection)"
   ]
  },
  {
   "cell_type": "code",
   "execution_count": 83,
   "id": "765a2105-9b46-4b9a-8383-9dd31144eb90",
   "metadata": {},
   "outputs": [
    {
     "data": {
      "text/plain": [
       "[<matplotlib.lines.Line2D at 0x7f7c4dcd3ca0>]"
      ]
     },
     "execution_count": 83,
     "metadata": {},
     "output_type": "execute_result"
    }
   ],
   "source": [
    "plt.plot(suz.wbts[100][0].T)"
   ]
  },
  {
   "cell_type": "code",
   "execution_count": 12,
   "id": "4927dd2f-ded6-4b5e-837b-180b6423e772",
   "metadata": {},
   "outputs": [
    {
     "data": {
      "text/plain": [
       "torch.Size([240000000])"
      ]
     },
     "execution_count": 12,
     "metadata": {},
     "output_type": "execute_result"
    }
   ],
   "source": [
    "sig.shape"
   ]
  },
  {
   "cell_type": "code",
   "execution_count": null,
   "id": "d1ae456c-7b74-4a7e-b90c-80c8de692a2e",
   "metadata": {},
   "outputs": [],
   "source": [
    "plt.plot(sig)"
   ]
  },
  {
   "cell_type": "code",
   "execution_count": null,
   "id": "9e087827-1990-44cb-ba0f-a9531066b51f",
   "metadata": {},
   "outputs": [],
   "source": []
  }
 ],
 "metadata": {
  "kernelspec": {
   "display_name": "Python [conda env:wbai] *",
   "language": "python",
   "name": "conda-env-wbai-py"
  },
  "language_info": {
   "codemirror_mode": {
    "name": "ipython",
    "version": 3
   },
   "file_extension": ".py",
   "mimetype": "text/x-python",
   "name": "python",
   "nbconvert_exporter": "python",
   "pygments_lexer": "ipython3",
   "version": "3.8.10"
  }
 },
 "nbformat": 4,
 "nbformat_minor": 5
}
