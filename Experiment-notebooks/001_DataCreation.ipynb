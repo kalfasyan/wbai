{
 "cells": [
  {
   "cell_type": "code",
   "execution_count": 1,
   "id": "8f09a5b3",
   "metadata": {},
   "outputs": [],
   "source": [
    "%reset -f\n",
    "%reload_ext autoreload\n",
    "%autoreload 2\n",
    "%matplotlib inline\n",
    "%config Completer.use_jedi = False"
   ]
  },
  {
   "cell_type": "code",
   "execution_count": 2,
   "id": "5131bccd",
   "metadata": {},
   "outputs": [
    {
     "name": "stdout",
     "output_type": "stream",
     "text": [
      "Available workers: 16\n"
     ]
    }
   ],
   "source": [
    "import sys\n",
    "sys.path.insert(0,\"..\")\n",
    "from tqdm import tqdm\n",
    "# from tqdm.notebook import tqdm as tqdm\n",
    "import numpy as np\n",
    "import pandas as pd\n",
    "import torch\n",
    "torch.manual_seed(42)\n",
    "import torch.nn as nn\n",
    "import torch.optim as optim\n",
    "import torchaudio\n",
    "from torch.utils.data import Dataset, ConcatDataset\n",
    "from torch.utils.data.sampler import SubsetRandomSampler\n",
    "from torchvision import datasets, transforms\n",
    "torchaudio.set_audio_backend('soundfile')\n",
    "import os\n",
    "import random\n",
    "from pathlib import Path\n",
    "from sklearn.model_selection import train_test_split\n",
    "import matplotlib.pyplot as plt\n",
    "import psutil\n",
    "import requests\n",
    "import seaborn as sns\n",
    "\n",
    "from utils import *\n",
    "from datasets import *\n",
    "from models import *\n",
    "from transforms import *\n",
    "from profiler import *"
   ]
  },
  {
   "cell_type": "code",
   "execution_count": 3,
   "id": "b38e4649",
   "metadata": {},
   "outputs": [],
   "source": [
    "# changed > to >= and < to <= for peaks and min score from 3.5 and maxscore from 12\n",
    "maxpeaks = 15\n",
    "minpeaks = 1\n",
    "maxscore = 15\n",
    "minscore = 2.5\n",
    "selection = f\"peaks>={minpeaks} & peaks<={maxpeaks} & score>{minscore} & score<={maxscore}\""
   ]
  },
  {
   "cell_type": "markdown",
   "id": "f2bb1b0d",
   "metadata": {},
   "source": [
    "# Melanogaster and Suzukii main data"
   ]
  },
  {
   "cell_type": "code",
   "execution_count": 4,
   "id": "cc32dca2",
   "metadata": {},
   "outputs": [
    {
     "name": "stdout",
     "output_type": "stream",
     "text": [
      "Found 24763 in dataset: Melanogaster_RL/Z, and 1 label(s): ['D. melanogaster']\n",
      "Label(s) changed to [0]\n"
     ]
    },
    {
     "name": "stderr",
     "output_type": "stream",
     "text": [
      "Collecting all data from the dataloader..: 1548it [00:09, 157.53it/s]                          \n"
     ]
    },
    {
     "name": "stdout",
     "output_type": "stream",
     "text": [
      "Creating a pandas Dataframe with file-paths, clean-scores, duration, sums of abs values, indice and labels..\n",
      "Finished.\n",
      "Found 25732 in dataset: Suzukii_RL/Y, and 1 label(s): ['D. suzukii']\n",
      "Label(s) changed to [1]\n"
     ]
    },
    {
     "name": "stderr",
     "output_type": "stream",
     "text": [
      "Collecting all data from the dataloader..: 1609it [00:07, 209.04it/s]                          \n"
     ]
    },
    {
     "name": "stdout",
     "output_type": "stream",
     "text": [
      "Creating a pandas Dataframe with file-paths, clean-scores, duration, sums of abs values, indice and labels..\n",
      "Finished.\n",
      "Found 29002 in dataset: Melanogaster_RL/Y, and 1 label(s): ['D. melanogaster']\n",
      "Label(s) changed to [0]\n"
     ]
    },
    {
     "name": "stderr",
     "output_type": "stream",
     "text": [
      "Collecting all data from the dataloader..: 1813it [00:08, 220.33it/s]                          \n"
     ]
    },
    {
     "name": "stdout",
     "output_type": "stream",
     "text": [
      "Creating a pandas Dataframe with file-paths, clean-scores, duration, sums of abs values, indice and labels..\n",
      "Finished.\n",
      "Found 19657 in dataset: Suzukii_RL/X, and 1 label(s): ['D. suzukii']\n",
      "Label(s) changed to [1]\n"
     ]
    },
    {
     "name": "stderr",
     "output_type": "stream",
     "text": [
      "Collecting all data from the dataloader..: 1229it [00:06, 179.06it/s]                          \n"
     ]
    },
    {
     "name": "stdout",
     "output_type": "stream",
     "text": [
      "Creating a pandas Dataframe with file-paths, clean-scores, duration, sums of abs values, indice and labels..\n",
      "Finished.\n"
     ]
    }
   ],
   "source": [
    "dmel1 = WingbeatDatasetProfiler(dsname=\"Melanogaster_RL/Z\", custom_label=[0])\n",
    "dsuz1 = WingbeatDatasetProfiler(dsname=\"Suzukii_RL/Y\", custom_label=[1])\n",
    "dmel2 = WingbeatDatasetProfiler(dsname=\"Melanogaster_RL/Y\", custom_label=[0])\n",
    "dsuz2 = WingbeatDatasetProfiler(dsname=\"Suzukii_RL/X\", custom_label=[1])"
   ]
  },
  {
   "cell_type": "code",
   "execution_count": 5,
   "id": "4b4bffe0-da24-4927-a410-b535daf69b15",
   "metadata": {},
   "outputs": [],
   "source": [
    "# temprs, humds = [],[]\n",
    "# for i in [dmel1, dmel2, dsuz1, dsuz2]:\n",
    "#     i.wbts.parse_filenames(temp_humd=True)\n",
    "#     tmp = i.wbts.df\n",
    "#     humds.append(tmp.humidity)\n",
    "#     temprs.append(tmp.temperature)\n",
    "# humds, temprs = pd.concat(humds), pd.concat(temprs)\n",
    "\n",
    "# print(f\"Average humidity: {(humds[humds>50]-50).mean().round(0)}\")\n",
    "# print(f\"std: {(humds[humds>50]-50).std().round(0)}\")\n",
    "# print(f\"Average temperature: {temprs.mean().round(1)}\")\n",
    "# print(f\"std: {temprs.std().round(1)}\")\n"
   ]
  },
  {
   "cell_type": "code",
   "execution_count": 6,
   "id": "453a4814",
   "metadata": {
    "scrolled": true,
    "tags": []
   },
   "outputs": [
    {
     "name": "stderr",
     "output_type": "stream",
     "text": [
      "/home/kalfasyan/anaconda3/envs/wbai/lib/python3.8/site-packages/pandas/core/generic.py:5494: SettingWithCopyWarning: \n",
      "A value is trying to be set on a copy of a slice from a DataFrame.\n",
      "Try using .loc[row_indexer,col_indexer] = value instead\n",
      "\n",
      "See the caveats in the documentation: https://pandas.pydata.org/pandas-docs/stable/user_guide/indexing.html#returning-a-view-versus-a-copy\n",
      "  self[name] = value\n",
      "/home/kalfasyan/anaconda3/envs/wbai/lib/python3.8/site-packages/pandas/core/generic.py:5494: SettingWithCopyWarning: \n",
      "A value is trying to be set on a copy of a slice from a DataFrame.\n",
      "Try using .loc[row_indexer,col_indexer] = value instead\n",
      "\n",
      "See the caveats in the documentation: https://pandas.pydata.org/pandas-docs/stable/user_guide/indexing.html#returning-a-view-versus-a-copy\n",
      "  self[name] = value\n",
      "/home/kalfasyan/anaconda3/envs/wbai/lib/python3.8/site-packages/pandas/core/generic.py:5494: SettingWithCopyWarning: \n",
      "A value is trying to be set on a copy of a slice from a DataFrame.\n",
      "Try using .loc[row_indexer,col_indexer] = value instead\n",
      "\n",
      "See the caveats in the documentation: https://pandas.pydata.org/pandas-docs/stable/user_guide/indexing.html#returning-a-view-versus-a-copy\n",
      "  self[name] = value\n",
      "/home/kalfasyan/anaconda3/envs/wbai/lib/python3.8/site-packages/pandas/core/generic.py:5494: SettingWithCopyWarning: \n",
      "A value is trying to be set on a copy of a slice from a DataFrame.\n",
      "Try using .loc[row_indexer,col_indexer] = value instead\n",
      "\n",
      "See the caveats in the documentation: https://pandas.pydata.org/pandas-docs/stable/user_guide/indexing.html#returning-a-view-versus-a-copy\n",
      "  self[name] = value\n"
     ]
    }
   ],
   "source": [
    "dfmel1 = dmel1.df.query(selection)\n",
    "dfmel1.y = 0\n",
    "dfmel2 = dmel2.df.query(selection)\n",
    "dfmel2.y = 0\n",
    "\n",
    "dfsuz1 = dsuz1.df.query(selection)\n",
    "dfsuz1.y = 1\n",
    "dfsuz2 = dsuz2.df.query(selection)\n",
    "dfsuz2.y = 1"
   ]
  },
  {
   "cell_type": "code",
   "execution_count": 7,
   "id": "554a8b26",
   "metadata": {},
   "outputs": [],
   "source": [
    "torch.backends.cudnn.benchmark = True\n",
    "batch_size = 64"
   ]
  },
  {
   "cell_type": "code",
   "execution_count": 8,
   "id": "c2d6a115-a525-421c-950e-fa3c8645754f",
   "metadata": {},
   "outputs": [
    {
     "name": "stdout",
     "output_type": "stream",
     "text": [
      "1    19700\n",
      "0    14599\n",
      "Name: y, dtype: int64\n",
      "1    15584\n",
      "0    14136\n",
      "Name: y, dtype: int64\n"
     ]
    }
   ],
   "source": [
    "train_df = pd.concat([dfmel1, dfsuz1])\n",
    "test_df = pd.concat([dfmel2, dfsuz2])\n",
    "\n",
    "print(train_df.y.value_counts())\n",
    "print(test_df.y.value_counts())"
   ]
  },
  {
   "cell_type": "markdown",
   "id": "9aee8f58-05d0-498d-b861-dadd8c307085",
   "metadata": {},
   "source": [
    "# Saving"
   ]
  },
  {
   "cell_type": "code",
   "execution_count": 9,
   "id": "79bd4e36",
   "metadata": {},
   "outputs": [],
   "source": [
    "train_df.to_parquet(\"../data_created/suzmel_train.parquet\")\n",
    "test_df.to_parquet(\"../data_created/suzmel_test.parquet\")"
   ]
  },
  {
   "cell_type": "markdown",
   "id": "894d1ea3",
   "metadata": {},
   "source": [
    "## MeBioS Suzukii and Melanogaster data"
   ]
  },
  {
   "cell_type": "code",
   "execution_count": 10,
   "id": "8aa0a662",
   "metadata": {},
   "outputs": [
    {
     "name": "stdout",
     "output_type": "stream",
     "text": [
      "Found 14348 in dataset: Suzukii_RL/R, and 1 label(s): ['D. suzukii']\n",
      "Label(s) changed to [1]\n"
     ]
    },
    {
     "name": "stderr",
     "output_type": "stream",
     "text": [
      "Collecting all data from the dataloader..: 897it [00:04, 211.46it/s]                         \n"
     ]
    },
    {
     "name": "stdout",
     "output_type": "stream",
     "text": [
      "Creating a pandas Dataframe with file-paths, clean-scores, duration, sums of abs values, indice and labels..\n",
      "Finished.\n",
      "Found 21940 in dataset: Suzukii_RL/L, and 1 label(s): ['D. suzukii']\n",
      "Label(s) changed to [1]\n"
     ]
    },
    {
     "name": "stderr",
     "output_type": "stream",
     "text": [
      "Collecting all data from the dataloader..: 1372it [00:06, 198.66it/s]                          \n"
     ]
    },
    {
     "name": "stdout",
     "output_type": "stream",
     "text": [
      "Creating a pandas Dataframe with file-paths, clean-scores, duration, sums of abs values, indice and labels..\n",
      "Finished.\n",
      "Found 2086 in dataset: Melanogaster_RL/X, and 1 label(s): ['D. melanogaster']\n",
      "Label(s) changed to [0]\n"
     ]
    },
    {
     "name": "stderr",
     "output_type": "stream",
     "text": [
      "Collecting all data from the dataloader..: 131it [00:00, 179.74it/s]                         \n"
     ]
    },
    {
     "name": "stdout",
     "output_type": "stream",
     "text": [
      "Creating a pandas Dataframe with file-paths, clean-scores, duration, sums of abs values, indice and labels..\n",
      "Finished.\n",
      "Found 1882 in dataset: Melanogaster_RL/W, and 1 label(s): ['D. melanogaster']\n",
      "Label(s) changed to [0]\n"
     ]
    },
    {
     "name": "stderr",
     "output_type": "stream",
     "text": [
      "Collecting all data from the dataloader..: 118it [00:00, 173.12it/s]                        \n"
     ]
    },
    {
     "name": "stdout",
     "output_type": "stream",
     "text": [
      "Creating a pandas Dataframe with file-paths, clean-scores, duration, sums of abs values, indice and labels..\n",
      "Finished.\n"
     ]
    }
   ],
   "source": [
    "ds1 = WingbeatDatasetProfiler(dsname=\"Suzukii_RL/R\", custom_label=[1])\n",
    "ds2 = WingbeatDatasetProfiler(dsname=\"Suzukii_RL/L\", custom_label=[1])\n",
    "ds3 = WingbeatDatasetProfiler(dsname=\"Melanogaster_RL/X\", custom_label=[0])\n",
    "ds4 = WingbeatDatasetProfiler(dsname=\"Melanogaster_RL/W\", custom_label=[0])"
   ]
  },
  {
   "cell_type": "code",
   "execution_count": 11,
   "id": "ccd66d54-ed2f-44ec-aabe-cbc9217271bd",
   "metadata": {},
   "outputs": [],
   "source": [
    "# temprs, humds = [],[]\n",
    "# for i in [ds1, ds2, ds3, ds4]:\n",
    "#     i.wbts.parse_filenames(temp_humd=True)\n",
    "#     tmp = i.wbts.df\n",
    "#     humds.append(tmp.humidity)\n",
    "#     temprs.append(tmp.temperature)\n",
    "# humds, temprs = pd.concat(humds), pd.concat(temprs)\n",
    "\n",
    "# print(f\"Average humidity: {(humds[humds>50]-50).mean().round(0)}\")\n",
    "# print(f\"std: {(humds[humds>50]-50).std().round(0)}\")\n",
    "# print(f\"Average temperature: {temprs.mean().round(1)}\")\n",
    "# print(f\"std: {temprs.std().round(1)}\")\n"
   ]
  },
  {
   "cell_type": "code",
   "execution_count": 12,
   "id": "1d235b57",
   "metadata": {},
   "outputs": [
    {
     "data": {
      "text/plain": [
       "1    36288\n",
       "0     3968\n",
       "Name: y, dtype: int64"
      ]
     },
     "execution_count": 12,
     "metadata": {},
     "output_type": "execute_result"
    }
   ],
   "source": [
    "extra_df = pd.concat([ds1.df,ds2.df,ds3.df,ds4.df])\n",
    "extra_df.y.value_counts()"
   ]
  },
  {
   "cell_type": "code",
   "execution_count": 13,
   "id": "0afbbaf1-9bb2-4788-93ba-89a3cef89caa",
   "metadata": {},
   "outputs": [
    {
     "data": {
      "text/plain": [
       "1    24332\n",
       "0     1382\n",
       "Name: y, dtype: int64"
      ]
     },
     "execution_count": 13,
     "metadata": {},
     "output_type": "execute_result"
    }
   ],
   "source": [
    "extra_df = extra_df.query(selection)\n",
    "extra_df.y.value_counts()"
   ]
  },
  {
   "cell_type": "code",
   "execution_count": 14,
   "id": "44cbe248",
   "metadata": {},
   "outputs": [],
   "source": [
    "extra_df.to_parquet(\"../data_created/suzmel_extra.parquet\")"
   ]
  },
  {
   "cell_type": "code",
   "execution_count": 15,
   "id": "9e8915dd-de75-404a-bab2-0a9d185bad06",
   "metadata": {},
   "outputs": [],
   "source": [
    "pd.concat([train_df, extra_df]).to_parquet(\"../data_created/suzmel_traindf_plus_extradf.parquet\")"
   ]
  },
  {
   "cell_type": "markdown",
   "id": "a77770f5-f41f-4da9-8f22-2952dfc8fc48",
   "metadata": {},
   "source": [
    "### SD card - novdec2021/jan2022 data"
   ]
  },
  {
   "cell_type": "code",
   "execution_count": 16,
   "id": "d1eaef3c-5b15-4f8a-80d6-32712e32cb8a",
   "metadata": {},
   "outputs": [
    {
     "name": "stdout",
     "output_type": "stream",
     "text": [
      "Found 11136 in dataset: /home/kalfasyan/data/wingbeats/Fruitflies_flytrap_rpi/from_sd/Melanogaster/train/, and 1 label(s): ['from_sd']\n",
      "Label(s) changed to [0]\n"
     ]
    },
    {
     "name": "stderr",
     "output_type": "stream",
     "text": [
      "Collecting all data from the dataloader..: 100%|██████████| 696/696 [00:03<00:00, 186.17it/s]\n"
     ]
    },
    {
     "name": "stdout",
     "output_type": "stream",
     "text": [
      "Creating a pandas Dataframe with file-paths, clean-scores, duration, sums of abs values, indice and labels..\n",
      "Finished.\n",
      "Found 2725 in dataset: /home/kalfasyan/data/wingbeats/Fruitflies_flytrap_rpi/from_sd/Suzukii/, and 1 label(s): ['from_sd']\n",
      "Label(s) changed to [1]\n"
     ]
    },
    {
     "name": "stderr",
     "output_type": "stream",
     "text": [
      "Collecting all data from the dataloader..: 171it [00:01, 162.90it/s]                         \n"
     ]
    },
    {
     "name": "stdout",
     "output_type": "stream",
     "text": [
      "Creating a pandas Dataframe with file-paths, clean-scores, duration, sums of abs values, indice and labels..\n",
      "Finished.\n"
     ]
    },
    {
     "data": {
      "text/plain": [
       "0    6552\n",
       "1    1951\n",
       "Name: y, dtype: int64"
      ]
     },
     "execution_count": 16,
     "metadata": {},
     "output_type": "execute_result"
    }
   ],
   "source": [
    "nu1 = WingbeatDatasetProfiler(dsname=\"/home/kalfasyan/data/wingbeats/Fruitflies_flytrap_rpi/from_sd/Melanogaster/train/\", custom_label=[0])\n",
    "nu2 = WingbeatDatasetProfiler(dsname=\"/home/kalfasyan/data/wingbeats/Fruitflies_flytrap_rpi/from_sd/Suzukii/\", custom_label=[1])\n",
    "nu_df = pd.concat([nu1.df,nu2.df])\n",
    "\n",
    "nu_df = nu_df.query(selection)\n",
    "nu_df.y.value_counts()"
   ]
  },
  {
   "cell_type": "code",
   "execution_count": 17,
   "id": "ca5ba2fb-3dc9-402b-9a34-63b70a350d6e",
   "metadata": {},
   "outputs": [],
   "source": [
    "pd.concat([train_df, extra_df,nu_df]).to_parquet(\"../data_created/suzmel_traindf_plus_extradf_plus_nudf.parquet\")"
   ]
  },
  {
   "cell_type": "code",
   "execution_count": 18,
   "id": "1d215fa2-609b-466d-8357-f5d145a7bd9e",
   "metadata": {},
   "outputs": [
    {
     "data": {
      "text/plain": [
       "1    19700\n",
       "0    14599\n",
       "Name: y, dtype: int64"
      ]
     },
     "execution_count": 18,
     "metadata": {},
     "output_type": "execute_result"
    }
   ],
   "source": [
    "train_df.y.value_counts()"
   ]
  },
  {
   "cell_type": "code",
   "execution_count": 19,
   "id": "b75810ca-19dc-4ed5-b84e-c4d973707556",
   "metadata": {},
   "outputs": [
    {
     "data": {
      "text/plain": [
       "1    44032\n",
       "0    15981\n",
       "Name: y, dtype: int64"
      ]
     },
     "execution_count": 19,
     "metadata": {},
     "output_type": "execute_result"
    }
   ],
   "source": [
    "pd.concat([train_df, extra_df]).y.value_counts()"
   ]
  },
  {
   "cell_type": "code",
   "execution_count": 20,
   "id": "5e9e1088-1744-46cd-9516-2b15e86eaedf",
   "metadata": {},
   "outputs": [
    {
     "data": {
      "text/plain": [
       "1    45983\n",
       "0    22533\n",
       "Name: y, dtype: int64"
      ]
     },
     "execution_count": 20,
     "metadata": {},
     "output_type": "execute_result"
    }
   ],
   "source": [
    "pd.concat([train_df, extra_df,nu_df]).y.value_counts()"
   ]
  },
  {
   "cell_type": "code",
   "execution_count": null,
   "id": "8b08830b-5b60-4cd2-b781-d3c10190868d",
   "metadata": {},
   "outputs": [],
   "source": []
  },
  {
   "cell_type": "markdown",
   "id": "8343365c-11b1-4163-a255-52e4e64fdbc9",
   "metadata": {},
   "source": [
    "### Rpi - novdevc2021/jan2022 data"
   ]
  },
  {
   "cell_type": "code",
   "execution_count": 21,
   "id": "be2ea322-556f-434d-aaf4-d3dfe1b38919",
   "metadata": {},
   "outputs": [
    {
     "name": "stdout",
     "output_type": "stream",
     "text": [
      "Found 216 in dataset: /home/kalfasyan/data/wingbeats/Fruitflies_flytrap_rpi/from_rpi/Melanogaster/train/, and 1 label(s): ['from_rpi']\n",
      "Label(s) changed to [0]\n"
     ]
    },
    {
     "name": "stderr",
     "output_type": "stream",
     "text": [
      "Collecting all data from the dataloader..: 14it [00:00, 53.23it/s]                       \n"
     ]
    },
    {
     "name": "stdout",
     "output_type": "stream",
     "text": [
      "Creating a pandas Dataframe with file-paths, clean-scores, duration, sums of abs values, indice and labels..\n",
      "Finished.\n",
      "Found 0 in dataset: /home/kalfasyan/data/wingbeats/Fruitflies_flytrap_rpi/from_rpi/Suzukii/train/, and 0 label(s): []\n",
      "Label(s) changed to [1]\n"
     ]
    },
    {
     "name": "stderr",
     "output_type": "stream",
     "text": [
      "Collecting all data from the dataloader..: 0it [00:00, ?it/s]"
     ]
    },
    {
     "name": "stdout",
     "output_type": "stream",
     "text": [
      "Creating a pandas Dataframe with file-paths, clean-scores, duration, sums of abs values, indice and labels..\n",
      "Finished.\n"
     ]
    },
    {
     "name": "stderr",
     "output_type": "stream",
     "text": [
      "\n"
     ]
    },
    {
     "data": {
      "text/plain": [
       "0.0    206\n",
       "Name: y, dtype: int64"
      ]
     },
     "execution_count": 21,
     "metadata": {},
     "output_type": "execute_result"
    }
   ],
   "source": [
    "rpi1 = WingbeatDatasetProfiler(dsname=\"/home/kalfasyan/data/wingbeats/Fruitflies_flytrap_rpi/from_rpi/Melanogaster/train/\", custom_label=[0], rpiformat=True)\n",
    "rpi2 = WingbeatDatasetProfiler(dsname=\"/home/kalfasyan/data/wingbeats/Fruitflies_flytrap_rpi/from_rpi/Suzukii/train/\", custom_label=[1], rpiformat=True)\n",
    "rpi_df = pd.concat([rpi1.df,rpi2.df])\n",
    "\n",
    "rpi_df = rpi_df.query(selection)\n",
    "rpi_df.y.value_counts()"
   ]
  },
  {
   "cell_type": "code",
   "execution_count": 24,
   "id": "eea9929a-24c6-4605-953a-d7d2d8c164a8",
   "metadata": {},
   "outputs": [],
   "source": [
    "pd.concat([train_df, nu_df, rpi_df]).to_parquet(\"../data_created/suzmel_traindf_plus_nudf_plus_rpidf.parquet\")#.y.value_counts()"
   ]
  },
  {
   "cell_type": "code",
   "execution_count": 25,
   "id": "703ea231-7bc0-4f48-9cc7-55adf806bb57",
   "metadata": {},
   "outputs": [],
   "source": [
    "pd.concat([train_df, extra_df, rpi_df]).to_parquet(\"../data_created/suzmel_traindf_plus_extra_plus_rpidf.parquet\")#.y.value_counts()"
   ]
  },
  {
   "cell_type": "code",
   "execution_count": 26,
   "id": "3fa6439e",
   "metadata": {},
   "outputs": [],
   "source": [
    "pd.concat([train_df, extra_df,  nu_df, rpi_df]).to_parquet(\"../data_created/suzmel_traindf_plus_extra_plus_nudf_plus_rpidf.parquet\")#.y.value_counts()"
   ]
  },
  {
   "cell_type": "code",
   "execution_count": 114,
   "id": "095c8b7c-f140-4575-a659-765d611a8117",
   "metadata": {},
   "outputs": [
    {
     "data": {
      "text/plain": [
       "(22744, 13)"
      ]
     },
     "execution_count": 114,
     "metadata": {},
     "output_type": "execute_result"
    }
   ],
   "source": [
    "extra_df.shape"
   ]
  }
 ],
 "metadata": {
  "kernelspec": {
   "display_name": "Python 3",
   "language": "python",
   "name": "python3"
  },
  "language_info": {
   "codemirror_mode": {
    "name": "ipython",
    "version": 3
   },
   "file_extension": ".py",
   "mimetype": "text/x-python",
   "name": "python",
   "nbconvert_exporter": "python",
   "pygments_lexer": "ipython3",
   "version": "3.8.10"
  }
 },
 "nbformat": 4,
 "nbformat_minor": 5
}
