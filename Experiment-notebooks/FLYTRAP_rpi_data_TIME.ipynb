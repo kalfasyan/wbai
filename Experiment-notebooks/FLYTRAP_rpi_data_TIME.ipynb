{
 "cells": [
  {
   "cell_type": "code",
   "execution_count": 6,
   "id": "cdd61843-d39b-448b-a452-224e35d463d8",
   "metadata": {},
   "outputs": [],
   "source": [
    "%reset -f\n",
    "%reload_ext autoreload\n",
    "%autoreload 2\n",
    "%matplotlib inline\n",
    "%config Completer.use_jedi = False"
   ]
  },
  {
   "cell_type": "code",
   "execution_count": 7,
   "id": "36087ae9-b7f2-4cd8-a23d-38fe64547074",
   "metadata": {},
   "outputs": [],
   "source": [
    "import sys\n",
    "sys.path.insert(0,\"..\")\n",
    "from profiler import *\n",
    "from utils import *\n",
    "from datasets import *\n",
    "from models import *\n",
    "from transforms import *\n",
    "import torch.nn as nn\n",
    "import torch.optim as optim\n",
    "import torchaudio\n",
    "from torch.utils.data import Dataset, ConcatDataset\n",
    "from torch.utils.data.sampler import SubsetRandomSampler\n",
    "from torchvision import datasets, transforms\n",
    "torchaudio.set_audio_backend('soundfile')"
   ]
  },
  {
   "cell_type": "markdown",
   "id": "900ac40a-a8f0-4e90-a1c0-26b6d6e183fd",
   "metadata": {},
   "source": [
    "# Raspberry-Pi Data"
   ]
  },
  {
   "cell_type": "code",
   "execution_count": 9,
   "id": "602ba47c-d3c6-4f87-8e9f-0fa21676113f",
   "metadata": {},
   "outputs": [],
   "source": [
    "model = DrosophilaNetRAW(outputs=2, dropout_p=.2)\n",
    "optimizer = optim.Adam(model.parameters(), lr=0.001, eps=1e-3, amsgrad=True)\n",
    "model, optimizer = load_checkpoint(f'{BASE_DATACREATEDDIR}/model_time_best.pth.tar', model, optimizer)\n",
    "model = model.to('cuda', dtype=torch.float)"
   ]
  },
  {
   "cell_type": "markdown",
   "id": "11c81bbf-b7d4-4c15-a6a4-899c2d14d7d3",
   "metadata": {},
   "source": [
    "### Testing new RPi Melanogaster data "
   ]
  },
  {
   "cell_type": "code",
   "execution_count": 10,
   "id": "d712ab7f-0db8-436d-89d5-3495f7a9ddcf",
   "metadata": {
    "scrolled": true,
    "tags": []
   },
   "outputs": [
    {
     "name": "stdout",
     "output_type": "stream",
     "text": [
      "Found 436 in dataset: /mnt/HGST_4TB/Datasets/Fruitflies_flytrap_rpi/from_rpi/Melanogaster, and 1 label(s): ['Melanogaster']\n",
      "Label(s) changed to [0]\n"
     ]
    },
    {
     "name": "stderr",
     "output_type": "stream",
     "text": [
      "Collecting all data from the dataloader..:   4%| | 1/27 [00:00<00:05,  4.83it/s]/home/kalfasyan/anaconda3/envs/wbai/lib/python3.8/site-packages/scipy/signal/spectral.py:1961: UserWarning: nperseg = 5000 is greater than input length  = 4667, using nperseg = 4667\n",
      "  warnings.warn('nperseg = {0:d} is greater than input length '\n",
      "/home/kalfasyan/anaconda3/envs/wbai/lib/python3.8/site-packages/scipy/signal/spectral.py:1961: UserWarning: nperseg = 5000 is greater than input length  = 4667, using nperseg = 4667\n",
      "  warnings.warn('nperseg = {0:d} is greater than input length '\n",
      "/home/kalfasyan/anaconda3/envs/wbai/lib/python3.8/site-packages/scipy/signal/spectral.py:1961: UserWarning: nperseg = 5000 is greater than input length  = 4667, using nperseg = 4667\n",
      "  warnings.warn('nperseg = {0:d} is greater than input length '\n",
      "Collecting all data from the dataloader..: 28it [00:00, 60.34it/s]              \n"
     ]
    },
    {
     "name": "stdout",
     "output_type": "stream",
     "text": [
      "Creating a pandas Dataframe with file-paths, clean-scores, duration, sums of abs values, indice and labels..\n",
      "Duration\n",
      "Sum..\n",
      "Max..\n",
      "Filename..\n",
      "Date..\n",
      "Date string..\n",
      "Datehour string..\n",
      "Finished.\n"
     ]
    },
    {
     "name": "stderr",
     "output_type": "stream",
     "text": [
      "Testing..\t:  18%|█████▊                          | 2/11 [00:01<00:07,  1.19it/s]\n"
     ]
    },
    {
     "ename": "RuntimeError",
     "evalue": "stack expects each tensor to be equal size, but got [1, 5000] at entry 0 and [1, 4667] at entry 12",
     "output_type": "error",
     "traceback": [
      "\u001b[0;31m---------------------------------------------------------------------------\u001b[0m",
      "\u001b[0;31mRuntimeError\u001b[0m                              Traceback (most recent call last)",
      "Input \u001b[0;32mIn [10]\u001b[0m, in \u001b[0;36m<module>\u001b[0;34m\u001b[0m\n\u001b[1;32m     14\u001b[0m wbpf\u001b[38;5;241m.\u001b[39mdf \u001b[38;5;241m=\u001b[39m wbpf\u001b[38;5;241m.\u001b[39mdf\u001b[38;5;241m.\u001b[39mquery(selection)\n\u001b[1;32m     15\u001b[0m \u001b[38;5;66;03m# wbpf.plot_random_wbts()\u001b[39;00m\n\u001b[1;32m     16\u001b[0m \u001b[38;5;66;03m# print(wbpf.df.shape[0])\u001b[39;00m\n\u001b[0;32m---> 18\u001b[0m \u001b[43mevaluate_data\u001b[49m\u001b[43m(\u001b[49m\u001b[43mwbpf\u001b[49m\u001b[38;5;241;43m.\u001b[39;49m\u001b[43mdf\u001b[49m\u001b[43m,\u001b[49m\u001b[43m \u001b[49m\u001b[43mmodel\u001b[49m\u001b[43m)\u001b[49m\n",
      "File \u001b[0;32m/mnt/HGST_4TB/Ubudirs/projects/wbai/Experiment-notebooks/../datasets.py:311\u001b[0m, in \u001b[0;36mevaluate_data\u001b[0;34m(df, model, batch_size, transforms_list)\u001b[0m\n\u001b[1;32m    309\u001b[0m test_dataset \u001b[38;5;241m=\u001b[39m DataFrameset(pd\u001b[38;5;241m.\u001b[39mconcat([X_test, y_test], axis\u001b[38;5;241m=\u001b[39m\u001b[38;5;241m1\u001b[39m), transform\u001b[38;5;241m=\u001b[39mtransforms\u001b[38;5;241m.\u001b[39mCompose(transforms_list))\n\u001b[1;32m    310\u001b[0m test_dataloader \u001b[38;5;241m=\u001b[39m DataLoader(test_dataset, batch_size\u001b[38;5;241m=\u001b[39mbatch_size, shuffle\u001b[38;5;241m=\u001b[39m\u001b[38;5;28;01mFalse\u001b[39;00m)\n\u001b[0;32m--> 311\u001b[0m y_true, y_pred, x_batch \u001b[38;5;241m=\u001b[39m \u001b[43mtest_model\u001b[49m\u001b[43m(\u001b[49m\u001b[43mmodel\u001b[49m\u001b[43m,\u001b[49m\u001b[43mtest_dataloader\u001b[49m\u001b[43m,\u001b[49m\u001b[43m \u001b[49m\u001b[43mtest_dataset\u001b[49m\u001b[43m)\u001b[49m\n\u001b[1;32m    313\u001b[0m \u001b[38;5;28mprint\u001b[39m(pd\u001b[38;5;241m.\u001b[39mSeries(y_pred)\u001b[38;5;241m.\u001b[39mvalue_counts())\n",
      "File \u001b[0;32m/mnt/HGST_4TB/Ubudirs/projects/wbai/Experiment-notebooks/../utils.py:202\u001b[0m, in \u001b[0;36mtest_model\u001b[0;34m(model, loader, dataset)\u001b[0m\n\u001b[1;32m    200\u001b[0m correct \u001b[38;5;241m=\u001b[39m \u001b[38;5;241m0\u001b[39m\n\u001b[1;32m    201\u001b[0m y_pred,y_true \u001b[38;5;241m=\u001b[39m [],[]\n\u001b[0;32m--> 202\u001b[0m \u001b[38;5;28;01mfor\u001b[39;00m x_batch,y_batch,path_batch,idx_batch \u001b[38;5;129;01min\u001b[39;00m tqdm(loader, desc\u001b[38;5;241m=\u001b[39m\u001b[38;5;124m'\u001b[39m\u001b[38;5;124mTesting..\u001b[39m\u001b[38;5;130;01m\\t\u001b[39;00m\u001b[38;5;124m'\u001b[39m):\n\u001b[1;32m    203\u001b[0m     y_batch \u001b[38;5;241m=\u001b[39m torch\u001b[38;5;241m.\u001b[39mas_tensor(y_batch)\u001b[38;5;241m.\u001b[39mtype(torch\u001b[38;5;241m.\u001b[39mLongTensor)\n\u001b[1;32m    204\u001b[0m     x_batch,y_batch \u001b[38;5;241m=\u001b[39m x_batch\u001b[38;5;241m.\u001b[39mcuda(), y_batch\u001b[38;5;241m.\u001b[39mcuda()\n",
      "File \u001b[0;32m~/.local/lib/python3.8/site-packages/tqdm/std.py:1195\u001b[0m, in \u001b[0;36mtqdm.__iter__\u001b[0;34m(self)\u001b[0m\n\u001b[1;32m   1192\u001b[0m time \u001b[38;5;241m=\u001b[39m \u001b[38;5;28mself\u001b[39m\u001b[38;5;241m.\u001b[39m_time\n\u001b[1;32m   1194\u001b[0m \u001b[38;5;28;01mtry\u001b[39;00m:\n\u001b[0;32m-> 1195\u001b[0m     \u001b[38;5;28;01mfor\u001b[39;00m obj \u001b[38;5;129;01min\u001b[39;00m iterable:\n\u001b[1;32m   1196\u001b[0m         \u001b[38;5;28;01myield\u001b[39;00m obj\n\u001b[1;32m   1197\u001b[0m         \u001b[38;5;66;03m# Update and possibly print the progressbar.\u001b[39;00m\n\u001b[1;32m   1198\u001b[0m         \u001b[38;5;66;03m# Note: does not call self.update(1) for speed optimisation.\u001b[39;00m\n",
      "File \u001b[0;32m~/anaconda3/envs/wbai/lib/python3.8/site-packages/torch/utils/data/dataloader.py:521\u001b[0m, in \u001b[0;36m_BaseDataLoaderIter.__next__\u001b[0;34m(self)\u001b[0m\n\u001b[1;32m    519\u001b[0m \u001b[38;5;28;01mif\u001b[39;00m \u001b[38;5;28mself\u001b[39m\u001b[38;5;241m.\u001b[39m_sampler_iter \u001b[38;5;129;01mis\u001b[39;00m \u001b[38;5;28;01mNone\u001b[39;00m:\n\u001b[1;32m    520\u001b[0m     \u001b[38;5;28mself\u001b[39m\u001b[38;5;241m.\u001b[39m_reset()\n\u001b[0;32m--> 521\u001b[0m data \u001b[38;5;241m=\u001b[39m \u001b[38;5;28;43mself\u001b[39;49m\u001b[38;5;241;43m.\u001b[39;49m\u001b[43m_next_data\u001b[49m\u001b[43m(\u001b[49m\u001b[43m)\u001b[49m\n\u001b[1;32m    522\u001b[0m \u001b[38;5;28mself\u001b[39m\u001b[38;5;241m.\u001b[39m_num_yielded \u001b[38;5;241m+\u001b[39m\u001b[38;5;241m=\u001b[39m \u001b[38;5;241m1\u001b[39m\n\u001b[1;32m    523\u001b[0m \u001b[38;5;28;01mif\u001b[39;00m \u001b[38;5;28mself\u001b[39m\u001b[38;5;241m.\u001b[39m_dataset_kind \u001b[38;5;241m==\u001b[39m _DatasetKind\u001b[38;5;241m.\u001b[39mIterable \u001b[38;5;129;01mand\u001b[39;00m \\\n\u001b[1;32m    524\u001b[0m         \u001b[38;5;28mself\u001b[39m\u001b[38;5;241m.\u001b[39m_IterableDataset_len_called \u001b[38;5;129;01mis\u001b[39;00m \u001b[38;5;129;01mnot\u001b[39;00m \u001b[38;5;28;01mNone\u001b[39;00m \u001b[38;5;129;01mand\u001b[39;00m \\\n\u001b[1;32m    525\u001b[0m         \u001b[38;5;28mself\u001b[39m\u001b[38;5;241m.\u001b[39m_num_yielded \u001b[38;5;241m>\u001b[39m \u001b[38;5;28mself\u001b[39m\u001b[38;5;241m.\u001b[39m_IterableDataset_len_called:\n",
      "File \u001b[0;32m~/anaconda3/envs/wbai/lib/python3.8/site-packages/torch/utils/data/dataloader.py:561\u001b[0m, in \u001b[0;36m_SingleProcessDataLoaderIter._next_data\u001b[0;34m(self)\u001b[0m\n\u001b[1;32m    559\u001b[0m \u001b[38;5;28;01mdef\u001b[39;00m \u001b[38;5;21m_next_data\u001b[39m(\u001b[38;5;28mself\u001b[39m):\n\u001b[1;32m    560\u001b[0m     index \u001b[38;5;241m=\u001b[39m \u001b[38;5;28mself\u001b[39m\u001b[38;5;241m.\u001b[39m_next_index()  \u001b[38;5;66;03m# may raise StopIteration\u001b[39;00m\n\u001b[0;32m--> 561\u001b[0m     data \u001b[38;5;241m=\u001b[39m \u001b[38;5;28;43mself\u001b[39;49m\u001b[38;5;241;43m.\u001b[39;49m\u001b[43m_dataset_fetcher\u001b[49m\u001b[38;5;241;43m.\u001b[39;49m\u001b[43mfetch\u001b[49m\u001b[43m(\u001b[49m\u001b[43mindex\u001b[49m\u001b[43m)\u001b[49m  \u001b[38;5;66;03m# may raise StopIteration\u001b[39;00m\n\u001b[1;32m    562\u001b[0m     \u001b[38;5;28;01mif\u001b[39;00m \u001b[38;5;28mself\u001b[39m\u001b[38;5;241m.\u001b[39m_pin_memory:\n\u001b[1;32m    563\u001b[0m         data \u001b[38;5;241m=\u001b[39m _utils\u001b[38;5;241m.\u001b[39mpin_memory\u001b[38;5;241m.\u001b[39mpin_memory(data)\n",
      "File \u001b[0;32m~/anaconda3/envs/wbai/lib/python3.8/site-packages/torch/utils/data/_utils/fetch.py:52\u001b[0m, in \u001b[0;36m_MapDatasetFetcher.fetch\u001b[0;34m(self, possibly_batched_index)\u001b[0m\n\u001b[1;32m     50\u001b[0m \u001b[38;5;28;01melse\u001b[39;00m:\n\u001b[1;32m     51\u001b[0m     data \u001b[38;5;241m=\u001b[39m \u001b[38;5;28mself\u001b[39m\u001b[38;5;241m.\u001b[39mdataset[possibly_batched_index]\n\u001b[0;32m---> 52\u001b[0m \u001b[38;5;28;01mreturn\u001b[39;00m \u001b[38;5;28;43mself\u001b[39;49m\u001b[38;5;241;43m.\u001b[39;49m\u001b[43mcollate_fn\u001b[49m\u001b[43m(\u001b[49m\u001b[43mdata\u001b[49m\u001b[43m)\u001b[49m\n",
      "File \u001b[0;32m~/anaconda3/envs/wbai/lib/python3.8/site-packages/torch/utils/data/_utils/collate.py:84\u001b[0m, in \u001b[0;36mdefault_collate\u001b[0;34m(batch)\u001b[0m\n\u001b[1;32m     82\u001b[0m         \u001b[38;5;28;01mraise\u001b[39;00m \u001b[38;5;167;01mRuntimeError\u001b[39;00m(\u001b[38;5;124m'\u001b[39m\u001b[38;5;124meach element in list of batch should be of equal size\u001b[39m\u001b[38;5;124m'\u001b[39m)\n\u001b[1;32m     83\u001b[0m     transposed \u001b[38;5;241m=\u001b[39m \u001b[38;5;28mzip\u001b[39m(\u001b[38;5;241m*\u001b[39mbatch)\n\u001b[0;32m---> 84\u001b[0m     \u001b[38;5;28;01mreturn\u001b[39;00m [default_collate(samples) \u001b[38;5;28;01mfor\u001b[39;00m samples \u001b[38;5;129;01min\u001b[39;00m transposed]\n\u001b[1;32m     86\u001b[0m \u001b[38;5;28;01mraise\u001b[39;00m \u001b[38;5;167;01mTypeError\u001b[39;00m(default_collate_err_msg_format\u001b[38;5;241m.\u001b[39mformat(elem_type))\n",
      "File \u001b[0;32m~/anaconda3/envs/wbai/lib/python3.8/site-packages/torch/utils/data/_utils/collate.py:84\u001b[0m, in \u001b[0;36m<listcomp>\u001b[0;34m(.0)\u001b[0m\n\u001b[1;32m     82\u001b[0m         \u001b[38;5;28;01mraise\u001b[39;00m \u001b[38;5;167;01mRuntimeError\u001b[39;00m(\u001b[38;5;124m'\u001b[39m\u001b[38;5;124meach element in list of batch should be of equal size\u001b[39m\u001b[38;5;124m'\u001b[39m)\n\u001b[1;32m     83\u001b[0m     transposed \u001b[38;5;241m=\u001b[39m \u001b[38;5;28mzip\u001b[39m(\u001b[38;5;241m*\u001b[39mbatch)\n\u001b[0;32m---> 84\u001b[0m     \u001b[38;5;28;01mreturn\u001b[39;00m [\u001b[43mdefault_collate\u001b[49m\u001b[43m(\u001b[49m\u001b[43msamples\u001b[49m\u001b[43m)\u001b[49m \u001b[38;5;28;01mfor\u001b[39;00m samples \u001b[38;5;129;01min\u001b[39;00m transposed]\n\u001b[1;32m     86\u001b[0m \u001b[38;5;28;01mraise\u001b[39;00m \u001b[38;5;167;01mTypeError\u001b[39;00m(default_collate_err_msg_format\u001b[38;5;241m.\u001b[39mformat(elem_type))\n",
      "File \u001b[0;32m~/anaconda3/envs/wbai/lib/python3.8/site-packages/torch/utils/data/_utils/collate.py:56\u001b[0m, in \u001b[0;36mdefault_collate\u001b[0;34m(batch)\u001b[0m\n\u001b[1;32m     54\u001b[0m         storage \u001b[38;5;241m=\u001b[39m elem\u001b[38;5;241m.\u001b[39mstorage()\u001b[38;5;241m.\u001b[39m_new_shared(numel)\n\u001b[1;32m     55\u001b[0m         out \u001b[38;5;241m=\u001b[39m elem\u001b[38;5;241m.\u001b[39mnew(storage)\n\u001b[0;32m---> 56\u001b[0m     \u001b[38;5;28;01mreturn\u001b[39;00m \u001b[43mtorch\u001b[49m\u001b[38;5;241;43m.\u001b[39;49m\u001b[43mstack\u001b[49m\u001b[43m(\u001b[49m\u001b[43mbatch\u001b[49m\u001b[43m,\u001b[49m\u001b[43m \u001b[49m\u001b[38;5;241;43m0\u001b[39;49m\u001b[43m,\u001b[49m\u001b[43m \u001b[49m\u001b[43mout\u001b[49m\u001b[38;5;241;43m=\u001b[39;49m\u001b[43mout\u001b[49m\u001b[43m)\u001b[49m\n\u001b[1;32m     57\u001b[0m \u001b[38;5;28;01melif\u001b[39;00m elem_type\u001b[38;5;241m.\u001b[39m\u001b[38;5;18m__module__\u001b[39m \u001b[38;5;241m==\u001b[39m \u001b[38;5;124m'\u001b[39m\u001b[38;5;124mnumpy\u001b[39m\u001b[38;5;124m'\u001b[39m \u001b[38;5;129;01mand\u001b[39;00m elem_type\u001b[38;5;241m.\u001b[39m\u001b[38;5;18m__name__\u001b[39m \u001b[38;5;241m!=\u001b[39m \u001b[38;5;124m'\u001b[39m\u001b[38;5;124mstr_\u001b[39m\u001b[38;5;124m'\u001b[39m \\\n\u001b[1;32m     58\u001b[0m         \u001b[38;5;129;01mand\u001b[39;00m elem_type\u001b[38;5;241m.\u001b[39m\u001b[38;5;18m__name__\u001b[39m \u001b[38;5;241m!=\u001b[39m \u001b[38;5;124m'\u001b[39m\u001b[38;5;124mstring_\u001b[39m\u001b[38;5;124m'\u001b[39m:\n\u001b[1;32m     59\u001b[0m     \u001b[38;5;28;01mif\u001b[39;00m elem_type\u001b[38;5;241m.\u001b[39m\u001b[38;5;18m__name__\u001b[39m \u001b[38;5;241m==\u001b[39m \u001b[38;5;124m'\u001b[39m\u001b[38;5;124mndarray\u001b[39m\u001b[38;5;124m'\u001b[39m \u001b[38;5;129;01mor\u001b[39;00m elem_type\u001b[38;5;241m.\u001b[39m\u001b[38;5;18m__name__\u001b[39m \u001b[38;5;241m==\u001b[39m \u001b[38;5;124m'\u001b[39m\u001b[38;5;124mmemmap\u001b[39m\u001b[38;5;124m'\u001b[39m:\n\u001b[1;32m     60\u001b[0m         \u001b[38;5;66;03m# array of string classes and object\u001b[39;00m\n",
      "\u001b[0;31mRuntimeError\u001b[0m: stack expects each tensor to be equal size, but got [1, 5000] at entry 0 and [1, 4667] at entry 12"
     ]
    }
   ],
   "source": [
    "dspath = \"/mnt/HGST_4TB/Datasets/Fruitflies_flytrap_rpi/from_rpi/Melanogaster\"\n",
    "\n",
    "#\"/home/kalfasyan/data/wingbeats/Flytrap_rpi/Backup_rpi_freeflight_20210328/20210328/wingbeats\"\n",
    "#44100#\"/home/kalfasyan/data/wingbeats/twin_cages_experiment/sensorPi/freeflight\"\n",
    "#48000#\"/home/kalfasyan/data/wingbeats/Flytrap_rpi/Backup_rpi_freeflight_20210328/20210402/wingbeats\"\n",
    "#48000#\"/home/kalfasyan/data/wingbeats/Flytrap_rpi/Backup_rpi_freeflight_20210328/20210328/wingbeats\"\n",
    "wbpf = WingbeatDatasetProfiler(dsname=dspath, custom_label=[0], rpiformat=True)\n",
    "\n",
    "maxpeaks = 15\n",
    "minpeaks = 1\n",
    "maxscore = 12\n",
    "minscore = 3.5\n",
    "selection = f\"peaks>{minpeaks} & peaks<{maxpeaks} & score>{minscore} & score<={maxscore}\"\n",
    "wbpf.df = wbpf.df.query(selection)\n",
    "# wbpf.plot_random_wbts()\n",
    "# print(wbpf.df.shape[0])\n",
    "\n",
    "evaluate_data(wbpf.df, model)"
   ]
  },
  {
   "cell_type": "markdown",
   "id": "e1d6256b-b8f9-4777-b154-8bd0fa6ed638",
   "metadata": {},
   "source": [
    "### Testing new RPi Suzukii data "
   ]
  },
  {
   "cell_type": "code",
   "execution_count": 5,
   "id": "6bb31c53-b099-4067-95f0-5a3d007c239b",
   "metadata": {
    "scrolled": true,
    "tags": []
   },
   "outputs": [
    {
     "name": "stdout",
     "output_type": "stream",
     "text": [
      "Found 128 in dataset: /home/kalfasyan/data/wingbeats/Suzukii_Rpi_converted_wingbeats, and 128 label(s): ['20210328_191917_Tna_Hna.wav' '20210328_192456_Tna_Hna.wav'\n",
      " '20210328_192553_Tna_Hna.wav' '20210328_192714_Tna_Hna.wav'\n",
      " '20210328_193045_Tna_Hna.wav' '20210328_193643_Tna_Hna.wav'\n",
      " '20210328_193734_Tna_Hna.wav' '20210328_193908_Tna_Hna.wav'\n",
      " '20210328_194951_Tna_Hna.wav' '20210328_195121_Tna_Hna.wav'\n",
      " '20210328_195317_Tna_Hna.wav' '20210328_195811_Tna_Hna.wav'\n",
      " '20210328_195835_Tna_Hna.wav' '20210328_200848_Tna_Hna.wav'\n",
      " '20210328_202817_Tna_Hna.wav' '20210328_205127_Tna_Hna.wav'\n",
      " '20210328_205735_Tna_Hna.wav' '20210328_205756_Tna_Hna.wav'\n",
      " '20210328_210203_Tna_Hna.wav' '20210328_210238_Tna_Hna.wav'\n",
      " '20210328_210505_Tna_Hna.wav' '20210328_211812_Tna_Hna.wav'\n",
      " '20210328_212342_Tna_Hna.wav' '20210328_213208_Tna_Hna.wav'\n",
      " '20210328_213249_Tna_Hna.wav' '20210328_213311_Tna_Hna.wav'\n",
      " '20210328_213808_Tna_Hna.wav' '20210328_214018_Tna_Hna.wav'\n",
      " '20210328_214208_Tna_Hna.wav' '20210328_215320_Tna_Hna.wav'\n",
      " '20210328_215938_Tna_Hna.wav' '20210328_220244_Tna_Hna.wav'\n",
      " '20210328_220549_Tna_Hna.wav' '20210328_221042_Tna_Hna.wav'\n",
      " '20210328_221200_Tna_Hna.wav' '20210329_100948_Tna_Hna.wav'\n",
      " '20210329_115900_Tna_Hna.wav' '20210329_152811_Tna_Hna.wav'\n",
      " '20210329_152828_Tna_Hna.wav' '20210329_152841_Tna_Hna.wav'\n",
      " '20210329_152929_Tna_Hna.wav' '20210329_152953_Tna_Hna.wav'\n",
      " '20210329_153109_Tna_Hna.wav' '20210329_153255_Tna_Hna.wav'\n",
      " '20210329_153308_Tna_Hna.wav' '20210329_153429_Tna_Hna.wav'\n",
      " '20210329_153452_Tna_Hna.wav' '20210329_153513_Tna_Hna.wav'\n",
      " '20210329_153539_Tna_Hna.wav' '20210329_153643_Tna_Hna.wav'\n",
      " '20210329_153955_Tna_Hna.wav' '20210329_154113_Tna_Hna.wav'\n",
      " '20210329_154408_Tna_Hna.wav' '20210329_154608_Tna_Hna.wav'\n",
      " '20210329_154622_Tna_Hna.wav' '20210329_154924_Tna_Hna.wav'\n",
      " '20210329_155022_Tna_Hna.wav' '20210329_155055_Tna_Hna.wav'\n",
      " '20210329_155127_Tna_Hna.wav' '20210329_155143_Tna_Hna.wav'\n",
      " '20210329_155236_Tna_Hna.wav' '20210329_155505_Tna_Hna.wav'\n",
      " '20210329_155810_Tna_Hna.wav' '20210329_160003_Tna_Hna.wav'\n",
      " '20210329_160157_Tna_Hna.wav' '20210329_160333_Tna_Hna.wav'\n",
      " '20210329_160417_Tna_Hna.wav' '20210329_160552_Tna_Hna.wav'\n",
      " '20210329_160644_Tna_Hna.wav' '20210329_161111_Tna_Hna.wav'\n",
      " '20210329_205525_Tna_Hna.wav' '20210329_211800_Tna_Hna.wav'\n",
      " '20210329_212515_Tna_Hna.wav' '20210329_212949_Tna_Hna.wav'\n",
      " '20210329_213113_Tna_Hna.wav' '20210329_213551_Tna_Hna.wav'\n",
      " '20210329_213843_Tna_Hna.wav' '20210329_215851_Tna_Hna.wav'\n",
      " '20210329_221001_Tna_Hna.wav' '20210329_223715_Tna_Hna.wav'\n",
      " '20210329_224428_Tna_Hna.wav' '20210329_224514_Tna_Hna.wav'\n",
      " '20210329_225938_Tna_Hna.wav' '20210329_230726_Tna_Hna.wav'\n",
      " '20210329_232449_Tna_Hna.wav' '20210329_232817_Tna_Hna.wav'\n",
      " '20210329_234045_Tna_Hna.wav' '20210329_234115_Tna_Hna.wav'\n",
      " '20210329_234432_Tna_Hna.wav' '20210329_234946_Tna_Hna.wav'\n",
      " '20210330_000032_Tna_Hna.wav' '20210330_000140_Tna_Hna.wav'\n",
      " '20210330_000156_Tna_Hna.wav' '20210330_001155_Tna_Hna.wav'\n",
      " '20210330_001519_Tna_Hna.wav' '20210330_002303_Tna_Hna.wav'\n",
      " '20210330_003406_Tna_Hna.wav' '20210330_004138_Tna_Hna.wav'\n",
      " '20210330_005208_Tna_Hna.wav' '20210330_010026_Tna_Hna.wav'\n",
      " '20210330_010109_Tna_Hna.wav' '20210330_010629_Tna_Hna.wav'\n",
      " '20210330_011141_Tna_Hna.wav' '20210330_013626_Tna_Hna.wav'\n",
      " '20210330_015455_Tna_Hna.wav' '20210330_015711_Tna_Hna.wav'\n",
      " '20210330_015728_Tna_Hna.wav' '20210330_015748_Tna_Hna.wav'\n",
      " '20210330_020837_Tna_Hna.wav' '20210330_020854_Tna_Hna.wav'\n",
      " '20210330_021350_Tna_Hna.wav' '20210330_022747_Tna_Hna.wav'\n",
      " '20210330_024008_Tna_Hna.wav' '20210330_024343_Tna_Hna.wav'\n",
      " '20210330_024418_Tna_Hna.wav' '20210330_024505_Tna_Hna.wav'\n",
      " '20210330_024604_Tna_Hna.wav' '20210330_030029_Tna_Hna.wav'\n",
      " '20210330_030244_Tna_Hna.wav' '20210330_030748_Tna_Hna.wav'\n",
      " '20210330_030842_Tna_Hna.wav' '20210330_031158_Tna_Hna.wav'\n",
      " '20210330_032448_Tna_Hna.wav' '20210330_032948_Tna_Hna.wav'\n",
      " '20210330_034539_Tna_Hna.wav' '20210330_034837_Tna_Hna.wav'\n",
      " '20210330_042156_Tna_Hna.wav' '20210330_174012_Tna_Hna.wav']\n",
      "Label(s) changed to [1]\n"
     ]
    },
    {
     "name": "stderr",
     "output_type": "stream",
     "text": [
      "Collecting all data from the dataloader..: 100%|██████████| 8/8 [00:00<00:00, 18.47it/s]\n",
      "Testing..\t:   0%|          | 0/4 [00:00<?, ?it/s]"
     ]
    },
    {
     "name": "stdout",
     "output_type": "stream",
     "text": [
      "Creating a pandas Dataframe with file-paths, clean-scores, duration, sums of abs values, indice and labels..\n",
      "Finished.\n"
     ]
    },
    {
     "name": "stderr",
     "output_type": "stream",
     "text": [
      "Testing..\t: 100%|██████████| 4/4 [00:00<00:00, 22.29it/s]"
     ]
    },
    {
     "name": "stdout",
     "output_type": "stream",
     "text": [
      "Accuracy: 98.31\n",
      "Balanced accuracy: 98.31\n",
      "Confusion matrix: \n",
      "[[0.         0.        ]\n",
      " [0.01694915 0.98305085]]\n",
      "1    116\n",
      "0      2\n",
      "dtype: int64\n"
     ]
    },
    {
     "name": "stderr",
     "output_type": "stream",
     "text": [
      "\n",
      "/home/kalfasyan/anaconda3/envs/wbai/lib/python3.8/site-packages/sklearn/metrics/_classification.py:1850: UserWarning: y_pred contains classes not in y_true\n",
      "  warnings.warn('y_pred contains classes not in y_true')\n"
     ]
    }
   ],
   "source": [
    "dspath = \"/home/kalfasyan/data/wingbeats/Suzukii_Rpi_converted_wingbeats\"\n",
    "\n",
    "#\"/home/kalfasyan/data/wingbeats/Flytrap_rpi/Backup_rpi_freeflight_20210328/20210328/wingbeats\"\n",
    "#44100#\"/home/kalfasyan/data/wingbeats/twin_cages_experiment/sensorPi/freeflight\"\n",
    "#48000#\"/home/kalfasyan/data/wingbeats/Flytrap_rpi/Backup_rpi_freeflight_20210328/20210402/wingbeats\"\n",
    "#48000#\"/home/kalfasyan/data/wingbeats/Flytrap_rpi/Backup_rpi_freeflight_20210328/20210328/wingbeats\"\n",
    "wbpf = WingbeatDatasetProfiler(dsname=dspath, custom_label=[1], rpiformat=True)\n",
    "\n",
    "maxpeaks = 15\n",
    "minpeaks = 1\n",
    "maxscore = 12\n",
    "minscore = 3.5\n",
    "selection = f\"peaks>{minpeaks} & peaks<{maxpeaks} & score>{minscore} & score<={maxscore}\"\n",
    "wbpf.df = wbpf.df.query(selection)\n",
    "# wbpf.plot_random_wbts()\n",
    "# print(wbpf.df.shape[0])\n",
    "\n",
    "evaluate_data(wbpf.df, model)"
   ]
  },
  {
   "cell_type": "code",
   "execution_count": null,
   "id": "1c1ecbcc-bfe5-4cd6-8b41-1d810a9745f7",
   "metadata": {},
   "outputs": [],
   "source": []
  },
  {
   "cell_type": "code",
   "execution_count": null,
   "id": "8c0183ef-aa9b-43e5-aaa8-7ede8c66665a",
   "metadata": {},
   "outputs": [],
   "source": []
  },
  {
   "cell_type": "markdown",
   "id": "87bab6fa-b342-465b-bcaf-d8b5b73368c4",
   "metadata": {},
   "source": [
    "# SD card data"
   ]
  },
  {
   "cell_type": "code",
   "execution_count": 6,
   "id": "7cb71cf1-3b5b-4935-a49b-a47b5b4c7214",
   "metadata": {},
   "outputs": [],
   "source": [
    "%reset -f\n",
    "%reload_ext autoreload\n",
    "%autoreload 2\n",
    "%matplotlib inline\n",
    "%config Completer.use_jedi = False"
   ]
  },
  {
   "cell_type": "code",
   "execution_count": 7,
   "id": "75f6a899-ab84-4bcd-9322-bee28684cb33",
   "metadata": {},
   "outputs": [
    {
     "data": {
      "text/plain": [
       "Path('/home/kalfasyan/projects/wbai/data_created')"
      ]
     },
     "execution_count": 7,
     "metadata": {},
     "output_type": "execute_result"
    }
   ],
   "source": [
    "import sys\n",
    "sys.path.insert(0,\"..\")\n",
    "from profiler import *\n",
    "from utils import *\n",
    "from datasets import *\n",
    "from models import *\n",
    "from transforms import *\n",
    "import torch.nn as nn\n",
    "import torch.optim as optim\n",
    "import torchaudio\n",
    "from torch.utils.data import Dataset, ConcatDataset\n",
    "from torch.utils.data.sampler import SubsetRandomSampler\n",
    "from torchvision import datasets, transforms\n",
    "torchaudio.set_audio_backend('soundfile')\n",
    "\n",
    "transforms_list_test = [Bandpass(lowcut=140, highcut=1500)]\n",
    "BASE_DATACREATEDDIR"
   ]
  },
  {
   "cell_type": "code",
   "execution_count": 8,
   "id": "6cb9e196-2db9-454e-9c88-5b7a04707f55",
   "metadata": {},
   "outputs": [],
   "source": [
    "model = DrosophilaNetRAW(outputs=2, dropout_p=.2)\n",
    "optimizer = optim.Adam(model.parameters(), lr=0.001, eps=1e-3, amsgrad=True)\n",
    "model, optimizer = load_checkpoint(f'{BASE_DATACREATEDDIR}/model_time_best.pth.tar', model, optimizer)\n",
    "model = model.to('cuda', dtype=torch.float)"
   ]
  },
  {
   "cell_type": "markdown",
   "id": "58c2c271-5490-485d-bfd8-de54e0a3cd77",
   "metadata": {},
   "source": [
    "### Testing with new SD card data - Melanogasters"
   ]
  },
  {
   "cell_type": "code",
   "execution_count": 9,
   "id": "b90e2cc4-711f-4123-9669-970b5defa6b3",
   "metadata": {},
   "outputs": [
    {
     "name": "stdout",
     "output_type": "stream",
     "text": [
      "Found 11136 in dataset: /home/kalfasyan/data/wingbeats/wingbeats_20211129/wingbeats_correct_dates/Melanogaster_202111_SD, and 1 label(s): ['wingbeats_correct_dates']\n",
      "Label(s) changed to [0]\n"
     ]
    },
    {
     "name": "stderr",
     "output_type": "stream",
     "text": [
      "Collecting all data from the dataloader..: 100%|██████████| 696/696 [00:04<00:00, 159.27it/s]\n"
     ]
    },
    {
     "name": "stdout",
     "output_type": "stream",
     "text": [
      "Creating a pandas Dataframe with file-paths, clean-scores, duration, sums of abs values, indice and labels..\n",
      "Finished.\n"
     ]
    }
   ],
   "source": [
    "dspath = \"/home/kalfasyan/data/wingbeats/wingbeats_20211129/wingbeats_correct_dates/Melanogaster_202111_SD\"\n",
    "wbpf = WingbeatDatasetProfiler(dsname=dspath, custom_label=[0], rpiformat=False)\n",
    "\n",
    "maxpeaks = 15\n",
    "minpeaks = 1\n",
    "maxscore = 12\n",
    "minscore = 3.5\n",
    "selection = f\"peaks>{minpeaks} & peaks<{maxpeaks} & score>{minscore} & score<={maxscore}\"\n",
    "wbpf.df = wbpf.df.query(selection)\n",
    "\n",
    "evaluate_data(wbpf.df, model, batch_size=8, transforms_list=transforms_list_test)"
   ]
  },
  {
   "cell_type": "code",
   "execution_count": 10,
   "id": "90618bf5-ae98-4531-8398-64f6b2fcb3ef",
   "metadata": {},
   "outputs": [
    {
     "name": "stderr",
     "output_type": "stream",
     "text": [
      "Testing..\t: 100%|██████████| 740/740 [00:07<00:00, 95.03it/s] "
     ]
    },
    {
     "name": "stdout",
     "output_type": "stream",
     "text": [
      "Accuracy: 63.13\n",
      "Balanced accuracy: 63.13\n",
      "Confusion matrix: \n",
      "[[0.63129436 0.36870564]\n",
      " [0.         0.        ]]\n",
      "0    3736\n",
      "1    2182\n",
      "dtype: int64\n"
     ]
    },
    {
     "name": "stderr",
     "output_type": "stream",
     "text": [
      "\n",
      "/home/kalfasyan/anaconda3/envs/wbai/lib/python3.8/site-packages/sklearn/metrics/_classification.py:1850: UserWarning: y_pred contains classes not in y_true\n",
      "  warnings.warn('y_pred contains classes not in y_true')\n"
     ]
    }
   ],
   "source": []
  },
  {
   "cell_type": "markdown",
   "id": "957f961d-bde1-4747-ab56-2a61e7b4cbc9",
   "metadata": {},
   "source": [
    "### Testing with new SD card data - Suzukiis"
   ]
  },
  {
   "cell_type": "code",
   "execution_count": 11,
   "id": "dcbdfce3-6f4d-4744-b63b-e529e2665180",
   "metadata": {},
   "outputs": [
    {
     "name": "stdout",
     "output_type": "stream",
     "text": [
      "Found 2725 in dataset: /home/kalfasyan/data/wingbeats/wingbeats_20211129/wingbeats_correct_dates/Suzukii_202111_SD/, and 1 label(s): ['wingbeats_correct_dates']\n",
      "Label(s) changed to [1]\n"
     ]
    },
    {
     "name": "stderr",
     "output_type": "stream",
     "text": [
      "Collecting all data from the dataloader..: 171it [00:01, 125.80it/s]                         \n"
     ]
    },
    {
     "name": "stdout",
     "output_type": "stream",
     "text": [
      "Creating a pandas Dataframe with file-paths, clean-scores, duration, sums of abs values, indice and labels..\n",
      "Finished.\n"
     ]
    }
   ],
   "source": [
    "dspath = \"/home/kalfasyan/data/wingbeats/wingbeats_20211129/wingbeats_correct_dates/Suzukii_202111_SD/\"\n",
    "wbpf = WingbeatDatasetProfiler(dsname=dspath, custom_label=[1], rpiformat=False)\n",
    "\n",
    "maxpeaks = 15\n",
    "minpeaks = 1\n",
    "maxscore = 12\n",
    "minscore = 3.5\n",
    "selection = f\"peaks>{minpeaks} & peaks<{maxpeaks} & score>{minscore} & score<={maxscore}\"\n",
    "wbpf.df = wbpf.df.query(selection)\n",
    "\n",
    "evaluate_data(wbpf.df, model, batch_size=8, transforms_list=transforms_list_test)"
   ]
  },
  {
   "cell_type": "code",
   "execution_count": 12,
   "id": "edc5403e-b6cf-4780-a40e-67d8fe035774",
   "metadata": {},
   "outputs": [
    {
     "name": "stderr",
     "output_type": "stream",
     "text": [
      "Testing..\t: 100%|██████████| 213/213 [00:02<00:00, 80.86it/s]"
     ]
    },
    {
     "name": "stdout",
     "output_type": "stream",
     "text": [
      "Accuracy: 96.48\n",
      "Balanced accuracy: 96.48\n",
      "Confusion matrix: \n",
      "[[0.         0.        ]\n",
      " [0.03521127 0.96478873]]\n",
      "1    1644\n",
      "0      60\n",
      "dtype: int64\n"
     ]
    },
    {
     "name": "stderr",
     "output_type": "stream",
     "text": [
      "\n",
      "/home/kalfasyan/anaconda3/envs/wbai/lib/python3.8/site-packages/sklearn/metrics/_classification.py:1850: UserWarning: y_pred contains classes not in y_true\n",
      "  warnings.warn('y_pred contains classes not in y_true')\n"
     ]
    }
   ],
   "source": []
  },
  {
   "cell_type": "markdown",
   "id": "d40679bd-85de-4df2-9509-36818f4dc8c3",
   "metadata": {},
   "source": [
    "### Testing with original controlled test set"
   ]
  },
  {
   "cell_type": "code",
   "execution_count": 13,
   "id": "aac48b04-dc2a-4813-aee0-de5028494e75",
   "metadata": {},
   "outputs": [
    {
     "name": "stderr",
     "output_type": "stream",
     "text": [
      "Testing..\t: 100%|██████████| 803/803 [00:07<00:00, 109.60it/s]"
     ]
    },
    {
     "name": "stdout",
     "output_type": "stream",
     "text": [
      "Accuracy: 90.21\n",
      "Balanced accuracy: 89.75\n",
      "Confusion matrix: \n",
      "[[0.81614128 0.18385872]\n",
      " [0.02108056 0.97891944]]\n"
     ]
    },
    {
     "name": "stderr",
     "output_type": "stream",
     "text": [
      "\n"
     ]
    }
   ],
   "source": [
    "test_df = pd.read_parquet('../data_created/suzmel_test.parquet')\n",
    "test_dataset = DataFrameset(pd.concat([test_df.iloc[:,0], test_df.iloc[:,1]], axis=1), transform=transforms.Compose(transforms_list_test))\n",
    "test_dataloader = DataLoader(test_dataset, batch_size=32, shuffle=False, num_workers=4, pin_memory=True)\n",
    "_ = test_model(model,test_dataloader, test_dataset)"
   ]
  },
  {
   "cell_type": "markdown",
   "id": "21bb8910-6466-45a4-9b7a-5d2a814a1765",
   "metadata": {},
   "source": [
    "### Testing with remote-uncontrolled test set"
   ]
  },
  {
   "cell_type": "code",
   "execution_count": 14,
   "id": "e512b5e9-6d0e-4ba0-bbb8-6190d0c31f1a",
   "metadata": {},
   "outputs": [
    {
     "name": "stderr",
     "output_type": "stream",
     "text": [
      "Testing..\t: 100%|██████████| 712/712 [00:05<00:00, 118.97it/s]"
     ]
    },
    {
     "name": "stdout",
     "output_type": "stream",
     "text": [
      "Accuracy: 99.79\n",
      "Balanced accuracy: 99.41\n",
      "Confusion matrix: \n",
      "[[0.98979592 0.01020408]\n",
      " [0.00161992 0.99838008]]\n"
     ]
    },
    {
     "name": "stderr",
     "output_type": "stream",
     "text": [
      "\n"
     ]
    }
   ],
   "source": [
    "extra_df = pd.read_parquet('../data_created/suzmel_extra.parquet')\n",
    "X_extra, y_extra = extra_df.iloc[:,0], extra_df.iloc[:,1]\n",
    "\n",
    "extra_dataset = DataFrameset(pd.concat([X_extra, y_extra], axis=1), transform=transforms.Compose(transforms_list_test))\n",
    "extra_dataloader = DataLoader(extra_dataset, batch_size=32, shuffle=False, num_workers=4, pin_memory=True, worker_init_fn=worker_init_fn)\n",
    "_ = test_model(model,extra_dataloader, extra_dataset)"
   ]
  },
  {
   "cell_type": "code",
   "execution_count": null,
   "id": "42b1b1f2-45ce-4a9d-9c3a-ad6154f1c99f",
   "metadata": {},
   "outputs": [],
   "source": []
  },
  {
   "cell_type": "markdown",
   "id": "cda848d2-89e5-44f4-92c3-dd410c388f5e",
   "metadata": {},
   "source": [
    "# UMAP"
   ]
  },
  {
   "cell_type": "code",
   "execution_count": 15,
   "id": "fff8e054-8a33-4480-b690-7f0cfcad4000",
   "metadata": {},
   "outputs": [],
   "source": [
    "%reset -f\n",
    "%reload_ext autoreload\n",
    "%autoreload 2\n",
    "%matplotlib inline\n",
    "%config Completer.use_jedi = False"
   ]
  },
  {
   "cell_type": "code",
   "execution_count": 16,
   "id": "37c84a92-ab5b-44d5-854b-b45b763ca1ed",
   "metadata": {},
   "outputs": [
    {
     "data": {
      "text/plain": [
       "Path('/home/kalfasyan/projects/wbai/data_created')"
      ]
     },
     "execution_count": 16,
     "metadata": {},
     "output_type": "execute_result"
    }
   ],
   "source": [
    "import sys\n",
    "sys.path.insert(0,\"..\")\n",
    "from profiler import *\n",
    "from utils import *\n",
    "from datasets import *\n",
    "from models import *\n",
    "from transforms import *\n",
    "import torch.nn as nn\n",
    "import torch.optim as optim\n",
    "import torchaudio\n",
    "from torch.utils.data import Dataset, ConcatDataset\n",
    "from torch.utils.data.sampler import SubsetRandomSampler\n",
    "from torchvision import datasets, transforms\n",
    "torchaudio.set_audio_backend('soundfile')\n",
    "\n",
    "transforms_list_test = [Bandpass(lowcut=140, highcut=1500)]\n",
    "BASE_DATACREATEDDIR"
   ]
  },
  {
   "cell_type": "code",
   "execution_count": 17,
   "id": "331dd508-833f-4347-94d1-bd99f054a8db",
   "metadata": {},
   "outputs": [
    {
     "ename": "KeyboardInterrupt",
     "evalue": "",
     "output_type": "error",
     "traceback": [
      "\u001b[0;31m---------------------------------------------------------------------------\u001b[0m",
      "\u001b[0;31mKeyboardInterrupt\u001b[0m                         Traceback (most recent call last)",
      "\u001b[0;32m<ipython-input-17-b39d16563356>\u001b[0m in \u001b[0;36m<module>\u001b[0;34m\u001b[0m\n\u001b[1;32m      2\u001b[0m \u001b[0moptimizer\u001b[0m \u001b[0;34m=\u001b[0m \u001b[0moptim\u001b[0m\u001b[0;34m.\u001b[0m\u001b[0mAdam\u001b[0m\u001b[0;34m(\u001b[0m\u001b[0mmodel\u001b[0m\u001b[0;34m.\u001b[0m\u001b[0mparameters\u001b[0m\u001b[0;34m(\u001b[0m\u001b[0;34m)\u001b[0m\u001b[0;34m,\u001b[0m \u001b[0mlr\u001b[0m\u001b[0;34m=\u001b[0m\u001b[0;36m0.001\u001b[0m\u001b[0;34m,\u001b[0m \u001b[0meps\u001b[0m\u001b[0;34m=\u001b[0m\u001b[0;36m1e-3\u001b[0m\u001b[0;34m,\u001b[0m \u001b[0mamsgrad\u001b[0m\u001b[0;34m=\u001b[0m\u001b[0;32mTrue\u001b[0m\u001b[0;34m)\u001b[0m\u001b[0;34m\u001b[0m\u001b[0;34m\u001b[0m\u001b[0m\n\u001b[1;32m      3\u001b[0m \u001b[0mmodel\u001b[0m\u001b[0;34m,\u001b[0m \u001b[0moptimizer\u001b[0m \u001b[0;34m=\u001b[0m \u001b[0mload_checkpoint\u001b[0m\u001b[0;34m(\u001b[0m\u001b[0;34mf'{BASE_DATACREATEDDIR}/model_time_best.pth.tar'\u001b[0m\u001b[0;34m,\u001b[0m \u001b[0mmodel\u001b[0m\u001b[0;34m,\u001b[0m \u001b[0moptimizer\u001b[0m\u001b[0;34m)\u001b[0m\u001b[0;34m\u001b[0m\u001b[0;34m\u001b[0m\u001b[0m\n\u001b[0;32m----> 4\u001b[0;31m \u001b[0mmodel\u001b[0m \u001b[0;34m=\u001b[0m \u001b[0mmodel\u001b[0m\u001b[0;34m.\u001b[0m\u001b[0mto\u001b[0m\u001b[0;34m(\u001b[0m\u001b[0;34m'cuda'\u001b[0m\u001b[0;34m,\u001b[0m \u001b[0mdtype\u001b[0m\u001b[0;34m=\u001b[0m\u001b[0mtorch\u001b[0m\u001b[0;34m.\u001b[0m\u001b[0mfloat\u001b[0m\u001b[0;34m)\u001b[0m\u001b[0;34m\u001b[0m\u001b[0;34m\u001b[0m\u001b[0m\n\u001b[0m",
      "\u001b[0;32m~/anaconda3/envs/wbai/lib/python3.8/site-packages/torch/nn/modules/module.py\u001b[0m in \u001b[0;36mto\u001b[0;34m(self, *args, **kwargs)\u001b[0m\n\u001b[1;32m    897\u001b[0m             \u001b[0;32mreturn\u001b[0m \u001b[0mt\u001b[0m\u001b[0;34m.\u001b[0m\u001b[0mto\u001b[0m\u001b[0;34m(\u001b[0m\u001b[0mdevice\u001b[0m\u001b[0;34m,\u001b[0m \u001b[0mdtype\u001b[0m \u001b[0;32mif\u001b[0m \u001b[0mt\u001b[0m\u001b[0;34m.\u001b[0m\u001b[0mis_floating_point\u001b[0m\u001b[0;34m(\u001b[0m\u001b[0;34m)\u001b[0m \u001b[0;32mor\u001b[0m \u001b[0mt\u001b[0m\u001b[0;34m.\u001b[0m\u001b[0mis_complex\u001b[0m\u001b[0;34m(\u001b[0m\u001b[0;34m)\u001b[0m \u001b[0;32melse\u001b[0m \u001b[0;32mNone\u001b[0m\u001b[0;34m,\u001b[0m \u001b[0mnon_blocking\u001b[0m\u001b[0;34m)\u001b[0m\u001b[0;34m\u001b[0m\u001b[0;34m\u001b[0m\u001b[0m\n\u001b[1;32m    898\u001b[0m \u001b[0;34m\u001b[0m\u001b[0m\n\u001b[0;32m--> 899\u001b[0;31m         \u001b[0;32mreturn\u001b[0m \u001b[0mself\u001b[0m\u001b[0;34m.\u001b[0m\u001b[0m_apply\u001b[0m\u001b[0;34m(\u001b[0m\u001b[0mconvert\u001b[0m\u001b[0;34m)\u001b[0m\u001b[0;34m\u001b[0m\u001b[0;34m\u001b[0m\u001b[0m\n\u001b[0m\u001b[1;32m    900\u001b[0m \u001b[0;34m\u001b[0m\u001b[0m\n\u001b[1;32m    901\u001b[0m     def register_backward_hook(\n",
      "\u001b[0;32m~/anaconda3/envs/wbai/lib/python3.8/site-packages/torch/nn/modules/module.py\u001b[0m in \u001b[0;36m_apply\u001b[0;34m(self, fn)\u001b[0m\n\u001b[1;32m    568\u001b[0m     \u001b[0;32mdef\u001b[0m \u001b[0m_apply\u001b[0m\u001b[0;34m(\u001b[0m\u001b[0mself\u001b[0m\u001b[0;34m,\u001b[0m \u001b[0mfn\u001b[0m\u001b[0;34m)\u001b[0m\u001b[0;34m:\u001b[0m\u001b[0;34m\u001b[0m\u001b[0;34m\u001b[0m\u001b[0m\n\u001b[1;32m    569\u001b[0m         \u001b[0;32mfor\u001b[0m \u001b[0mmodule\u001b[0m \u001b[0;32min\u001b[0m \u001b[0mself\u001b[0m\u001b[0;34m.\u001b[0m\u001b[0mchildren\u001b[0m\u001b[0;34m(\u001b[0m\u001b[0;34m)\u001b[0m\u001b[0;34m:\u001b[0m\u001b[0;34m\u001b[0m\u001b[0;34m\u001b[0m\u001b[0m\n\u001b[0;32m--> 570\u001b[0;31m             \u001b[0mmodule\u001b[0m\u001b[0;34m.\u001b[0m\u001b[0m_apply\u001b[0m\u001b[0;34m(\u001b[0m\u001b[0mfn\u001b[0m\u001b[0;34m)\u001b[0m\u001b[0;34m\u001b[0m\u001b[0;34m\u001b[0m\u001b[0m\n\u001b[0m\u001b[1;32m    571\u001b[0m \u001b[0;34m\u001b[0m\u001b[0m\n\u001b[1;32m    572\u001b[0m         \u001b[0;32mdef\u001b[0m \u001b[0mcompute_should_use_set_data\u001b[0m\u001b[0;34m(\u001b[0m\u001b[0mtensor\u001b[0m\u001b[0;34m,\u001b[0m \u001b[0mtensor_applied\u001b[0m\u001b[0;34m)\u001b[0m\u001b[0;34m:\u001b[0m\u001b[0;34m\u001b[0m\u001b[0;34m\u001b[0m\u001b[0m\n",
      "\u001b[0;32m~/anaconda3/envs/wbai/lib/python3.8/site-packages/torch/nn/modules/module.py\u001b[0m in \u001b[0;36m_apply\u001b[0;34m(self, fn)\u001b[0m\n\u001b[1;32m    591\u001b[0m             \u001b[0;31m# `with torch.no_grad():`\u001b[0m\u001b[0;34m\u001b[0m\u001b[0;34m\u001b[0m\u001b[0;34m\u001b[0m\u001b[0m\n\u001b[1;32m    592\u001b[0m             \u001b[0;32mwith\u001b[0m \u001b[0mtorch\u001b[0m\u001b[0;34m.\u001b[0m\u001b[0mno_grad\u001b[0m\u001b[0;34m(\u001b[0m\u001b[0;34m)\u001b[0m\u001b[0;34m:\u001b[0m\u001b[0;34m\u001b[0m\u001b[0;34m\u001b[0m\u001b[0m\n\u001b[0;32m--> 593\u001b[0;31m                 \u001b[0mparam_applied\u001b[0m \u001b[0;34m=\u001b[0m \u001b[0mfn\u001b[0m\u001b[0;34m(\u001b[0m\u001b[0mparam\u001b[0m\u001b[0;34m)\u001b[0m\u001b[0;34m\u001b[0m\u001b[0;34m\u001b[0m\u001b[0m\n\u001b[0m\u001b[1;32m    594\u001b[0m             \u001b[0mshould_use_set_data\u001b[0m \u001b[0;34m=\u001b[0m \u001b[0mcompute_should_use_set_data\u001b[0m\u001b[0;34m(\u001b[0m\u001b[0mparam\u001b[0m\u001b[0;34m,\u001b[0m \u001b[0mparam_applied\u001b[0m\u001b[0;34m)\u001b[0m\u001b[0;34m\u001b[0m\u001b[0;34m\u001b[0m\u001b[0m\n\u001b[1;32m    595\u001b[0m             \u001b[0;32mif\u001b[0m \u001b[0mshould_use_set_data\u001b[0m\u001b[0;34m:\u001b[0m\u001b[0;34m\u001b[0m\u001b[0;34m\u001b[0m\u001b[0m\n",
      "\u001b[0;32m~/anaconda3/envs/wbai/lib/python3.8/site-packages/torch/nn/modules/module.py\u001b[0m in \u001b[0;36mconvert\u001b[0;34m(t)\u001b[0m\n\u001b[1;32m    895\u001b[0m                 return t.to(device, dtype if t.is_floating_point() or t.is_complex() else None,\n\u001b[1;32m    896\u001b[0m                             non_blocking, memory_format=convert_to_format)\n\u001b[0;32m--> 897\u001b[0;31m             \u001b[0;32mreturn\u001b[0m \u001b[0mt\u001b[0m\u001b[0;34m.\u001b[0m\u001b[0mto\u001b[0m\u001b[0;34m(\u001b[0m\u001b[0mdevice\u001b[0m\u001b[0;34m,\u001b[0m \u001b[0mdtype\u001b[0m \u001b[0;32mif\u001b[0m \u001b[0mt\u001b[0m\u001b[0;34m.\u001b[0m\u001b[0mis_floating_point\u001b[0m\u001b[0;34m(\u001b[0m\u001b[0;34m)\u001b[0m \u001b[0;32mor\u001b[0m \u001b[0mt\u001b[0m\u001b[0;34m.\u001b[0m\u001b[0mis_complex\u001b[0m\u001b[0;34m(\u001b[0m\u001b[0;34m)\u001b[0m \u001b[0;32melse\u001b[0m \u001b[0;32mNone\u001b[0m\u001b[0;34m,\u001b[0m \u001b[0mnon_blocking\u001b[0m\u001b[0;34m)\u001b[0m\u001b[0;34m\u001b[0m\u001b[0;34m\u001b[0m\u001b[0m\n\u001b[0m\u001b[1;32m    898\u001b[0m \u001b[0;34m\u001b[0m\u001b[0m\n\u001b[1;32m    899\u001b[0m         \u001b[0;32mreturn\u001b[0m \u001b[0mself\u001b[0m\u001b[0;34m.\u001b[0m\u001b[0m_apply\u001b[0m\u001b[0;34m(\u001b[0m\u001b[0mconvert\u001b[0m\u001b[0;34m)\u001b[0m\u001b[0;34m\u001b[0m\u001b[0;34m\u001b[0m\u001b[0m\n",
      "\u001b[0;31mKeyboardInterrupt\u001b[0m: "
     ]
    }
   ],
   "source": [
    "model = DrosophilaNetRAW(outputs=2, dropout_p=.2)\n",
    "optimizer = optim.Adam(model.parameters(), lr=0.001, eps=1e-3, amsgrad=True)\n",
    "model, optimizer = load_checkpoint(f'{BASE_DATACREATEDDIR}/model_time_best.pth.tar', model, optimizer)\n",
    "model = model.to('cuda', dtype=torch.float)"
   ]
  },
  {
   "cell_type": "code",
   "execution_count": null,
   "id": "1368787e-b25c-43cd-9899-9b01b7e3f8d7",
   "metadata": {},
   "outputs": [],
   "source": [
    "model = nn.Sequential(*list(model.children())[:-1])\n",
    "list(model.children())[-1]"
   ]
  },
  {
   "cell_type": "code",
   "execution_count": null,
   "id": "0bada935-c5db-4be2-bbd5-8dea2fb12645",
   "metadata": {},
   "outputs": [],
   "source": [
    "dspath = \"/home/kalfasyan/data/wingbeats/wingbeats_20211129/wingbeats_correct_dates/Melanogaster_202111_SD\"\n",
    "wbpf = WingbeatDatasetProfiler(dsname=dspath, custom_label=[2], rpiformat=False)\n",
    "\n",
    "maxpeaks = 15\n",
    "minpeaks = 1\n",
    "maxscore = 12\n",
    "minscore = 3.5\n",
    "selection = f\"peaks>{minpeaks} & peaks<{maxpeaks} & score>{minscore} & score<={maxscore}\"\n",
    "wbpf.df = wbpf.df.query(selection)\n",
    "\n",
    "new_dataset = DataFrameset(pd.concat([wbpf.df.iloc[:,0], wbpf.df.iloc[:,1]], axis=1), transform=transforms.Compose(transforms_list_test))\n",
    "new_dataloader = DataLoader(new_dataset, batch_size=32, shuffle=False)\n",
    "out_new = get_all_preds(model, new_dataloader)\n",
    "X_new_mel, y_new_mel = out_new[0].detach().cpu().numpy(), out_new[1].detach().cpu().numpy()"
   ]
  },
  {
   "cell_type": "code",
   "execution_count": null,
   "id": "b2d9f007-481c-41ac-b1b7-ec88e44252aa",
   "metadata": {},
   "outputs": [],
   "source": [
    "dspath = \"/home/kalfasyan/data/wingbeats/wingbeats_20211129/wingbeats_correct_dates/Suzukii_202111_SD/\"\n",
    "wbpf = WingbeatDatasetProfiler(dsname=dspath, custom_label=[3], rpiformat=False)\n",
    "\n",
    "maxpeaks = 15\n",
    "minpeaks = 1\n",
    "maxscore = 12\n",
    "minscore = 3.5\n",
    "selection = f\"peaks>{minpeaks} & peaks<{maxpeaks} & score>{minscore} & score<={maxscore}\"\n",
    "wbpf.df = wbpf.df.query(selection)\n",
    "\n",
    "new_dataset = DataFrameset(pd.concat([wbpf.df.iloc[:,0], wbpf.df.iloc[:,1]], axis=1), transform=transforms.Compose(transforms_list_test))\n",
    "new_dataloader = DataLoader(new_dataset, batch_size=32, shuffle=False)\n",
    "out_new = get_all_preds(model, new_dataloader)\n",
    "X_new_suz, y_new_suz = out_new[0].detach().cpu().numpy(), out_new[1].detach().cpu().numpy()"
   ]
  },
  {
   "cell_type": "code",
   "execution_count": null,
   "id": "cefc2d6b-c840-42b8-bcbd-72084e8ab912",
   "metadata": {},
   "outputs": [],
   "source": [
    "test_df = pd.read_parquet('../data_created/suzmel_test.parquet')\n",
    "test_dataset = DataFrameset(pd.concat([test_df.iloc[:,0], test_df.iloc[:,1]], axis=1), transform=transforms.Compose(transforms_list_test))\n",
    "test_dataloader = DataLoader(test_dataset, batch_size=32, shuffle=False, num_workers=4, pin_memory=True)\n",
    "\n",
    "out = get_all_preds(model, test_dataloader)\n",
    "X_test = out[0].detach().cpu().numpy()\n",
    "y_test = out[1].detach().cpu().numpy()"
   ]
  },
  {
   "cell_type": "code",
   "execution_count": null,
   "id": "97c6f2a1-e42e-4ff5-acf5-5d2364988ba8",
   "metadata": {},
   "outputs": [],
   "source": [
    "# extra_df = pd.read_csv('../data_created/suzmel_extra.csv')\n",
    "# extra_dataset = DataFrameset(pd.concat([extra_df.iloc[:,0], extra_df.iloc[:,1]], axis=1), transform=transforms.Compose(transforms_list_test))\n",
    "# extra_dataloader = DataLoader(extra_dataset, batch_size=32, shuffle=False, num_workers=4, pin_memory=True, worker_init_fn=worker_init_fn)\n",
    "# out_xtra = get_all_preds(model, test_dataloader)\n",
    "# X_extra = out_xtra[0].detach().cpu().numpy()\n",
    "# y_extra = out_xtra[1].detach().cpu().numpy()"
   ]
  },
  {
   "cell_type": "code",
   "execution_count": null,
   "id": "4470c560-174f-4eb1-9589-ed1cbd6512d9",
   "metadata": {},
   "outputs": [],
   "source": []
  },
  {
   "cell_type": "code",
   "execution_count": null,
   "id": "8f16b198-e049-4af8-aefb-8be1eab3e69b",
   "metadata": {},
   "outputs": [],
   "source": [
    "X_test_and_xtra = np.vstack((X_new_mel,X_new_suz)).squeeze()\n",
    "y_test_and_xtra = np.hstack((y_new_mel,y_new_suz)).squeeze()"
   ]
  },
  {
   "cell_type": "code",
   "execution_count": null,
   "id": "12e3eca2-4cc2-49a6-aaa4-5add88428c82",
   "metadata": {},
   "outputs": [],
   "source": [
    "import umap\n",
    "reducer = umap.UMAP()\n",
    "embedding = reducer.fit_transform(X_test_and_xtra)\n",
    "embedding.shape"
   ]
  },
  {
   "cell_type": "code",
   "execution_count": null,
   "id": "2df4b311-8e4a-4c0f-a4ff-5f54bb29fdef",
   "metadata": {},
   "outputs": [],
   "source": [
    "import seaborn as sns\n",
    "y_test_and_xtra.shape"
   ]
  },
  {
   "cell_type": "code",
   "execution_count": null,
   "id": "7d66211b-66ec-422d-b2e1-b6b79c0527d4",
   "metadata": {},
   "outputs": [],
   "source": [
    "plt.figure(figsize=(14,14))\n",
    "sns.scatterplot(x=embedding[:,0], y=embedding[:,1], hue=y_test_and_xtra, alpha=0.5, palette='colorblind')"
   ]
  },
  {
   "cell_type": "code",
   "execution_count": null,
   "id": "8805f871-6d0e-4d33-b9c0-b01acb3f1bf3",
   "metadata": {},
   "outputs": [],
   "source": []
  },
  {
   "cell_type": "code",
   "execution_count": null,
   "id": "d9460043-285b-4317-95c9-bf7b88689611",
   "metadata": {},
   "outputs": [],
   "source": [
    "model = DrosophilaNetRAW(outputs=2, dropout_p=.2)\n",
    "optimizer = optim.Adam(model.parameters(), lr=0.001, eps=1e-3, amsgrad=True)\n",
    "model, optimizer = load_checkpoint(f'{BASE_DATACREATEDDIR}/model_time_best.pth.tar', model, optimizer)\n",
    "model = model.to('cuda', dtype=torch.float)\n",
    "\n",
    "test_df = pd.read_parquet('../data_created/suzmel_test.parquet')\n",
    "test_dataset = DataFrameset(pd.concat([test_df.iloc[:,0], test_df.iloc[:,1]], axis=1), transform=transforms.Compose(transforms_list_test))\n",
    "test_dataloader = DataLoader(test_dataset, batch_size=32, shuffle=False, num_workers=4, pin_memory=True)\n",
    "_ = test_model(model,test_dataloader, test_dataset)"
   ]
  },
  {
   "cell_type": "code",
   "execution_count": null,
   "id": "1aa4950c-703e-4105-9c70-e01ed94c86fb",
   "metadata": {},
   "outputs": [],
   "source": []
  },
  {
   "cell_type": "code",
   "execution_count": null,
   "id": "39d7ad93-6607-49c6-896e-8a299c05befe",
   "metadata": {},
   "outputs": [],
   "source": []
  }
 ],
 "metadata": {
  "kernelspec": {
   "display_name": "Python 3 (ipykernel)",
   "language": "python",
   "name": "python3"
  },
  "language_info": {
   "codemirror_mode": {
    "name": "ipython",
    "version": 3
   },
   "file_extension": ".py",
   "mimetype": "text/x-python",
   "name": "python",
   "nbconvert_exporter": "python",
   "pygments_lexer": "ipython3",
   "version": "3.8.10"
  }
 },
 "nbformat": 4,
 "nbformat_minor": 5
}
