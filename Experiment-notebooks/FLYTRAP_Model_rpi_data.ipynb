{
 "cells": [
  {
   "cell_type": "code",
   "execution_count": 1,
   "id": "cdd61843-d39b-448b-a452-224e35d463d8",
   "metadata": {},
   "outputs": [],
   "source": [
    "%reset -f\n",
    "%reload_ext autoreload\n",
    "%autoreload 2\n",
    "%matplotlib inline\n",
    "%config Completer.use_jedi = False"
   ]
  },
  {
   "cell_type": "code",
   "execution_count": 2,
   "id": "36087ae9-b7f2-4cd8-a23d-38fe64547074",
   "metadata": {},
   "outputs": [
    {
     "name": "stdout",
     "output_type": "stream",
     "text": [
      "Available workers: 16\n"
     ]
    }
   ],
   "source": [
    "import sys\n",
    "sys.path.insert(0,\"..\")\n",
    "from profiler import *\n",
    "from utils import *\n",
    "from datasets import *\n",
    "from models import *\n",
    "from transforms import *\n",
    "import torch.nn as nn\n",
    "import torch.optim as optim\n",
    "import torchaudio\n",
    "from torch.utils.data import Dataset, ConcatDataset\n",
    "from torch.utils.data.sampler import SubsetRandomSampler\n",
    "from torchvision import datasets, transforms\n",
    "torchaudio.set_audio_backend('soundfile')"
   ]
  },
  {
   "cell_type": "markdown",
   "id": "900ac40a-a8f0-4e90-a1c0-26b6d6e183fd",
   "metadata": {},
   "source": [
    "# Raspberry-Pi Data"
   ]
  },
  {
   "cell_type": "code",
   "execution_count": 3,
   "id": "602ba47c-d3c6-4f87-8e9f-0fa21676113f",
   "metadata": {},
   "outputs": [],
   "source": [
    "model = DrosophilaNetRAW(outputs=2, dropout_p=.2)\n",
    "optimizer = optim.Adam(model.parameters(), lr=0.001, eps=1e-3, amsgrad=True)\n",
    "model, optimizer = load_checkpoint(f'{BASE_DATACREATEDDIR}/model_best_time_signals.pth.tar', model, optimizer)\n",
    "model = model.to('cuda', dtype=torch.float)"
   ]
  },
  {
   "cell_type": "code",
   "execution_count": 4,
   "id": "d712ab7f-0db8-436d-89d5-3495f7a9ddcf",
   "metadata": {
    "scrolled": true,
    "tags": []
   },
   "outputs": [
    {
     "name": "stdout",
     "output_type": "stream",
     "text": [
      "Found 127 in dataset: /home/kalfasyan/Dropbox/kuleuven/wingbeats_20211129/wingbeats_correct_dates/Melanogaster_202111_RPi, and 1 label(s): ['wingbeats_correct_dates']\n",
      "Label(s) changed to [0]\n"
     ]
    },
    {
     "name": "stderr",
     "output_type": "stream",
     "text": [
      "Collecting all data from the dataloader..: 8it [00:00, 23.55it/s]                       \n"
     ]
    },
    {
     "name": "stdout",
     "output_type": "stream",
     "text": [
      "Creating a pandas Dataframe with file-paths, clean-scores, duration, sums of abs values, indice and labels..\n"
     ]
    },
    {
     "name": "stderr",
     "output_type": "stream",
     "text": [
      "Testing..\t:   0%|          | 0/3 [00:00<?, ?it/s]"
     ]
    },
    {
     "name": "stdout",
     "output_type": "stream",
     "text": [
      "Finished.\n"
     ]
    },
    {
     "name": "stderr",
     "output_type": "stream",
     "text": [
      "Testing..\t: 100%|██████████| 3/3 [00:01<00:00,  2.41it/s]"
     ]
    },
    {
     "name": "stdout",
     "output_type": "stream",
     "text": [
      "Accuracy: 1.18\n",
      "Balanced accuracy: 1.18\n",
      "Confusion matrix: \n",
      "[[0.01176471 0.98823529]\n",
      " [0.         0.        ]]\n",
      "1    84\n",
      "0     1\n",
      "dtype: int64\n"
     ]
    },
    {
     "name": "stderr",
     "output_type": "stream",
     "text": [
      "\n",
      "/home/kalfasyan/anaconda3/envs/wbai/lib/python3.8/site-packages/sklearn/metrics/_classification.py:1850: UserWarning: y_pred contains classes not in y_true\n",
      "  warnings.warn('y_pred contains classes not in y_true')\n"
     ]
    }
   ],
   "source": [
    "dspath = \"/home/kalfasyan/Dropbox/kuleuven/wingbeats_20211129/wingbeats_correct_dates/Melanogaster_202111_RPi\"\n",
    "#\"/home/kalfasyan/data/wingbeats/Flytrap_rpi/Backup_rpi_freeflight_20210328/20210328/wingbeats\"\n",
    "#44100#\"/home/kalfasyan/data/wingbeats/twin_cages_experiment/sensorPi/freeflight\"\n",
    "#48000#\"/home/kalfasyan/data/wingbeats/Flytrap_rpi/Backup_rpi_freeflight_20210328/20210402/wingbeats\"\n",
    "#48000#\"/home/kalfasyan/data/wingbeats/Flytrap_rpi/Backup_rpi_freeflight_20210328/20210328/wingbeats\"\n",
    "wbpf = WingbeatDatasetProfiler(dsname=dspath, custom_label=[0], rpiformat=True)\n",
    "\n",
    "maxpeaks = 15\n",
    "minpeaks = 1\n",
    "maxscore = 12\n",
    "minscore = 3.5\n",
    "selection = f\"peaks>{minpeaks} & peaks<{maxpeaks} & score>{minscore} & score<={maxscore}\"\n",
    "wbpf.df = wbpf.df.query(selection)\n",
    "# wbpf.plot_random_wbts()\n",
    "# print(wbpf.df.shape[0])\n",
    "\n",
    "evaluate_data(wbpf.df, model)"
   ]
  },
  {
   "cell_type": "code",
   "execution_count": null,
   "id": "0db6cc93-8788-4667-a28d-9b43fee67663",
   "metadata": {},
   "outputs": [],
   "source": []
  },
  {
   "cell_type": "code",
   "execution_count": null,
   "id": "1c1ecbcc-bfe5-4cd6-8b41-1d810a9745f7",
   "metadata": {},
   "outputs": [],
   "source": []
  },
  {
   "cell_type": "code",
   "execution_count": null,
   "id": "8c0183ef-aa9b-43e5-aaa8-7ede8c66665a",
   "metadata": {},
   "outputs": [],
   "source": []
  },
  {
   "cell_type": "markdown",
   "id": "3acf19e9-33d8-4ec2-9213-16aa78c41790",
   "metadata": {},
   "source": [
    "# SD card data"
   ]
  },
  {
   "cell_type": "code",
   "execution_count": 17,
   "id": "c5651e98-73d0-404a-9171-51e08f99ed72",
   "metadata": {},
   "outputs": [
    {
     "name": "stdout",
     "output_type": "stream",
     "text": [
      "Available workers: 16\n",
      "Available workers: 16\n"
     ]
    }
   ],
   "source": [
    "%reset -f\n",
    "%reload_ext autoreload\n",
    "%autoreload 2\n",
    "%matplotlib inline\n",
    "%config Completer.use_jedi = False"
   ]
  },
  {
   "cell_type": "code",
   "execution_count": 18,
   "id": "e1db1b81-3f63-4d5e-94c6-03521e63faec",
   "metadata": {},
   "outputs": [],
   "source": [
    "import sys\n",
    "sys.path.insert(0,\"..\")\n",
    "from profiler import *\n",
    "from utils import *\n",
    "from datasets import *\n",
    "from models import *\n",
    "from transforms import *\n",
    "import torch.nn as nn\n",
    "import torch.optim as optim\n",
    "import torchaudio\n",
    "from torch.utils.data import Dataset, ConcatDataset\n",
    "from torch.utils.data.sampler import SubsetRandomSampler\n",
    "from torchvision import datasets, transforms\n",
    "torchaudio.set_audio_backend('soundfile')"
   ]
  },
  {
   "cell_type": "code",
   "execution_count": 19,
   "id": "73f94884-42c0-4118-9bab-a92360b9443c",
   "metadata": {},
   "outputs": [],
   "source": [
    "model = DrosophilaNetRAW(outputs=2, dropout_p=.2)\n",
    "optimizer = optim.Adam(model.parameters(), lr=0.001, eps=1e-3, amsgrad=True)\n",
    "model, optimizer = load_checkpoint(f'{BASE_DATACREATEDDIR}/model_best_time_signals.pth.tar', model, optimizer)\n",
    "model = model.to('cuda', dtype=torch.float)"
   ]
  },
  {
   "cell_type": "code",
   "execution_count": 20,
   "id": "0a455e1a-2356-4b64-9049-b5944371e827",
   "metadata": {},
   "outputs": [
    {
     "name": "stdout",
     "output_type": "stream",
     "text": [
      "Found 11136 in dataset: /home/kalfasyan/Dropbox/kuleuven/wingbeats_20211129/wingbeats_correct_dates/Melanogaster_202111_SD, and 1 label(s): ['wingbeats_correct_dates']\n",
      "Label(s) changed to [0]\n"
     ]
    },
    {
     "name": "stderr",
     "output_type": "stream",
     "text": [
      "Collecting all data from the dataloader..: 100%|██████████| 696/696 [00:03<00:00, 191.39it/s]\n"
     ]
    },
    {
     "name": "stdout",
     "output_type": "stream",
     "text": [
      "Creating a pandas Dataframe with file-paths, clean-scores, duration, sums of abs values, indice and labels..\n",
      "Finished.\n"
     ]
    }
   ],
   "source": [
    "dspath = \"/home/kalfasyan/Dropbox/kuleuven/wingbeats_20211129/wingbeats_correct_dates/Melanogaster_202111_SD\"\n",
    "wbpf = WingbeatDatasetProfiler(dsname=dspath, custom_label=[0], rpiformat=False)\n",
    "\n",
    "maxpeaks = 15\n",
    "minpeaks = 1\n",
    "maxscore = 12\n",
    "minscore = 3.5\n",
    "selection = f\"peaks>{minpeaks} & peaks<{maxpeaks} & score>{minscore} & score<={maxscore}\"\n",
    "wbpf.df = wbpf.df.query(selection)"
   ]
  },
  {
   "cell_type": "code",
   "execution_count": 21,
   "id": "7972377a-79ca-4a0f-abfc-f4c778c613b3",
   "metadata": {},
   "outputs": [
    {
     "name": "stderr",
     "output_type": "stream",
     "text": [
      "Testing..\t: 100%|██████████| 185/185 [00:05<00:00, 30.95it/s]"
     ]
    },
    {
     "name": "stdout",
     "output_type": "stream",
     "text": [
      "Accuracy: 60.61\n",
      "Balanced accuracy: 60.61\n",
      "Confusion matrix: \n",
      "[[0.60613248 0.39386752]\n",
      " [0.         0.        ]]\n",
      "0    3578\n",
      "1    2325\n",
      "dtype: int64\n"
     ]
    },
    {
     "name": "stderr",
     "output_type": "stream",
     "text": [
      "\n",
      "/home/kalfasyan/anaconda3/envs/wbai/lib/python3.8/site-packages/sklearn/metrics/_classification.py:1850: UserWarning: y_pred contains classes not in y_true\n",
      "  warnings.warn('y_pred contains classes not in y_true')\n"
     ]
    }
   ],
   "source": [
    "evaluate_data(wbpf.df,model)"
   ]
  },
  {
   "cell_type": "code",
   "execution_count": 22,
   "id": "65a26e10-e977-497c-baa3-b183fd168d0f",
   "metadata": {},
   "outputs": [
    {
     "name": "stderr",
     "output_type": "stream",
     "text": [
      "Testing..\t: 100%|██████████| 711/711 [00:22<00:00, 32.09it/s]\n"
     ]
    },
    {
     "name": "stdout",
     "output_type": "stream",
     "text": [
      "Accuracy: 92.97\n",
      "Balanced accuracy: 92.42\n",
      "Confusion matrix: \n",
      "[[0.91808874 0.08191126]\n",
      " [0.06972001 0.93027999]]\n",
      "1    20164\n",
      "0     2580\n",
      "dtype: int64\n"
     ]
    }
   ],
   "source": [
    "extra_df = pd.read_parquet('../data_created/suzmel_extra.parquet')\n",
    "evaluate_data(extra_df, model)"
   ]
  },
  {
   "cell_type": "code",
   "execution_count": null,
   "id": "02cad0b1-890c-49a3-8e72-51845ff5813e",
   "metadata": {},
   "outputs": [],
   "source": []
  },
  {
   "cell_type": "markdown",
   "id": "cd05b06d-1e6e-4cbd-ad0b-db7e37001bc3",
   "metadata": {},
   "source": [
    "# UMAP"
   ]
  },
  {
   "cell_type": "code",
   "execution_count": 89,
   "id": "37601d66-f3f6-413f-8858-d62e0a5d98af",
   "metadata": {},
   "outputs": [],
   "source": [
    "import umap"
   ]
  },
  {
   "cell_type": "code",
   "execution_count": null,
   "id": "1c8ad9c4-abc8-4f08-af72-9b925bffb567",
   "metadata": {},
   "outputs": [],
   "source": []
  },
  {
   "cell_type": "code",
   "execution_count": null,
   "id": "40378983-5ede-45e8-847b-9c98e9e18404",
   "metadata": {},
   "outputs": [],
   "source": []
  }
 ],
 "metadata": {
  "kernelspec": {
   "display_name": "Python 3",
   "language": "python",
   "name": "python3"
  },
  "language_info": {
   "codemirror_mode": {
    "name": "ipython",
    "version": 3
   },
   "file_extension": ".py",
   "mimetype": "text/x-python",
   "name": "python",
   "nbconvert_exporter": "python",
   "pygments_lexer": "ipython3",
   "version": "3.8.10"
  }
 },
 "nbformat": 4,
 "nbformat_minor": 5
}
