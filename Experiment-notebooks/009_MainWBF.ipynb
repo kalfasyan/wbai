{
 "cells": [
  {
   "cell_type": "code",
   "execution_count": 1,
   "id": "7875b4f7-65f1-4506-b3e5-2a3336f270a0",
   "metadata": {},
   "outputs": [],
   "source": [
    "%reset -f\n",
    "%reload_ext autoreload\n",
    "%autoreload 2\n",
    "%matplotlib inline\n",
    "%config Completer.use_jedi = False"
   ]
  },
  {
   "cell_type": "code",
   "execution_count": 2,
   "id": "7329aed2-edee-494c-b56e-e3431bd2b1d8",
   "metadata": {},
   "outputs": [
    {
     "name": "stdout",
     "output_type": "stream",
     "text": [
      "Available workers: 16\n"
     ]
    }
   ],
   "source": [
    "import sys\n",
    "sys.path.insert(0,\"..\")\n",
    "from profiler import *\n",
    "from utils import *"
   ]
  },
  {
   "cell_type": "code",
   "execution_count": 3,
   "id": "525fb2d9-48f8-4412-a094-08811c8fa024",
   "metadata": {},
   "outputs": [
    {
     "name": "stdout",
     "output_type": "stream",
     "text": [
      "Found 24763 in dataset: Melanogaster_RL/Z, and 1 label(s): ['D. melanogaster']\n",
      "Label(s) changed to [0]\n"
     ]
    },
    {
     "name": "stderr",
     "output_type": "stream",
     "text": [
      "Collecting all data from the dataloader..: 1548it [00:25, 60.08it/s]                          \n"
     ]
    },
    {
     "name": "stdout",
     "output_type": "stream",
     "text": [
      "Creating a pandas Dataframe with file-paths, clean-scores, duration, sums of abs values, indice and labels..\n",
      "Finished.\n",
      "Found 25732 in dataset: Suzukii_RL/Y, and 1 label(s): ['D. suzukii']\n",
      "Label(s) changed to [1]\n"
     ]
    },
    {
     "name": "stderr",
     "output_type": "stream",
     "text": [
      "Collecting all data from the dataloader..: 1609it [00:23, 67.19it/s]                          \n"
     ]
    },
    {
     "name": "stdout",
     "output_type": "stream",
     "text": [
      "Creating a pandas Dataframe with file-paths, clean-scores, duration, sums of abs values, indice and labels..\n",
      "Finished.\n",
      "Found 29002 in dataset: Melanogaster_RL/Y, and 1 label(s): ['D. melanogaster']\n",
      "Label(s) changed to [0]\n"
     ]
    },
    {
     "name": "stderr",
     "output_type": "stream",
     "text": [
      "Collecting all data from the dataloader..: 1813it [00:27, 66.28it/s]                          \n"
     ]
    },
    {
     "name": "stdout",
     "output_type": "stream",
     "text": [
      "Creating a pandas Dataframe with file-paths, clean-scores, duration, sums of abs values, indice and labels..\n",
      "Finished.\n",
      "Found 19657 in dataset: Suzukii_RL/X, and 1 label(s): ['D. suzukii']\n",
      "Label(s) changed to [1]\n"
     ]
    },
    {
     "name": "stderr",
     "output_type": "stream",
     "text": [
      "Collecting all data from the dataloader..: 1229it [00:23, 53.19it/s]                          \n"
     ]
    },
    {
     "name": "stdout",
     "output_type": "stream",
     "text": [
      "Creating a pandas Dataframe with file-paths, clean-scores, duration, sums of abs values, indice and labels..\n",
      "Finished.\n"
     ]
    }
   ],
   "source": [
    "dmel1 = WingbeatDatasetProfiler(dsname=\"Melanogaster_RL/Z\", custom_label=[0], distance=100)\n",
    "dsuz1 = WingbeatDatasetProfiler(dsname=\"Suzukii_RL/Y\", custom_label=[1], distance=100)\n",
    "dmel2 = WingbeatDatasetProfiler(dsname=\"Melanogaster_RL/Y\", custom_label=[0])\n",
    "dsuz2 = WingbeatDatasetProfiler(dsname=\"Suzukii_RL/X\", custom_label=[1])"
   ]
  },
  {
   "cell_type": "code",
   "execution_count": 4,
   "id": "0d34ec2f-e476-4c33-b717-8ca10dada2c7",
   "metadata": {},
   "outputs": [],
   "source": [
    "maxpeaks = 15\n",
    "minpeaks = 1\n",
    "maxscore = 15\n",
    "minscore = 2.5\n",
    "selection = f\"peaks>{minpeaks} & peaks<{maxpeaks} & score>{minscore} & score<={maxscore}\""
   ]
  },
  {
   "cell_type": "code",
   "execution_count": 5,
   "id": "7bc9a26f-81d0-4343-9d14-9611f65f5ee3",
   "metadata": {
    "tags": []
   },
   "outputs": [],
   "source": [
    "# %matplotlib inline\n",
    "dfmel1 = dmel1.df.query(selection)\n",
    "dfmel2 = dmel2.df.query(selection)\n",
    "dfsuz1 = dsuz1.df.query(selection)\n",
    "dfsuz2 = dsuz2.df.query(selection)"
   ]
  },
  {
   "cell_type": "code",
   "execution_count": 6,
   "id": "aecbc612-d49a-4c4b-ba04-d089a5ab4156",
   "metadata": {
    "tags": []
   },
   "outputs": [],
   "source": [
    "# dmel1.plot_random_psds(dfmel1.sample(len(dfmel1)), noaxis=False)#.sample(len(df),replace=False), noaxis=False)"
   ]
  },
  {
   "cell_type": "code",
   "execution_count": 7,
   "id": "1837dbbe-005e-41a9-978a-dc7bdfdc3c21",
   "metadata": {
    "tags": []
   },
   "outputs": [],
   "source": [
    "# %matplotlib qt\n",
    "# dmel1.plot_random_wbts(df=dfmel1, noaxis=False)#.sample(len(df),replace=False), noaxis=False)"
   ]
  },
  {
   "cell_type": "code",
   "execution_count": 8,
   "id": "9f3dda9b-43f2-4c8e-9ece-9f90f84ef7c3",
   "metadata": {},
   "outputs": [],
   "source": [
    "# dfmel1.peaksxtra.apply(lambda x: x[0]).hist(bins=200)"
   ]
  },
  {
   "cell_type": "code",
   "execution_count": 39,
   "id": "e171a593-98c6-4afa-b604-8b26cdcb660d",
   "metadata": {},
   "outputs": [],
   "source": [
    "dfsuz1 = pd.concat([dfsuz1, dfsuz2])\n",
    "dfsuz1 = dfsuz1[dfsuz1.peaksxtra.apply(lambda x: x[1]<560)]\n",
    "dfsuz1 = dfsuz1[dfsuz1.peaksxtra.apply(lambda x: x[0]>130)]\n",
    "\n",
    "dfmel1 = pd.concat([dfmel1,dfmel2])\n",
    "dfmel1 = dfmel1[dfmel1.peaksxtra.apply(lambda x: x[1]<560)]\n",
    "dfmel1 = dfmel1[dfmel1.peaksxtra.apply(lambda x: x[0]>130)]\n",
    "\n",
    "srsmel1 = dfmel1.peaksxtra.apply(lambda x: (x[0],x[1]))\n",
    "srssuz1 = dfsuz1.peaksxtra.apply(lambda x: (x[0],x[1]))"
   ]
  },
  {
   "cell_type": "code",
   "execution_count": 40,
   "id": "f3bf39d2-b5c0-4c24-a7d5-71038e6b54f7",
   "metadata": {},
   "outputs": [],
   "source": [
    "dfm = pd.DataFrame({\"mel1\": srsmel1.apply(lambda x: x[0]), \"mel2\": srsmel1.apply(lambda x: x[1])})\n",
    "dfm = pd.concat([dfm['mel1'], dfm['mel2']]).reset_index(drop=True)\n",
    "dfs = pd.DataFrame({\"suz1\": srssuz1.apply(lambda x: x[0]), \"suz2\": srssuz1.apply(lambda x: x[1])})\n",
    "dfs = pd.concat([dfs['suz1'], dfs['suz2']]).sample(len(dfm)).reset_index(drop=True)"
   ]
  },
  {
   "cell_type": "code",
   "execution_count": 43,
   "id": "43a13b7f-242a-40a2-a880-76ab9469882b",
   "metadata": {},
   "outputs": [
    {
     "data": {
      "image/png": "[encoded data removed]",
      "text/plain": [
       "<Figure size 432x288 with 1 Axes>"
      ]
     },
     "metadata": {
      "needs_background": "light"
     },
     "output_type": "display_data"
    }
   ],
   "source": [
    "import seaborn as sns\n",
    "\n",
    "df = pd.concat([dfm,dfs],axis=1); df.columns=['Melanogaster','Suzukii']\n",
    "sns.histplot(df, stat='density', element='poly', palette=sns.color_palette(\"colorblind\", n_colors=2), bins=70, alpha=.5);\n",
    "plt.savefig(\"/home/kalfasyan/Dropbox/kuleuven/paper2_figures/mainwbf.pdf\", format='pdf', bbox_inches='tight')"
   ]
  },
  {
   "cell_type": "code",
   "execution_count": 38,
   "id": "fe25e90f-b249-4d21-9420-c3c9a083de2e",
   "metadata": {},
   "outputs": [
    {
     "data": {
      "text/plain": [
       "558"
      ]
     },
     "execution_count": 38,
     "metadata": {},
     "output_type": "execute_result"
    }
   ],
   "source": [
    "dfm.max()"
   ]
  },
  {
   "cell_type": "code",
   "execution_count": null,
   "id": "021d03f8-dce9-4190-b1d8-7d7bb4f1ca9e",
   "metadata": {},
   "outputs": [],
   "source": []
  },
  {
   "cell_type": "code",
   "execution_count": null,
   "id": "a4bfbb07-18ba-444f-9fed-9b67887d5abc",
   "metadata": {},
   "outputs": [],
   "source": []
  },
  {
   "cell_type": "code",
   "execution_count": null,
   "id": "fd97d8e0-b410-454e-9c30-7a2ef1cf12a2",
   "metadata": {},
   "outputs": [],
   "source": []
  },
  {
   "cell_type": "code",
   "execution_count": null,
   "id": "1ee9a730-526c-4879-8ee9-9d97ec832fef",
   "metadata": {},
   "outputs": [],
   "source": []
  },
  {
   "cell_type": "code",
   "execution_count": null,
   "id": "a82aea2b-c712-40e5-a2c5-ce347d80e157",
   "metadata": {},
   "outputs": [],
   "source": []
  },
  {
   "cell_type": "code",
   "execution_count": null,
   "id": "5dabe51b-521c-4917-82a7-02a8f487a6ea",
   "metadata": {},
   "outputs": [],
   "source": []
  },
  {
   "cell_type": "code",
   "execution_count": 67,
   "id": "e101d23e-3001-45b3-b8a5-f929c72cbf0d",
   "metadata": {},
   "outputs": [
    {
     "data": {
      "image/png": "[encoded data removed]",
      "text/plain": [
       "<Figure size 1440x864 with 1 Axes>"
      ]
     },
     "metadata": {},
     "output_type": "display_data"
    }
   ],
   "source": [
    "import seaborn as sns\n",
    "sns.set(font_scale=1.5)\n",
    "sns.set_style(\"white\")\n",
    "import matplotlib as mpl\n",
    "mpl.rcParams['axes.spines.right'] = False\n",
    "mpl.rcParams['axes.spines.top'] = False\n",
    "\n",
    "plt.figure(figsize=(20,12))\n",
    "plt.plot(dmel1.psds[54][0].T);"
   ]
  }
 ],
 "metadata": {
  "kernelspec": {
   "display_name": "Python 3.6.12 64-bit ('wbai': conda)",
   "language": "python",
   "name": "python361264bitwbaiconda266a283de1054ff0a4833719d03ff907"
  },
  "language_info": {
   "codemirror_mode": {
    "name": "ipython",
    "version": 3
   },
   "file_extension": ".py",
   "mimetype": "text/x-python",
   "name": "python",
   "nbconvert_exporter": "python",
   "pygments_lexer": "ipython3",
   "version": "3.8.10"
  }
 },
 "nbformat": 4,
 "nbformat_minor": 5
}
