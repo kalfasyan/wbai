{
 "cells": [
  {
   "cell_type": "code",
   "execution_count": 1,
   "id": "c65ae255-2c6c-4a2f-bc1c-c49a48d9bfc1",
   "metadata": {},
   "outputs": [],
   "source": [
    "%reset -f\n",
    "%reload_ext autoreload\n",
    "%autoreload 2\n",
    "%matplotlib inline\n",
    "%config Completer.use_jedi = False"
   ]
  },
  {
   "cell_type": "code",
   "execution_count": 2,
   "id": "081b6d09-2aea-4165-befc-a9baa8d98ac4",
   "metadata": {},
   "outputs": [
    {
     "name": "stdout",
     "output_type": "stream",
     "text": [
      "Available workers: 16\n"
     ]
    }
   ],
   "source": [
    "import sys\n",
    "sys.path.insert(0,\"..\")\n",
    "from tqdm import tqdm\n",
    "# from tqdm.notebook import tqdm as tqdm\n",
    "import numpy as np\n",
    "import pandas as pd\n",
    "import torch\n",
    "torch.backends.cudnn.benchmark = True\n",
    "torch.manual_seed(42)\n",
    "import torch.nn as nn\n",
    "import torch.optim as optim\n",
    "import torchaudio\n",
    "from torch.utils.data import Dataset, ConcatDataset\n",
    "from torch.utils.data.sampler import SubsetRandomSampler\n",
    "from torchvision import datasets, transforms\n",
    "torchaudio.set_audio_backend('soundfile')\n",
    "import os\n",
    "import random\n",
    "from pathlib import Path\n",
    "from IPython.display import Audio\n",
    "from sklearn.preprocessing import LabelEncoder\n",
    "\n",
    "import matplotlib.pyplot as plt\n",
    "import psutil\n",
    "import requests\n",
    "from sklearn.model_selection import train_test_split\n",
    "from utils import *\n",
    "from datasets import *\n",
    "from models import *\n",
    "from transforms import *\n",
    "from sklearn.metrics import confusion_matrix, balanced_accuracy_score\n",
    "import  seaborn as sns"
   ]
  },
  {
   "cell_type": "code",
   "execution_count": 3,
   "id": "eca01920-ad89-4e78-baf5-4470743e7474",
   "metadata": {},
   "outputs": [],
   "source": [
    "num_epochs = 35\n",
    "batch_size = 64\n",
    "batch_size_val = 64\n",
    "validation_split = .3\n",
    "shuffle_dataset = True\n",
    "num_workers = 4\n",
    "random_seed= 42\n",
    "setting = 'raw'\n",
    "modeltype = 'conv1draw'"
   ]
  },
  {
   "cell_type": "code",
   "execution_count": 4,
   "id": "64647145-4c0f-48d4-acb0-3a5f63bcd3f7",
   "metadata": {},
   "outputs": [],
   "source": [
    "outs = 6\n",
    "if modeltype == 'conv1draw':\n",
    "    model = Conv1dNetRAW(outputs=outs, dropout_p=.2)\n",
    "elif modeltype == 'inception':\n",
    "    model = nn.Sequential(\n",
    "                    InceptionBlock(\n",
    "                        in_channels=1, \n",
    "                        n_filters=32, \n",
    "                        kernel_sizes=[5, 11, 23],\n",
    "                        bottleneck_channels=32,\n",
    "                        use_residual=True,\n",
    "                        activation=nn.ReLU()\n",
    "                    ),\n",
    "                    InceptionBlock(\n",
    "                        in_channels=32*4, \n",
    "                        n_filters=32, \n",
    "                        kernel_sizes=[5, 11, 23],\n",
    "                        bottleneck_channels=32,\n",
    "                        use_residual=True,\n",
    "                        activation=nn.ReLU()\n",
    "                    ),\n",
    "                    nn.AdaptiveAvgPool1d(output_size=1),\n",
    "                    Flatten(out_features=32*4*1),\n",
    "                    nn.Linear(in_features=4*32*1, out_features=outs))"
   ]
  },
  {
   "cell_type": "code",
   "execution_count": 5,
   "id": "7adbed2f-d761-4902-842b-5c6b60380a03",
   "metadata": {},
   "outputs": [],
   "source": [
    "optimizer = optim.Adam(model.parameters(), lr=0.001, eps=1e-3, amsgrad=True)\n",
    "\n",
    "model, optimizer = load_checkpoint(f'{BASE_DATACREATEDDIR}/mosquito_model_best.pth.tar', model, optimizer)"
   ]
  },
  {
   "cell_type": "code",
   "execution_count": 6,
   "id": "43cdeb11-bacc-491d-8e8a-ecdee71d19dc",
   "metadata": {},
   "outputs": [],
   "source": [
    "outs=2\n",
    "for param in model.parameters():\n",
    "    param.requires_grad = False\n",
    "    \n",
    "num_ftrs = model.fc1.in_features\n",
    "model.fc1 = nn.Linear(num_ftrs, outs)\n",
    "\n",
    "model = model.to('cuda', dtype=torch.float)\n",
    "\n",
    "optimizer = optim.Adam(model.parameters(), lr=0.001, eps=1e-3, amsgrad=True)\n",
    "scheduler = torch.optim.lr_scheduler.CyclicLR(optimizer, base_lr=0.0001, max_lr=0.01, cycle_momentum=False, mode=\"triangular\")\n",
    "# early_stopping = EarlyStopping(patience=10, verbose=1)\n",
    "\n",
    "if outs == 1:\n",
    "    criterion = torch.nn.BCEWithLogitsLoss()\n",
    "elif outs > 1:\n",
    "    criterion = nn.CrossEntropyLoss()"
   ]
  },
  {
   "cell_type": "markdown",
   "id": "d833e870-5654-4cf2-b07d-88ae4513feca",
   "metadata": {},
   "source": [
    "## Data Loading"
   ]
  },
  {
   "cell_type": "code",
   "execution_count": 7,
   "id": "7d661e7d-0349-4eaf-a03f-9e4cb31c5790",
   "metadata": {},
   "outputs": [],
   "source": [
    "train_df = pd.read_parquet('../data_created/suzmel_train.parquet')\n",
    "test_df = pd.read_parquet('../data_created/suzmel_test.parquet')\n",
    "\n",
    "transforms_list_train = [Bandpass(), RandomRoll() ,RandomFlip()]#, RandomNoise(), RandomRoll()]\n",
    "transforms_list_test = [Bandpass()]\n"
   ]
  },
  {
   "cell_type": "code",
   "execution_count": 8,
   "id": "258314b4-f75b-476c-8d4a-f86ba2987259",
   "metadata": {},
   "outputs": [],
   "source": [
    "X, y = train_df.iloc[:, 0], train_df.iloc[:, 1]\n",
    "X_train, X_valid, y_train, y_valid = train_test_split(X, y, test_size=0.13, shuffle=True, random_state=42, stratify=y)\n",
    "X_test, y_test = test_df.iloc[:,0], test_df.iloc[:,1]\n",
    "\n",
    "train_dataset = DataFrameset(pd.concat([X_train, y_train], axis=1), transform=transforms.Compose(transforms_list_train))\n",
    "valid_dataset = DataFrameset(pd.concat([X_valid, y_valid], axis=1), transform=transforms.Compose(transforms_list_test))\n",
    "test_dataset = DataFrameset(pd.concat([X_test, y_test], axis=1), transform=transforms.Compose(transforms_list_test))\n",
    "\n",
    "train_dataloader = DataLoader(train_dataset, batch_size=batch_size, shuffle=True, num_workers=4, pin_memory=True, worker_init_fn=worker_init_fn)\n",
    "valid_dataloader = DataLoader(valid_dataset, batch_size=batch_size_val, shuffle=True, num_workers=4, pin_memory=True, worker_init_fn=worker_init_fn)\n",
    "test_dataloader = DataLoader(test_dataset, batch_size=batch_size_val, shuffle=False, num_workers=4, pin_memory=True, worker_init_fn=worker_init_fn)"
   ]
  },
  {
   "cell_type": "markdown",
   "id": "4eb05afd-76e6-475a-9b0d-1d1cdaa49942",
   "metadata": {},
   "source": [
    "## Training"
   ]
  },
  {
   "cell_type": "code",
   "execution_count": 9,
   "id": "5442aa2c-4ea0-45d3-833c-f124f586738c",
   "metadata": {},
   "outputs": [
    {
     "name": "stderr",
     "output_type": "stream",
     "text": [
      "Training..\t: 100%|██████████| 377/377 [00:06<00:00, 57.12it/s]\n",
      "Validating..\t: 100%|██████████| 57/57 [00:01<00:00, 56.78it/s]\n"
     ]
    },
    {
     "name": "stdout",
     "output_type": "stream",
     "text": [
      "Epoch 0: train_acc: 79.7% loss: 0.4224440,  val_loss: 0.4487791 val_acc: 82.7%\n",
      "Validation accuracy improved from 0.00 to 82.70. Saving model..\n"
     ]
    },
    {
     "name": "stderr",
     "output_type": "stream",
     "text": [
      "Training..\t: 100%|██████████| 377/377 [00:05<00:00, 63.80it/s]\n",
      "Validating..\t: 100%|██████████| 57/57 [00:00<00:00, 59.09it/s]\n"
     ]
    },
    {
     "name": "stdout",
     "output_type": "stream",
     "text": [
      "Epoch 1: train_acc: 82.6% loss: 0.6429533,  val_loss: 0.7039512 val_acc: 83.7%\n",
      "Validation accuracy improved from 82.70 to 83.73. Saving model..\n"
     ]
    },
    {
     "name": "stderr",
     "output_type": "stream",
     "text": [
      "Training..\t: 100%|██████████| 377/377 [00:05<00:00, 63.56it/s]\n",
      "Validating..\t: 100%|██████████| 57/57 [00:00<00:00, 58.43it/s]\n"
     ]
    },
    {
     "name": "stdout",
     "output_type": "stream",
     "text": [
      "Epoch 2: train_acc: 83.9% loss: 0.6060840,  val_loss: 0.2805285 val_acc: 83.8%\n",
      "Validation accuracy improved from 83.73 to 83.76. Saving model..\n"
     ]
    },
    {
     "name": "stderr",
     "output_type": "stream",
     "text": [
      "Training..\t: 100%|██████████| 377/377 [00:06<00:00, 59.87it/s]\n",
      "Validating..\t: 100%|██████████| 57/57 [00:00<00:00, 58.12it/s]\n"
     ]
    },
    {
     "name": "stdout",
     "output_type": "stream",
     "text": [
      "Epoch 3: train_acc: 84.2% loss: 0.3241203,  val_loss: 0.2525963 val_acc: 84.5%\n",
      "Validation accuracy improved from 83.76 to 84.48. Saving model..\n"
     ]
    },
    {
     "name": "stderr",
     "output_type": "stream",
     "text": [
      "Training..\t: 100%|██████████| 377/377 [00:05<00:00, 63.08it/s]\n",
      "Validating..\t: 100%|██████████| 57/57 [00:01<00:00, 56.15it/s]\n"
     ]
    },
    {
     "name": "stdout",
     "output_type": "stream",
     "text": [
      "Epoch 4: train_acc: 84.9% loss: 0.3210216,  val_loss: 0.3852542 val_acc: 85.1%\n",
      "Validation accuracy improved from 84.48 to 85.12. Saving model..\n"
     ]
    },
    {
     "name": "stderr",
     "output_type": "stream",
     "text": [
      "Training..\t: 100%|██████████| 377/377 [00:05<00:00, 63.31it/s]\n",
      "Validating..\t: 100%|██████████| 57/57 [00:00<00:00, 58.74it/s]\n"
     ]
    },
    {
     "name": "stdout",
     "output_type": "stream",
     "text": [
      "Epoch 5: train_acc: 85.3% loss: 0.2872152,  val_loss: 0.2993922 val_acc: 85.9%\n",
      "Validation accuracy improved from 85.12 to 85.87. Saving model..\n"
     ]
    },
    {
     "name": "stderr",
     "output_type": "stream",
     "text": [
      "Training..\t: 100%|██████████| 377/377 [00:05<00:00, 63.04it/s]\n",
      "Validating..\t: 100%|██████████| 57/57 [00:00<00:00, 57.71it/s]\n"
     ]
    },
    {
     "name": "stdout",
     "output_type": "stream",
     "text": [
      "Epoch 6: train_acc: 85.7% loss: 0.2865900,  val_loss: 0.3170904 val_acc: 85.7%\n"
     ]
    },
    {
     "name": "stderr",
     "output_type": "stream",
     "text": [
      "Training..\t: 100%|██████████| 377/377 [00:06<00:00, 62.54it/s]\n",
      "Validating..\t: 100%|██████████| 57/57 [00:00<00:00, 57.45it/s]\n"
     ]
    },
    {
     "name": "stdout",
     "output_type": "stream",
     "text": [
      "Epoch 7: train_acc: 85.7% loss: 0.2681815,  val_loss: 0.6268072 val_acc: 85.8%\n"
     ]
    },
    {
     "name": "stderr",
     "output_type": "stream",
     "text": [
      "Training..\t: 100%|██████████| 377/377 [00:05<00:00, 63.57it/s]\n",
      "Validating..\t: 100%|██████████| 57/57 [00:00<00:00, 57.72it/s]\n"
     ]
    },
    {
     "name": "stdout",
     "output_type": "stream",
     "text": [
      "Epoch 8: train_acc: 85.9% loss: 0.2399020,  val_loss: 0.7340786 val_acc: 86.1%\n",
      "Validation accuracy improved from 85.87 to 86.12. Saving model..\n"
     ]
    },
    {
     "name": "stderr",
     "output_type": "stream",
     "text": [
      "Training..\t: 100%|██████████| 377/377 [00:05<00:00, 63.24it/s]\n",
      "Validating..\t: 100%|██████████| 57/57 [00:00<00:00, 57.01it/s]\n"
     ]
    },
    {
     "name": "stdout",
     "output_type": "stream",
     "text": [
      "Epoch 9: train_acc: 85.8% loss: 0.3320285,  val_loss: 0.3461214 val_acc: 86.5%\n",
      "Validation accuracy improved from 86.12 to 86.48. Saving model..\n"
     ]
    },
    {
     "name": "stderr",
     "output_type": "stream",
     "text": [
      "Training..\t: 100%|██████████| 377/377 [00:06<00:00, 62.62it/s]\n",
      "Validating..\t: 100%|██████████| 57/57 [00:01<00:00, 56.33it/s]\n"
     ]
    },
    {
     "name": "stdout",
     "output_type": "stream",
     "text": [
      "Epoch 10: train_acc: 86.1% loss: 0.3986571,  val_loss: 0.3219432 val_acc: 86.2%\n"
     ]
    },
    {
     "name": "stderr",
     "output_type": "stream",
     "text": [
      "Training..\t: 100%|██████████| 377/377 [00:05<00:00, 63.19it/s]\n",
      "Validating..\t: 100%|██████████| 57/57 [00:00<00:00, 57.07it/s]\n"
     ]
    },
    {
     "name": "stdout",
     "output_type": "stream",
     "text": [
      "Epoch 11: train_acc: 86.0% loss: 0.2340779,  val_loss: 0.3574805 val_acc: 86.8%\n",
      "Validation accuracy improved from 86.48 to 86.76. Saving model..\n"
     ]
    },
    {
     "name": "stderr",
     "output_type": "stream",
     "text": [
      "Training..\t: 100%|██████████| 377/377 [00:05<00:00, 63.23it/s]\n",
      "Validating..\t: 100%|██████████| 57/57 [00:00<00:00, 58.10it/s]\n"
     ]
    },
    {
     "name": "stdout",
     "output_type": "stream",
     "text": [
      "Epoch 12: train_acc: 86.2% loss: 0.2571208,  val_loss: 0.1991973 val_acc: 86.5%\n"
     ]
    },
    {
     "name": "stderr",
     "output_type": "stream",
     "text": [
      "Training..\t: 100%|██████████| 377/377 [00:05<00:00, 63.21it/s]\n",
      "Validating..\t: 100%|██████████| 57/57 [00:00<00:00, 57.69it/s]\n"
     ]
    },
    {
     "name": "stdout",
     "output_type": "stream",
     "text": [
      "Epoch 13: train_acc: 86.6% loss: 0.2882986,  val_loss: 0.3459485 val_acc: 87.1%\n",
      "Validation accuracy improved from 86.76 to 87.06. Saving model..\n"
     ]
    },
    {
     "name": "stderr",
     "output_type": "stream",
     "text": [
      "Training..\t: 100%|██████████| 377/377 [00:05<00:00, 63.07it/s]\n",
      "Validating..\t: 100%|██████████| 57/57 [00:00<00:00, 57.87it/s]\n"
     ]
    },
    {
     "name": "stdout",
     "output_type": "stream",
     "text": [
      "Epoch 14: train_acc: 86.5% loss: 0.2020562,  val_loss: 0.3848433 val_acc: 87.0%\n"
     ]
    },
    {
     "name": "stderr",
     "output_type": "stream",
     "text": [
      "Training..\t: 100%|██████████| 377/377 [00:06<00:00, 62.51it/s]\n",
      "Validating..\t: 100%|██████████| 57/57 [00:00<00:00, 58.02it/s]\n"
     ]
    },
    {
     "name": "stdout",
     "output_type": "stream",
     "text": [
      "Epoch 15: train_acc: 86.5% loss: 0.3554147,  val_loss: 0.1436121 val_acc: 86.7%\n"
     ]
    },
    {
     "name": "stderr",
     "output_type": "stream",
     "text": [
      "Training..\t: 100%|██████████| 377/377 [00:05<00:00, 62.84it/s]\n",
      "Validating..\t: 100%|██████████| 57/57 [00:01<00:00, 56.45it/s]\n"
     ]
    },
    {
     "name": "stdout",
     "output_type": "stream",
     "text": [
      "Epoch 16: train_acc: 86.6% loss: 0.3005840,  val_loss: 0.2499464 val_acc: 86.9%\n"
     ]
    },
    {
     "name": "stderr",
     "output_type": "stream",
     "text": [
      "Training..\t: 100%|██████████| 377/377 [00:05<00:00, 63.18it/s]\n",
      "Validating..\t: 100%|██████████| 57/57 [00:00<00:00, 58.22it/s]\n"
     ]
    },
    {
     "name": "stdout",
     "output_type": "stream",
     "text": [
      "Epoch 17: train_acc: 86.2% loss: 0.2146599,  val_loss: 0.3243809 val_acc: 87.2%\n",
      "Validation accuracy improved from 87.06 to 87.20. Saving model..\n"
     ]
    },
    {
     "name": "stderr",
     "output_type": "stream",
     "text": [
      "Training..\t: 100%|██████████| 377/377 [00:06<00:00, 62.72it/s]\n",
      "Validating..\t: 100%|██████████| 57/57 [00:00<00:00, 57.43it/s]\n"
     ]
    },
    {
     "name": "stdout",
     "output_type": "stream",
     "text": [
      "Epoch 18: train_acc: 86.7% loss: 0.4130803,  val_loss: 0.1365829 val_acc: 87.3%\n",
      "Validation accuracy improved from 87.20 to 87.26. Saving model..\n"
     ]
    },
    {
     "name": "stderr",
     "output_type": "stream",
     "text": [
      "Training..\t: 100%|██████████| 377/377 [00:06<00:00, 62.80it/s]\n",
      "Validating..\t: 100%|██████████| 57/57 [00:00<00:00, 57.73it/s]\n"
     ]
    },
    {
     "name": "stdout",
     "output_type": "stream",
     "text": [
      "Epoch 19: train_acc: 86.7% loss: 0.3448161,  val_loss: 0.3441311 val_acc: 87.0%\n"
     ]
    },
    {
     "name": "stderr",
     "output_type": "stream",
     "text": [
      "Training..\t: 100%|██████████| 377/377 [00:05<00:00, 62.89it/s]\n",
      "Validating..\t: 100%|██████████| 57/57 [00:00<00:00, 57.67it/s]\n"
     ]
    },
    {
     "name": "stdout",
     "output_type": "stream",
     "text": [
      "Epoch 20: train_acc: 86.6% loss: 0.3231362,  val_loss: 0.3570566 val_acc: 87.3%\n"
     ]
    },
    {
     "name": "stderr",
     "output_type": "stream",
     "text": [
      "Training..\t: 100%|██████████| 377/377 [00:06<00:00, 62.81it/s]\n",
      "Validating..\t: 100%|██████████| 57/57 [00:00<00:00, 57.53it/s]\n"
     ]
    },
    {
     "name": "stdout",
     "output_type": "stream",
     "text": [
      "Epoch 21: train_acc: 86.8% loss: 0.3517003,  val_loss: 0.2854388 val_acc: 86.9%\n"
     ]
    },
    {
     "name": "stderr",
     "output_type": "stream",
     "text": [
      "Training..\t: 100%|██████████| 377/377 [00:05<00:00, 62.87it/s]\n",
      "Validating..\t: 100%|██████████| 57/57 [00:00<00:00, 57.89it/s]\n"
     ]
    },
    {
     "name": "stdout",
     "output_type": "stream",
     "text": [
      "Epoch 22: train_acc: 87.0% loss: 0.2263359,  val_loss: 0.3540784 val_acc: 87.2%\n"
     ]
    },
    {
     "name": "stderr",
     "output_type": "stream",
     "text": [
      "Training..\t: 100%|██████████| 377/377 [00:06<00:00, 62.53it/s]\n",
      "Validating..\t: 100%|██████████| 57/57 [00:00<00:00, 57.80it/s]\n",
      "Training..\t:   0%|          | 0/377 [00:00<?, ?it/s]"
     ]
    },
    {
     "name": "stdout",
     "output_type": "stream",
     "text": [
      "Epoch 23: train_acc: 86.8% loss: 0.3735074,  val_loss: 0.3533736 val_acc: 87.3%\n"
     ]
    },
    {
     "name": "stderr",
     "output_type": "stream",
     "text": [
      "Training..\t: 100%|██████████| 377/377 [00:06<00:00, 62.36it/s]\n",
      "Validating..\t: 100%|██████████| 57/57 [00:00<00:00, 57.81it/s]\n"
     ]
    },
    {
     "name": "stdout",
     "output_type": "stream",
     "text": [
      "Epoch 24: train_acc: 86.5% loss: 0.3092632,  val_loss: 0.3695936 val_acc: 87.2%\n"
     ]
    },
    {
     "name": "stderr",
     "output_type": "stream",
     "text": [
      "Training..\t: 100%|██████████| 377/377 [00:06<00:00, 62.58it/s]\n",
      "Validating..\t: 100%|██████████| 57/57 [00:00<00:00, 57.42it/s]\n"
     ]
    },
    {
     "name": "stdout",
     "output_type": "stream",
     "text": [
      "Epoch 25: train_acc: 86.6% loss: 0.2304866,  val_loss: 0.5171823 val_acc: 87.6%\n",
      "Validation accuracy improved from 87.26 to 87.62. Saving model..\n"
     ]
    },
    {
     "name": "stderr",
     "output_type": "stream",
     "text": [
      "Training..\t: 100%|██████████| 377/377 [00:06<00:00, 62.24it/s]\n",
      "Validating..\t: 100%|██████████| 57/57 [00:00<00:00, 57.75it/s]\n"
     ]
    },
    {
     "name": "stdout",
     "output_type": "stream",
     "text": [
      "Epoch 26: train_acc: 86.7% loss: 0.1764176,  val_loss: 0.4814872 val_acc: 87.3%\n"
     ]
    },
    {
     "name": "stderr",
     "output_type": "stream",
     "text": [
      "Training..\t: 100%|██████████| 377/377 [00:05<00:00, 62.84it/s]\n",
      "Validating..\t: 100%|██████████| 57/57 [00:01<00:00, 55.79it/s]\n"
     ]
    },
    {
     "name": "stdout",
     "output_type": "stream",
     "text": [
      "Epoch 27: train_acc: 86.6% loss: 0.3652677,  val_loss: 0.3129235 val_acc: 87.0%\n"
     ]
    },
    {
     "name": "stderr",
     "output_type": "stream",
     "text": [
      "Training..\t: 100%|██████████| 377/377 [00:06<00:00, 62.64it/s]\n",
      "Validating..\t: 100%|██████████| 57/57 [00:00<00:00, 57.11it/s]\n"
     ]
    },
    {
     "name": "stdout",
     "output_type": "stream",
     "text": [
      "Epoch 28: train_acc: 86.8% loss: 0.4395269,  val_loss: 0.1913311 val_acc: 87.5%\n"
     ]
    },
    {
     "name": "stderr",
     "output_type": "stream",
     "text": [
      "Training..\t: 100%|██████████| 377/377 [00:06<00:00, 62.32it/s]\n",
      "Validating..\t: 100%|██████████| 57/57 [00:00<00:00, 57.78it/s]\n"
     ]
    },
    {
     "name": "stdout",
     "output_type": "stream",
     "text": [
      "Epoch 29: train_acc: 86.7% loss: 0.3292819,  val_loss: 0.4274959 val_acc: 87.7%\n",
      "Validation accuracy improved from 87.62 to 87.70. Saving model..\n"
     ]
    },
    {
     "name": "stderr",
     "output_type": "stream",
     "text": [
      "Training..\t: 100%|██████████| 377/377 [00:06<00:00, 62.51it/s]\n",
      "Validating..\t: 100%|██████████| 57/57 [00:01<00:00, 56.49it/s]\n"
     ]
    },
    {
     "name": "stdout",
     "output_type": "stream",
     "text": [
      "Epoch 30: train_acc: 86.9% loss: 0.2410693,  val_loss: 0.2084381 val_acc: 87.4%\n"
     ]
    },
    {
     "name": "stderr",
     "output_type": "stream",
     "text": [
      "Training..\t: 100%|██████████| 377/377 [00:06<00:00, 62.62it/s]\n",
      "Validating..\t: 100%|██████████| 57/57 [00:00<00:00, 57.43it/s]\n"
     ]
    },
    {
     "name": "stdout",
     "output_type": "stream",
     "text": [
      "Epoch 31: train_acc: 87.0% loss: 0.4580456,  val_loss: 0.1549955 val_acc: 87.3%\n"
     ]
    },
    {
     "name": "stderr",
     "output_type": "stream",
     "text": [
      "Training..\t: 100%|██████████| 377/377 [00:06<00:00, 62.35it/s]\n",
      "Validating..\t: 100%|██████████| 57/57 [00:01<00:00, 56.60it/s]\n"
     ]
    },
    {
     "name": "stdout",
     "output_type": "stream",
     "text": [
      "Epoch 32: train_acc: 86.9% loss: 0.1918588,  val_loss: 0.2634807 val_acc: 87.5%\n"
     ]
    },
    {
     "name": "stderr",
     "output_type": "stream",
     "text": [
      "Training..\t: 100%|██████████| 377/377 [00:06<00:00, 62.09it/s]\n",
      "Validating..\t: 100%|██████████| 57/57 [00:00<00:00, 57.19it/s]\n"
     ]
    },
    {
     "name": "stdout",
     "output_type": "stream",
     "text": [
      "Epoch 33: train_acc: 87.1% loss: 0.1891162,  val_loss: 0.4563924 val_acc: 87.5%\n"
     ]
    },
    {
     "name": "stderr",
     "output_type": "stream",
     "text": [
      "Training..\t: 100%|██████████| 377/377 [00:06<00:00, 62.22it/s]\n",
      "Validating..\t: 100%|██████████| 57/57 [00:00<00:00, 57.40it/s]\n"
     ]
    },
    {
     "name": "stdout",
     "output_type": "stream",
     "text": [
      "Epoch 34: train_acc: 86.7% loss: 0.2947086,  val_loss: 0.2443962 val_acc: 87.4%\n"
     ]
    }
   ],
   "source": [
    "results = {\"loss\":[], \"val_loss\":[], \"train_accuracy\":[], \"valid_accuracy\":[]}\n",
    "best_valacc = 0\n",
    "\n",
    "# Model training\n",
    "for epoch in range(num_epochs):\n",
    "    # Going through the training set\n",
    "    correct_train = 0\n",
    "    model.train()\n",
    "    for x_batch,y_batch,_,_ in tqdm(train_dataloader, desc='Training..\\t'):        \n",
    "        y_batch = torch.as_tensor(y_batch).type(torch.LongTensor)\n",
    "        x_batch,y_batch = x_batch.cuda(), y_batch.cuda()\n",
    "        for param in model.parameters():\n",
    "            param.grad = None\n",
    "        pred = model(x_batch)\n",
    "        if outs == 1:\n",
    "            y_batch = y_batch.type(torch.FloatTensor).cuda()\n",
    "            correct_train += ((pred>0.5).int().squeeze() == y_batch.squeeze()).float().sum().item()\n",
    "            loss = criterion(pred, y_batch.unsqueeze(1))\n",
    "        elif outs == 2:\n",
    "            y_batch = y_batch.type(torch.LongTensor).cuda()\n",
    "            correct_train += (pred.argmax(axis=1) == y_batch).float().sum().item()\n",
    "            loss = criterion(pred, y_batch)\n",
    "        loss.backward()\n",
    "        optimizer.step()\n",
    "    train_accuracy = correct_train / len(train_dataset) * 100.\n",
    "    \n",
    "    # Going through the validation set\n",
    "    correct_valid = 0\n",
    "    model.eval()\n",
    "    for x_batch,y_batch,_,_ in tqdm(valid_dataloader, desc='Validating..\\t'):\n",
    "        y_batch = torch.as_tensor(y_batch)\n",
    "        x_batch,y_batch = x_batch.cuda(), y_batch.cuda()\n",
    "        pred = model(x_batch)\n",
    "        if outs == 1:\n",
    "            y_batch = y_batch.type(torch.FloatTensor).cuda()\n",
    "            correct_valid += ((pred>0.5).int().squeeze().cuda() == y_batch.squeeze()).float().sum().item()\n",
    "            val_loss = criterion(pred, y_batch.unsqueeze(1))\n",
    "        elif outs == 2:\n",
    "            y_batch = y_batch.type(torch.LongTensor).cuda()\n",
    "            correct_valid += (pred.argmax(axis=1) == y_batch).float().sum().item()\n",
    "            val_loss = criterion(pred, y_batch)\n",
    "    valid_accuracy = correct_valid / len(valid_dataset) * 100.\n",
    "\n",
    "    scheduler.step()\n",
    "#     early_stopping(val_loss, model)\n",
    "#     if early_stopping.early_stop:\n",
    "#         print(\"Early stopping\")\n",
    "#         break\n",
    "\n",
    "        # Printing results\n",
    "    print(f\"Epoch {epoch}: train_acc: {train_accuracy:.1f}% loss: {loss:.7f},  val_loss: {val_loss:.7f} val_acc: {valid_accuracy:.1f}%\")\n",
    "        \n",
    "    is_best = valid_accuracy > best_valacc\n",
    "    if is_best:\n",
    "        print(f\"Validation accuracy improved from {best_valacc:.2f} to {valid_accuracy:.2f}. Saving model..\")\n",
    "    best_valacc = max(valid_accuracy, best_valacc)\n",
    "    save_checkpoint({\n",
    "        'epoch': epoch,\n",
    "        'state_dict': model.state_dict(),\n",
    "        'best_valacc': best_valacc,\n",
    "        'loss': results['loss'].append(loss),\n",
    "        'val_loss': results['val_loss'].append(val_loss),\n",
    "        'train_accuracy': results['train_accuracy'].append(train_accuracy),\n",
    "        'valid_accuracy': results['valid_accuracy'].append(valid_accuracy),\n",
    "        'optimizer' : optimizer.state_dict(),\n",
    "    }, is_best)\n"
   ]
  },
  {
   "cell_type": "markdown",
   "id": "e8cd3da6-5857-4c46-814b-de38dfc0a57f",
   "metadata": {},
   "source": [
    "## Testing on test set"
   ]
  },
  {
   "cell_type": "code",
   "execution_count": 10,
   "id": "7e0a0d98-5544-4c48-9638-88b0b8fbcd7b",
   "metadata": {},
   "outputs": [],
   "source": [
    "model, optimizer = load_checkpoint(f'{BASE_DATACREATEDDIR}/model_best.pth.tar', model, optimizer)"
   ]
  },
  {
   "cell_type": "code",
   "execution_count": 11,
   "id": "e218c103-f412-4203-97da-0acd76ff7d17",
   "metadata": {},
   "outputs": [
    {
     "name": "stderr",
     "output_type": "stream",
     "text": [
      "Testing..\t: 100%|██████████| 368/368 [00:05<00:00, 65.98it/s]\n"
     ]
    },
    {
     "name": "stdout",
     "output_type": "stream",
     "text": [
      "Accuracy: 79.61\n",
      "Balanced accuracy: 77.60\n",
      "Confusion matrix: \n",
      "[[0.62664441 0.37335559]\n",
      " [0.07460115 0.92539885]]\n"
     ]
    }
   ],
   "source": [
    "model = model.to('cuda', dtype=torch.float)\n",
    "\n",
    "_ = test_model(model,test_dataloader, test_dataset)"
   ]
  },
  {
   "cell_type": "markdown",
   "id": "64ab354f-fccc-4e06-90c4-271615153a4f",
   "metadata": {},
   "source": [
    "## Testing on extra mebios data"
   ]
  },
  {
   "cell_type": "code",
   "execution_count": 12,
   "id": "6640be31-c7c2-4d7c-8cb9-17bb201188b2",
   "metadata": {},
   "outputs": [],
   "source": [
    "extra_df = pd.read_parquet('../data_created/suzmel_extra.parquet')\n",
    "X_extra, y_extra = extra_df.iloc[:,0], extra_df.iloc[:,1]\n",
    "\n",
    "extra_dataset = DataFrameset(pd.concat([X_extra, y_extra], axis=1), transform=transforms.Compose(transforms_list_test))\n",
    "extra_dataloader = DataLoader(extra_dataset, batch_size=batch_size_val, shuffle=False, num_workers=4, pin_memory=True, worker_init_fn=worker_init_fn)"
   ]
  },
  {
   "cell_type": "code",
   "execution_count": 13,
   "id": "af50418d-f48c-4f7f-a414-69848ea607ac",
   "metadata": {},
   "outputs": [
    {
     "name": "stderr",
     "output_type": "stream",
     "text": [
      "Testing..\t: 100%|██████████| 317/317 [00:04<00:00, 65.91it/s]"
     ]
    },
    {
     "name": "stdout",
     "output_type": "stream",
     "text": [
      "Accuracy: 93.37\n",
      "Balanced accuracy: 83.41\n",
      "Confusion matrix: \n",
      "[[0.72435897 0.27564103]\n",
      " [0.05613672 0.94386328]]\n"
     ]
    },
    {
     "name": "stderr",
     "output_type": "stream",
     "text": [
      "\n"
     ]
    }
   ],
   "source": [
    "_ = test_model(model,extra_dataloader, extra_dataset)"
   ]
  },
  {
   "cell_type": "code",
   "execution_count": null,
   "id": "697b355e-385b-46f8-af25-bd682280dfa6",
   "metadata": {},
   "outputs": [],
   "source": []
  },
  {
   "cell_type": "code",
   "execution_count": null,
   "id": "ed1dc08d-5357-4199-b7cc-e373b39ad076",
   "metadata": {},
   "outputs": [],
   "source": []
  },
  {
   "cell_type": "code",
   "execution_count": null,
   "id": "c46c7676-edf5-4709-9398-40691d44ebe3",
   "metadata": {},
   "outputs": [],
   "source": []
  }
 ],
 "metadata": {
  "kernelspec": {
   "display_name": "Python 3.6.12 64-bit ('wbai': conda)",
   "language": "python",
   "name": "python361264bitwbaiconda266a283de1054ff0a4833719d03ff907"
  },
  "language_info": {
   "codemirror_mode": {
    "name": "ipython",
    "version": 3
   },
   "file_extension": ".py",
   "mimetype": "text/x-python",
   "name": "python",
   "nbconvert_exporter": "python",
   "pygments_lexer": "ipython3",
   "version": "3.8.10"
  }
 },
 "nbformat": 4,
 "nbformat_minor": 5
}
