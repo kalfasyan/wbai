{
 "cells": [
  {
   "cell_type": "code",
   "execution_count": 1,
   "metadata": {},
   "outputs": [],
   "source": [
    "%reset -f\n",
    "%reload_ext autoreload\n",
    "%autoreload 2\n",
    "%matplotlib inline\n",
    "%config Completer.use_jedi = False"
   ]
  },
  {
   "cell_type": "code",
   "execution_count": 2,
   "metadata": {},
   "outputs": [
    {
     "name": "stdout",
     "output_type": "stream",
     "text": [
      "Available workers: 16\n"
     ]
    }
   ],
   "source": [
    "import sys\n",
    "sys.path.insert(0,\"..\")\n",
    "from tqdm import tqdm\n",
    "# from tqdm.notebook import tqdm as tqdm\n",
    "import numpy as np\n",
    "import pandas as pd\n",
    "import torch\n",
    "torch.backends.cudnn.benchmark = True\n",
    "torch.manual_seed(42)\n",
    "import torch.nn as nn\n",
    "import torch.optim as optim\n",
    "import torchaudio\n",
    "from torch.utils.data import Dataset, ConcatDataset\n",
    "from torch.utils.data.sampler import SubsetRandomSampler\n",
    "from torchvision import datasets, transforms\n",
    "torchaudio.set_audio_backend('soundfile')\n",
    "import os\n",
    "import random\n",
    "from pathlib import Path\n",
    "from IPython.display import Audio\n",
    "from sklearn.preprocessing import LabelEncoder\n",
    "\n",
    "import matplotlib.pyplot as plt\n",
    "import psutil\n",
    "import requests\n",
    "from sklearn.model_selection import train_test_split\n",
    "from utils import *\n",
    "from datasets import *\n",
    "from models import *\n",
    "from transforms import *\n",
    "from sklearn.metrics import confusion_matrix, balanced_accuracy_score\n",
    "import  seaborn as sns"
   ]
  },
  {
   "cell_type": "code",
   "execution_count": 38,
   "metadata": {},
   "outputs": [],
   "source": [
    "num_epochs = 35\n",
    "batch_size = 64\n",
    "batch_size_val = 64\n",
    "validation_split = .3\n",
    "shuffle_dataset = True\n",
    "num_workers = 4\n",
    "random_seed= 42\n",
    "setting = 'raw'\n",
    "modeltype = 'conv1draw'\n",
    "normalize = \"\"#\"sample\"\n",
    "\n",
    "train_df = pd.read_parquet('../data_created/mosq_train.parquet')\n",
    "test_df = pd.read_parquet('../data_created/mosq_test.parquet')\n",
    "\n",
    "transforms_list_train = [Bandpass(), RandomRoll() ,RandomFlip()]#, RandomNoise(), RandomRoll()]\n",
    "transforms_list_test = [Bandpass()]\n"
   ]
  },
  {
   "cell_type": "code",
   "execution_count": 39,
   "metadata": {},
   "outputs": [],
   "source": [
    "le = LabelEncoder()\n",
    "train_df.iloc[:, 1] = le.fit_transform(train_df.iloc[:, 1])\n",
    "X, y = train_df.iloc[:, 0], train_df.iloc[:, 1]\n",
    "X_train, X_valid, y_train, y_valid = train_test_split(X, y, test_size=0.13, shuffle=True, random_state=42, stratify=y)\n",
    "\n",
    "test_df.iloc[:,1] = le.transform(test_df.iloc[:,1])\n",
    "X_test, y_test = test_df.iloc[:,0], test_df.iloc[:,1]\n",
    "\n",
    "train_dataset = DataFrameset(pd.concat([X_train, y_train], axis=1), transform=transforms.Compose(transforms_list_train))\n",
    "valid_dataset = DataFrameset(pd.concat([X_valid, y_valid], axis=1), transform=transforms.Compose(transforms_list_test))\n",
    "test_dataset = DataFrameset(pd.concat([X_test, y_test], axis=1), transform=transforms.Compose(transforms_list_test))\n",
    "\n",
    "train_dataloader = DataLoader(train_dataset, batch_size=batch_size, shuffle=True, num_workers=4, pin_memory=True, worker_init_fn=worker_init_fn)\n",
    "valid_dataloader = DataLoader(valid_dataset, batch_size=batch_size_val, shuffle=True, num_workers=4, pin_memory=True, worker_init_fn=worker_init_fn)\n",
    "test_dataloader = DataLoader(test_dataset, batch_size=batch_size_val, shuffle=False, num_workers=4, pin_memory=True, worker_init_fn=worker_init_fn)"
   ]
  },
  {
   "cell_type": "code",
   "execution_count": 20,
   "metadata": {},
   "outputs": [
    {
     "data": {
      "image/png": "[encoded data removed]",
      "text/plain": [
       "<Figure size 432x288 with 1 Axes>"
      ]
     },
     "metadata": {
      "needs_background": "light"
     },
     "output_type": "display_data"
    }
   ],
   "source": [
    "plot_wingbeat(train_dataset, idx=2)"
   ]
  },
  {
   "cell_type": "code",
   "execution_count": 21,
   "metadata": {},
   "outputs": [],
   "source": [
    "outs = 6\n",
    "if modeltype == 'conv1draw':\n",
    "    model = Conv1dNetRAW(outputs=outs, dropout_p=.2)\n",
    "elif modeltype == 'inception':\n",
    "    model = nn.Sequential(\n",
    "                    InceptionBlock(\n",
    "                        in_channels=1, \n",
    "                        n_filters=32, \n",
    "                        kernel_sizes=[5, 11, 23],\n",
    "                        bottleneck_channels=32,\n",
    "                        use_residual=True,\n",
    "                        activation=nn.ReLU()\n",
    "                    ),\n",
    "                    InceptionBlock(\n",
    "                        in_channels=32*4, \n",
    "                        n_filters=32, \n",
    "                        kernel_sizes=[5, 11, 23],\n",
    "                        bottleneck_channels=32,\n",
    "                        use_residual=True,\n",
    "                        activation=nn.ReLU()\n",
    "                    ),\n",
    "                    nn.AdaptiveAvgPool1d(output_size=1),\n",
    "                    Flatten(out_features=32*4*1),\n",
    "                    nn.Linear(in_features=4*32*1, out_features=outs))\n",
    "\n",
    "class_sample_count = np.unique(y_train, return_counts=True)[1]\n",
    "weight = 1. / class_sample_count    \n",
    "\n",
    "if outs == 1:\n",
    "    criterion = torch.nn.BCEWithLogitsLoss(weight=torch.Tensor(weight).cuda())\n",
    "elif outs > 1:\n",
    "    criterion = nn.CrossEntropyLoss(weight=torch.Tensor(weight).cuda())\n",
    "\n",
    "optimizer = optim.Adam(model.parameters(), lr=0.001, eps=1e-3, amsgrad=True)\n",
    "scheduler = torch.optim.lr_scheduler.CyclicLR(optimizer, base_lr=0.0001, max_lr=0.01, cycle_momentum=False, mode=\"triangular\")\n",
    "# early_stopping = EarlyStopping(patience=10, verbose=1)"
   ]
  },
  {
   "cell_type": "markdown",
   "metadata": {},
   "source": [
    "## Training"
   ]
  },
  {
   "cell_type": "code",
   "execution_count": 23,
   "metadata": {
    "tags": []
   },
   "outputs": [
    {
     "name": "stderr",
     "output_type": "stream",
     "text": [
      "Training..\t:   0%|          | 0/2184 [00:00<?, ?it/s]"
     ]
    },
    {
     "name": "stdout",
     "output_type": "stream",
     "text": [
      "Train on gpu: True\n"
     ]
    },
    {
     "name": "stderr",
     "output_type": "stream",
     "text": [
      "Training..\t: 100%|██████████| 2184/2184 [15:00<00:00,  2.43it/s]\n",
      "Validating..\t: 100%|██████████| 327/327 [02:13<00:00,  2.46it/s]\n"
     ]
    },
    {
     "name": "stdout",
     "output_type": "stream",
     "text": [
      "Epoch 0: train_acc: 71.6% loss: 0.9748032,  val_loss: 0.8501134 val_acc: 63.9%\n",
      "Validation accuracy improved from 0.00 to 63.91. Saving model..\n"
     ]
    },
    {
     "name": "stderr",
     "output_type": "stream",
     "text": [
      "Training..\t: 100%|██████████| 2184/2184 [01:57<00:00, 18.63it/s]\n",
      "Validating..\t: 100%|██████████| 327/327 [00:04<00:00, 67.04it/s]\n"
     ]
    },
    {
     "name": "stdout",
     "output_type": "stream",
     "text": [
      "Epoch 1: train_acc: 77.9% loss: 0.6723859,  val_loss: 1.0059768 val_acc: 65.1%\n",
      "Validation accuracy improved from 63.91 to 65.09. Saving model..\n"
     ]
    },
    {
     "name": "stderr",
     "output_type": "stream",
     "text": [
      "Training..\t: 100%|██████████| 2184/2184 [01:57<00:00, 18.55it/s]\n",
      "Validating..\t: 100%|██████████| 327/327 [00:04<00:00, 67.02it/s]\n"
     ]
    },
    {
     "name": "stdout",
     "output_type": "stream",
     "text": [
      "Epoch 2: train_acc: 79.9% loss: 0.5137612,  val_loss: 0.9147009 val_acc: 63.2%\n"
     ]
    },
    {
     "name": "stderr",
     "output_type": "stream",
     "text": [
      "Training..\t: 100%|██████████| 2184/2184 [01:58<00:00, 18.50it/s]\n",
      "Validating..\t: 100%|██████████| 327/327 [00:04<00:00, 66.65it/s]\n"
     ]
    },
    {
     "name": "stdout",
     "output_type": "stream",
     "text": [
      "Epoch 3: train_acc: 81.4% loss: 1.0184245,  val_loss: 0.7433733 val_acc: 78.5%\n",
      "Validation accuracy improved from 65.09 to 78.52. Saving model..\n"
     ]
    },
    {
     "name": "stderr",
     "output_type": "stream",
     "text": [
      "Training..\t: 100%|██████████| 2184/2184 [01:57<00:00, 18.51it/s]\n",
      "Validating..\t: 100%|██████████| 327/327 [00:04<00:00, 66.97it/s]\n"
     ]
    },
    {
     "name": "stdout",
     "output_type": "stream",
     "text": [
      "Epoch 4: train_acc: 82.5% loss: 0.4651643,  val_loss: 0.3559079 val_acc: 79.8%\n",
      "Validation accuracy improved from 78.52 to 79.82. Saving model..\n"
     ]
    },
    {
     "name": "stderr",
     "output_type": "stream",
     "text": [
      "Training..\t: 100%|██████████| 2184/2184 [01:57<00:00, 18.53it/s]\n",
      "Validating..\t: 100%|██████████| 327/327 [00:04<00:00, 66.97it/s]\n"
     ]
    },
    {
     "name": "stdout",
     "output_type": "stream",
     "text": [
      "Epoch 5: train_acc: 83.5% loss: 0.2941866,  val_loss: 0.6993850 val_acc: 74.6%\n"
     ]
    },
    {
     "name": "stderr",
     "output_type": "stream",
     "text": [
      "Training..\t: 100%|██████████| 2184/2184 [01:57<00:00, 18.54it/s]\n",
      "Validating..\t: 100%|██████████| 327/327 [00:04<00:00, 67.03it/s]\n"
     ]
    },
    {
     "name": "stdout",
     "output_type": "stream",
     "text": [
      "Epoch 6: train_acc: 84.1% loss: 0.3217630,  val_loss: 0.4384105 val_acc: 80.1%\n",
      "Validation accuracy improved from 79.82 to 80.06. Saving model..\n"
     ]
    },
    {
     "name": "stderr",
     "output_type": "stream",
     "text": [
      "Training..\t: 100%|██████████| 2184/2184 [01:58<00:00, 18.50it/s]\n",
      "Validating..\t: 100%|██████████| 327/327 [00:04<00:00, 66.57it/s]\n"
     ]
    },
    {
     "name": "stdout",
     "output_type": "stream",
     "text": [
      "Epoch 7: train_acc: 84.7% loss: 0.2973251,  val_loss: 0.4437669 val_acc: 72.2%\n"
     ]
    },
    {
     "name": "stderr",
     "output_type": "stream",
     "text": [
      "Training..\t: 100%|██████████| 2184/2184 [01:57<00:00, 18.52it/s]\n",
      "Validating..\t: 100%|██████████| 327/327 [00:04<00:00, 66.87it/s]\n"
     ]
    },
    {
     "name": "stdout",
     "output_type": "stream",
     "text": [
      "Epoch 8: train_acc: 85.3% loss: 0.3522678,  val_loss: 0.5937552 val_acc: 84.3%\n",
      "Validation accuracy improved from 80.06 to 84.31. Saving model..\n"
     ]
    },
    {
     "name": "stderr",
     "output_type": "stream",
     "text": [
      "Training..\t: 100%|██████████| 2184/2184 [01:57<00:00, 18.53it/s]\n",
      "Validating..\t: 100%|██████████| 327/327 [00:04<00:00, 66.98it/s]\n"
     ]
    },
    {
     "name": "stdout",
     "output_type": "stream",
     "text": [
      "Epoch 9: train_acc: 85.8% loss: 0.4991016,  val_loss: 0.4398913 val_acc: 82.6%\n"
     ]
    },
    {
     "name": "stderr",
     "output_type": "stream",
     "text": [
      "Training..\t: 100%|██████████| 2184/2184 [01:57<00:00, 18.56it/s]\n",
      "Validating..\t: 100%|██████████| 327/327 [00:04<00:00, 66.61it/s]\n"
     ]
    },
    {
     "name": "stdout",
     "output_type": "stream",
     "text": [
      "Epoch 10: train_acc: 86.2% loss: 0.3295687,  val_loss: 0.8757359 val_acc: 77.7%\n"
     ]
    },
    {
     "name": "stderr",
     "output_type": "stream",
     "text": [
      "Training..\t: 100%|██████████| 2184/2184 [01:57<00:00, 18.53it/s]\n",
      "Validating..\t: 100%|██████████| 327/327 [00:04<00:00, 66.65it/s]\n"
     ]
    },
    {
     "name": "stdout",
     "output_type": "stream",
     "text": [
      "Epoch 11: train_acc: 86.5% loss: 0.1369659,  val_loss: 0.6384646 val_acc: 78.5%\n"
     ]
    },
    {
     "name": "stderr",
     "output_type": "stream",
     "text": [
      "Training..\t: 100%|██████████| 2184/2184 [01:57<00:00, 18.57it/s]\n",
      "Validating..\t: 100%|██████████| 327/327 [00:04<00:00, 66.64it/s]\n"
     ]
    },
    {
     "name": "stdout",
     "output_type": "stream",
     "text": [
      "Epoch 12: train_acc: 86.9% loss: 0.2294680,  val_loss: 1.1700189 val_acc: 62.5%\n"
     ]
    },
    {
     "name": "stderr",
     "output_type": "stream",
     "text": [
      "Training..\t: 100%|██████████| 2184/2184 [01:57<00:00, 18.57it/s]\n",
      "Validating..\t: 100%|██████████| 327/327 [00:04<00:00, 66.92it/s]\n"
     ]
    },
    {
     "name": "stdout",
     "output_type": "stream",
     "text": [
      "Epoch 13: train_acc: 87.3% loss: 0.5471618,  val_loss: 0.5418147 val_acc: 61.1%\n"
     ]
    },
    {
     "name": "stderr",
     "output_type": "stream",
     "text": [
      "Training..\t: 100%|██████████| 2184/2184 [01:57<00:00, 18.52it/s]\n",
      "Validating..\t: 100%|██████████| 327/327 [00:04<00:00, 66.64it/s]\n"
     ]
    },
    {
     "name": "stdout",
     "output_type": "stream",
     "text": [
      "Epoch 14: train_acc: 87.5% loss: 0.4119644,  val_loss: 0.3638211 val_acc: 75.1%\n"
     ]
    },
    {
     "name": "stderr",
     "output_type": "stream",
     "text": [
      "Training..\t: 100%|██████████| 2184/2184 [01:57<00:00, 18.56it/s]\n",
      "Validating..\t: 100%|██████████| 327/327 [00:04<00:00, 66.89it/s]\n"
     ]
    },
    {
     "name": "stdout",
     "output_type": "stream",
     "text": [
      "Epoch 15: train_acc: 87.9% loss: 0.6195370,  val_loss: 0.4863933 val_acc: 83.3%\n"
     ]
    },
    {
     "name": "stderr",
     "output_type": "stream",
     "text": [
      "Training..\t: 100%|██████████| 2184/2184 [01:57<00:00, 18.55it/s]\n",
      "Validating..\t: 100%|██████████| 327/327 [00:04<00:00, 66.91it/s]\n"
     ]
    },
    {
     "name": "stdout",
     "output_type": "stream",
     "text": [
      "Epoch 16: train_acc: 88.1% loss: 0.7968314,  val_loss: 0.3303084 val_acc: 83.3%\n"
     ]
    },
    {
     "name": "stderr",
     "output_type": "stream",
     "text": [
      "Training..\t: 100%|██████████| 2184/2184 [01:57<00:00, 18.59it/s]\n",
      "Validating..\t: 100%|██████████| 327/327 [00:04<00:00, 66.92it/s]\n"
     ]
    },
    {
     "name": "stdout",
     "output_type": "stream",
     "text": [
      "Epoch 17: train_acc: 88.5% loss: 0.1678981,  val_loss: 1.0286876 val_acc: 78.7%\n"
     ]
    },
    {
     "name": "stderr",
     "output_type": "stream",
     "text": [
      "Training..\t: 100%|██████████| 2184/2184 [01:57<00:00, 18.57it/s]\n",
      "Validating..\t: 100%|██████████| 327/327 [00:04<00:00, 66.88it/s]\n"
     ]
    },
    {
     "name": "stdout",
     "output_type": "stream",
     "text": [
      "Epoch 18: train_acc: 88.7% loss: 0.0514618,  val_loss: 0.5457307 val_acc: 76.6%\n"
     ]
    },
    {
     "name": "stderr",
     "output_type": "stream",
     "text": [
      "Training..\t: 100%|██████████| 2184/2184 [01:57<00:00, 18.58it/s]\n",
      "Validating..\t: 100%|██████████| 327/327 [00:04<00:00, 66.96it/s]\n"
     ]
    },
    {
     "name": "stdout",
     "output_type": "stream",
     "text": [
      "Epoch 19: train_acc: 88.8% loss: 0.2739582,  val_loss: 1.4072849 val_acc: 83.2%\n"
     ]
    },
    {
     "name": "stderr",
     "output_type": "stream",
     "text": [
      "Training..\t: 100%|██████████| 2184/2184 [01:57<00:00, 18.56it/s]\n",
      "Validating..\t: 100%|██████████| 327/327 [00:04<00:00, 66.78it/s]\n"
     ]
    },
    {
     "name": "stdout",
     "output_type": "stream",
     "text": [
      "Epoch 20: train_acc: 89.1% loss: 0.1067008,  val_loss: 0.3265060 val_acc: 78.6%\n"
     ]
    },
    {
     "name": "stderr",
     "output_type": "stream",
     "text": [
      "Training..\t: 100%|██████████| 2184/2184 [01:57<00:00, 18.60it/s]\n",
      "Validating..\t: 100%|██████████| 327/327 [00:04<00:00, 66.61it/s]\n"
     ]
    },
    {
     "name": "stdout",
     "output_type": "stream",
     "text": [
      "Epoch 21: train_acc: 89.3% loss: 0.2907554,  val_loss: 0.1131735 val_acc: 79.5%\n"
     ]
    },
    {
     "name": "stderr",
     "output_type": "stream",
     "text": [
      "Training..\t: 100%|██████████| 2184/2184 [01:57<00:00, 18.59it/s]\n",
      "Validating..\t: 100%|██████████| 327/327 [00:04<00:00, 66.65it/s]\n"
     ]
    },
    {
     "name": "stdout",
     "output_type": "stream",
     "text": [
      "Epoch 22: train_acc: 89.4% loss: 0.1093718,  val_loss: 1.6873888 val_acc: 75.5%\n"
     ]
    },
    {
     "name": "stderr",
     "output_type": "stream",
     "text": [
      "Training..\t: 100%|██████████| 2184/2184 [01:57<00:00, 18.58it/s]\n",
      "Validating..\t: 100%|██████████| 327/327 [00:04<00:00, 66.91it/s]\n"
     ]
    },
    {
     "name": "stdout",
     "output_type": "stream",
     "text": [
      "Epoch 23: train_acc: 89.7% loss: 0.6004006,  val_loss: 0.7780086 val_acc: 55.6%\n"
     ]
    },
    {
     "name": "stderr",
     "output_type": "stream",
     "text": [
      "Training..\t: 100%|██████████| 2184/2184 [01:57<00:00, 18.59it/s]\n",
      "Validating..\t: 100%|██████████| 327/327 [00:04<00:00, 66.72it/s]\n"
     ]
    },
    {
     "name": "stdout",
     "output_type": "stream",
     "text": [
      "Epoch 24: train_acc: 89.9% loss: 0.0825595,  val_loss: 0.3292229 val_acc: 76.1%\n"
     ]
    },
    {
     "name": "stderr",
     "output_type": "stream",
     "text": [
      "Training..\t: 100%|██████████| 2184/2184 [01:57<00:00, 18.60it/s]\n",
      "Validating..\t: 100%|██████████| 327/327 [00:04<00:00, 66.69it/s]\n"
     ]
    },
    {
     "name": "stdout",
     "output_type": "stream",
     "text": [
      "Epoch 25: train_acc: 90.2% loss: 0.4322518,  val_loss: 0.3452280 val_acc: 74.4%\n"
     ]
    },
    {
     "name": "stderr",
     "output_type": "stream",
     "text": [
      "Training..\t: 100%|██████████| 2184/2184 [01:57<00:00, 18.60it/s]\n",
      "Validating..\t: 100%|██████████| 327/327 [00:04<00:00, 66.77it/s]\n"
     ]
    },
    {
     "name": "stdout",
     "output_type": "stream",
     "text": [
      "Epoch 26: train_acc: 90.5% loss: 0.2099203,  val_loss: 0.4054514 val_acc: 78.6%\n"
     ]
    },
    {
     "name": "stderr",
     "output_type": "stream",
     "text": [
      "Training..\t: 100%|██████████| 2184/2184 [01:57<00:00, 18.59it/s]\n",
      "Validating..\t: 100%|██████████| 327/327 [00:04<00:00, 66.82it/s]\n"
     ]
    },
    {
     "name": "stdout",
     "output_type": "stream",
     "text": [
      "Epoch 27: train_acc: 90.5% loss: 0.2776303,  val_loss: 1.7408717 val_acc: 57.7%\n"
     ]
    },
    {
     "name": "stderr",
     "output_type": "stream",
     "text": [
      "Training..\t: 100%|██████████| 2184/2184 [01:57<00:00, 18.61it/s]\n",
      "Validating..\t: 100%|██████████| 327/327 [00:04<00:00, 66.82it/s]\n"
     ]
    },
    {
     "name": "stdout",
     "output_type": "stream",
     "text": [
      "Epoch 28: train_acc: 90.8% loss: 0.1550690,  val_loss: 0.1622527 val_acc: 86.5%\n",
      "Validation accuracy improved from 84.31 to 86.50. Saving model..\n"
     ]
    },
    {
     "name": "stderr",
     "output_type": "stream",
     "text": [
      "Training..\t: 100%|██████████| 2184/2184 [01:57<00:00, 18.60it/s]\n",
      "Validating..\t: 100%|██████████| 327/327 [00:04<00:00, 66.71it/s]\n"
     ]
    },
    {
     "name": "stdout",
     "output_type": "stream",
     "text": [
      "Epoch 29: train_acc: 91.0% loss: 0.1342526,  val_loss: 0.7413792 val_acc: 83.2%\n"
     ]
    },
    {
     "name": "stderr",
     "output_type": "stream",
     "text": [
      "Training..\t: 100%|██████████| 2184/2184 [01:57<00:00, 18.58it/s]\n",
      "Validating..\t: 100%|██████████| 327/327 [00:04<00:00, 66.58it/s]\n"
     ]
    },
    {
     "name": "stdout",
     "output_type": "stream",
     "text": [
      "Epoch 30: train_acc: 91.2% loss: 0.1139297,  val_loss: 0.2918614 val_acc: 82.9%\n"
     ]
    },
    {
     "name": "stderr",
     "output_type": "stream",
     "text": [
      "Training..\t: 100%|██████████| 2184/2184 [01:57<00:00, 18.61it/s]\n",
      "Validating..\t: 100%|██████████| 327/327 [00:04<00:00, 66.73it/s]\n"
     ]
    },
    {
     "name": "stdout",
     "output_type": "stream",
     "text": [
      "Epoch 31: train_acc: 91.2% loss: 0.3284256,  val_loss: 10.5878439 val_acc: 45.7%\n"
     ]
    },
    {
     "name": "stderr",
     "output_type": "stream",
     "text": [
      "Training..\t: 100%|██████████| 2184/2184 [01:57<00:00, 18.61it/s]\n",
      "Validating..\t: 100%|██████████| 327/327 [00:04<00:00, 67.03it/s]\n"
     ]
    },
    {
     "name": "stdout",
     "output_type": "stream",
     "text": [
      "Epoch 32: train_acc: 91.5% loss: 0.1135694,  val_loss: 0.0808199 val_acc: 80.1%\n"
     ]
    },
    {
     "name": "stderr",
     "output_type": "stream",
     "text": [
      "Training..\t: 100%|██████████| 2184/2184 [01:57<00:00, 18.59it/s]\n",
      "Validating..\t: 100%|██████████| 327/327 [00:04<00:00, 66.84it/s]\n"
     ]
    },
    {
     "name": "stdout",
     "output_type": "stream",
     "text": [
      "Epoch 33: train_acc: 91.5% loss: 0.2833518,  val_loss: 0.0892122 val_acc: 76.0%\n"
     ]
    },
    {
     "name": "stderr",
     "output_type": "stream",
     "text": [
      "Training..\t: 100%|██████████| 2184/2184 [01:57<00:00, 18.61it/s]\n",
      "Validating..\t: 100%|██████████| 327/327 [00:04<00:00, 66.94it/s]\n"
     ]
    },
    {
     "name": "stdout",
     "output_type": "stream",
     "text": [
      "Epoch 34: train_acc: 91.7% loss: 0.2070235,  val_loss: 1.0273393 val_acc: 80.1%\n"
     ]
    }
   ],
   "source": [
    "# Choosing whether to train on a gpu\n",
    "train_on_gpu = torch.cuda.is_available()\n",
    "print(f'Train on gpu: {train_on_gpu}')# Number of gpus\n",
    "model = model.to('cuda', dtype=torch.float)\n",
    "\n",
    "results = {\"loss\":[], \"val_loss\":[], \"train_accuracy\":[], \"valid_accuracy\":[]}\n",
    "best_valacc = 0\n",
    "# Model training\n",
    "for epoch in range(num_epochs):\n",
    "    # Going through the training set\n",
    "    correct_train = 0\n",
    "    model.train()\n",
    "    for x_batch,y_batch,_,_ in tqdm(train_dataloader, desc='Training..\\t'):        \n",
    "        y_batch = torch.as_tensor(y_batch).type(torch.LongTensor)\n",
    "        x_batch,y_batch = x_batch.cuda(), y_batch.cuda()\n",
    "        for param in model.parameters():\n",
    "            param.grad = None\n",
    "        pred = model(x_batch)\n",
    "        if outs == 1:\n",
    "            y_batch = y_batch.type(torch.FloatTensor).cuda()\n",
    "            correct_train += ((pred>0.5).int().squeeze() == y_batch.squeeze()).float().sum().item()\n",
    "            loss = criterion(pred, y_batch.unsqueeze(1))\n",
    "        else:\n",
    "            y_batch = y_batch.type(torch.LongTensor).cuda()\n",
    "            correct_train += (pred.argmax(axis=1) == y_batch).float().sum().item()\n",
    "            loss = criterion(pred, y_batch)\n",
    "        loss.backward()\n",
    "        optimizer.step()\n",
    "    train_accuracy = correct_train / len(train_dataset) * 100.\n",
    "    \n",
    "    # Going through the validation set\n",
    "    correct_valid = 0\n",
    "    model.eval()\n",
    "    for x_batch,y_batch,_,_ in tqdm(valid_dataloader, desc='Validating..\\t'):\n",
    "        y_batch = torch.as_tensor(y_batch)\n",
    "        x_batch,y_batch = x_batch.cuda(), y_batch.cuda()\n",
    "        pred = model(x_batch)\n",
    "        if outs == 1:\n",
    "            y_batch = y_batch.type(torch.FloatTensor).cuda()\n",
    "            correct_valid += ((pred>0.5).int().squeeze().cuda() == y_batch.squeeze()).float().sum().item()\n",
    "            val_loss = criterion(pred, y_batch.unsqueeze(1))\n",
    "        else:\n",
    "            y_batch = y_batch.type(torch.LongTensor).cuda()\n",
    "            correct_valid += (pred.argmax(axis=1) == y_batch).float().sum().item()\n",
    "            val_loss = criterion(pred, y_batch)\n",
    "    valid_accuracy = correct_valid / len(valid_dataset) * 100.\n",
    "\n",
    "    scheduler.step()\n",
    "#     early_stopping(val_loss, model)\n",
    "#     if early_stopping.early_stop:\n",
    "#         print(\"Early stopping\")\n",
    "#         break\n",
    "\n",
    "        # Printing results\n",
    "    print(f\"Epoch {epoch}: train_acc: {train_accuracy:.1f}% loss: {loss:.7f},  val_loss: {val_loss:.7f} val_acc: {valid_accuracy:.1f}%\")\n",
    "        \n",
    "    is_best = valid_accuracy > best_valacc\n",
    "    if is_best:\n",
    "        print(f\"Validation accuracy improved from {best_valacc:.2f} to {valid_accuracy:.2f}. Saving model..\")\n",
    "    best_valacc = max(valid_accuracy, best_valacc)\n",
    "    save_checkpoint({\n",
    "        'epoch': epoch,\n",
    "        'state_dict': model.state_dict(),\n",
    "        'best_valacc': best_valacc,\n",
    "        'loss': results['loss'].append(loss),\n",
    "        'val_loss': results['val_loss'].append(val_loss),\n",
    "        'train_accuracy': results['train_accuracy'].append(train_accuracy),\n",
    "        'valid_accuracy': results['valid_accuracy'].append(valid_accuracy),\n",
    "        'optimizer' : optimizer.state_dict(),\n",
    "    }, is_best)\n"
   ]
  },
  {
   "cell_type": "markdown",
   "metadata": {},
   "source": [
    "# MORE LAYERS?"
   ]
  },
  {
   "cell_type": "markdown",
   "metadata": {},
   "source": [
    "## Testing on test set"
   ]
  },
  {
   "cell_type": "code",
   "execution_count": 24,
   "metadata": {},
   "outputs": [],
   "source": [
    "model, optimizer = load_checkpoint(f'{BASE_DATACREATEDDIR}/mosquito_model_best.pth.tar', model, optimizer)"
   ]
  },
  {
   "cell_type": "code",
   "execution_count": 40,
   "metadata": {},
   "outputs": [
    {
     "name": "stderr",
     "output_type": "stream",
     "text": [
      "Testing..\t: 100%|██████████| 837/837 [06:02<00:00,  2.31it/s]"
     ]
    },
    {
     "name": "stdout",
     "output_type": "stream",
     "text": [
      "Accuracy: 86.47\n",
      "Balanced accuracy: 86.25\n",
      "Confusion matrix: \n",
      "[[0.85851278 0.07981625 0.00671835 0.01033592 0.03267298 0.01194373]\n",
      " [0.06736527 0.8754491  0.01976048 0.0257485  0.00808383 0.00359281]\n",
      " [0.01127425 0.0162559  0.84006293 0.10592554 0.01809124 0.00839014]\n",
      " [0.00841424 0.01067961 0.19708738 0.77055016 0.00819849 0.00507012]\n",
      " [0.03686781 0.02505121 0.01339215 0.00929573 0.9087758  0.0066173 ]\n",
      " [0.04674157 0.00247191 0.01273408 0.00434457 0.01220974 0.92149813]]\n"
     ]
    },
    {
     "name": "stderr",
     "output_type": "stream",
     "text": [
      "\n"
     ]
    }
   ],
   "source": [
    "model = model.to('cuda', dtype=torch.float)\n",
    "\n",
    "_ = test_model(model,test_dataloader, test_dataset)"
   ]
  },
  {
   "cell_type": "code",
   "execution_count": 50,
   "metadata": {},
   "outputs": [],
   "source": [
    "cm = np.array([[0.85851278, 0.07981625, 0.00671835, 0.01033592, 0.03267298, 0.01194373],\n",
    " [0.06736527, 0.8754491 , 0.01976048, 0.0257485 , 0.00808383, 0.00359281],\n",
    " [0.01127425, 0.0162559 , 0.84006293, 0.10592554, 0.01809124, 0.00839014],\n",
    " [0.00841424, 0.01067961, 0.19708738, 0.77055016, 0.00819849, 0.00507012],\n",
    " [0.03686781, 0.02505121, 0.01339215, 0.00929573, 0.9087758 , 0.0066173 ],\n",
    " [0.04674157, 0.00247191, 0.01273408, 0.00434457, 0.01220974, 0.92149813]])"
   ]
  },
  {
   "cell_type": "code",
   "execution_count": 58,
   "metadata": {},
   "outputs": [
    {
     "data": {
      "image/png": "[encoded data removed]",
      "text/plain": [
       "<Figure size 432x288 with 2 Axes>"
      ]
     },
     "metadata": {
      "needs_background": "light"
     },
     "output_type": "display_data"
    }
   ],
   "source": [
    "sns.heatmap(cm, annot=True, fmt='.2f');"
   ]
  },
  {
   "cell_type": "code",
   "execution_count": 41,
   "metadata": {},
   "outputs": [],
   "source": [
    "def softmax_out(x):\n",
    "    return np.argmax(F.softmax(x, dim=1), axis=1).tolist()[0]"
   ]
  },
  {
   "cell_type": "code",
   "execution_count": 43,
   "metadata": {},
   "outputs": [],
   "source": [
    "# df_out = get_all_preds(model, test_dataloader, dataframe=True, binary=False)"
   ]
  },
  {
   "cell_type": "code",
   "execution_count": 44,
   "metadata": {},
   "outputs": [],
   "source": [
    "# cm = confusion_matrix(y_true = df_out.y, y_pred=df_out.softmax, normalize='true')\n",
    "# sns.heatmap(cm, annot=True, fmt='.0%')\n",
    "# plt.title(f\"{balanced_accuracy_score(y_true = df_out.y, y_pred=df_out.softmax):.2%}\");"
   ]
  },
  {
   "cell_type": "code",
   "execution_count": 45,
   "metadata": {},
   "outputs": [],
   "source": [
    "# df_out.y.value_counts()#.value_counts()"
   ]
  },
  {
   "cell_type": "code",
   "execution_count": null,
   "metadata": {},
   "outputs": [],
   "source": []
  },
  {
   "cell_type": "code",
   "execution_count": null,
   "metadata": {},
   "outputs": [],
   "source": []
  },
  {
   "cell_type": "code",
   "execution_count": null,
   "metadata": {},
   "outputs": [],
   "source": []
  },
  {
   "cell_type": "markdown",
   "metadata": {},
   "source": [
    "# ------------------------------------------"
   ]
  },
  {
   "cell_type": "code",
   "execution_count": null,
   "metadata": {},
   "outputs": [],
   "source": []
  }
 ],
 "metadata": {
  "kernelspec": {
   "display_name": "Python 3",
   "language": "python",
   "name": "python3"
  },
  "language_info": {
   "codemirror_mode": {
    "name": "ipython",
    "version": 3
   },
   "file_extension": ".py",
   "mimetype": "text/x-python",
   "name": "python",
   "nbconvert_exporter": "python",
   "pygments_lexer": "ipython3",
   "version": "3.8.10"
  }
 },
 "nbformat": 4,
 "nbformat_minor": 4
}
