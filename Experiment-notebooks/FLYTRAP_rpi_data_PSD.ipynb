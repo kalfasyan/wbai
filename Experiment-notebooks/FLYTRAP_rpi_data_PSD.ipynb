{
 "cells": [
  {
   "cell_type": "code",
   "execution_count": 1,
   "id": "cdd61843-d39b-448b-a452-224e35d463d8",
   "metadata": {},
   "outputs": [],
   "source": [
    "%reset -f\n",
    "%reload_ext autoreload\n",
    "%autoreload 2\n",
    "%matplotlib inline\n",
    "%config Completer.use_jedi = False"
   ]
  },
  {
   "cell_type": "code",
   "execution_count": 2,
   "id": "36087ae9-b7f2-4cd8-a23d-38fe64547074",
   "metadata": {},
   "outputs": [
    {
     "name": "stdout",
     "output_type": "stream",
     "text": [
      "Available workers: 16\n"
     ]
    }
   ],
   "source": [
    "import sys\n",
    "sys.path.insert(0,\"..\")\n",
    "from profiler import *\n",
    "from utils import *\n",
    "from datasets import *\n",
    "from models import *\n",
    "from transforms import *\n",
    "import torch.nn as nn\n",
    "import torch.optim as optim\n",
    "import torchaudio\n",
    "from torch.utils.data import Dataset, ConcatDataset\n",
    "from torch.utils.data.sampler import SubsetRandomSampler\n",
    "from torchvision import datasets, transforms\n",
    "torchaudio.set_audio_backend('soundfile')"
   ]
  },
  {
   "cell_type": "code",
   "execution_count": 16,
   "id": "567413f1-e9b3-4a0c-a8de-e1619ce482da",
   "metadata": {},
   "outputs": [],
   "source": [
    "maxpeaks = 15\n",
    "minpeaks = 1\n",
    "maxscore = 15\n",
    "minscore = 2.5\n",
    "selection = f\"peaks>={minpeaks} & peaks<={maxpeaks} & score>{minscore} & score<={maxscore}\""
   ]
  },
  {
   "cell_type": "markdown",
   "id": "900ac40a-a8f0-4e90-a1c0-26b6d6e183fd",
   "metadata": {},
   "source": [
    "# Raspberry-Pi Data"
   ]
  },
  {
   "cell_type": "markdown",
   "id": "91d7305a-9e4d-4acc-a3e9-88b837fdd27b",
   "metadata": {},
   "source": [
    "### Testing new RPi Melanogaster data "
   ]
  },
  {
   "cell_type": "code",
   "execution_count": 19,
   "id": "602ba47c-d3c6-4f87-8e9f-0fa21676113f",
   "metadata": {},
   "outputs": [],
   "source": [
    "model = DrosophilaNetRAW(outputs=2, dropout_p=.2)\n",
    "optimizer = optim.Adam(model.parameters(), lr=0.001, eps=1e-3, amsgrad=True)\n",
    "model, optimizer = load_checkpoint(f'{BASE_DATACREATEDDIR}/model_psd_best.pth.tar', model, optimizer)\n",
    "model = model.to('cuda', dtype=torch.float)"
   ]
  },
  {
   "cell_type": "code",
   "execution_count": 20,
   "id": "d712ab7f-0db8-436d-89d5-3495f7a9ddcf",
   "metadata": {
    "scrolled": true,
    "tags": []
   },
   "outputs": [
    {
     "name": "stdout",
     "output_type": "stream",
     "text": [
      "Found 220 in dataset: /home/kalfasyan/data/wingbeats/Fruitflies_flytrap_rpi/from_rpi/Melanogaster/test/, and 1 label(s): ['from_rpi']\n",
      "Label(s) changed to [0]\n"
     ]
    },
    {
     "name": "stderr",
     "output_type": "stream",
     "text": [
      "Collecting all data from the dataloader..:   0%|          | 0/13 [00:00<?, ?it/s]/home/kalfasyan/anaconda3/envs/wbai/lib/python3.8/site-packages/scipy/signal/spectral.py:1961: UserWarning: nperseg = 5000 is greater than input length  = 4667, using nperseg = 4667\n",
      "  warnings.warn('nperseg = {0:d} is greater than input length '\n",
      "Collecting all data from the dataloader..:   8%|▊         | 1/13 [00:00<00:02,  4.92it/s]/home/kalfasyan/anaconda3/envs/wbai/lib/python3.8/site-packages/scipy/signal/spectral.py:1961: UserWarning: nperseg = 5000 is greater than input length  = 4667, using nperseg = 4667\n",
      "  warnings.warn('nperseg = {0:d} is greater than input length '\n",
      "/home/kalfasyan/anaconda3/envs/wbai/lib/python3.8/site-packages/scipy/signal/spectral.py:1961: UserWarning: nperseg = 5000 is greater than input length  = 4667, using nperseg = 4667\n",
      "  warnings.warn('nperseg = {0:d} is greater than input length '\n",
      "Collecting all data from the dataloader..: 14it [00:00, 38.51it/s]                       \n"
     ]
    },
    {
     "name": "stdout",
     "output_type": "stream",
     "text": [
      "Creating a pandas Dataframe with file-paths, clean-scores, duration, sums of abs values, indice and labels..\n"
     ]
    },
    {
     "name": "stderr",
     "output_type": "stream",
     "text": [
      "Testing..\t:  45%|████▌     | 5/11 [00:00<00:00, 44.67it/s]"
     ]
    },
    {
     "name": "stdout",
     "output_type": "stream",
     "text": [
      "Finished.\n"
     ]
    },
    {
     "name": "stderr",
     "output_type": "stream",
     "text": [
      "Testing..\t: 100%|██████████| 11/11 [00:00<00:00, 46.36it/s]"
     ]
    },
    {
     "name": "stdout",
     "output_type": "stream",
     "text": [
      "Accuracy: 69.41\n",
      "Balanced accuracy: 69.41\n",
      "Confusion matrix: \n",
      "[[0.69411765 0.30588235]\n",
      " [0.         0.        ]]\n",
      "0    118\n",
      "1     52\n",
      "dtype: int64\n"
     ]
    },
    {
     "name": "stderr",
     "output_type": "stream",
     "text": [
      "\n",
      "/home/kalfasyan/anaconda3/envs/wbai/lib/python3.8/site-packages/sklearn/metrics/_classification.py:1850: UserWarning: y_pred contains classes not in y_true\n",
      "  warnings.warn('y_pred contains classes not in y_true')\n"
     ]
    }
   ],
   "source": [
    "dspath = \"/home/kalfasyan/data/wingbeats/Fruitflies_flytrap_rpi/from_rpi/Melanogaster/test/\"\n",
    "wbpf = WingbeatDatasetProfiler(dsname=dspath, custom_label=[0], rpiformat=True)\n",
    "wbpf.df = wbpf.df.query(selection)\n",
    "\n",
    "evaluate_data(wbpf.df, model, batch_size=16, transforms_list=[Bandpass(lowcut=140, highcut=1500), TransformWingbeat(setting='psdl2')])"
   ]
  },
  {
   "cell_type": "code",
   "execution_count": 6,
   "id": "3cf4a36a-e311-49be-932a-30a693650940",
   "metadata": {},
   "outputs": [],
   "source": [
    "# transforms_list = [Bandpass(lowcut=140, highcut=1500), TransformWingbeat(setting='psdl2')]\n",
    "\n",
    "# df = wbpf.df\n",
    "# X_test, y_test = df.iloc[:,0], df.iloc[:,1]\n",
    "# test_dataset = DataFrameset(pd.concat([X_test, y_test], axis=1), transform=transforms.Compose(transforms_list))\n",
    "# test_dataloader = DataLoader(test_dataset, batch_size=1, shuffle=False)\n",
    "# test_model(model,test_dataloader, test_dataset)"
   ]
  },
  {
   "cell_type": "code",
   "execution_count": 7,
   "id": "28fe8b5a-99eb-4c91-a0bb-8e21a46247de",
   "metadata": {},
   "outputs": [],
   "source": [
    "# import soundfile as sf\n",
    "# wbpath = df.x.iloc[-1]\n",
    "# x, rate = sf.read(wbpath)\n",
    "\n",
    "# f, (ax1, ax2, ax3, ax4) = plt.subplots(1, 4, sharey=False, figsize=(14,4))\n",
    "\n",
    "# ax1.plot(x)\n",
    "# ax1.set(title=\"Original\")\n",
    "\n",
    "# x = torch.from_numpy(butter_bandpass_filter(x, \n",
    "#                                             lowcut=140,\n",
    "#                                             highcut=1500,\n",
    "#                                             fs=8000,\n",
    "#                                             order=4)).float() \n",
    "# ax2.plot(x)\n",
    "# ax2.set(title=\"Band-pass Filtered\");\n",
    "\n",
    "\n",
    "# _, psd = sg.welch(x, fs=rate, scaling='density', window='hanning', nfft=8192, nperseg=5000, noverlap=5000//2)   \n",
    "# ax3.plot(psd)\n",
    "# ax3.set_title(np.max(psd));\n",
    "# print(psd.shape)\n",
    "\n",
    "# psd = preprocessing.normalize(psd.reshape(1,-1), norm=\"l2\").squeeze()\n",
    "# psd = psd[140:1500]\n",
    "# ax4.plot(psd);\n",
    "# ax4.set_title(np.max(psd));\n",
    "# print(psd.shape)\n",
    "# peaks,_ = sg.find_peaks(psd.squeeze(), height=0.04, prominence=0.001, width=1, distance=5)\n",
    "# print(len(peaks))"
   ]
  },
  {
   "cell_type": "code",
   "execution_count": 8,
   "id": "49ad34af-46c3-48b6-a566-602c9cb18046",
   "metadata": {},
   "outputs": [],
   "source": [
    "\n",
    "\n",
    "# if setting in [\"psdl1\", \"psdl2\"]:\n",
    "#     psd = preprocessing.normalize(psd.reshape(1,-1), norm=setting[-2:])\n",
    "#     psd = psd[:, 140:1500] if crop else psd\n",
    "\n",
    "#     peaks,_ = sg.find_peaks(psd.squeeze(), height=0.04, prominence=0.001, width=1, distance=5)\n",
    "#     score = psd.squeeze().sum()\n",
    "\n",
    "#     return torch.from_numpy(psd), len(peaks), score\n",
    "# else:\n",
    "#     raise ValueError(\"Something wrong with preprocessing signal\")"
   ]
  },
  {
   "cell_type": "code",
   "execution_count": null,
   "id": "1282056d-07f8-4e14-b90e-ab7df42cecf0",
   "metadata": {},
   "outputs": [],
   "source": []
  },
  {
   "cell_type": "markdown",
   "id": "0ef3da24-fa7b-4975-b423-9dee40133da9",
   "metadata": {},
   "source": [
    "### Testing new RPi Suzukii data "
   ]
  },
  {
   "cell_type": "code",
   "execution_count": 9,
   "id": "10e60efe-0cdc-4bfb-88cd-d5bf44684a68",
   "metadata": {
    "scrolled": true,
    "tags": []
   },
   "outputs": [
    {
     "name": "stdout",
     "output_type": "stream",
     "text": [
      "Found 128 in dataset: /home/kalfasyan/data/wingbeats/Fruitflies_flytrap_rpi/from_rpi/Suzukii/test/, and 1 label(s): ['from_rpi']\n",
      "Label(s) changed to [1]\n"
     ]
    },
    {
     "name": "stderr",
     "output_type": "stream",
     "text": [
      "Collecting all data from the dataloader..: 100%|██████████| 8/8 [00:00<00:00, 26.94it/s]\n",
      "Testing..\t:   0%|          | 0/8 [00:00<?, ?it/s]"
     ]
    },
    {
     "name": "stdout",
     "output_type": "stream",
     "text": [
      "Creating a pandas Dataframe with file-paths, clean-scores, duration, sums of abs values, indice and labels..\n",
      "Finished.\n"
     ]
    },
    {
     "name": "stderr",
     "output_type": "stream",
     "text": [
      "Testing..\t: 100%|██████████| 8/8 [00:00<00:00, 10.04it/s]"
     ]
    },
    {
     "name": "stdout",
     "output_type": "stream",
     "text": [
      "Accuracy: 95.00\n",
      "Balanced accuracy: 95.00\n",
      "Confusion matrix: \n",
      "[[0.   0.  ]\n",
      " [0.05 0.95]]\n",
      "1    114\n",
      "0      6\n",
      "dtype: int64\n"
     ]
    },
    {
     "name": "stderr",
     "output_type": "stream",
     "text": [
      "\n",
      "/home/kalfasyan/anaconda3/envs/wbai/lib/python3.8/site-packages/sklearn/metrics/_classification.py:1850: UserWarning: y_pred contains classes not in y_true\n",
      "  warnings.warn('y_pred contains classes not in y_true')\n"
     ]
    }
   ],
   "source": [
    "dspath = \"/home/kalfasyan/data/wingbeats/Fruitflies_flytrap_rpi/from_rpi/Suzukii/test/\"\n",
    "wbpf = WingbeatDatasetProfiler(dsname=dspath, custom_label=[1], rpiformat=True)\n",
    "wbpf.df = wbpf.df.query(selection)\n",
    "\n",
    "evaluate_data(wbpf.df, model, batch_size=16, transforms_list=[Bandpass(lowcut=140, highcut=1500), TransformWingbeat(setting='psdl2')])"
   ]
  },
  {
   "cell_type": "markdown",
   "id": "3acf19e9-33d8-4ec2-9213-16aa78c41790",
   "metadata": {},
   "source": [
    "# SD card data"
   ]
  },
  {
   "cell_type": "code",
   "execution_count": 10,
   "id": "c5651e98-73d0-404a-9171-51e08f99ed72",
   "metadata": {},
   "outputs": [],
   "source": [
    "%reset -f\n",
    "%reload_ext autoreload\n",
    "%autoreload 2\n",
    "%matplotlib inline\n",
    "%config Completer.use_jedi = False"
   ]
  },
  {
   "cell_type": "code",
   "execution_count": 11,
   "id": "e1db1b81-3f63-4d5e-94c6-03521e63faec",
   "metadata": {},
   "outputs": [
    {
     "data": {
      "text/plain": [
       "Path('/home/kalfasyan/projects/wbai/data_created')"
      ]
     },
     "execution_count": 11,
     "metadata": {},
     "output_type": "execute_result"
    }
   ],
   "source": [
    "import sys\n",
    "sys.path.insert(0,\"..\")\n",
    "from profiler import *\n",
    "from utils import *\n",
    "from datasets import *\n",
    "from models import *\n",
    "from transforms import *\n",
    "import torch.nn as nn\n",
    "import torch.optim as optim\n",
    "import torchaudio\n",
    "from torch.utils.data import Dataset, ConcatDataset\n",
    "from torch.utils.data.sampler import SubsetRandomSampler\n",
    "from torchvision import datasets, transforms\n",
    "torchaudio.set_audio_backend('soundfile')\n",
    "\n",
    "transforms_list_test = [Bandpass(lowcut=140, highcut=1500), TransformWingbeat(setting='psdl2')]\n",
    "BASE_DATACREATEDDIR"
   ]
  },
  {
   "cell_type": "code",
   "execution_count": 12,
   "id": "73f94884-42c0-4118-9bab-a92360b9443c",
   "metadata": {},
   "outputs": [],
   "source": [
    "model = DrosophilaNetRAW(outputs=2, dropout_p=.2)\n",
    "optimizer = optim.Adam(model.parameters(), lr=0.001, eps=1e-3, amsgrad=True)\n",
    "model, optimizer = load_checkpoint(f'{BASE_DATACREATEDDIR}/model_psd_best.pth.tar', model, optimizer)\n",
    "model = model.to('cuda', dtype=torch.float)"
   ]
  },
  {
   "cell_type": "markdown",
   "id": "80750170-5171-490a-8b71-35e08ed06964",
   "metadata": {},
   "source": [
    "### Testing with new SD card data - Melanogasters"
   ]
  },
  {
   "cell_type": "code",
   "execution_count": 13,
   "id": "1a72a9f2-38c5-4da1-8244-1d65437c0672",
   "metadata": {},
   "outputs": [
    {
     "name": "stdout",
     "output_type": "stream",
     "text": [
      "Found 9993 in dataset: /home/kalfasyan/data/wingbeats/Fruitflies_flytrap_rpi/from_sd/Melanogaster/test/, and 1 label(s): ['from_sd']\n",
      "Label(s) changed to [0]\n"
     ]
    },
    {
     "name": "stderr",
     "output_type": "stream",
     "text": [
      "Collecting all data from the dataloader..: 625it [00:04, 154.89it/s]                         \n"
     ]
    },
    {
     "name": "stdout",
     "output_type": "stream",
     "text": [
      "Creating a pandas Dataframe with file-paths, clean-scores, duration, sums of abs values, indice and labels..\n",
      "Finished.\n"
     ]
    },
    {
     "ename": "NameError",
     "evalue": "name 'selection' is not defined",
     "output_type": "error",
     "traceback": [
      "\u001b[0;31m---------------------------------------------------------------------------\u001b[0m",
      "\u001b[0;31mNameError\u001b[0m                                 Traceback (most recent call last)",
      "\u001b[0;32m<ipython-input-13-7467eb9c9a6c>\u001b[0m in \u001b[0;36m<module>\u001b[0;34m\u001b[0m\n\u001b[1;32m      1\u001b[0m \u001b[0mdspath\u001b[0m \u001b[0;34m=\u001b[0m \u001b[0;34m\"/home/kalfasyan/data/wingbeats/Fruitflies_flytrap_rpi/from_sd/Melanogaster/test/\"\u001b[0m\u001b[0;34m\u001b[0m\u001b[0;34m\u001b[0m\u001b[0m\n\u001b[1;32m      2\u001b[0m \u001b[0mwbpf\u001b[0m \u001b[0;34m=\u001b[0m \u001b[0mWingbeatDatasetProfiler\u001b[0m\u001b[0;34m(\u001b[0m\u001b[0mdsname\u001b[0m\u001b[0;34m=\u001b[0m\u001b[0mdspath\u001b[0m\u001b[0;34m,\u001b[0m \u001b[0mcustom_label\u001b[0m\u001b[0;34m=\u001b[0m\u001b[0;34m[\u001b[0m\u001b[0;36m0\u001b[0m\u001b[0;34m]\u001b[0m\u001b[0;34m,\u001b[0m \u001b[0mrpiformat\u001b[0m\u001b[0;34m=\u001b[0m\u001b[0;32mFalse\u001b[0m\u001b[0;34m)\u001b[0m\u001b[0;34m\u001b[0m\u001b[0;34m\u001b[0m\u001b[0m\n\u001b[0;32m----> 3\u001b[0;31m \u001b[0mwbpf\u001b[0m\u001b[0;34m.\u001b[0m\u001b[0mdf\u001b[0m \u001b[0;34m=\u001b[0m \u001b[0mwbpf\u001b[0m\u001b[0;34m.\u001b[0m\u001b[0mdf\u001b[0m\u001b[0;34m.\u001b[0m\u001b[0mquery\u001b[0m\u001b[0;34m(\u001b[0m\u001b[0mselection\u001b[0m\u001b[0;34m)\u001b[0m\u001b[0;34m\u001b[0m\u001b[0;34m\u001b[0m\u001b[0m\n\u001b[0m\u001b[1;32m      4\u001b[0m \u001b[0;34m\u001b[0m\u001b[0m\n\u001b[1;32m      5\u001b[0m \u001b[0mevaluate_data\u001b[0m\u001b[0;34m(\u001b[0m\u001b[0mwbpf\u001b[0m\u001b[0;34m.\u001b[0m\u001b[0mdf\u001b[0m\u001b[0;34m,\u001b[0m \u001b[0mmodel\u001b[0m\u001b[0;34m,\u001b[0m \u001b[0mbatch_size\u001b[0m\u001b[0;34m=\u001b[0m\u001b[0;36m8\u001b[0m\u001b[0;34m,\u001b[0m \u001b[0mtransforms_list\u001b[0m\u001b[0;34m=\u001b[0m\u001b[0mtransforms_list_test\u001b[0m\u001b[0;34m)\u001b[0m\u001b[0;34m\u001b[0m\u001b[0;34m\u001b[0m\u001b[0m\n",
      "\u001b[0;31mNameError\u001b[0m: name 'selection' is not defined"
     ]
    }
   ],
   "source": [
    "dspath = \"/home/kalfasyan/data/wingbeats/Fruitflies_flytrap_rpi/from_sd/Melanogaster/test/\"\n",
    "wbpf = WingbeatDatasetProfiler(dsname=dspath, custom_label=[0], rpiformat=False)\n",
    "wbpf.df = wbpf.df.query(selection)\n",
    "\n",
    "evaluate_data(wbpf.df, model, batch_size=8, transforms_list=transforms_list_test)"
   ]
  },
  {
   "cell_type": "markdown",
   "id": "c9ba168d-bf5d-475b-9005-55d2f830e0e7",
   "metadata": {},
   "source": [
    "### Testing with new SD card data - Suzukiis"
   ]
  },
  {
   "cell_type": "code",
   "execution_count": null,
   "id": "011665fe-f335-4d5f-85eb-65cde2dffa1f",
   "metadata": {},
   "outputs": [],
   "source": [
    "dspath = \"/home/kalfasyan/data/wingbeats/Fruitflies_flytrap_rpi/from_sd/Suzukii/\"\n",
    "wbpf = WingbeatDatasetProfiler(dsname=dspath, custom_label=[1], rpiformat=False)\n",
    "wbpf.df = wbpf.df.query(selection)\n",
    "\n",
    "evaluate_data(wbpf.df, model, batch_size=8, transforms_list=transforms_list_test)"
   ]
  },
  {
   "cell_type": "markdown",
   "id": "70e0bae0-44c6-4495-b043-1b8b442f0113",
   "metadata": {},
   "source": [
    "### Testing with original controlled test set"
   ]
  },
  {
   "cell_type": "code",
   "execution_count": null,
   "id": "96dca0a4-2bc7-405b-abd9-e42f82429377",
   "metadata": {},
   "outputs": [],
   "source": [
    "test_df = pd.read_parquet('../data_created/suzmel_test.parquet')\n",
    "test_dataset = DataFrameset(pd.concat([test_df.iloc[:,0], test_df.iloc[:,1]], axis=1), transform=transforms.Compose(transforms_list_test))\n",
    "test_dataloader = DataLoader(test_dataset, batch_size=32, shuffle=False, num_workers=4, pin_memory=True)\n",
    "_ = test_model(model,test_dataloader, test_dataset)"
   ]
  },
  {
   "cell_type": "markdown",
   "id": "1949520f-d50f-405e-97d9-1492f7a19780",
   "metadata": {},
   "source": [
    "### Testing with remote-uncontrolled test set"
   ]
  },
  {
   "cell_type": "code",
   "execution_count": null,
   "id": "02cad0b1-890c-49a3-8e72-51845ff5813e",
   "metadata": {},
   "outputs": [],
   "source": [
    "extra_df = pd.read_csv('../data_created/suzmel_extra.csv')\n",
    "X_extra, y_extra = extra_df.iloc[:,0], extra_df.iloc[:,1]\n",
    "\n",
    "extra_dataset = DataFrameset(pd.concat([X_extra, y_extra], axis=1), transform=transforms.Compose(transforms_list_test))\n",
    "extra_dataloader = DataLoader(extra_dataset, batch_size=32, shuffle=False, num_workers=4, pin_memory=True, worker_init_fn=worker_init_fn)\n",
    "_ = test_model(model,extra_dataloader, extra_dataset)"
   ]
  },
  {
   "cell_type": "markdown",
   "id": "cd05b06d-1e6e-4cbd-ad0b-db7e37001bc3",
   "metadata": {},
   "source": [
    "# UMAP"
   ]
  },
  {
   "cell_type": "code",
   "execution_count": null,
   "id": "1cc04260-c509-48a5-99a6-6557a0b9fed7",
   "metadata": {},
   "outputs": [],
   "source": [
    "%reset -f\n",
    "%reload_ext autoreload\n",
    "%autoreload 2\n",
    "%matplotlib inline\n",
    "%config Completer.use_jedi = False"
   ]
  },
  {
   "cell_type": "code",
   "execution_count": null,
   "id": "d132d6db-36b1-489d-b0e3-7eaaf47a02ff",
   "metadata": {},
   "outputs": [],
   "source": [
    "import sys\n",
    "sys.path.insert(0,\"..\")\n",
    "from profiler import *\n",
    "from utils import *\n",
    "from datasets import *\n",
    "from models import *\n",
    "from transforms import *\n",
    "import torch.nn as nn\n",
    "import torch.optim as optim\n",
    "import torchaudio\n",
    "from torch.utils.data import Dataset, ConcatDataset\n",
    "from torch.utils.data.sampler import SubsetRandomSampler\n",
    "from torchvision import datasets, transforms\n",
    "torchaudio.set_audio_backend('soundfile')\n",
    "\n",
    "transforms_list_test = [Bandpass(lowcut=140, highcut=1500), TransformWingbeat(setting='psdl2')]\n",
    "BASE_DATACREATEDDIR"
   ]
  },
  {
   "cell_type": "code",
   "execution_count": null,
   "id": "61fb40de-ac0f-4cd6-ae8f-dc4e114c30ab",
   "metadata": {},
   "outputs": [],
   "source": [
    "model = DrosophilaNetRAW(outputs=2, dropout_p=.2)\n",
    "optimizer = optim.Adam(model.parameters(), lr=0.001, eps=1e-3, amsgrad=True)\n",
    "model, optimizer = load_checkpoint(f'{BASE_DATACREATEDDIR}/model_psd.pth.tar', model, optimizer)\n",
    "model = model.to('cuda', dtype=torch.float)"
   ]
  },
  {
   "cell_type": "code",
   "execution_count": null,
   "id": "a531c527-900b-42bb-8ec2-1b62243dbd5c",
   "metadata": {},
   "outputs": [],
   "source": [
    "model = nn.Sequential(*list(model.children())[:-1])\n",
    "list(model.children())[-1]"
   ]
  },
  {
   "cell_type": "code",
   "execution_count": null,
   "id": "a800dbc9-4b60-4b8b-abff-4b7c308d4502",
   "metadata": {},
   "outputs": [],
   "source": [
    "dspath = \"/home/kalfasyan/data/wingbeats/wingbeats_20211129/wingbeats_correct_dates/Melanogaster_202111_SD\"\n",
    "wbpf = WingbeatDatasetProfiler(dsname=dspath, custom_label=[2], rpiformat=False)\n",
    "\n",
    "maxpeaks = 15\n",
    "minpeaks = 1\n",
    "maxscore = 12\n",
    "minscore = 3.5\n",
    "selection = f\"peaks>{minpeaks} & peaks<{maxpeaks} & score>{minscore} & score<={maxscore}\"\n",
    "wbpf.df = wbpf.df.query(selection)\n",
    "\n",
    "new_dataset = DataFrameset(pd.concat([wbpf.df.iloc[:,0], wbpf.df.iloc[:,1]], axis=1), transform=transforms.Compose(transforms_list_test))\n",
    "new_dataloader = DataLoader(new_dataset, batch_size=32, shuffle=False)\n",
    "out_new = get_all_preds(model, new_dataloader)\n",
    "X_new_mel, y_new_mel = out_new[0].detach().cpu().numpy(), out_new[1].detach().cpu().numpy()"
   ]
  },
  {
   "cell_type": "code",
   "execution_count": null,
   "id": "acecc9cb-064a-4efd-a29f-b5c2292aaed7",
   "metadata": {},
   "outputs": [],
   "source": [
    "dspath = \"/home/kalfasyan/data/wingbeats/wingbeats_20211129/wingbeats_correct_dates/Suzukii_202111_SD/\"\n",
    "wbpf = WingbeatDatasetProfiler(dsname=dspath, custom_label=[3], rpiformat=False)\n",
    "\n",
    "maxpeaks = 15\n",
    "minpeaks = 1\n",
    "maxscore = 12\n",
    "minscore = 3.5\n",
    "selection = f\"peaks>{minpeaks} & peaks<{maxpeaks} & score>{minscore} & score<={maxscore}\"\n",
    "wbpf.df = wbpf.df.query(selection)\n",
    "\n",
    "new_dataset = DataFrameset(pd.concat([wbpf.df.iloc[:,0], wbpf.df.iloc[:,1]], axis=1), transform=transforms.Compose(transforms_list_test))\n",
    "new_dataloader = DataLoader(new_dataset, batch_size=32, shuffle=False)\n",
    "out_new = get_all_preds(model, new_dataloader)\n",
    "X_new_suz, y_new_suz = out_new[0].detach().cpu().numpy(), out_new[1].detach().cpu().numpy()"
   ]
  },
  {
   "cell_type": "code",
   "execution_count": null,
   "id": "04b8814c-f9e6-4378-ad0f-35ab33569194",
   "metadata": {},
   "outputs": [],
   "source": [
    "test_df = pd.read_parquet('../data_created/suzmel_test.parquet')\n",
    "test_dataset = DataFrameset(pd.concat([test_df.iloc[:,0], test_df.iloc[:,1]], axis=1), transform=transforms.Compose(transforms_list_test))\n",
    "test_dataloader = DataLoader(test_dataset, batch_size=32, shuffle=False, num_workers=4, pin_memory=True)\n",
    "\n",
    "out = get_all_preds(model, test_dataloader)\n",
    "X_test = out[0].detach().cpu().numpy()\n",
    "y_test = out[1].detach().cpu().numpy()"
   ]
  },
  {
   "cell_type": "code",
   "execution_count": null,
   "id": "91271c82-7ad7-43a5-bcb2-f8bfbc895b12",
   "metadata": {},
   "outputs": [],
   "source": [
    "# extra_df = pd.read_csv('../data_created/suzmel_extra.csv')\n",
    "# extra_dataset = DataFrameset(pd.concat([extra_df.iloc[:,0], extra_df.iloc[:,1]], axis=1), transform=transforms.Compose(transforms_list_test))\n",
    "# extra_dataloader = DataLoader(extra_dataset, batch_size=32, shuffle=False, num_workers=4, pin_memory=True, worker_init_fn=worker_init_fn)\n",
    "# out_xtra = get_all_preds(model, test_dataloader)\n",
    "# X_extra = out_xtra[0].detach().cpu().numpy()\n",
    "# y_extra = out_xtra[1].detach().cpu().numpy()"
   ]
  },
  {
   "cell_type": "code",
   "execution_count": null,
   "id": "1aa4950c-703e-4105-9c70-e01ed94c86fb",
   "metadata": {},
   "outputs": [],
   "source": []
  },
  {
   "cell_type": "code",
   "execution_count": null,
   "id": "14f9bec7-364b-4582-a0c2-30cd4531c7bb",
   "metadata": {},
   "outputs": [],
   "source": [
    "X_test_and_xtra = np.vstack((X_test))()#,X_new_mel,X_new_suz)).squeeze()\n",
    "y_test_and_xtra = np.hstack((y_test)).squeeze()#,y_new_mel,y_new_suz)).squeeze()"
   ]
  },
  {
   "cell_type": "code",
   "execution_count": null,
   "id": "39d7ad93-6607-49c6-896e-8a299c05befe",
   "metadata": {},
   "outputs": [],
   "source": [
    "import umap\n",
    "reducer = umap.UMAP()\n",
    "embedding = reducer.fit_transform(X_test_and_xtra)\n",
    "embedding.shape"
   ]
  },
  {
   "cell_type": "code",
   "execution_count": null,
   "id": "78011186-9560-420f-95d1-978f05488f56",
   "metadata": {},
   "outputs": [],
   "source": [
    "import seaborn as sns\n",
    "y_test_and_xtra.shape"
   ]
  },
  {
   "cell_type": "code",
   "execution_count": null,
   "id": "dd5c6e8e-43e3-4774-aac0-1f00cf39202a",
   "metadata": {},
   "outputs": [],
   "source": [
    "plt.figure(figsize=(14,14))\n",
    "sns.scatterplot(x=embedding[:,0], y=embedding[:,1], hue=y_test_and_xtra, alpha=0.5, palette='colorblind')"
   ]
  },
  {
   "cell_type": "code",
   "execution_count": null,
   "id": "e6e375fe-783f-4e18-a750-25d27e329b0f",
   "metadata": {},
   "outputs": [],
   "source": []
  },
  {
   "cell_type": "code",
   "execution_count": null,
   "id": "19ff6271-876c-404b-b9dd-426834e6e8e9",
   "metadata": {},
   "outputs": [],
   "source": []
  }
 ],
 "metadata": {
  "kernelspec": {
   "display_name": "Python 3",
   "language": "python",
   "name": "python3"
  },
  "language_info": {
   "codemirror_mode": {
    "name": "ipython",
    "version": 3
   },
   "file_extension": ".py",
   "mimetype": "text/x-python",
   "name": "python",
   "nbconvert_exporter": "python",
   "pygments_lexer": "ipython3",
   "version": "3.8.10"
  }
 },
 "nbformat": 4,
 "nbformat_minor": 5
}
