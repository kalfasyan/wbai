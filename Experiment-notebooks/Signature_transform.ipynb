{
 "cells": [
  {
   "cell_type": "code",
   "execution_count": 1,
   "id": "e39b8e2a-ff9a-4430-9ded-99edfab71d88",
   "metadata": {},
   "outputs": [],
   "source": [
    "%reset -f\n",
    "%reload_ext autoreload\n",
    "%autoreload 2\n",
    "%matplotlib inline\n",
    "%config Completer.use_jedi = False"
   ]
  },
  {
   "cell_type": "code",
   "execution_count": 2,
   "id": "0188273e-a34c-43a8-b794-ffb268a3e2ac",
   "metadata": {},
   "outputs": [
    {
     "name": "stdout",
     "output_type": "stream",
     "text": [
      "Available workers: 16\n"
     ]
    }
   ],
   "source": [
    "import sys\n",
    "sys.path.insert(0,\"..\")\n",
    "from tqdm import tqdm\n",
    "# from tqdm.notebook import tqdm as tqdm\n",
    "import numpy as np\n",
    "import pandas as pd\n",
    "import torch\n",
    "torch.manual_seed(42)\n",
    "import torch.nn as nn\n",
    "import torch.optim as optim\n",
    "import torchaudio\n",
    "from torch.utils.data import Dataset, ConcatDataset\n",
    "from torch.utils.data.sampler import SubsetRandomSampler\n",
    "from torchvision import datasets, transforms\n",
    "torchaudio.set_audio_backend('soundfile')\n",
    "import os\n",
    "import random\n",
    "from pathlib import Path\n",
    "from sklearn.model_selection import train_test_split\n",
    "import matplotlib.pyplot as plt\n",
    "import psutil\n",
    "import requests\n",
    "import seaborn as sns\n",
    "\n",
    "from utils import *\n",
    "from datasets import *\n",
    "from models import *\n",
    "from transforms import *\n",
    "from profiler import *\n",
    "import signatory"
   ]
  },
  {
   "cell_type": "code",
   "execution_count": null,
   "id": "dc53b49d-a961-4a55-b200-8d11ac21cd76",
   "metadata": {},
   "outputs": [],
   "source": []
  },
  {
   "cell_type": "code",
   "execution_count": 3,
   "id": "1ee8db7b-7577-4e68-b786-5a74524dafcd",
   "metadata": {},
   "outputs": [
    {
     "name": "stdout",
     "output_type": "stream",
     "text": [
      "Found 19657 in dataset: Suzukii_RL/X, and 1 label(s): ['D. suzukii']\n",
      "Label(s) changed to [1]\n"
     ]
    },
    {
     "name": "stderr",
     "output_type": "stream",
     "text": [
      "Collecting all data from the dataloader..: 1229it [00:07, 167.84it/s]                          \n"
     ]
    },
    {
     "name": "stdout",
     "output_type": "stream",
     "text": [
      "Creating a pandas Dataframe with file-paths, clean-scores, duration, sums of abs values, indice and labels..\n",
      "Duration..\n",
      "Sum..\n",
      "Max..\n",
      "Bad chunk score\n",
      "Filename..\n",
      "Date..\n",
      "Date string..\n",
      "Datehour string..\n",
      "Finished.\n"
     ]
    }
   ],
   "source": [
    "dsuz2 = WingbeatDatasetProfiler(dsname=\"Suzukii_RL/X\", custom_label=[1])"
   ]
  },
  {
   "cell_type": "code",
   "execution_count": 4,
   "id": "18b45508-5298-4df6-bead-864b63c16583",
   "metadata": {},
   "outputs": [
    {
     "data": {
      "text/plain": [
       "torch.Size([1, 5000, 1])"
      ]
     },
     "execution_count": 4,
     "metadata": {},
     "output_type": "execute_result"
    }
   ],
   "source": []
  },
  {
   "cell_type": "code",
   "execution_count": null,
   "id": "b668418d-c4c2-4431-8898-566f39eb1c6f",
   "metadata": {},
   "outputs": [],
   "source": []
  },
  {
   "cell_type": "code",
   "execution_count": 41,
   "id": "274bb8a2-01dc-49a8-837a-8615a324411a",
   "metadata": {},
   "outputs": [
    {
     "data": {
      "text/plain": [
       "[<matplotlib.lines.Line2D at 0x7f11ca772580>]"
      ]
     },
     "execution_count": 41,
     "metadata": {},
     "output_type": "execute_result"
    },
    {
     "data": {
      "image/png": "[encoded data removed]",
      "text/plain": [
       "<Figure size 432x288 with 1 Axes>"
      ]
     },
     "metadata": {
      "needs_background": "light"
     },
     "output_type": "display_data"
    }
   ],
   "source": [
    "import signatory\n",
    "\n",
    "sig = dsuz2.wbts[][0]\n",
    "sig.unsqueeze(-1).shape\n",
    "batch, stream, channels = 1, 10, 1\n",
    "depth = 30\n",
    "path = sig.unsqueeze(-1)#torch.rand(batch, stream, channels)\n",
    "signature = signatory.signature(path, depth)\n",
    "# signature is a PyTorch tensor\n",
    "plt.plot(signature.T, '.')"
   ]
  },
  {
   "cell_type": "code",
   "execution_count": null,
   "id": "2a41fbed-18f8-4434-be48-98798963e743",
   "metadata": {},
   "outputs": [],
   "source": []
  },
  {
   "cell_type": "code",
   "execution_count": null,
   "id": "855cd9fd-12bb-4e43-b648-948eb6ed1d63",
   "metadata": {},
   "outputs": [],
   "source": []
  },
  {
   "cell_type": "code",
   "execution_count": null,
   "id": "6ee74d7c-6b68-48af-91a7-04f04b5c5d65",
   "metadata": {},
   "outputs": [],
   "source": []
  }
 ],
 "metadata": {
  "kernelspec": {
   "display_name": "Python [conda env:wbai] *",
   "language": "python",
   "name": "conda-env-wbai-py"
  },
  "language_info": {
   "codemirror_mode": {
    "name": "ipython",
    "version": 3
   },
   "file_extension": ".py",
   "mimetype": "text/x-python",
   "name": "python",
   "nbconvert_exporter": "python",
   "pygments_lexer": "ipython3",
   "version": "3.8.10"
  }
 },
 "nbformat": 4,
 "nbformat_minor": 5
}
