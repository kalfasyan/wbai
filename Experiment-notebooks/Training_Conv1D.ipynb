{
 "cells": [
  {
   "cell_type": "code",
   "execution_count": 1,
   "metadata": {},
   "outputs": [],
   "source": [
    "%reset -f\n",
    "%reload_ext autoreload\n",
    "%autoreload 2\n",
    "%matplotlib inline\n",
    "%config Completer.use_jedi = False"
   ]
  },
  {
   "cell_type": "code",
   "execution_count": 2,
   "metadata": {},
   "outputs": [
    {
     "name": "stdout",
     "output_type": "stream",
     "text": [
      "Available workers: 16\n"
     ]
    }
   ],
   "source": [
    "import sys\n",
    "sys.path.insert(0,\"..\")\n",
    "from tqdm import tqdm\n",
    "# from tqdm.notebook import tqdm as tqdm\n",
    "import numpy as np\n",
    "import pandas as pd\n",
    "import torch\n",
    "torch.backends.cudnn.benchmark = True\n",
    "torch.manual_seed(42)\n",
    "import torch.nn as nn\n",
    "import torch.optim as optim\n",
    "import torchaudio\n",
    "from torch.utils.data import Dataset, ConcatDataset\n",
    "from torch.utils.data.sampler import SubsetRandomSampler\n",
    "from torchvision import datasets, transforms\n",
    "torchaudio.set_audio_backend('soundfile')\n",
    "import os\n",
    "import random\n",
    "from pathlib import Path\n",
    "from IPython.display import Audio\n",
    "\n",
    "import matplotlib.pyplot as plt\n",
    "import psutil\n",
    "import requests\n",
    "from sklearn.model_selection import train_test_split\n",
    "from utils import *\n",
    "from datasets import *\n",
    "from models import *\n",
    "from transforms import *\n",
    "from sklearn.metrics import confusion_matrix, balanced_accuracy_score\n",
    "import  seaborn as sns"
   ]
  },
  {
   "cell_type": "code",
   "execution_count": 3,
   "metadata": {},
   "outputs": [],
   "source": [
    "train_or_load_pretrained = \"train\" # Set this to \"train\" if you want to train a new network\n",
    "num_epochs = 35\n",
    "batch_size = 32\n",
    "batch_size_val = 32\n",
    "validation_split = .3\n",
    "shuffle_dataset = True\n",
    "num_workers = 4\n",
    "random_seed= 42\n",
    "setting = 'raw'\n",
    "modeltype = 'wingbeatraw' #'inception' #wingbeatraw\n",
    "normalize = \"\"#\"sample\"\n",
    "\n",
    "train_df = pd.read_parquet('../data_created/suzmel_train.parquet')\n",
    "test_df = pd.read_parquet('../data_created/suzmel_test.parquet')\n",
    "\n",
    "transforms_list_train = [Bandpass(lowcut=140, highcut=1500), RandomRoll(p=1.) ,RandomFlip(), RandomNoise(p=7.)]#, RandomNoise(), RandomRoll()]\n",
    "transforms_list_test = [Bandpass(lowcut=140, highcut=1500)]\n"
   ]
  },
  {
   "cell_type": "code",
   "execution_count": 4,
   "metadata": {},
   "outputs": [],
   "source": [
    "X, y = train_df.iloc[:, 0], train_df.iloc[:, 1]\n",
    "X_train, X_valid, y_train, y_valid = train_test_split(X, y, test_size=0.13, shuffle=True, random_state=42, stratify=y)\n",
    "X_test, y_test = test_df.iloc[:,0], test_df.iloc[:,1]\n",
    "\n",
    "train_dataset = DataFrameset(pd.concat([X_train, y_train], axis=1), transform=transforms.Compose(transforms_list_train))\n",
    "valid_dataset = DataFrameset(pd.concat([X_valid, y_valid], axis=1), transform=transforms.Compose(transforms_list_test))\n",
    "test_dataset = DataFrameset(pd.concat([X_test, y_test], axis=1), transform=transforms.Compose(transforms_list_test))\n",
    "\n",
    "train_dataloader = DataLoader(train_dataset, batch_size=batch_size, shuffle=True, num_workers=4, pin_memory=True, worker_init_fn=worker_init_fn)\n",
    "valid_dataloader = DataLoader(valid_dataset, batch_size=batch_size_val, shuffle=True, num_workers=4, pin_memory=True, worker_init_fn=worker_init_fn)\n",
    "test_dataloader = DataLoader(test_dataset, batch_size=batch_size_val, shuffle=False, num_workers=4, pin_memory=True, worker_init_fn=worker_init_fn)"
   ]
  },
  {
   "cell_type": "code",
   "execution_count": 5,
   "metadata": {},
   "outputs": [
    {
     "data": {
      "image/png": "[encoded data removed]",
      "text/plain": [
       "<Figure size 432x288 with 1 Axes>"
      ]
     },
     "metadata": {
      "needs_background": "light"
     },
     "output_type": "display_data"
    }
   ],
   "source": [
    "plot_wingbeat(train_dataset, idx=2)"
   ]
  },
  {
   "cell_type": "code",
   "execution_count": 6,
   "metadata": {},
   "outputs": [],
   "source": [
    "outs = 2\n",
    "if modeltype == 'wingbeatraw':\n",
    "    model = DrosophilaNetRAW(outputs=outs, dropout_p=.2)\n",
    "elif modeltype == 'inception':\n",
    "    model = nn.Sequential(\n",
    "                    InceptionBlock(\n",
    "                        in_channels=1, \n",
    "                        n_filters=32, \n",
    "                        kernel_sizes=[5, 11, 23],\n",
    "                        bottleneck_channels=32,\n",
    "                        use_residual=True,\n",
    "                        activation=nn.ReLU()\n",
    "                    ),\n",
    "                    InceptionBlock(\n",
    "                        in_channels=32*4, \n",
    "                        n_filters=32, \n",
    "                        kernel_sizes=[5, 11, 23],\n",
    "                        bottleneck_channels=32,\n",
    "                        use_residual=True,\n",
    "                        activation=nn.ReLU()\n",
    "                    ),\n",
    "                    nn.AdaptiveAvgPool1d(output_size=1),\n",
    "                    Flatten(out_features=32*4*1),\n",
    "                    nn.Linear(in_features=4*32*1, out_features=outs))\n",
    "\n",
    "class_sample_count = np.unique(y_train, return_counts=True)[1]\n",
    "weight = 1. / class_sample_count    \n",
    "\n",
    "if outs == 1:\n",
    "    criterion = torch.nn.BCEWithLogitsLoss(label_smoothing=0.25)#weight=torch.Tensor(weight).cuda())\n",
    "elif outs == 2:\n",
    "    criterion = nn.CrossEntropyLoss(label_smoothing=0.25)#weight=torch.Tensor(weight).cuda())\n",
    "\n",
    "optimizer = optim.Adam(model.parameters(), lr=0.001, eps=1e-3, amsgrad=True)\n",
    "scheduler = torch.optim.lr_scheduler.CyclicLR(optimizer, base_lr=0.0001, max_lr=0.01, cycle_momentum=False, mode=\"triangular\")\n",
    "# early_stopping = EarlyStopping(patience=10, verbose=1)"
   ]
  },
  {
   "cell_type": "code",
   "execution_count": null,
   "metadata": {},
   "outputs": [],
   "source": []
  },
  {
   "cell_type": "markdown",
   "metadata": {},
   "source": [
    "## Training"
   ]
  },
  {
   "cell_type": "code",
   "execution_count": 7,
   "metadata": {
    "tags": []
   },
   "outputs": [
    {
     "name": "stdout",
     "output_type": "stream",
     "text": [
      "Train on gpu: True\n"
     ]
    },
    {
     "name": "stderr",
     "output_type": "stream",
     "text": [
      "Training..\t: 100%|██████████| 812/812 [00:25<00:00, 31.59it/s]\n",
      "Validating..\t: 100%|██████████| 122/122 [00:01<00:00, 101.73it/s]\n"
     ]
    },
    {
     "name": "stdout",
     "output_type": "stream",
     "text": [
      "Epoch 0: train_acc: 86.1% loss: 0.5512023,  val_loss: 0.4501366 val_acc: 91.7%\n",
      "Validation accuracy improved from 0.00 to 91.68. Saving model..\n"
     ]
    },
    {
     "name": "stderr",
     "output_type": "stream",
     "text": [
      "Training..\t: 100%|██████████| 812/812 [00:24<00:00, 32.51it/s]\n",
      "Validating..\t: 100%|██████████| 122/122 [00:01<00:00, 103.20it/s]\n"
     ]
    },
    {
     "name": "stdout",
     "output_type": "stream",
     "text": [
      "Epoch 1: train_acc: 90.6% loss: 0.4318757,  val_loss: 0.4465641 val_acc: 93.4%\n",
      "Validation accuracy improved from 91.68 to 93.35. Saving model..\n"
     ]
    },
    {
     "name": "stderr",
     "output_type": "stream",
     "text": [
      "Training..\t: 100%|██████████| 812/812 [00:25<00:00, 32.41it/s]\n",
      "Validating..\t: 100%|██████████| 122/122 [00:01<00:00, 103.00it/s]\n"
     ]
    },
    {
     "name": "stdout",
     "output_type": "stream",
     "text": [
      "Epoch 2: train_acc: 92.0% loss: 0.6366655,  val_loss: 0.4474437 val_acc: 94.4%\n",
      "Validation accuracy improved from 93.35 to 94.38. Saving model..\n"
     ]
    },
    {
     "name": "stderr",
     "output_type": "stream",
     "text": [
      "Training..\t: 100%|██████████| 812/812 [00:25<00:00, 32.38it/s]\n",
      "Validating..\t: 100%|██████████| 122/122 [00:01<00:00, 102.92it/s]\n"
     ]
    },
    {
     "name": "stdout",
     "output_type": "stream",
     "text": [
      "Epoch 3: train_acc: 93.1% loss: 0.4868247,  val_loss: 0.4503094 val_acc: 92.6%\n"
     ]
    },
    {
     "name": "stderr",
     "output_type": "stream",
     "text": [
      "Training..\t: 100%|██████████| 812/812 [00:25<00:00, 32.44it/s]\n",
      "Validating..\t: 100%|██████████| 122/122 [00:01<00:00, 102.66it/s]\n"
     ]
    },
    {
     "name": "stdout",
     "output_type": "stream",
     "text": [
      "Epoch 4: train_acc: 93.7% loss: 0.4450972,  val_loss: 0.3924965 val_acc: 94.9%\n",
      "Validation accuracy improved from 94.38 to 94.90. Saving model..\n"
     ]
    },
    {
     "name": "stderr",
     "output_type": "stream",
     "text": [
      "Training..\t: 100%|██████████| 812/812 [00:25<00:00, 32.27it/s]\n",
      "Validating..\t: 100%|██████████| 122/122 [00:01<00:00, 94.34it/s] \n"
     ]
    },
    {
     "name": "stdout",
     "output_type": "stream",
     "text": [
      "Epoch 5: train_acc: 94.3% loss: 0.4215958,  val_loss: 0.4323674 val_acc: 95.5%\n",
      "Validation accuracy improved from 94.90 to 95.47. Saving model..\n"
     ]
    },
    {
     "name": "stderr",
     "output_type": "stream",
     "text": [
      "Training..\t: 100%|██████████| 812/812 [00:25<00:00, 32.26it/s]\n",
      "Validating..\t: 100%|██████████| 122/122 [00:01<00:00, 103.68it/s]\n"
     ]
    },
    {
     "name": "stdout",
     "output_type": "stream",
     "text": [
      "Epoch 6: train_acc: 94.5% loss: 0.4125859,  val_loss: 0.4209228 val_acc: 95.0%\n"
     ]
    },
    {
     "name": "stderr",
     "output_type": "stream",
     "text": [
      "Training..\t: 100%|██████████| 812/812 [00:25<00:00, 32.43it/s]\n",
      "Validating..\t: 100%|██████████| 122/122 [00:01<00:00, 103.61it/s]\n"
     ]
    },
    {
     "name": "stdout",
     "output_type": "stream",
     "text": [
      "Epoch 7: train_acc: 94.8% loss: 0.4196008,  val_loss: 0.4910568 val_acc: 96.2%\n",
      "Validation accuracy improved from 95.47 to 96.24. Saving model..\n"
     ]
    },
    {
     "name": "stderr",
     "output_type": "stream",
     "text": [
      "Training..\t: 100%|██████████| 812/812 [00:25<00:00, 32.27it/s]\n",
      "Validating..\t: 100%|██████████| 122/122 [00:01<00:00, 87.76it/s] \n"
     ]
    },
    {
     "name": "stdout",
     "output_type": "stream",
     "text": [
      "Epoch 8: train_acc: 95.1% loss: 0.4197708,  val_loss: 0.4061906 val_acc: 94.7%\n"
     ]
    },
    {
     "name": "stderr",
     "output_type": "stream",
     "text": [
      "Training..\t: 100%|██████████| 812/812 [00:25<00:00, 32.33it/s]\n",
      "Validating..\t: 100%|██████████| 122/122 [00:01<00:00, 103.16it/s]\n"
     ]
    },
    {
     "name": "stdout",
     "output_type": "stream",
     "text": [
      "Epoch 9: train_acc: 95.0% loss: 0.4598656,  val_loss: 0.4016660 val_acc: 96.5%\n",
      "Validation accuracy improved from 96.24 to 96.47. Saving model..\n"
     ]
    },
    {
     "name": "stderr",
     "output_type": "stream",
     "text": [
      "Training..\t: 100%|██████████| 812/812 [00:25<00:00, 32.27it/s]\n",
      "Validating..\t: 100%|██████████| 122/122 [00:01<00:00, 104.19it/s]\n"
     ]
    },
    {
     "name": "stdout",
     "output_type": "stream",
     "text": [
      "Epoch 10: train_acc: 95.5% loss: 0.7165217,  val_loss: 0.4039384 val_acc: 96.6%\n",
      "Validation accuracy improved from 96.47 to 96.60. Saving model..\n"
     ]
    },
    {
     "name": "stderr",
     "output_type": "stream",
     "text": [
      "Training..\t: 100%|██████████| 812/812 [00:25<00:00, 32.33it/s]\n",
      "Validating..\t: 100%|██████████| 122/122 [00:01<00:00, 103.74it/s]\n"
     ]
    },
    {
     "name": "stdout",
     "output_type": "stream",
     "text": [
      "Epoch 11: train_acc: 95.4% loss: 0.4812558,  val_loss: 0.4351926 val_acc: 97.4%\n",
      "Validation accuracy improved from 96.60 to 97.45. Saving model..\n"
     ]
    },
    {
     "name": "stderr",
     "output_type": "stream",
     "text": [
      "Training..\t: 100%|██████████| 812/812 [00:25<00:00, 32.28it/s]\n",
      "Validating..\t: 100%|██████████| 122/122 [00:01<00:00, 104.27it/s]\n"
     ]
    },
    {
     "name": "stdout",
     "output_type": "stream",
     "text": [
      "Epoch 12: train_acc: 95.9% loss: 0.4595067,  val_loss: 0.4456865 val_acc: 95.9%\n"
     ]
    },
    {
     "name": "stderr",
     "output_type": "stream",
     "text": [
      "Training..\t: 100%|██████████| 812/812 [00:25<00:00, 32.28it/s]\n",
      "Validating..\t: 100%|██████████| 122/122 [00:01<00:00, 104.11it/s]\n"
     ]
    },
    {
     "name": "stdout",
     "output_type": "stream",
     "text": [
      "Epoch 13: train_acc: 95.9% loss: 0.4001194,  val_loss: 0.4346806 val_acc: 96.5%\n"
     ]
    },
    {
     "name": "stderr",
     "output_type": "stream",
     "text": [
      "Training..\t: 100%|██████████| 812/812 [00:25<00:00, 32.34it/s]\n",
      "Validating..\t: 100%|██████████| 122/122 [00:01<00:00, 102.78it/s]\n"
     ]
    },
    {
     "name": "stdout",
     "output_type": "stream",
     "text": [
      "Epoch 14: train_acc: 95.9% loss: 0.4578255,  val_loss: 0.4425395 val_acc: 95.8%\n"
     ]
    },
    {
     "name": "stderr",
     "output_type": "stream",
     "text": [
      "Training..\t: 100%|██████████| 812/812 [00:25<00:00, 32.40it/s]\n",
      "Validating..\t: 100%|██████████| 122/122 [00:01<00:00, 100.66it/s]\n"
     ]
    },
    {
     "name": "stdout",
     "output_type": "stream",
     "text": [
      "Epoch 15: train_acc: 96.0% loss: 0.4230908,  val_loss: 0.3984763 val_acc: 97.1%\n"
     ]
    },
    {
     "name": "stderr",
     "output_type": "stream",
     "text": [
      "Training..\t: 100%|██████████| 812/812 [00:25<00:00, 32.32it/s]\n",
      "Validating..\t: 100%|██████████| 122/122 [00:01<00:00, 101.82it/s]\n"
     ]
    },
    {
     "name": "stdout",
     "output_type": "stream",
     "text": [
      "Epoch 16: train_acc: 96.3% loss: 0.4357194,  val_loss: 0.5023185 val_acc: 96.9%\n"
     ]
    },
    {
     "name": "stderr",
     "output_type": "stream",
     "text": [
      "Training..\t: 100%|██████████| 812/812 [00:25<00:00, 32.40it/s]\n",
      "Validating..\t: 100%|██████████| 122/122 [00:01<00:00, 103.42it/s]\n"
     ]
    },
    {
     "name": "stdout",
     "output_type": "stream",
     "text": [
      "Epoch 17: train_acc: 96.1% loss: 0.4358740,  val_loss: 0.4330319 val_acc: 97.3%\n"
     ]
    },
    {
     "name": "stderr",
     "output_type": "stream",
     "text": [
      "Training..\t: 100%|██████████| 812/812 [00:25<00:00, 32.42it/s]\n",
      "Validating..\t: 100%|██████████| 122/122 [00:01<00:00, 101.84it/s]\n"
     ]
    },
    {
     "name": "stdout",
     "output_type": "stream",
     "text": [
      "Epoch 18: train_acc: 96.4% loss: 0.4459690,  val_loss: 0.4072374 val_acc: 97.6%\n",
      "Validation accuracy improved from 97.45 to 97.63. Saving model..\n"
     ]
    },
    {
     "name": "stderr",
     "output_type": "stream",
     "text": [
      "Training..\t: 100%|██████████| 812/812 [00:25<00:00, 32.33it/s]\n",
      "Validating..\t: 100%|██████████| 122/122 [00:01<00:00, 103.44it/s]\n"
     ]
    },
    {
     "name": "stdout",
     "output_type": "stream",
     "text": [
      "Epoch 19: train_acc: 96.4% loss: 0.4208227,  val_loss: 0.4231822 val_acc: 97.8%\n",
      "Validation accuracy improved from 97.63 to 97.78. Saving model..\n"
     ]
    },
    {
     "name": "stderr",
     "output_type": "stream",
     "text": [
      "Training..\t: 100%|██████████| 812/812 [00:25<00:00, 32.27it/s]\n",
      "Validating..\t: 100%|██████████| 122/122 [00:01<00:00, 104.11it/s]\n"
     ]
    },
    {
     "name": "stdout",
     "output_type": "stream",
     "text": [
      "Epoch 20: train_acc: 96.5% loss: 0.4151374,  val_loss: 0.4238881 val_acc: 97.3%\n"
     ]
    },
    {
     "name": "stderr",
     "output_type": "stream",
     "text": [
      "Training..\t: 100%|██████████| 812/812 [00:25<00:00, 32.08it/s]\n",
      "Validating..\t: 100%|██████████| 122/122 [00:01<00:00, 103.30it/s]\n"
     ]
    },
    {
     "name": "stdout",
     "output_type": "stream",
     "text": [
      "Epoch 21: train_acc: 96.7% loss: 0.4248959,  val_loss: 0.4138906 val_acc: 97.6%\n"
     ]
    },
    {
     "name": "stderr",
     "output_type": "stream",
     "text": [
      "Training..\t: 100%|██████████| 812/812 [00:25<00:00, 32.38it/s]\n",
      "Validating..\t: 100%|██████████| 122/122 [00:01<00:00, 102.58it/s]\n"
     ]
    },
    {
     "name": "stdout",
     "output_type": "stream",
     "text": [
      "Epoch 22: train_acc: 96.7% loss: 0.4287352,  val_loss: 0.4442249 val_acc: 97.3%\n"
     ]
    },
    {
     "name": "stderr",
     "output_type": "stream",
     "text": [
      "Training..\t: 100%|██████████| 812/812 [00:25<00:00, 32.34it/s]\n",
      "Validating..\t: 100%|██████████| 122/122 [00:01<00:00, 101.89it/s]\n"
     ]
    },
    {
     "name": "stdout",
     "output_type": "stream",
     "text": [
      "Epoch 23: train_acc: 96.7% loss: 0.5267441,  val_loss: 0.4206993 val_acc: 97.3%\n"
     ]
    },
    {
     "name": "stderr",
     "output_type": "stream",
     "text": [
      "Training..\t: 100%|██████████| 812/812 [00:25<00:00, 32.34it/s]\n",
      "Validating..\t: 100%|██████████| 122/122 [00:01<00:00, 98.27it/s] \n"
     ]
    },
    {
     "name": "stdout",
     "output_type": "stream",
     "text": [
      "Epoch 24: train_acc: 96.8% loss: 0.4975871,  val_loss: 0.3994315 val_acc: 97.5%\n"
     ]
    },
    {
     "name": "stderr",
     "output_type": "stream",
     "text": [
      "Training..\t: 100%|██████████| 812/812 [00:25<00:00, 32.28it/s]\n",
      "Validating..\t: 100%|██████████| 122/122 [00:01<00:00, 103.25it/s]\n"
     ]
    },
    {
     "name": "stdout",
     "output_type": "stream",
     "text": [
      "Epoch 25: train_acc: 96.8% loss: 0.4190948,  val_loss: 0.4039896 val_acc: 97.5%\n"
     ]
    },
    {
     "name": "stderr",
     "output_type": "stream",
     "text": [
      "Training..\t: 100%|██████████| 812/812 [00:25<00:00, 32.39it/s]\n",
      "Validating..\t: 100%|██████████| 122/122 [00:01<00:00, 102.10it/s]\n"
     ]
    },
    {
     "name": "stdout",
     "output_type": "stream",
     "text": [
      "Epoch 26: train_acc: 96.9% loss: 0.3929811,  val_loss: 0.3900999 val_acc: 97.8%\n"
     ]
    },
    {
     "name": "stderr",
     "output_type": "stream",
     "text": [
      "Training..\t: 100%|██████████| 812/812 [00:25<00:00, 32.36it/s]\n",
      "Validating..\t: 100%|██████████| 122/122 [00:01<00:00, 103.23it/s]\n"
     ]
    },
    {
     "name": "stdout",
     "output_type": "stream",
     "text": [
      "Epoch 27: train_acc: 97.2% loss: 0.4122535,  val_loss: 0.4043281 val_acc: 94.9%\n"
     ]
    },
    {
     "name": "stderr",
     "output_type": "stream",
     "text": [
      "Training..\t: 100%|██████████| 812/812 [00:25<00:00, 32.33it/s]\n",
      "Validating..\t: 100%|██████████| 122/122 [00:01<00:00, 102.11it/s]\n"
     ]
    },
    {
     "name": "stdout",
     "output_type": "stream",
     "text": [
      "Epoch 28: train_acc: 97.1% loss: 0.4069513,  val_loss: 0.4382389 val_acc: 97.5%\n"
     ]
    },
    {
     "name": "stderr",
     "output_type": "stream",
     "text": [
      "Training..\t: 100%|██████████| 812/812 [00:25<00:00, 32.36it/s]\n",
      "Validating..\t: 100%|██████████| 122/122 [00:01<00:00, 103.37it/s]\n"
     ]
    },
    {
     "name": "stdout",
     "output_type": "stream",
     "text": [
      "Epoch 29: train_acc: 97.1% loss: 0.4948833,  val_loss: 0.3973616 val_acc: 97.4%\n"
     ]
    },
    {
     "name": "stderr",
     "output_type": "stream",
     "text": [
      "Training..\t: 100%|██████████| 812/812 [00:25<00:00, 32.42it/s]\n",
      "Validating..\t: 100%|██████████| 122/122 [00:01<00:00, 102.48it/s]\n"
     ]
    },
    {
     "name": "stdout",
     "output_type": "stream",
     "text": [
      "Epoch 30: train_acc: 97.2% loss: 0.4113395,  val_loss: 0.5121691 val_acc: 97.2%\n"
     ]
    },
    {
     "name": "stderr",
     "output_type": "stream",
     "text": [
      "Training..\t: 100%|██████████| 812/812 [00:25<00:00, 32.37it/s]\n",
      "Validating..\t: 100%|██████████| 122/122 [00:01<00:00, 101.56it/s]\n"
     ]
    },
    {
     "name": "stdout",
     "output_type": "stream",
     "text": [
      "Epoch 31: train_acc: 97.1% loss: 0.4513698,  val_loss: 0.4129052 val_acc: 97.6%\n"
     ]
    },
    {
     "name": "stderr",
     "output_type": "stream",
     "text": [
      "Training..\t: 100%|██████████| 812/812 [00:25<00:00, 32.29it/s]\n",
      "Validating..\t: 100%|██████████| 122/122 [00:01<00:00, 103.29it/s]\n"
     ]
    },
    {
     "name": "stdout",
     "output_type": "stream",
     "text": [
      "Epoch 32: train_acc: 97.3% loss: 0.4083056,  val_loss: 0.4230011 val_acc: 97.9%\n",
      "Validation accuracy improved from 97.78 to 97.86. Saving model..\n"
     ]
    },
    {
     "name": "stderr",
     "output_type": "stream",
     "text": [
      "Training..\t: 100%|██████████| 812/812 [00:25<00:00, 32.27it/s]\n",
      "Validating..\t: 100%|██████████| 122/122 [00:01<00:00, 101.34it/s]\n"
     ]
    },
    {
     "name": "stdout",
     "output_type": "stream",
     "text": [
      "Epoch 33: train_acc: 97.4% loss: 0.4451339,  val_loss: 0.4208741 val_acc: 97.9%\n",
      "Validation accuracy improved from 97.86 to 97.89. Saving model..\n"
     ]
    },
    {
     "name": "stderr",
     "output_type": "stream",
     "text": [
      "Training..\t: 100%|██████████| 812/812 [00:25<00:00, 32.29it/s]\n",
      "Validating..\t: 100%|██████████| 122/122 [00:01<00:00, 103.20it/s]\n"
     ]
    },
    {
     "name": "stdout",
     "output_type": "stream",
     "text": [
      "Epoch 34: train_acc: 97.3% loss: 0.3977250,  val_loss: 0.5451483 val_acc: 97.8%\n"
     ]
    }
   ],
   "source": [
    "if train_or_load_pretrained == 'train':\n",
    "    # Choosing whether to train on a gpu\n",
    "    train_on_gpu = torch.cuda.is_available()\n",
    "    print(f'Train on gpu: {train_on_gpu}')# Number of gpus\n",
    "    model = model.to('cuda', dtype=torch.float)\n",
    "\n",
    "    results = {\"loss\":[], \"val_loss\":[], \"train_accuracy\":[], \"valid_accuracy\":[]}\n",
    "    best_valacc = 0\n",
    "    # Model training\n",
    "    for epoch in range(num_epochs):\n",
    "        # Going through the training set\n",
    "        correct_train = 0\n",
    "        model.train()\n",
    "        for x_batch,y_batch,_,_ in tqdm(train_dataloader, desc='Training..\\t'):        \n",
    "            y_batch = torch.as_tensor(y_batch).type(torch.LongTensor)\n",
    "            x_batch,y_batch = x_batch.cuda(), y_batch.cuda()\n",
    "            for param in model.parameters():\n",
    "                param.grad = None\n",
    "            pred = model(x_batch)\n",
    "            if outs == 1:\n",
    "                y_batch = y_batch.type(torch.FloatTensor).cuda()\n",
    "                correct_train += ((pred>0.5).int().squeeze() == y_batch.squeeze()).float().sum().item()\n",
    "                loss = criterion(pred, y_batch.unsqueeze(1))\n",
    "            elif outs == 2:\n",
    "                y_batch = y_batch.type(torch.LongTensor).cuda()\n",
    "                correct_train += (pred.argmax(axis=1) == y_batch).float().sum().item()\n",
    "                loss = criterion(pred, y_batch)\n",
    "            loss.backward()\n",
    "            optimizer.step()\n",
    "        train_accuracy = correct_train / len(train_dataset) * 100.\n",
    "\n",
    "        # Going through the validation set\n",
    "        correct_valid = 0\n",
    "        model.eval()\n",
    "        for x_batch,y_batch,_,_ in tqdm(valid_dataloader, desc='Validating..\\t'):\n",
    "            y_batch = torch.as_tensor(y_batch)\n",
    "            x_batch,y_batch = x_batch.cuda(), y_batch.cuda()\n",
    "            pred = model(x_batch)\n",
    "            if outs == 1:\n",
    "                y_batch = y_batch.type(torch.FloatTensor).cuda()\n",
    "                correct_valid += ((pred>0.5).int().squeeze().cuda() == y_batch.squeeze()).float().sum().item()\n",
    "                val_loss = criterion(pred, y_batch.unsqueeze(1))\n",
    "            elif outs == 2:\n",
    "                y_batch = y_batch.type(torch.LongTensor).cuda()\n",
    "                correct_valid += (pred.argmax(axis=1) == y_batch).float().sum().item()\n",
    "                val_loss = criterion(pred, y_batch)\n",
    "        valid_accuracy = correct_valid / len(valid_dataset) * 100.\n",
    "\n",
    "        scheduler.step()\n",
    "    #     early_stopping(val_loss, model)\n",
    "    #     if early_stopping.early_stop:\n",
    "    #         print(\"Early stopping\")\n",
    "    #         break\n",
    "\n",
    "            # Printing results\n",
    "        print(f\"Epoch {epoch}: train_acc: {train_accuracy:.1f}% loss: {loss:.7f},  val_loss: {val_loss:.7f} val_acc: {valid_accuracy:.1f}%\")\n",
    "\n",
    "        is_best = valid_accuracy > best_valacc\n",
    "        if is_best:\n",
    "            print(f\"Validation accuracy improved from {best_valacc:.2f} to {valid_accuracy:.2f}. Saving model..\")\n",
    "        best_valacc = max(valid_accuracy, best_valacc)\n",
    "        save_checkpoint({\n",
    "            'epoch': epoch,\n",
    "            'state_dict': model.state_dict(),\n",
    "            'best_valacc': best_valacc,\n",
    "            'loss': results['loss'].append(loss.detach().cpu()),\n",
    "            'val_loss': results['val_loss'].append(val_loss.detach().cpu()),\n",
    "            'train_accuracy': results['train_accuracy'].append(train_accuracy),\n",
    "            'valid_accuracy': results['valid_accuracy'].append(valid_accuracy),\n",
    "            'optimizer' : optimizer.state_dict(),\n",
    "        }, is_best, \"model_time_202111\")\n",
    "elif train_or_load_pretrained == 'load':\n",
    "    model, optimizer = load_checkpoint(f'{BASE_DATACREATEDDIR}/{pretrained_modelname}.pth.tar', model, optimizer)\n",
    "    model = model.to('cuda', dtype=torch.float)\n",
    "else:\n",
    "    print(\"Set train_or_load_pretrained to either \\'train\\' or \\'load\\'\")"
   ]
  },
  {
   "cell_type": "code",
   "execution_count": null,
   "metadata": {},
   "outputs": [],
   "source": []
  },
  {
   "cell_type": "markdown",
   "metadata": {},
   "source": [
    "# MORE LAYERS?"
   ]
  },
  {
   "cell_type": "markdown",
   "metadata": {},
   "source": [
    "## Testing on test set"
   ]
  },
  {
   "cell_type": "code",
   "execution_count": 8,
   "metadata": {},
   "outputs": [],
   "source": [
    "model, optimizer = load_checkpoint(f'{BASE_DATACREATEDDIR}/model_best_time_signals.pth.tar', model, optimizer)"
   ]
  },
  {
   "cell_type": "code",
   "execution_count": 9,
   "metadata": {},
   "outputs": [
    {
     "name": "stderr",
     "output_type": "stream",
     "text": [
      "Testing..\t: 100%|██████████| 803/803 [00:40<00:00, 19.88it/s]"
     ]
    },
    {
     "name": "stdout",
     "output_type": "stream",
     "text": [
      "Accuracy: 91.99\n",
      "Balanced accuracy: 91.77\n",
      "Confusion matrix: \n",
      "[[0.87874536 0.12125464]\n",
      " [0.04328909 0.95671091]]\n"
     ]
    },
    {
     "name": "stderr",
     "output_type": "stream",
     "text": [
      "\n"
     ]
    }
   ],
   "source": [
    "model = model.to('cuda', dtype=torch.float)\n",
    "\n",
    "_ = test_model(model,test_dataloader, test_dataset)"
   ]
  },
  {
   "cell_type": "markdown",
   "metadata": {},
   "source": [
    "## Testing on extra mebios data"
   ]
  },
  {
   "cell_type": "code",
   "execution_count": 10,
   "metadata": {},
   "outputs": [],
   "source": [
    "extra_df = pd.read_parquet('../data_created/suzmel_extra.parquet')\n",
    "X_extra, y_extra = extra_df.iloc[:,0], extra_df.iloc[:,1]\n",
    "\n",
    "extra_dataset = DataFrameset(pd.concat([X_extra, y_extra], axis=1), transform=transforms.Compose(transforms_list_test))\n",
    "extra_dataloader = DataLoader(extra_dataset, batch_size=batch_size_val, shuffle=False, num_workers=4, pin_memory=True, worker_init_fn=worker_init_fn)"
   ]
  },
  {
   "cell_type": "code",
   "execution_count": 11,
   "metadata": {},
   "outputs": [
    {
     "name": "stderr",
     "output_type": "stream",
     "text": [
      "Testing..\t: 100%|██████████| 711/711 [00:05<00:00, 118.63it/s]"
     ]
    },
    {
     "name": "stdout",
     "output_type": "stream",
     "text": [
      "Accuracy: 92.97\n",
      "Balanced accuracy: 92.42\n",
      "Confusion matrix: \n",
      "[[0.91808874 0.08191126]\n",
      " [0.06972001 0.93027999]]\n"
     ]
    },
    {
     "name": "stderr",
     "output_type": "stream",
     "text": [
      "\n"
     ]
    }
   ],
   "source": [
    "_ = test_model(model,extra_dataloader, extra_dataset)"
   ]
  },
  {
   "cell_type": "code",
   "execution_count": null,
   "metadata": {},
   "outputs": [],
   "source": []
  },
  {
   "cell_type": "code",
   "execution_count": null,
   "metadata": {},
   "outputs": [],
   "source": []
  },
  {
   "cell_type": "code",
   "execution_count": null,
   "metadata": {},
   "outputs": [],
   "source": []
  },
  {
   "cell_type": "code",
   "execution_count": null,
   "metadata": {},
   "outputs": [],
   "source": []
  },
  {
   "cell_type": "code",
   "execution_count": 12,
   "metadata": {},
   "outputs": [],
   "source": [
    "def softmax_out(x):\n",
    "    return np.argmax(F.softmax(x, dim=1), axis=1).tolist()[0]"
   ]
  },
  {
   "cell_type": "code",
   "execution_count": 13,
   "metadata": {},
   "outputs": [],
   "source": [
    "from utils import get_all_preds"
   ]
  },
  {
   "cell_type": "code",
   "execution_count": 14,
   "metadata": {},
   "outputs": [
    {
     "name": "stderr",
     "output_type": "stream",
     "text": [
      "100%|██████████| 803/803 [00:06<00:00, 126.24it/s]\n"
     ]
    }
   ],
   "source": [
    "df_out = get_all_preds(model, test_dataloader, dataframe=True, final_nodes=2)"
   ]
  },
  {
   "cell_type": "code",
   "execution_count": 16,
   "metadata": {},
   "outputs": [
    {
     "data": {
      "image/png": "[encoded data removed]",
      "text/plain": [
       "<Figure size 1440x864 with 2 Axes>"
      ]
     },
     "metadata": {},
     "output_type": "display_data"
    }
   ],
   "source": [
    "cm = confusion_matrix(y_true = df_out.y, y_pred=df_out.softmax, normalize='true')\n",
    "\n",
    "sns.set(font_scale=1.9)\n",
    "plt.figure(figsize=(20,12))\n",
    "sns.heatmap(cm, annot=True, fmt='.0%', vmin=0, vmax=1)\n",
    "plt.title(f\"{balanced_accuracy_score(y_true = df_out.y, y_pred=df_out.softmax):.2%}\");\n",
    "#plt.savefig(\"/home/kalfasyan/Dropbox/kuleuven/paper2_figures/confmatmain.eps\", format='eps', bbox_inches='tight');"
   ]
  },
  {
   "cell_type": "code",
   "execution_count": 17,
   "metadata": {},
   "outputs": [
    {
     "data": {
      "text/plain": [
       "array([[10646,  1469],\n",
       "       [  587, 12973]])"
      ]
     },
     "execution_count": 17,
     "metadata": {},
     "output_type": "execute_result"
    }
   ],
   "source": [
    "cm = confusion_matrix(y_true = df_out.y, y_pred=df_out.softmax, normalize=None)\n",
    "cm"
   ]
  },
  {
   "cell_type": "markdown",
   "metadata": {},
   "source": [
    "# ------------------------------------------"
   ]
  },
  {
   "cell_type": "code",
   "execution_count": 18,
   "metadata": {},
   "outputs": [],
   "source": [
    "extra_df = pd.read_parquet('../data_created/suzmel_extra.parquet')"
   ]
  },
  {
   "cell_type": "code",
   "execution_count": 19,
   "metadata": {},
   "outputs": [],
   "source": [
    "m = extra_df[extra_df.y==0].sample(1000)\n",
    "s = extra_df[extra_df.y==1].sample(1000)\n",
    "extra_df = pd.concat([m,s]).reset_index(drop=True)"
   ]
  },
  {
   "cell_type": "code",
   "execution_count": 20,
   "metadata": {},
   "outputs": [],
   "source": [
    "X_extra, y_extra = extra_df.iloc[:,0], extra_df.iloc[:,1]\n",
    "\n",
    "extra_dataset = DataFrameset(pd.concat([X_extra, y_extra], axis=1), transform=transforms.Compose(transforms_list_test))\n",
    "extra_dataloader = DataLoader(extra_dataset, batch_size=batch_size_val, shuffle=False, num_workers=4, pin_memory=True, worker_init_fn=worker_init_fn)"
   ]
  },
  {
   "cell_type": "code",
   "execution_count": 21,
   "metadata": {},
   "outputs": [
    {
     "name": "stderr",
     "output_type": "stream",
     "text": [
      "100%|██████████| 63/63 [00:00<00:00, 70.12it/s] \n"
     ]
    }
   ],
   "source": [
    "df_out = get_all_preds(model, extra_dataloader, dataframe=True, final_nodes=2)"
   ]
  },
  {
   "cell_type": "code",
   "execution_count": 23,
   "metadata": {},
   "outputs": [
    {
     "data": {
      "image/png": "[encoded data removed]",
      "text/plain": [
       "<Figure size 1440x864 with 2 Axes>"
      ]
     },
     "metadata": {},
     "output_type": "display_data"
    }
   ],
   "source": [
    "cm = confusion_matrix(y_true = df_out.y, y_pred=df_out.softmax, normalize='true')\n",
    "\n",
    "sns.set(font_scale=1.9)\n",
    "plt.figure(figsize=(20,12))\n",
    "sns.heatmap(cm, annot=True, fmt='.0%', vmin=0, vmax=1)\n",
    "plt.title(f\"{balanced_accuracy_score(y_true = df_out.y, y_pred=df_out.softmax):.2%}\");\n",
    "#plt.savefig(\"/home/kalfasyan/Dropbox/kuleuven/paper2_figures/confmatsecondary.eps\", format='eps', bbox_inches='tight');"
   ]
  },
  {
   "cell_type": "code",
   "execution_count": 24,
   "metadata": {},
   "outputs": [
    {
     "data": {
      "text/plain": [
       "array([[919,  81],\n",
       "       [ 90, 910]])"
      ]
     },
     "execution_count": 24,
     "metadata": {},
     "output_type": "execute_result"
    }
   ],
   "source": [
    "cm = confusion_matrix(y_true = df_out.y, y_pred=df_out.softmax, normalize=None)\n",
    "cm"
   ]
  },
  {
   "cell_type": "code",
   "execution_count": null,
   "metadata": {},
   "outputs": [],
   "source": []
  },
  {
   "cell_type": "code",
   "execution_count": null,
   "metadata": {},
   "outputs": [],
   "source": []
  },
  {
   "cell_type": "code",
   "execution_count": null,
   "metadata": {},
   "outputs": [],
   "source": []
  }
 ],
 "metadata": {
  "kernelspec": {
   "display_name": "Python 3",
   "language": "python",
   "name": "python3"
  },
  "language_info": {
   "codemirror_mode": {
    "name": "ipython",
    "version": 3
   },
   "file_extension": ".py",
   "mimetype": "text/x-python",
   "name": "python",
   "nbconvert_exporter": "python",
   "pygments_lexer": "ipython3",
   "version": "3.8.10"
  }
 },
 "nbformat": 4,
 "nbformat_minor": 4
}
