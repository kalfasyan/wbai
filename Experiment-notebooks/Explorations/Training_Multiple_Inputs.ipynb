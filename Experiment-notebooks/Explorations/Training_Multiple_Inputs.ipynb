{
 "cells": [
  {
   "cell_type": "code",
   "execution_count": 1,
   "source": [
    "%reset -f\n",
    "%reload_ext autoreload\n",
    "%autoreload 2\n",
    "%matplotlib inline\n",
    "%config Completer.use_jedi = False"
   ],
   "outputs": [],
   "metadata": {}
  },
  {
   "cell_type": "code",
   "execution_count": 2,
   "source": [
    "from tqdm import tqdm\n",
    "# from tqdm.notebook import tqdm as tqdm\n",
    "import numpy as np\n",
    "import pandas as pd\n",
    "import torch\n",
    "import torch.nn as nn\n",
    "import torch.optim as optim\n",
    "import torchaudio\n",
    "from torch.utils.data import Dataset, ConcatDataset\n",
    "from torch.utils.data.sampler import SubsetRandomSampler\n",
    "from torchvision import datasets, transforms\n",
    "from torchaudio.transforms import Spectrogram, AmplitudeToDB\n",
    "\n",
    "# torchaudio.USE_SOUNDFILE_LEGACY_INTERFACE = False\n",
    "torchaudio.set_audio_backend('sox_io')\n",
    "import os\n",
    "import random\n",
    "from pathlib import Path\n",
    "\n",
    "import matplotlib.pyplot as plt\n",
    "import psutil\n",
    "import requests\n",
    "\n",
    "from utils import *\n",
    "from wingbeat_datasets import *\n",
    "from wingbeat_models import *\n",
    "\n",
    "# print(f'Total RAM      : {bytes2GB(psutil.virtual_memory().total):5.2f} GB')\n",
    "# print(f'Available RAM  : {bytes2GB(psutil.virtual_memory().available):5.2f} GB\\n')"
   ],
   "outputs": [
    {
     "output_type": "stream",
     "name": "stderr",
     "text": [
      "/home/kalfasyan/anaconda3/envs/wbai/lib/python3.6/site-packages/torchaudio/backend/utils.py:54: UserWarning: \"sox\" backend is being deprecated. The default backend will be changed to \"sox_io\" backend in 0.8.0 and \"sox\" backend will be removed in 0.9.0. Please migrate to \"sox_io\" backend. Please refer to https://github.com/pytorch/audio/issues/903 for the detail.\n",
      "  '\"sox\" backend is being deprecated. '\n"
     ]
    },
    {
     "output_type": "stream",
     "name": "stdout",
     "text": [
      "Available workers: 16\n"
     ]
    }
   ],
   "metadata": {}
  },
  {
   "cell_type": "code",
   "execution_count": 3,
   "source": [
    "num_epochs = 35\n",
    "batch_size = 32\n",
    "batch_size_val = batch_size * 2\n",
    "validation_split = .2\n",
    "shuffle_dataset = True\n",
    "num_workers = psutil.cpu_count()\n",
    "random_seed= 42\n"
   ],
   "outputs": [],
   "metadata": {}
  },
  {
   "cell_type": "markdown",
   "source": [
    "## Datasets and Dataloaders"
   ],
   "metadata": {}
  },
  {
   "cell_type": "code",
   "execution_count": 4,
   "source": [
    "setting = 'stftraw'\n",
    "\n",
    "dmel1 = WingbeatsDataset(dsname=\"Melanogaster_RL/Y\", custom_label=[0], transform=transforms.Compose([FilterWingbeat(setting='bandpass'), NormalizeWingbeat(), TransformWingbeat(setting=setting)])).clean()\n",
    "dmel2 = WingbeatsDataset(dsname=\"Melanogaster_RL/Z\", custom_label=[0], transform=transforms.Compose([FilterWingbeat(setting='bandpass'), NormalizeWingbeat(), TransformWingbeat(setting=setting)])).clean()\n",
    "dsuz1 = WingbeatsDataset(dsname=\"Suzukii_RL/Y\",      custom_label=[1], transform=transforms.Compose([FilterWingbeat(setting='bandpass'), NormalizeWingbeat(), TransformWingbeat(setting=setting)])).clean()\n",
    "dsuz2 = WingbeatsDataset(dsname=\"Suzukii_RL/R\",      custom_label=[1], transform=transforms.Compose([FilterWingbeat(setting='bandpass'), NormalizeWingbeat(), TransformWingbeat(setting=setting)])).clean()\n",
    "\n",
    "transformed_dataset = ConcatDataset([dmel1, dsuz1])\n",
    "\n",
    "train_size = int(0.8 * len(transformed_dataset))\n",
    "valid_size = len(transformed_dataset) - train_size\n",
    "train_dataset, valid_dataset = torch.utils.data.random_split(transformed_dataset, [train_size, valid_size])\n",
    "test_dataset = ConcatDataset([dmel2, dsuz2])\n",
    "\n",
    "train_dataloader = DataLoader(train_dataset, batch_size=batch_size, num_workers=num_workers)\n",
    "valid_dataloader = DataLoader(valid_dataset, batch_size=batch_size_val, num_workers=num_workers)\n",
    "test_dataloader = DataLoader(test_dataset, batch_size=batch_size_val, num_workers=num_workers)"
   ],
   "outputs": [
    {
     "output_type": "stream",
     "name": "stdout",
     "text": [
      "Found 29002 in dataset: Melanogaster_RL/Y, and 1 label(s): ['D. melanogaster']\n",
      "Label(s) changed to [0]\n",
      "Nr. of valid wingbeats: 12819\n",
      "Found 24763 in dataset: Melanogaster_RL/Z, and 1 label(s): ['D. melanogaster']\n",
      "Label(s) changed to [0]\n",
      "Nr. of valid wingbeats: 11778\n",
      "Found 25732 in dataset: Suzukii_RL/Y, and 1 label(s): ['D. suzukii']\n",
      "Label(s) changed to [1]\n",
      "Nr. of valid wingbeats: 17088\n",
      "Found 14348 in dataset: Suzukii_RL/R, and 1 label(s): ['D. suzukii']\n",
      "Label(s) changed to [1]\n",
      "Nr. of valid wingbeats: 10372\n"
     ]
    }
   ],
   "metadata": {}
  },
  {
   "cell_type": "code",
   "execution_count": null,
   "source": [],
   "outputs": [],
   "metadata": {}
  },
  {
   "cell_type": "markdown",
   "source": [
    "## Model definition"
   ],
   "metadata": {}
  },
  {
   "cell_type": "code",
   "execution_count": 5,
   "source": [
    "from torchvision.models import resnet34, densenet121, resnet152\n",
    "import torch.optim as optim\n",
    "\n",
    "if setting.startswith('psd'):\n",
    "    model = DrosophilaNetPSD()\n",
    "elif setting == 'raw':\n",
    "    model = DrosophilaNetRAW()\n",
    "elif setting == 'stft':\n",
    "    model = resnet152(pretrained=False)\n",
    "    num_ftrs = model.fc.in_features\n",
    "    model.fc = nn.Linear(num_ftrs,2)\n",
    "elif setting == 'stftraw':\n",
    "    modelA = DrosophilaNetRAW() \n",
    "    modelB = resnet152(pretrained=False)\n",
    "    num_ftrs = modelB.fc.in_features\n",
    "    modelB.fc = nn.Linear(num_ftrs,2)\n",
    "\n",
    "    model = ModelEnsemble(modelA, modelB)\n",
    "\n",
    "criterion = nn.CrossEntropyLoss()\n",
    "optimizer = torch.optim.Adam(model.parameters(), lr=0.01, betas=(0.9, 0.999))\n",
    "scheduler = optim.lr_scheduler.ReduceLROnPlateau(optimizer, patience=3, verbose=True)\n",
    "early_stopping = EarlyStopping(patience=7, verbose=2)\n",
    "# print(model)"
   ],
   "outputs": [],
   "metadata": {}
  },
  {
   "cell_type": "code",
   "execution_count": null,
   "source": [],
   "outputs": [],
   "metadata": {}
  },
  {
   "cell_type": "code",
   "execution_count": 6,
   "source": [
    "x1, x2 = torch.randn(64, 3, 129,120), torch.randn(64, 1, 5000)\n",
    "\n",
    "output = model(x2, x1)"
   ],
   "outputs": [],
   "metadata": {}
  },
  {
   "cell_type": "code",
   "execution_count": 7,
   "source": [
    "output.shape"
   ],
   "outputs": [
    {
     "output_type": "execute_result",
     "data": {
      "text/plain": [
       "torch.Size([64, 2])"
      ]
     },
     "metadata": {},
     "execution_count": 7
    }
   ],
   "metadata": {}
  },
  {
   "cell_type": "markdown",
   "source": [
    "## Training"
   ],
   "metadata": {}
  },
  {
   "cell_type": "code",
   "execution_count": 8,
   "source": [
    "# Choosing whether to train on a gpu\n",
    "train_on_gpu = torch.cuda.is_available()\n",
    "print(f'Train on gpu: {train_on_gpu}')# Number of gpus\n",
    "model = model.to('cuda', dtype=torch.float)"
   ],
   "outputs": [
    {
     "output_type": "stream",
     "name": "stdout",
     "text": [
      "Train on gpu: True\n"
     ]
    }
   ],
   "metadata": {}
  },
  {
   "cell_type": "code",
   "execution_count": 9,
   "source": [
    "import warnings\n",
    "warnings.filterwarnings(\"ignore\")\n",
    "\n",
    "# Model training\n",
    "for epoch in range(num_epochs):\n",
    "    # Going through the training set\n",
    "    correct_train = 0\n",
    "    model.train()\n",
    "    for x_batch,y_batch,path_batch,idx_batch in tqdm(train_dataloader, desc='Training..\\t'):        \n",
    "\n",
    "        y_batch = torch.as_tensor(y_batch).type(torch.LongTensor)\n",
    "        x_batch[0], x_batch[1] ,y_batch = x_batch[0].cuda(), x_batch[1].cuda(), y_batch.cuda()\n",
    "        \n",
    "        optimizer.zero_grad()\n",
    "        pred = model(x_batch[0], x_batch[1])\n",
    "        loss = criterion(pred, y_batch)\n",
    "        loss.backward()\n",
    "        optimizer.step()\n",
    "        correct_train += (pred.argmax(axis=1) == y_batch).float().sum().item()\n",
    "\n",
    "    train_accuracy = correct_train / (len(train_dataloader)*batch_size) * 100.\n",
    "    # Going through the validation set\n",
    "    correct_valid = 0\n",
    "    model.eval()\n",
    "    for x_batch,y_batch,path_batch,idx_batch in tqdm(valid_dataloader, desc='Validating..\\t'):\n",
    "        \n",
    "        y_batch = torch.as_tensor(y_batch).type(torch.LongTensor)\n",
    "        x_batch[0], x_batch[1] ,y_batch = x_batch[0].cuda(), x_batch[1].cuda(), y_batch.cuda()\n",
    "\n",
    "        pred = model(x_batch[0], x_batch[1])\n",
    "        val_loss = criterion(pred, y_batch)\n",
    "        correct_valid += (pred.argmax(axis=1) == y_batch).float().sum().item()\n",
    "    valid_accuracy = correct_valid / (len(valid_dataloader)*batch_size_val) * 100.\n",
    "    scheduler.step(val_loss)\n",
    "    early_stopping(val_loss, model)\n",
    "    if early_stopping.early_stop:\n",
    "        print(\"Early stopping\")\n",
    "        break\n",
    "\n",
    "        # Printing results\n",
    "    print(f\"Epoch {epoch}: train_acc: {train_accuracy:.2f}% loss: {loss:.3f},  val_loss: {val_loss:.3f} val_acc: {valid_accuracy:.2f}%\")\n"
   ],
   "outputs": [
    {
     "output_type": "stream",
     "name": "stderr",
     "text": [
      "Training..\t: 100%|██████████| 748/748 [03:30<00:00,  3.55it/s]\n",
      "Validating..\t: 100%|██████████| 94/94 [00:14<00:00,  6.68it/s]\n"
     ]
    },
    {
     "output_type": "stream",
     "name": "stdout",
     "text": [
      "Validation loss decreased (inf --> 0.585617).  Saving model ...\n"
     ]
    },
    {
     "output_type": "stream",
     "name": "stderr",
     "text": [
      "Training..\t:   0%|          | 0/748 [00:00<?, ?it/s]"
     ]
    },
    {
     "output_type": "stream",
     "name": "stdout",
     "text": [
      "Epoch 0: train_acc: 82.66% loss: 0.123,  val_loss: 0.586 val_acc: 70.05%\n"
     ]
    },
    {
     "output_type": "stream",
     "name": "stderr",
     "text": [
      "Training..\t: 100%|██████████| 748/748 [03:28<00:00,  3.58it/s]\n",
      "Validating..\t: 100%|██████████| 94/94 [00:13<00:00,  7.12it/s]\n"
     ]
    },
    {
     "output_type": "stream",
     "name": "stdout",
     "text": [
      "Validation loss decreased (0.585617 --> 0.374369).  Saving model ...\n"
     ]
    },
    {
     "output_type": "stream",
     "name": "stderr",
     "text": [
      "Training..\t:   0%|          | 0/748 [00:00<?, ?it/s]"
     ]
    },
    {
     "output_type": "stream",
     "name": "stdout",
     "text": [
      "Epoch 1: train_acc: 89.49% loss: 0.111,  val_loss: 0.374 val_acc: 81.22%\n"
     ]
    },
    {
     "output_type": "stream",
     "name": "stderr",
     "text": [
      "Training..\t: 100%|██████████| 748/748 [03:29<00:00,  3.57it/s]\n",
      "Validating..\t: 100%|██████████| 94/94 [00:13<00:00,  7.14it/s]\n",
      "Training..\t:   0%|          | 0/748 [00:00<?, ?it/s]"
     ]
    },
    {
     "output_type": "stream",
     "name": "stdout",
     "text": [
      "EarlyStopping counter: 1 out of 7\n",
      "Epoch 2: train_acc: 90.83% loss: 0.110,  val_loss: 0.450 val_acc: 77.94%\n"
     ]
    },
    {
     "output_type": "stream",
     "name": "stderr",
     "text": [
      "Training..\t: 100%|██████████| 748/748 [03:29<00:00,  3.57it/s]\n",
      "Validating..\t: 100%|██████████| 94/94 [00:13<00:00,  7.12it/s]\n",
      "Training..\t:   0%|          | 0/748 [00:00<?, ?it/s]"
     ]
    },
    {
     "output_type": "stream",
     "name": "stdout",
     "text": [
      "EarlyStopping counter: 2 out of 7\n",
      "Epoch 3: train_acc: 91.52% loss: 0.095,  val_loss: 0.390 val_acc: 83.21%\n"
     ]
    },
    {
     "output_type": "stream",
     "name": "stderr",
     "text": [
      "Training..\t: 100%|██████████| 748/748 [03:29<00:00,  3.57it/s]\n",
      "Validating..\t: 100%|██████████| 94/94 [00:13<00:00,  7.20it/s]\n",
      "Training..\t:   0%|          | 0/748 [00:00<?, ?it/s]"
     ]
    },
    {
     "output_type": "stream",
     "name": "stdout",
     "text": [
      "EarlyStopping counter: 3 out of 7\n",
      "Epoch 4: train_acc: 92.13% loss: 0.093,  val_loss: 0.378 val_acc: 84.44%\n"
     ]
    },
    {
     "output_type": "stream",
     "name": "stderr",
     "text": [
      "Training..\t: 100%|██████████| 748/748 [03:29<00:00,  3.57it/s]\n",
      "Validating..\t: 100%|██████████| 94/94 [00:13<00:00,  7.07it/s]\n"
     ]
    },
    {
     "output_type": "stream",
     "name": "stdout",
     "text": [
      "Validation loss decreased (0.374369 --> 0.321917).  Saving model ...\n"
     ]
    },
    {
     "output_type": "stream",
     "name": "stderr",
     "text": [
      "Training..\t:   0%|          | 0/748 [00:00<?, ?it/s]"
     ]
    },
    {
     "output_type": "stream",
     "name": "stdout",
     "text": [
      "Epoch 5: train_acc: 92.64% loss: 0.094,  val_loss: 0.322 val_acc: 88.15%\n"
     ]
    },
    {
     "output_type": "stream",
     "name": "stderr",
     "text": [
      "Training..\t: 100%|██████████| 748/748 [03:38<00:00,  3.42it/s]\n",
      "Validating..\t: 100%|██████████| 94/94 [00:13<00:00,  7.06it/s]\n"
     ]
    },
    {
     "output_type": "stream",
     "name": "stdout",
     "text": [
      "Validation loss decreased (0.321917 --> 0.254378).  Saving model ...\n"
     ]
    },
    {
     "output_type": "stream",
     "name": "stderr",
     "text": [
      "Training..\t:   0%|          | 0/748 [00:00<?, ?it/s]"
     ]
    },
    {
     "output_type": "stream",
     "name": "stdout",
     "text": [
      "Epoch 6: train_acc: 93.19% loss: 0.085,  val_loss: 0.254 val_acc: 91.69%\n"
     ]
    },
    {
     "output_type": "stream",
     "name": "stderr",
     "text": [
      "Training..\t: 100%|██████████| 748/748 [03:35<00:00,  3.48it/s]\n",
      "Validating..\t: 100%|██████████| 94/94 [00:13<00:00,  7.14it/s]\n"
     ]
    },
    {
     "output_type": "stream",
     "name": "stdout",
     "text": [
      "Validation loss decreased (0.254378 --> 0.249778).  Saving model ...\n"
     ]
    },
    {
     "output_type": "stream",
     "name": "stderr",
     "text": [
      "Training..\t:   0%|          | 0/748 [00:00<?, ?it/s]"
     ]
    },
    {
     "output_type": "stream",
     "name": "stdout",
     "text": [
      "Epoch 7: train_acc: 93.71% loss: 0.086,  val_loss: 0.250 val_acc: 92.55%\n"
     ]
    },
    {
     "output_type": "stream",
     "name": "stderr",
     "text": [
      "Training..\t: 100%|██████████| 748/748 [03:30<00:00,  3.55it/s]\n",
      "Validating..\t: 100%|██████████| 94/94 [00:13<00:00,  7.07it/s]\n"
     ]
    },
    {
     "output_type": "stream",
     "name": "stdout",
     "text": [
      "Validation loss decreased (0.249778 --> 0.236054).  Saving model ...\n"
     ]
    },
    {
     "output_type": "stream",
     "name": "stderr",
     "text": [
      "Training..\t:   0%|          | 0/748 [00:00<?, ?it/s]"
     ]
    },
    {
     "output_type": "stream",
     "name": "stdout",
     "text": [
      "Epoch 8: train_acc: 94.12% loss: 0.086,  val_loss: 0.236 val_acc: 92.90%\n"
     ]
    },
    {
     "output_type": "stream",
     "name": "stderr",
     "text": [
      "Training..\t: 100%|██████████| 748/748 [03:25<00:00,  3.63it/s]\n",
      "Validating..\t: 100%|██████████| 94/94 [00:12<00:00,  7.25it/s]\n",
      "Training..\t:   0%|          | 0/748 [00:00<?, ?it/s]"
     ]
    },
    {
     "output_type": "stream",
     "name": "stdout",
     "text": [
      "EarlyStopping counter: 1 out of 7\n",
      "Epoch 9: train_acc: 94.53% loss: 0.080,  val_loss: 0.268 val_acc: 92.37%\n"
     ]
    },
    {
     "output_type": "stream",
     "name": "stderr",
     "text": [
      "Training..\t: 100%|██████████| 748/748 [03:24<00:00,  3.65it/s]\n",
      "Validating..\t: 100%|██████████| 94/94 [00:12<00:00,  7.39it/s]\n",
      "Training..\t:   0%|          | 0/748 [00:00<?, ?it/s]"
     ]
    },
    {
     "output_type": "stream",
     "name": "stdout",
     "text": [
      "EarlyStopping counter: 2 out of 7\n",
      "Epoch 10: train_acc: 94.87% loss: 0.049,  val_loss: 0.252 val_acc: 92.74%\n"
     ]
    },
    {
     "output_type": "stream",
     "name": "stderr",
     "text": [
      "Training..\t: 100%|██████████| 748/748 [03:20<00:00,  3.72it/s]\n",
      "Validating..\t: 100%|██████████| 94/94 [00:12<00:00,  7.46it/s]\n",
      "Training..\t:   0%|          | 0/748 [00:00<?, ?it/s]"
     ]
    },
    {
     "output_type": "stream",
     "name": "stdout",
     "text": [
      "EarlyStopping counter: 3 out of 7\n",
      "Epoch 11: train_acc: 95.35% loss: 0.022,  val_loss: 0.252 val_acc: 91.64%\n"
     ]
    },
    {
     "output_type": "stream",
     "name": "stderr",
     "text": [
      "Training..\t: 100%|██████████| 748/748 [03:20<00:00,  3.72it/s]\n",
      "Validating..\t: 100%|██████████| 94/94 [00:12<00:00,  7.43it/s]\n",
      "Training..\t:   0%|          | 0/748 [00:00<?, ?it/s]"
     ]
    },
    {
     "output_type": "stream",
     "name": "stdout",
     "text": [
      "Epoch    13: reducing learning rate of group 0 to 1.0000e-03.\n",
      "EarlyStopping counter: 4 out of 7\n",
      "Epoch 12: train_acc: 95.62% loss: 0.023,  val_loss: 0.518 val_acc: 88.25%\n"
     ]
    },
    {
     "output_type": "stream",
     "name": "stderr",
     "text": [
      "Training..\t: 100%|██████████| 748/748 [03:20<00:00,  3.73it/s]\n",
      "Validating..\t: 100%|██████████| 94/94 [00:12<00:00,  7.40it/s]\n"
     ]
    },
    {
     "output_type": "stream",
     "name": "stdout",
     "text": [
      "Validation loss decreased (0.236054 --> 0.107374).  Saving model ...\n"
     ]
    },
    {
     "output_type": "stream",
     "name": "stderr",
     "text": [
      "Training..\t:   0%|          | 0/748 [00:00<?, ?it/s]"
     ]
    },
    {
     "output_type": "stream",
     "name": "stdout",
     "text": [
      "Epoch 13: train_acc: 96.77% loss: 0.089,  val_loss: 0.107 val_acc: 93.80%\n"
     ]
    },
    {
     "output_type": "stream",
     "name": "stderr",
     "text": [
      "Training..\t: 100%|██████████| 748/748 [03:20<00:00,  3.73it/s]\n",
      "Validating..\t: 100%|██████████| 94/94 [00:12<00:00,  7.44it/s]\n"
     ]
    },
    {
     "output_type": "stream",
     "name": "stdout",
     "text": [
      "Validation loss decreased (0.107374 --> 0.099122).  Saving model ...\n"
     ]
    },
    {
     "output_type": "stream",
     "name": "stderr",
     "text": [
      "Training..\t:   0%|          | 0/748 [00:00<?, ?it/s]"
     ]
    },
    {
     "output_type": "stream",
     "name": "stdout",
     "text": [
      "Epoch 14: train_acc: 97.35% loss: 0.089,  val_loss: 0.099 val_acc: 93.80%\n"
     ]
    },
    {
     "output_type": "stream",
     "name": "stderr",
     "text": [
      "Training..\t: 100%|██████████| 748/748 [03:21<00:00,  3.72it/s]\n",
      "Validating..\t: 100%|██████████| 94/94 [00:12<00:00,  7.41it/s]\n"
     ]
    },
    {
     "output_type": "stream",
     "name": "stdout",
     "text": [
      "Validation loss decreased (0.099122 --> 0.085694).  Saving model ...\n"
     ]
    },
    {
     "output_type": "stream",
     "name": "stderr",
     "text": [
      "Training..\t:   0%|          | 0/748 [00:00<?, ?it/s]"
     ]
    },
    {
     "output_type": "stream",
     "name": "stdout",
     "text": [
      "Epoch 15: train_acc: 97.61% loss: 0.080,  val_loss: 0.086 val_acc: 93.92%\n"
     ]
    },
    {
     "output_type": "stream",
     "name": "stderr",
     "text": [
      "Training..\t: 100%|██████████| 748/748 [03:20<00:00,  3.73it/s]\n",
      "Validating..\t: 100%|██████████| 94/94 [00:12<00:00,  7.44it/s]\n",
      "Training..\t:   0%|          | 0/748 [00:00<?, ?it/s]"
     ]
    },
    {
     "output_type": "stream",
     "name": "stdout",
     "text": [
      "EarlyStopping counter: 1 out of 7\n",
      "Epoch 16: train_acc: 97.95% loss: 0.033,  val_loss: 0.089 val_acc: 93.82%\n"
     ]
    },
    {
     "output_type": "stream",
     "name": "stderr",
     "text": [
      "Training..\t: 100%|██████████| 748/748 [03:21<00:00,  3.72it/s]\n",
      "Validating..\t: 100%|██████████| 94/94 [00:12<00:00,  7.46it/s]\n",
      "Training..\t:   0%|          | 0/748 [00:00<?, ?it/s]"
     ]
    },
    {
     "output_type": "stream",
     "name": "stdout",
     "text": [
      "EarlyStopping counter: 2 out of 7\n",
      "Epoch 17: train_acc: 98.09% loss: 0.030,  val_loss: 0.092 val_acc: 93.95%\n"
     ]
    },
    {
     "output_type": "stream",
     "name": "stderr",
     "text": [
      "Training..\t: 100%|██████████| 748/748 [03:20<00:00,  3.73it/s]\n",
      "Validating..\t: 100%|██████████| 94/94 [00:12<00:00,  7.41it/s]\n"
     ]
    },
    {
     "output_type": "stream",
     "name": "stdout",
     "text": [
      "Validation loss decreased (0.085694 --> 0.085285).  Saving model ...\n"
     ]
    },
    {
     "output_type": "stream",
     "name": "stderr",
     "text": [
      "Training..\t:   0%|          | 0/748 [00:00<?, ?it/s]"
     ]
    },
    {
     "output_type": "stream",
     "name": "stdout",
     "text": [
      "Epoch 18: train_acc: 98.34% loss: 0.028,  val_loss: 0.085 val_acc: 94.03%\n"
     ]
    },
    {
     "output_type": "stream",
     "name": "stderr",
     "text": [
      "Training..\t: 100%|██████████| 748/748 [03:20<00:00,  3.73it/s]\n",
      "Validating..\t: 100%|██████████| 94/94 [00:12<00:00,  7.38it/s]\n"
     ]
    },
    {
     "output_type": "stream",
     "name": "stdout",
     "text": [
      "Validation loss decreased (0.085285 --> 0.079363).  Saving model ...\n"
     ]
    },
    {
     "output_type": "stream",
     "name": "stderr",
     "text": [
      "Training..\t:   0%|          | 0/748 [00:00<?, ?it/s]"
     ]
    },
    {
     "output_type": "stream",
     "name": "stdout",
     "text": [
      "Epoch 19: train_acc: 98.58% loss: 0.032,  val_loss: 0.079 val_acc: 93.92%\n"
     ]
    },
    {
     "output_type": "stream",
     "name": "stderr",
     "text": [
      "Training..\t: 100%|██████████| 748/748 [03:20<00:00,  3.73it/s]\n",
      "Validating..\t: 100%|██████████| 94/94 [00:12<00:00,  7.40it/s]\n",
      "Training..\t:   0%|          | 0/748 [00:00<?, ?it/s]"
     ]
    },
    {
     "output_type": "stream",
     "name": "stdout",
     "text": [
      "EarlyStopping counter: 1 out of 7\n",
      "Epoch 20: train_acc: 98.72% loss: 0.018,  val_loss: 0.086 val_acc: 93.97%\n"
     ]
    },
    {
     "output_type": "stream",
     "name": "stderr",
     "text": [
      "Training..\t: 100%|██████████| 748/748 [03:21<00:00,  3.72it/s]\n",
      "Validating..\t: 100%|██████████| 94/94 [00:12<00:00,  7.43it/s]\n",
      "Training..\t:   0%|          | 0/748 [00:00<?, ?it/s]"
     ]
    },
    {
     "output_type": "stream",
     "name": "stdout",
     "text": [
      "EarlyStopping counter: 2 out of 7\n",
      "Epoch 21: train_acc: 98.81% loss: 0.010,  val_loss: 0.087 val_acc: 94.00%\n"
     ]
    },
    {
     "output_type": "stream",
     "name": "stderr",
     "text": [
      "Training..\t: 100%|██████████| 748/748 [03:20<00:00,  3.73it/s]\n",
      "Validating..\t: 100%|██████████| 94/94 [00:12<00:00,  7.43it/s]\n"
     ]
    },
    {
     "output_type": "stream",
     "name": "stdout",
     "text": [
      "Validation loss decreased (0.079363 --> 0.071379).  Saving model ...\n"
     ]
    },
    {
     "output_type": "stream",
     "name": "stderr",
     "text": [
      "Training..\t:   0%|          | 0/748 [00:00<?, ?it/s]"
     ]
    },
    {
     "output_type": "stream",
     "name": "stdout",
     "text": [
      "Epoch 22: train_acc: 99.09% loss: 0.011,  val_loss: 0.071 val_acc: 93.83%\n"
     ]
    },
    {
     "output_type": "stream",
     "name": "stderr",
     "text": [
      "Training..\t: 100%|██████████| 748/748 [03:20<00:00,  3.73it/s]\n",
      "Validating..\t: 100%|██████████| 94/94 [00:12<00:00,  7.44it/s]\n",
      "Training..\t:   0%|          | 0/748 [00:00<?, ?it/s]"
     ]
    },
    {
     "output_type": "stream",
     "name": "stdout",
     "text": [
      "EarlyStopping counter: 1 out of 7\n",
      "Epoch 23: train_acc: 99.10% loss: 0.008,  val_loss: 0.077 val_acc: 93.90%\n"
     ]
    },
    {
     "output_type": "stream",
     "name": "stderr",
     "text": [
      "Training..\t: 100%|██████████| 748/748 [03:20<00:00,  3.72it/s]\n",
      "Validating..\t: 100%|██████████| 94/94 [00:12<00:00,  7.45it/s]\n",
      "Training..\t:   0%|          | 0/748 [00:00<?, ?it/s]"
     ]
    },
    {
     "output_type": "stream",
     "name": "stdout",
     "text": [
      "EarlyStopping counter: 2 out of 7\n",
      "Epoch 24: train_acc: 99.23% loss: 0.004,  val_loss: 0.082 val_acc: 93.88%\n"
     ]
    },
    {
     "output_type": "stream",
     "name": "stderr",
     "text": [
      "Training..\t: 100%|██████████| 748/748 [03:20<00:00,  3.73it/s]\n",
      "Validating..\t: 100%|██████████| 94/94 [00:12<00:00,  7.43it/s]\n",
      "Training..\t:   0%|          | 0/748 [00:00<?, ?it/s]"
     ]
    },
    {
     "output_type": "stream",
     "name": "stdout",
     "text": [
      "EarlyStopping counter: 3 out of 7\n",
      "Epoch 25: train_acc: 99.36% loss: 0.012,  val_loss: 0.105 val_acc: 93.87%\n"
     ]
    },
    {
     "output_type": "stream",
     "name": "stderr",
     "text": [
      "Training..\t: 100%|██████████| 748/748 [03:20<00:00,  3.73it/s]\n",
      "Validating..\t: 100%|██████████| 94/94 [00:12<00:00,  7.45it/s]\n",
      "Training..\t:   0%|          | 0/748 [00:00<?, ?it/s]"
     ]
    },
    {
     "output_type": "stream",
     "name": "stdout",
     "text": [
      "Epoch    27: reducing learning rate of group 0 to 1.0000e-04.\n",
      "EarlyStopping counter: 4 out of 7\n",
      "Epoch 26: train_acc: 99.42% loss: 0.045,  val_loss: 0.143 val_acc: 93.87%\n"
     ]
    },
    {
     "output_type": "stream",
     "name": "stderr",
     "text": [
      "Training..\t: 100%|██████████| 748/748 [03:20<00:00,  3.73it/s]\n",
      "Validating..\t: 100%|██████████| 94/94 [00:12<00:00,  7.41it/s]\n",
      "Training..\t:   0%|          | 0/748 [00:00<?, ?it/s]"
     ]
    },
    {
     "output_type": "stream",
     "name": "stdout",
     "text": [
      "EarlyStopping counter: 5 out of 7\n",
      "Epoch 27: train_acc: 99.54% loss: 0.004,  val_loss: 0.095 val_acc: 93.98%\n"
     ]
    },
    {
     "output_type": "stream",
     "name": "stderr",
     "text": [
      "Training..\t: 100%|██████████| 748/748 [03:21<00:00,  3.72it/s]\n",
      "Validating..\t: 100%|██████████| 94/94 [00:12<00:00,  7.42it/s]\n",
      "Training..\t:   0%|          | 0/748 [00:00<?, ?it/s]"
     ]
    },
    {
     "output_type": "stream",
     "name": "stdout",
     "text": [
      "EarlyStopping counter: 6 out of 7\n",
      "Epoch 28: train_acc: 99.58% loss: 0.002,  val_loss: 0.086 val_acc: 93.98%\n"
     ]
    },
    {
     "output_type": "stream",
     "name": "stderr",
     "text": [
      "Training..\t: 100%|██████████| 748/748 [03:20<00:00,  3.73it/s]\n",
      "Validating..\t: 100%|██████████| 94/94 [00:12<00:00,  7.42it/s]"
     ]
    },
    {
     "output_type": "stream",
     "name": "stdout",
     "text": [
      "EarlyStopping counter: 7 out of 7\n",
      "Early stopping\n"
     ]
    },
    {
     "output_type": "stream",
     "name": "stderr",
     "text": [
      "\n"
     ]
    }
   ],
   "metadata": {
    "scrolled": true
   }
  },
  {
   "cell_type": "code",
   "execution_count": 10,
   "source": [
    "# print(x_batch, y_batch)"
   ],
   "outputs": [],
   "metadata": {}
  },
  {
   "cell_type": "markdown",
   "source": [
    "## Testing"
   ],
   "metadata": {}
  },
  {
   "cell_type": "code",
   "execution_count": 11,
   "source": [
    "correct_test = 0\n",
    "model.eval()\n",
    "for x_batch,y_batch,path_batch,idx_batch in tqdm(test_dataloader, desc=\"Testing..\\t\"):\n",
    "\n",
    "    y_batch = torch.as_tensor(y_batch).type(torch.LongTensor)\n",
    "    x_batch[0], x_batch[1] ,y_batch = x_batch[0].cuda(), x_batch[1].cuda(), y_batch.cuda()\n",
    "\n",
    "    pred = model(x_batch[0], x_batch[1])\n",
    "    val_loss = criterion(pred, y_batch)\n",
    "    correct_test += (pred.argmax(axis=1) == y_batch).float().sum().item()\n",
    "test_accuracy = correct_test / (len(test_dataloader)*batch_size_val) * 100.\n",
    "print(test_accuracy)"
   ],
   "outputs": [
    {
     "output_type": "stream",
     "name": "stderr",
     "text": [
      "Testing..\t: 100%|██████████| 347/347 [00:44<00:00,  7.86it/s]"
     ]
    },
    {
     "output_type": "stream",
     "name": "stdout",
     "text": [
      "88.32853025936599\n"
     ]
    },
    {
     "output_type": "stream",
     "name": "stderr",
     "text": [
      "\n"
     ]
    }
   ],
   "metadata": {}
  },
  {
   "cell_type": "code",
   "execution_count": null,
   "source": [
    "Try mel spectrograms\n"
   ],
   "outputs": [],
   "metadata": {}
  },
  {
   "cell_type": "code",
   "execution_count": null,
   "source": [],
   "outputs": [],
   "metadata": {}
  },
  {
   "cell_type": "code",
   "execution_count": null,
   "source": [
    "@torch.no_grad()\n",
    "def get_all_preds(model, loader):\n",
    "    all_preds = torch.tensor([])\n",
    "    for x_batch,y_batch,path_batch,idx_batch in loader:\n",
    "\n",
    "        preds = model(x_batch.float())\n",
    "        all_preds = torch.cat(\n",
    "            (all_preds, preds)\n",
    "            ,dim=0\n",
    "        )\n",
    "    return all_preds"
   ],
   "outputs": [],
   "metadata": {}
  },
  {
   "cell_type": "code",
   "execution_count": null,
   "source": [
    "get_all_preds(model, test_dataloader)"
   ],
   "outputs": [],
   "metadata": {}
  },
  {
   "cell_type": "code",
   "execution_count": null,
   "source": [],
   "outputs": [],
   "metadata": {}
  }
 ],
 "metadata": {
  "kernelspec": {
   "display_name": "Python 3",
   "language": "python",
   "name": "python3"
  },
  "language_info": {
   "codemirror_mode": {
    "name": "ipython",
    "version": 3
   },
   "file_extension": ".py",
   "mimetype": "text/x-python",
   "name": "python",
   "nbconvert_exporter": "python",
   "pygments_lexer": "ipython3",
   "version": "3.6.12"
  }
 },
 "nbformat": 4,
 "nbformat_minor": 4
}