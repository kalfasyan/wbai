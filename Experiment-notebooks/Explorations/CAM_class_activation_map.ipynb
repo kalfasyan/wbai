{
 "cells": [
  {
   "cell_type": "code",
   "execution_count": 15,
   "source": [
    "%reset -f\n",
    "%reload_ext autoreload\n",
    "%autoreload 2\n",
    "%matplotlib inline\n",
    "%config Completer.use_jedi = False"
   ],
   "outputs": [],
   "metadata": {}
  },
  {
   "cell_type": "code",
   "execution_count": 16,
   "source": [
    "from tqdm import tqdm\n",
    "# from tqdm.notebook import tqdm as tqdm\n",
    "import numpy as np\n",
    "import pandas as pd\n",
    "import torch\n",
    "import torch.nn as nn\n",
    "import torch.optim as optim\n",
    "import torchaudio\n",
    "from torch.utils.data import Dataset, ConcatDataset\n",
    "from torch.utils.data.sampler import SubsetRandomSampler\n",
    "from torchvision import datasets, transforms\n",
    "from torchaudio.transforms import Spectrogram, AmplitudeToDB\n",
    "\n",
    "# torchaudio.USE_SOUNDFILE_LEGACY_INTERFACE = False\n",
    "torchaudio.set_audio_backend('sox_io')\n",
    "import os\n",
    "import random\n",
    "from pathlib import Path\n",
    "\n",
    "import matplotlib.pyplot as plt\n",
    "import psutil\n",
    "import requests\n",
    "\n",
    "from utils import *\n",
    "from wingbeat_datasets import *\n",
    "from wingbeat_models import *\n",
    "\n",
    "# print(f'Total RAM      : {bytes2GB(psutil.virtual_memory().total):5.2f} GB')\n",
    "# print(f'Available RAM  : {bytes2GB(psutil.virtual_memory().available):5.2f} GB\\n')"
   ],
   "outputs": [],
   "metadata": {}
  },
  {
   "cell_type": "code",
   "execution_count": 47,
   "source": [
    "num_epochs = 3\n",
    "batch_size = 32\n",
    "batch_size_val = batch_size * 2\n",
    "validation_split = .2\n",
    "shuffle_dataset = True\n",
    "num_workers = psutil.cpu_count()\n",
    "random_seed= 42\n",
    "setting = 'stft'# 'stft', 'reassigned_stft', 'melstft'\n",
    "modelname = 'densenet121' # 'resnet34','resnet152'"
   ],
   "outputs": [],
   "metadata": {}
  },
  {
   "cell_type": "markdown",
   "source": [
    "## Datasets and Dataloaders"
   ],
   "metadata": {}
  },
  {
   "cell_type": "code",
   "execution_count": 48,
   "source": [
    "transforms_list = [FilterWingbeat(setting='bandpass'), TransformWingbeat(setting=setting)]\n",
    "# [FilterWingbeat(setting='bandpass'), NormalizeWingbeat(), TransformWingbeat(setting=setting)]\n",
    "\n",
    "dmel1 = WingbeatsDataset(dsname=\"Melanogaster_RL/Z\", custom_label=[0], clean=True, transform=transforms.Compose(transforms_list))\n",
    "dmel2 = WingbeatsDataset(dsname=\"Melanogaster_RL/Y\", custom_label=[0], clean=True, transform=transforms.Compose(transforms_list))\n",
    "dsuz1 = WingbeatsDataset(dsname=\"Suzukii_RL/Y\",      custom_label=[1], clean=True, transform=transforms.Compose(transforms_list))\n",
    "dsuz2 = WingbeatsDataset(dsname=\"Suzukii_RL/X\",      custom_label=[1], clean=True, transform=transforms.Compose(transforms_list))\n",
    "transformed_dataset = ConcatDataset([dmel1, dsuz1])\n",
    "\n",
    "train_size = int(0.8 * len(transformed_dataset))\n",
    "valid_size = len(transformed_dataset) - train_size\n",
    "train_dataset, valid_dataset = torch.utils.data.random_split(transformed_dataset, [train_size, valid_size])\n",
    "test_dataset = ConcatDataset([dmel2, dsuz2])\n",
    "train_dataloader = DataLoader(train_dataset, batch_size=batch_size, num_workers=num_workers)\n",
    "valid_dataloader = DataLoader(valid_dataset, batch_size=batch_size_val, num_workers=num_workers)\n",
    "test_dataloader = DataLoader(test_dataset, batch_size=batch_size_val, num_workers=num_workers)\n",
    "plt.imshow(train_dataset[5][0][0])"
   ],
   "outputs": [
    {
     "output_type": "stream",
     "name": "stdout",
     "text": [
      "Found 12150 in dataset: Melanogaster_RL/Z, and 1 label(s): ['D. melanogaster']\n",
      "Label(s) changed to [0]\n",
      "Found 12003 in dataset: Melanogaster_RL/Y, and 1 label(s): ['D. melanogaster']\n",
      "Label(s) changed to [0]\n",
      "Found 18166 in dataset: Suzukii_RL/Y, and 1 label(s): ['D. suzukii']\n",
      "Label(s) changed to [1]\n",
      "Found 14703 in dataset: Suzukii_RL/X, and 1 label(s): ['D. suzukii']\n",
      "Label(s) changed to [1]\n"
     ]
    },
    {
     "output_type": "error",
     "ename": "TypeError",
     "evalue": "'NoneType' object is not subscriptable",
     "traceback": [
      "\u001b[0;31m---------------------------------------------------------------------------\u001b[0m",
      "\u001b[0;31mTypeError\u001b[0m                                 Traceback (most recent call last)",
      "\u001b[0;32m<ipython-input-48-4ab4a4ab0926>\u001b[0m in \u001b[0;36m<module>\u001b[0;34m\u001b[0m\n\u001b[1;32m     15\u001b[0m \u001b[0mvalid_dataloader\u001b[0m \u001b[0;34m=\u001b[0m \u001b[0mDataLoader\u001b[0m\u001b[0;34m(\u001b[0m\u001b[0mvalid_dataset\u001b[0m\u001b[0;34m,\u001b[0m \u001b[0mbatch_size\u001b[0m\u001b[0;34m=\u001b[0m\u001b[0mbatch_size_val\u001b[0m\u001b[0;34m,\u001b[0m \u001b[0mnum_workers\u001b[0m\u001b[0;34m=\u001b[0m\u001b[0mnum_workers\u001b[0m\u001b[0;34m)\u001b[0m\u001b[0;34m\u001b[0m\u001b[0;34m\u001b[0m\u001b[0m\n\u001b[1;32m     16\u001b[0m \u001b[0mtest_dataloader\u001b[0m \u001b[0;34m=\u001b[0m \u001b[0mDataLoader\u001b[0m\u001b[0;34m(\u001b[0m\u001b[0mtest_dataset\u001b[0m\u001b[0;34m,\u001b[0m \u001b[0mbatch_size\u001b[0m\u001b[0;34m=\u001b[0m\u001b[0mbatch_size_val\u001b[0m\u001b[0;34m,\u001b[0m \u001b[0mnum_workers\u001b[0m\u001b[0;34m=\u001b[0m\u001b[0mnum_workers\u001b[0m\u001b[0;34m)\u001b[0m\u001b[0;34m\u001b[0m\u001b[0;34m\u001b[0m\u001b[0m\n\u001b[0;32m---> 17\u001b[0;31m \u001b[0mplt\u001b[0m\u001b[0;34m.\u001b[0m\u001b[0mimshow\u001b[0m\u001b[0;34m(\u001b[0m\u001b[0mtrain_dataset\u001b[0m\u001b[0;34m[\u001b[0m\u001b[0;36m5\u001b[0m\u001b[0;34m]\u001b[0m\u001b[0;34m[\u001b[0m\u001b[0;36m0\u001b[0m\u001b[0;34m]\u001b[0m\u001b[0;34m[\u001b[0m\u001b[0;36m0\u001b[0m\u001b[0;34m]\u001b[0m\u001b[0;34m)\u001b[0m\u001b[0;34m\u001b[0m\u001b[0;34m\u001b[0m\u001b[0m\n\u001b[0m",
      "\u001b[0;32m~/anaconda3/envs/wbai/lib/python3.6/site-packages/torch/utils/data/dataset.py\u001b[0m in \u001b[0;36m__getitem__\u001b[0;34m(self, idx)\u001b[0m\n\u001b[1;32m    270\u001b[0m \u001b[0;34m\u001b[0m\u001b[0m\n\u001b[1;32m    271\u001b[0m     \u001b[0;32mdef\u001b[0m \u001b[0m__getitem__\u001b[0m\u001b[0;34m(\u001b[0m\u001b[0mself\u001b[0m\u001b[0;34m,\u001b[0m \u001b[0midx\u001b[0m\u001b[0;34m)\u001b[0m\u001b[0;34m:\u001b[0m\u001b[0;34m\u001b[0m\u001b[0;34m\u001b[0m\u001b[0m\n\u001b[0;32m--> 272\u001b[0;31m         \u001b[0;32mreturn\u001b[0m \u001b[0mself\u001b[0m\u001b[0;34m.\u001b[0m\u001b[0mdataset\u001b[0m\u001b[0;34m[\u001b[0m\u001b[0mself\u001b[0m\u001b[0;34m.\u001b[0m\u001b[0mindices\u001b[0m\u001b[0;34m[\u001b[0m\u001b[0midx\u001b[0m\u001b[0;34m]\u001b[0m\u001b[0;34m]\u001b[0m\u001b[0;34m\u001b[0m\u001b[0;34m\u001b[0m\u001b[0m\n\u001b[0m\u001b[1;32m    273\u001b[0m \u001b[0;34m\u001b[0m\u001b[0m\n\u001b[1;32m    274\u001b[0m     \u001b[0;32mdef\u001b[0m \u001b[0m__len__\u001b[0m\u001b[0;34m(\u001b[0m\u001b[0mself\u001b[0m\u001b[0;34m)\u001b[0m\u001b[0;34m:\u001b[0m\u001b[0;34m\u001b[0m\u001b[0;34m\u001b[0m\u001b[0m\n",
      "\u001b[0;32m~/anaconda3/envs/wbai/lib/python3.6/site-packages/torch/utils/data/dataset.py\u001b[0m in \u001b[0;36m__getitem__\u001b[0;34m(self, idx)\u001b[0m\n\u001b[1;32m    216\u001b[0m         \u001b[0;32melse\u001b[0m\u001b[0;34m:\u001b[0m\u001b[0;34m\u001b[0m\u001b[0;34m\u001b[0m\u001b[0m\n\u001b[1;32m    217\u001b[0m             \u001b[0msample_idx\u001b[0m \u001b[0;34m=\u001b[0m \u001b[0midx\u001b[0m \u001b[0;34m-\u001b[0m \u001b[0mself\u001b[0m\u001b[0;34m.\u001b[0m\u001b[0mcumulative_sizes\u001b[0m\u001b[0;34m[\u001b[0m\u001b[0mdataset_idx\u001b[0m \u001b[0;34m-\u001b[0m \u001b[0;36m1\u001b[0m\u001b[0;34m]\u001b[0m\u001b[0;34m\u001b[0m\u001b[0;34m\u001b[0m\u001b[0m\n\u001b[0;32m--> 218\u001b[0;31m         \u001b[0;32mreturn\u001b[0m \u001b[0mself\u001b[0m\u001b[0;34m.\u001b[0m\u001b[0mdatasets\u001b[0m\u001b[0;34m[\u001b[0m\u001b[0mdataset_idx\u001b[0m\u001b[0;34m]\u001b[0m\u001b[0;34m[\u001b[0m\u001b[0msample_idx\u001b[0m\u001b[0;34m]\u001b[0m\u001b[0;34m\u001b[0m\u001b[0;34m\u001b[0m\u001b[0m\n\u001b[0m\u001b[1;32m    219\u001b[0m \u001b[0;34m\u001b[0m\u001b[0m\n\u001b[1;32m    220\u001b[0m     \u001b[0;34m@\u001b[0m\u001b[0mproperty\u001b[0m\u001b[0;34m\u001b[0m\u001b[0;34m\u001b[0m\u001b[0m\n",
      "\u001b[0;32m~/projects/wbai/wingbeat_datasets.py\u001b[0m in \u001b[0;36m__getitem__\u001b[0;34m(self, idx)\u001b[0m\n\u001b[1;32m     74\u001b[0m             \u001b[0msample\u001b[0m \u001b[0;34m=\u001b[0m \u001b[0mself\u001b[0m\u001b[0;34m.\u001b[0m\u001b[0mtransform\u001b[0m\u001b[0;34m(\u001b[0m\u001b[0msample\u001b[0m\u001b[0;34m)\u001b[0m\u001b[0;34m\u001b[0m\u001b[0;34m\u001b[0m\u001b[0m\n\u001b[1;32m     75\u001b[0m \u001b[0;34m\u001b[0m\u001b[0m\n\u001b[0;32m---> 76\u001b[0;31m         \u001b[0;32mreturn\u001b[0m \u001b[0msample\u001b[0m\u001b[0;34m[\u001b[0m\u001b[0;34m'x'\u001b[0m\u001b[0;34m]\u001b[0m\u001b[0;34m,\u001b[0m \u001b[0msample\u001b[0m\u001b[0;34m[\u001b[0m\u001b[0;34m'y'\u001b[0m\u001b[0;34m]\u001b[0m\u001b[0;34m,\u001b[0m \u001b[0msample\u001b[0m\u001b[0;34m[\u001b[0m\u001b[0;34m'path'\u001b[0m\u001b[0;34m]\u001b[0m\u001b[0;34m,\u001b[0m \u001b[0msample\u001b[0m\u001b[0;34m[\u001b[0m\u001b[0;34m'idx'\u001b[0m\u001b[0;34m]\u001b[0m\u001b[0;34m\u001b[0m\u001b[0;34m\u001b[0m\u001b[0m\n\u001b[0m\u001b[1;32m     77\u001b[0m \u001b[0;34m\u001b[0m\u001b[0m\n\u001b[1;32m     78\u001b[0m     \u001b[0;32mdef\u001b[0m \u001b[0monehotlabels\u001b[0m\u001b[0;34m(\u001b[0m\u001b[0mself\u001b[0m\u001b[0;34m)\u001b[0m\u001b[0;34m:\u001b[0m\u001b[0;34m\u001b[0m\u001b[0;34m\u001b[0m\u001b[0m\n",
      "\u001b[0;31mTypeError\u001b[0m: 'NoneType' object is not subscriptable"
     ]
    }
   ],
   "metadata": {}
  },
  {
   "cell_type": "markdown",
   "source": [
    "## Model definition"
   ],
   "metadata": {}
  },
  {
   "cell_type": "code",
   "execution_count": 22,
   "source": [
    "from torchvision.models import resnet34, densenet121, resnet152\n",
    "import torch.optim as optim\n",
    "\n",
    "if setting in ['stft', 'reassigned_stft', 'melstft']:\n",
    "    if modelname == 'densenet121':\n",
    "        model = densenet121(pretrained=False)\n",
    "        num_ftrs = model.classifier.in_features\n",
    "        model.fc = nn.Linear(num_ftrs,2)\n",
    "    elif modelname in ['resnet34', 'resnet152']:\n",
    "        model = densenet121(pretrained=False)\n",
    "        num_ftrs = model.fc.in_features\n",
    "        model.fc = nn.Linear(num_ftrs,2)        \n",
    "\n",
    "criterion = nn.CrossEntropyLoss()\n",
    "optimizer = torch.optim.Adam(model.parameters(), lr=0.01, betas=(0.9, 0.999))\n",
    "scheduler = optim.lr_scheduler.ReduceLROnPlateau(optimizer, patience=3, verbose=True)\n",
    "early_stopping = EarlyStopping(patience=7, verbose=2, path=f'data_created/{setting}_{modelname}_melZY_suzYX.pt')\n",
    "# print(model)"
   ],
   "outputs": [],
   "metadata": {}
  },
  {
   "cell_type": "markdown",
   "source": [
    "## Training"
   ],
   "metadata": {}
  },
  {
   "cell_type": "code",
   "execution_count": 23,
   "source": [
    "# Choosing whether to train on a gpu\n",
    "train_on_gpu = torch.cuda.is_available()\n",
    "print(f'Train on gpu: {train_on_gpu}')# Number of gpus\n",
    "model = model.to('cuda', dtype=torch.float)\n",
    "\n",
    "import warnings\n",
    "warnings.filterwarnings(\"ignore\")\n",
    "\n",
    "# Model training\n",
    "for epoch in range(num_epochs):\n",
    "    # Going through the training set\n",
    "    correct_train = 0\n",
    "    model.train()\n",
    "    for x_batch,y_batch,path_batch,idx_batch in tqdm(train_dataloader, desc='Training..\\t'):        \n",
    "\n",
    "        y_batch = torch.as_tensor(y_batch).type(torch.LongTensor)\n",
    "        x_batch,y_batch = x_batch.cuda(), y_batch.cuda()\n",
    "        \n",
    "        optimizer.zero_grad()\n",
    "        pred = model(x_batch)\n",
    "        loss = criterion(pred, y_batch)\n",
    "        loss.backward()\n",
    "        optimizer.step()\n",
    "        correct_train += (pred.argmax(axis=1) == y_batch).float().sum().item()\n",
    "\n",
    "    train_accuracy = correct_train / (len(train_dataloader)*batch_size) * 100.\n",
    "    # Going through the validation set\n",
    "    correct_valid = 0\n",
    "    model.eval()\n",
    "    for x_batch,y_batch,path_batch,idx_batch in tqdm(valid_dataloader, desc='Validating..\\t'):\n",
    "        \n",
    "        y_batch = torch.as_tensor(y_batch).type(torch.LongTensor)\n",
    "        x_batch,y_batch = x_batch.cuda(), y_batch.cuda()\n",
    "\n",
    "        pred = model(x_batch)\n",
    "        val_loss = criterion(pred, y_batch)\n",
    "        correct_valid += (pred.argmax(axis=1) == y_batch).float().sum().item()\n",
    "    valid_accuracy = correct_valid / (len(valid_dataloader)*batch_size_val) * 100.\n",
    "    scheduler.step(val_loss)\n",
    "    early_stopping(val_loss, model)\n",
    "    if early_stopping.early_stop:\n",
    "        print(\"Early stopping\")\n",
    "        break\n",
    "\n",
    "        # Printing results\n",
    "    print(f\"Epoch {epoch}: train_acc: {train_accuracy:.2f}% loss: {loss:.3f},  val_loss: {val_loss:.3f} val_acc: {valid_accuracy:.2f}%\")\n",
    "\n",
    "correct_test = 0\n",
    "model.eval()\n",
    "for x_batch,y_batch,path_batch,idx_batch in tqdm(test_dataloader, desc=\"Testing..\\t\"):\n",
    "\n",
    "    y_batch = torch.as_tensor(y_batch).type(torch.LongTensor)\n",
    "    x_batch,y_batch = x_batch.cuda(), y_batch.cuda()\n",
    "\n",
    "    pred = model(x_batch)\n",
    "    val_loss = criterion(pred, y_batch)\n",
    "    correct_test += (pred.argmax(axis=1) == y_batch).float().sum().item()\n",
    "test_accuracy = correct_test / (len(test_dataloader)*batch_size_val) * 100.\n",
    "print(test_accuracy)"
   ],
   "outputs": [
    {
     "output_type": "stream",
     "name": "stdout",
     "text": [
      "Train on gpu: True\n"
     ]
    }
   ],
   "metadata": {}
  },
  {
   "cell_type": "code",
   "execution_count": null,
   "source": [],
   "outputs": [],
   "metadata": {}
  },
  {
   "cell_type": "code",
   "execution_count": null,
   "source": [],
   "outputs": [],
   "metadata": {}
  },
  {
   "cell_type": "code",
   "execution_count": null,
   "source": [],
   "outputs": [],
   "metadata": {}
  },
  {
   "cell_type": "code",
   "execution_count": null,
   "source": [],
   "outputs": [],
   "metadata": {}
  },
  {
   "cell_type": "code",
   "execution_count": null,
   "source": [],
   "outputs": [],
   "metadata": {}
  },
  {
   "cell_type": "code",
   "execution_count": 59,
   "source": [
    "num_epochs = 3\n",
    "batch_size = 32\n",
    "batch_size_val = batch_size * 2\n",
    "validation_split = .2\n",
    "shuffle_dataset = True\n",
    "num_workers = psutil.cpu_count()\n",
    "random_seed= 42\n",
    "setting = 'raw'\n",
    "modeltype = 'wingbeatraw'\n",
    "normalize = \"\"#\"sample\""
   ],
   "outputs": [],
   "metadata": {}
  },
  {
   "cell_type": "code",
   "execution_count": 60,
   "source": [
    "transforms_list = [FilterWingbeat(setting='bandpass')]\n",
    "\n",
    "if normalize == \"whole\":\n",
    "    dmel1 = WingbeatsDataset(dsname=\"Melanogaster_RL/Y\", clean=True,transform=transforms.Compose(transforms_list))\n",
    "    dsuz1 = WingbeatsDataset(dsname=\"Suzukii_RL/L\", clean=True, transform=transforms.Compose(transforms_list))\n",
    "    transformed_dataset = ConcatDataset([dmel1, dsuz1])\n",
    "    trainval_dataloader = DataLoader(transformed_dataset, batch_size=batch_size, num_workers=num_workers)\n",
    "\n",
    "    mean, std = calc_mean_std_1D(loader=trainval_dataloader)\n",
    "    transforms_list += [Normalize(mean=mean, std=std, axes=(0,2))]\n",
    "elif normalize == \"sample\":\n",
    "    transforms_list += [Normalize()]\n",
    "else:\n",
    "    pass\n",
    "\n",
    "dmel1 = WingbeatsDataset(dsname=\"Melanogaster_RL/Z\", custom_label=[0], clean=True, transform=transforms.Compose(transforms_list))\n",
    "dmel2 = WingbeatsDataset(dsname=\"Melanogaster_RL/Y\", custom_label=[0], clean=True, transform=transforms.Compose(transforms_list))\n",
    "dsuz1 = WingbeatsDataset(dsname=\"Suzukii_RL/Y\",      custom_label=[1], clean=True, transform=transforms.Compose(transforms_list))\n",
    "dsuz2 = WingbeatsDataset(dsname=\"Suzukii_RL/X\",      custom_label=[1], clean=True, transform=transforms.Compose(transforms_list))\n",
    "\n",
    "transformed_dataset = ConcatDataset([dmel1, dsuz1])\n",
    "trainval_dataloader = DataLoader(transformed_dataset, batch_size=batch_size, num_workers=num_workers)\n",
    "train_size = int(0.8 * len(transformed_dataset))\n",
    "valid_size = len(transformed_dataset) - train_size\n",
    "train_dataset, valid_dataset = torch.utils.data.random_split(transformed_dataset, [train_size, valid_size])\n",
    "test_dataset = ConcatDataset([dmel2, dsuz2])\n",
    "\n",
    "train_dataloader = DataLoader(train_dataset, batch_size=batch_size, num_workers=num_workers)\n",
    "valid_dataloader = DataLoader(valid_dataset, batch_size=batch_size_val, num_workers=num_workers)\n",
    "test_dataloader = DataLoader(test_dataset, batch_size=batch_size_val, num_workers=num_workers)\n",
    "from IPython.display import Audio\n",
    "sig = train_dataset[6][0]\n",
    "plt.plot(sig.T); plt.ylim(-.04,.04)\n",
    "Audio(sig, rate=8000, autoplay=True)"
   ],
   "outputs": [
    {
     "output_type": "stream",
     "name": "stdout",
     "text": [
      "Found 12150 in dataset: Melanogaster_RL/Z, and 1 label(s): ['D. melanogaster']\n",
      "Label(s) changed to [0]\n",
      "Found 12003 in dataset: Melanogaster_RL/Y, and 1 label(s): ['D. melanogaster']\n",
      "Label(s) changed to [0]\n",
      "Found 18166 in dataset: Suzukii_RL/Y, and 1 label(s): ['D. suzukii']\n",
      "Label(s) changed to [1]\n",
      "Found 14703 in dataset: Suzukii_RL/X, and 1 label(s): ['D. suzukii']\n",
      "Label(s) changed to [1]\n"
     ]
    },
    {
     "output_type": "execute_result",
     "data": {
      "text/plain": [
       "<IPython.lib.display.Audio object>"
      ],
      "text/html": [
       "\n",
       "                <audio  controls=\"controls\" autoplay=\"autoplay\">\n",
       "                    <source src=\"data:audio/wav;base64,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\" type=\"audio/wav\" />\n",
       "                    Your browser does not support the audio element.\n",
       "                </audio>\n",
       "              "
      ]
     },
     "metadata": {},
     "execution_count": 60
    },
    {
     "output_type": "display_data",
     "data": {
      "text/plain": [
       "<Figure size 432x288 with 1 Axes>"
      ],
      "image/png": "[encoded data removed]"
     },
     "metadata": {
      "needs_background": "light"
     }
    }
   ],
   "metadata": {}
  },
  {
   "cell_type": "code",
   "execution_count": 61,
   "source": [
    "if setting.startswith('psd'):\n",
    "    model = DrosophilaNetPSD()\n",
    "elif modeltype == 'wingbeatraw':\n",
    "    model = DrosophilaNetRAW()\n",
    "elif modeltype == 'inception':\n",
    "    model = nn.Sequential(\n",
    "                    InceptionBlock(\n",
    "                        in_channels=1, \n",
    "                        n_filters=32, \n",
    "                        kernel_sizes=[5, 11, 23],\n",
    "                        bottleneck_channels=32,\n",
    "                        use_residual=True,\n",
    "                        activation=nn.ReLU()\n",
    "                    ),\n",
    "                    InceptionBlock(\n",
    "                        in_channels=32*4, \n",
    "                        n_filters=32, \n",
    "                        kernel_sizes=[5, 11, 23],\n",
    "                        bottleneck_channels=32,\n",
    "                        use_residual=True,\n",
    "                        activation=nn.ReLU()\n",
    "                    ),\n",
    "                    nn.AdaptiveAvgPool1d(output_size=1),\n",
    "                    Flatten(out_features=32*4*1),\n",
    "                    nn.Linear(in_features=4*32*1, out_features=2))\n",
    "\n",
    "criterion = nn.CrossEntropyLoss()\n",
    "optimizer = torch.optim.Adam(model.parameters(), lr=0.01, betas=(0.9, 0.999))\n",
    "scheduler = optim.lr_scheduler.ReduceLROnPlateau(optimizer, patience=3, verbose=True)\n",
    "early_stopping = EarlyStopping(patience=7, verbose=1, path=f'data_created/{setting}_{modelname}_melZY_suzYX.pt')\n",
    "# print(model)"
   ],
   "outputs": [],
   "metadata": {}
  },
  {
   "cell_type": "markdown",
   "source": [
    "## Training"
   ],
   "metadata": {}
  },
  {
   "cell_type": "code",
   "execution_count": 62,
   "source": [
    "# Choosing whether to train on a gpu\n",
    "train_on_gpu = torch.cuda.is_available()\n",
    "print(f'Train on gpu: {train_on_gpu}')# Number of gpus\n",
    "model = model.to('cuda', dtype=torch.float)\n",
    "\n",
    "# Model training\n",
    "for epoch in range(num_epochs):\n",
    "    # Going through the training set\n",
    "    correct_train = 0\n",
    "    model.train()\n",
    "    for x_batch,y_batch,path_batch,idx_batch in tqdm(train_dataloader, desc='Training..\\t'):        \n",
    "\n",
    "        y_batch = torch.as_tensor(y_batch).type(torch.LongTensor)\n",
    "        x_batch,y_batch = x_batch.cuda(), y_batch.cuda()\n",
    "        \n",
    "        optimizer.zero_grad()\n",
    "        pred = model(x_batch)\n",
    "        loss = criterion(pred, y_batch)\n",
    "        loss.backward()\n",
    "        optimizer.step()\n",
    "        correct_train += (pred.argmax(axis=1) == y_batch).float().sum().item()\n",
    "\n",
    "    train_accuracy = correct_train / (len(train_dataloader)*batch_size) * 100.\n",
    "    # Going through the validation set\n",
    "    correct_valid = 0\n",
    "    model.eval()\n",
    "    for x_batch,y_batch,path_batch,idx_batch in tqdm(valid_dataloader, desc='Validating..\\t'):\n",
    "        \n",
    "        y_batch = torch.as_tensor(y_batch).type(torch.LongTensor)\n",
    "        x_batch,y_batch = x_batch.cuda(), y_batch.cuda()\n",
    "\n",
    "        pred = model(x_batch)\n",
    "        val_loss = criterion(pred, y_batch)\n",
    "        correct_valid += (pred.argmax(axis=1) == y_batch).float().sum().item()\n",
    "    valid_accuracy = correct_valid / (len(valid_dataloader)*batch_size_val) * 100.\n",
    "    scheduler.step(val_loss)\n",
    "    early_stopping(val_loss, model)\n",
    "    if early_stopping.early_stop:\n",
    "        print(\"Early stopping\")\n",
    "        break\n",
    "\n",
    "        # Printing results\n",
    "    print(f\"Epoch {epoch}: train_acc: {train_accuracy:.2f}% loss: {loss:.3f},  val_loss: {val_loss:.3f} val_acc: {valid_accuracy:.2f}%\")\n"
   ],
   "outputs": [
    {
     "output_type": "stream",
     "name": "stderr",
     "text": [
      "Training..\t:   0%|          | 0/758 [00:00<?, ?it/s]"
     ]
    },
    {
     "output_type": "stream",
     "name": "stdout",
     "text": [
      "Train on gpu: True\n"
     ]
    },
    {
     "output_type": "stream",
     "name": "stderr",
     "text": [
      "Training..\t: 100%|██████████| 758/758 [00:07<00:00, 96.33it/s] \n",
      "Validating..\t: 100%|██████████| 95/95 [00:01<00:00, 82.85it/s] \n",
      "Training..\t:   0%|          | 0/758 [00:00<?, ?it/s]"
     ]
    },
    {
     "output_type": "stream",
     "name": "stdout",
     "text": [
      "Validation loss decreased (inf --> 1.330543).  Saving model ...\n",
      "Epoch 0: train_acc: 89.33% loss: 0.091,  val_loss: 1.331 val_acc: 56.68%\n"
     ]
    },
    {
     "output_type": "stream",
     "name": "stderr",
     "text": [
      "Training..\t: 100%|██████████| 758/758 [00:07<00:00, 94.78it/s] \n",
      "Validating..\t: 100%|██████████| 95/95 [00:01<00:00, 78.61it/s] \n",
      "Training..\t:   0%|          | 0/758 [00:00<?, ?it/s]"
     ]
    },
    {
     "output_type": "stream",
     "name": "stdout",
     "text": [
      "Epoch 1: train_acc: 93.00% loss: 0.087,  val_loss: 5.073 val_acc: 40.81%\n"
     ]
    },
    {
     "output_type": "stream",
     "name": "stderr",
     "text": [
      "Training..\t: 100%|██████████| 758/758 [00:08<00:00, 93.89it/s] \n",
      "Validating..\t: 100%|██████████| 95/95 [00:01<00:00, 80.80it/s] "
     ]
    },
    {
     "output_type": "stream",
     "name": "stdout",
     "text": [
      "Epoch 2: train_acc: 93.95% loss: 0.097,  val_loss: 4.321 val_acc: 41.53%\n"
     ]
    },
    {
     "output_type": "stream",
     "name": "stderr",
     "text": [
      "\n"
     ]
    }
   ],
   "metadata": {}
  },
  {
   "cell_type": "code",
   "execution_count": 63,
   "source": [
    "# Choosing whether to train on a gpu\n",
    "train_on_gpu = torch.cuda.is_available()\n",
    "print(f'Train on gpu: {train_on_gpu}')# Number of gpus\n",
    "model = model.to('cuda', dtype=torch.float)\n",
    "test_dataset = ConcatDataset([dmel2, dsuz2])\n",
    "test_dataloader = DataLoader(test_dataset, batch_size=batch_size_val, num_workers=num_workers)\n",
    "\n",
    "def test(model, loader):\n",
    "    correct_test = 0\n",
    "    model.eval()\n",
    "    for x_batch,y_batch,path_batch,idx_batch in tqdm(loader, desc='Testing..\\t'):\n",
    "\n",
    "        y_batch = torch.as_tensor(y_batch).type(torch.LongTensor)\n",
    "        x_batch,y_batch = x_batch.cuda(), y_batch.cuda()\n",
    "\n",
    "        pred = model(x_batch)\n",
    "        val_loss = criterion(pred, y_batch)\n",
    "        correct_test += (pred.argmax(axis=1) == y_batch).float().sum().item()\n",
    "    test_accuracy = correct_test / (len(test_dataloader)*batch_size_val) * 100.\n",
    "    print(test_accuracy)\n",
    "test(model,test_dataloader)"
   ],
   "outputs": [
    {
     "output_type": "stream",
     "name": "stderr",
     "text": [
      "Testing..\t:   0%|          | 0/418 [00:00<?, ?it/s]"
     ]
    },
    {
     "output_type": "stream",
     "name": "stdout",
     "text": [
      "Train on gpu: True\n"
     ]
    },
    {
     "output_type": "stream",
     "name": "stderr",
     "text": [
      "Testing..\t: 100%|██████████| 418/418 [00:03<00:00, 115.26it/s]"
     ]
    },
    {
     "output_type": "stream",
     "name": "stdout",
     "text": [
      "45.772278708133975\n"
     ]
    },
    {
     "output_type": "stream",
     "name": "stderr",
     "text": [
      "\n"
     ]
    }
   ],
   "metadata": {}
  },
  {
   "cell_type": "code",
   "execution_count": null,
   "source": [],
   "outputs": [],
   "metadata": {}
  },
  {
   "cell_type": "code",
   "execution_count": null,
   "source": [],
   "outputs": [],
   "metadata": {}
  },
  {
   "cell_type": "code",
   "execution_count": null,
   "source": [],
   "outputs": [],
   "metadata": {}
  },
  {
   "cell_type": "code",
   "execution_count": null,
   "source": [],
   "outputs": [],
   "metadata": {}
  },
  {
   "cell_type": "code",
   "execution_count": 64,
   "source": [
    "from torchcam.cams import CAM"
   ],
   "outputs": [],
   "metadata": {}
  },
  {
   "cell_type": "code",
   "execution_count": 65,
   "source": [
    "from PIL import Image\n",
    "from torchvision.transforms.functional import normalize, resize, to_tensor, to_pil_image\n",
    "from torchcam.utils import overlay_mask\n"
   ],
   "outputs": [],
   "metadata": {}
  },
  {
   "cell_type": "code",
   "execution_count": 66,
   "source": [
    "dmodel = model"
   ],
   "outputs": [],
   "metadata": {}
  },
  {
   "cell_type": "code",
   "execution_count": 164,
   "source": [
    "submodule_dict = dict(dmodel.named_modules())"
   ],
   "outputs": [],
   "metadata": {}
  },
  {
   "cell_type": "code",
   "execution_count": 165,
   "source": [
    "locate_linear_layer(dmodel)"
   ],
   "outputs": [
    {
     "output_type": "execute_result",
     "data": {
      "text/plain": [
       "'fc1'"
      ]
     },
     "metadata": {},
     "execution_count": 165
    }
   ],
   "metadata": {}
  },
  {
   "cell_type": "code",
   "execution_count": 166,
   "source": [
    "fc_layer = submodule_dict['fc1']\n",
    "fc_weights = submodule_dict['fc1'].weight.data\n",
    "cam = CAM(dmodel, 'avgPool', 'fc1')\n",
    "\n",
    "with torch.no_grad():\n",
    "    out = dmodel(torch.from_numpy(np.expand_dims(dmel1[0][0], axis=0)).cuda())\n",
    "    \n",
    "z = cam(class_idx=1)\n",
    "z.shape\n",
    "\n",
    "plt.imshow(z.cpu().numpy())"
   ],
   "outputs": [
    {
     "output_type": "execute_result",
     "data": {
      "text/plain": [
       "<matplotlib.image.AxesImage at 0x7fe11d1e0208>"
      ]
     },
     "metadata": {},
     "execution_count": 166
    },
    {
     "output_type": "display_data",
     "data": {
      "text/plain": [
       "<Figure size 432x288 with 1 Axes>"
      ],
      "image/png": "[encoded data removed]"
     },
     "metadata": {
      "needs_background": "light"
     }
    }
   ],
   "metadata": {}
  },
  {
   "cell_type": "code",
   "execution_count": 168,
   "source": [
    "# z"
   ],
   "outputs": [],
   "metadata": {}
  },
  {
   "cell_type": "code",
   "execution_count": 110,
   "source": [],
   "outputs": [],
   "metadata": {}
  },
  {
   "cell_type": "code",
   "execution_count": 111,
   "source": [],
   "outputs": [],
   "metadata": {}
  },
  {
   "cell_type": "code",
   "execution_count": 112,
   "source": [],
   "outputs": [
    {
     "output_type": "execute_result",
     "data": {
      "text/plain": [
       "torch.Size([256, 1])"
      ]
     },
     "metadata": {},
     "execution_count": 112
    }
   ],
   "metadata": {}
  },
  {
   "cell_type": "code",
   "execution_count": 113,
   "source": [],
   "outputs": [
    {
     "output_type": "execute_result",
     "data": {
      "text/plain": [
       "<matplotlib.image.AxesImage at 0x7fe11fc32048>"
      ]
     },
     "metadata": {},
     "execution_count": 113
    },
    {
     "output_type": "display_data",
     "data": {
      "text/plain": [
       "<Figure size 432x288 with 1 Axes>"
      ],
      "image/png": "[encoded data removed]"
     },
     "metadata": {
      "needs_background": "light"
     }
    }
   ],
   "metadata": {}
  },
  {
   "cell_type": "code",
   "execution_count": 119,
   "source": [
    "plt.plot(z.cpu().numpy())"
   ],
   "outputs": [
    {
     "output_type": "execute_result",
     "data": {
      "text/plain": [
       "[<matplotlib.lines.Line2D at 0x7fe13156eb70>]"
      ]
     },
     "metadata": {},
     "execution_count": 119
    },
    {
     "output_type": "display_data",
     "data": {
      "text/plain": [
       "<Figure size 432x288 with 1 Axes>"
      ],
      "image/png": "[encoded data removed]"
     },
     "metadata": {
      "needs_background": "light"
     }
    }
   ],
   "metadata": {}
  },
  {
   "cell_type": "code",
   "execution_count": 120,
   "source": [
    "z.cpu().numpy().shape"
   ],
   "outputs": [
    {
     "output_type": "execute_result",
     "data": {
      "text/plain": [
       "(256, 1)"
      ]
     },
     "metadata": {},
     "execution_count": 120
    }
   ],
   "metadata": {}
  },
  {
   "cell_type": "code",
   "execution_count": null,
   "source": [],
   "outputs": [],
   "metadata": {}
  },
  {
   "cell_type": "code",
   "execution_count": 179,
   "source": [
    "from torchvision.models import resnet18\n",
    "from torchcam.cams import CAM\n",
    "model = resnet18(pretrained=True).eval()\n",
    "cam = CAM(model, 'layer4', 'fc')\n",
    "input_tensor = torch.from_numpy(np.random.randn(1,3,224,224)).float()\n",
    "with torch.no_grad(): scores = model(input_tensor)"
   ],
   "outputs": [],
   "metadata": {}
  },
  {
   "cell_type": "code",
   "execution_count": 180,
   "source": [
    "cam._hooks_enabled = True"
   ],
   "outputs": [],
   "metadata": {}
  },
  {
   "cell_type": "code",
   "execution_count": 181,
   "source": [
    "model.zero_grad()"
   ],
   "outputs": [],
   "metadata": {}
  },
  {
   "cell_type": "code",
   "execution_count": 182,
   "source": [
    "activation_map = cam(class_idx=100, scores=out)"
   ],
   "outputs": [],
   "metadata": {}
  },
  {
   "cell_type": "code",
   "execution_count": 183,
   "source": [
    "plt.imshow(activation_map)"
   ],
   "outputs": [
    {
     "output_type": "execute_result",
     "data": {
      "text/plain": [
       "<matplotlib.image.AxesImage at 0x7fe11f4fe748>"
      ]
     },
     "metadata": {},
     "execution_count": 183
    },
    {
     "output_type": "display_data",
     "data": {
      "text/plain": [
       "<Figure size 432x288 with 1 Axes>"
      ],
      "image/png": "[encoded data removed]"
     },
     "metadata": {
      "needs_background": "light"
     }
    }
   ],
   "metadata": {}
  },
  {
   "cell_type": "code",
   "execution_count": 184,
   "source": [
    "cam.clear_hooks()\n",
    "cam._hooks_enabled = False"
   ],
   "outputs": [],
   "metadata": {}
  },
  {
   "cell_type": "code",
   "execution_count": 185,
   "source": [
    "heatmap = to_pil_image(activation_map, mode='F')"
   ],
   "outputs": [],
   "metadata": {}
  },
  {
   "cell_type": "code",
   "execution_count": 190,
   "source": [
    "new_p = Image.fromarray(np.array(heatmap))\n",
    "if new_p.mode != 'RGB':\n",
    "    new_p = new_p.convert('RGB')\n",
    "new_p"
   ],
   "outputs": [
    {
     "output_type": "execute_result",
     "data": {
      "text/plain": [
       "<PIL.Image.Image image mode=RGB size=7x7 at 0x7FE11F700B38>"
      ],
      "image/png": "[encoded data removed]"
     },
     "metadata": {},
     "execution_count": 190
    }
   ],
   "metadata": {}
  },
  {
   "cell_type": "code",
   "execution_count": 194,
   "source": [
    "overlay_mask(Image.fromarray(input_tensor.float().numpy().squeeze()) ,new_p)"
   ],
   "outputs": [
    {
     "output_type": "error",
     "ename": "TypeError",
     "evalue": "Cannot handle this data type: (1, 1, 224), <f4",
     "traceback": [
      "\u001b[0;31m---------------------------------------------------------------------------\u001b[0m",
      "\u001b[0;31mKeyError\u001b[0m                                  Traceback (most recent call last)",
      "\u001b[0;32m~/anaconda3/envs/wbai/lib/python3.6/site-packages/PIL/Image.py\u001b[0m in \u001b[0;36mfromarray\u001b[0;34m(obj, mode)\u001b[0m\n\u001b[1;32m   2763\u001b[0m         \u001b[0;32mtry\u001b[0m\u001b[0;34m:\u001b[0m\u001b[0;34m\u001b[0m\u001b[0;34m\u001b[0m\u001b[0m\n\u001b[0;32m-> 2764\u001b[0;31m             \u001b[0mmode\u001b[0m\u001b[0;34m,\u001b[0m \u001b[0mrawmode\u001b[0m \u001b[0;34m=\u001b[0m \u001b[0m_fromarray_typemap\u001b[0m\u001b[0;34m[\u001b[0m\u001b[0mtypekey\u001b[0m\u001b[0;34m]\u001b[0m\u001b[0;34m\u001b[0m\u001b[0;34m\u001b[0m\u001b[0m\n\u001b[0m\u001b[1;32m   2765\u001b[0m         \u001b[0;32mexcept\u001b[0m \u001b[0mKeyError\u001b[0m \u001b[0;32mas\u001b[0m \u001b[0me\u001b[0m\u001b[0;34m:\u001b[0m\u001b[0;34m\u001b[0m\u001b[0;34m\u001b[0m\u001b[0m\n",
      "\u001b[0;31mKeyError\u001b[0m: ((1, 1, 224), '<f4')",
      "\nThe above exception was the direct cause of the following exception:\n",
      "\u001b[0;31mTypeError\u001b[0m                                 Traceback (most recent call last)",
      "\u001b[0;32m<ipython-input-194-05ef8b78011b>\u001b[0m in \u001b[0;36m<module>\u001b[0;34m\u001b[0m\n\u001b[0;32m----> 1\u001b[0;31m \u001b[0moverlay_mask\u001b[0m\u001b[0;34m(\u001b[0m\u001b[0mImage\u001b[0m\u001b[0;34m.\u001b[0m\u001b[0mfromarray\u001b[0m\u001b[0;34m(\u001b[0m\u001b[0minput_tensor\u001b[0m\u001b[0;34m.\u001b[0m\u001b[0mfloat\u001b[0m\u001b[0;34m(\u001b[0m\u001b[0;34m)\u001b[0m\u001b[0;34m.\u001b[0m\u001b[0mnumpy\u001b[0m\u001b[0;34m(\u001b[0m\u001b[0;34m)\u001b[0m\u001b[0;34m.\u001b[0m\u001b[0msqueeze\u001b[0m\u001b[0;34m(\u001b[0m\u001b[0;34m)\u001b[0m\u001b[0;34m)\u001b[0m \u001b[0;34m,\u001b[0m\u001b[0mnew_p\u001b[0m\u001b[0;34m)\u001b[0m\u001b[0;34m\u001b[0m\u001b[0;34m\u001b[0m\u001b[0m\n\u001b[0m",
      "\u001b[0;32m~/anaconda3/envs/wbai/lib/python3.6/site-packages/PIL/Image.py\u001b[0m in \u001b[0;36mfromarray\u001b[0;34m(obj, mode)\u001b[0m\n\u001b[1;32m   2764\u001b[0m             \u001b[0mmode\u001b[0m\u001b[0;34m,\u001b[0m \u001b[0mrawmode\u001b[0m \u001b[0;34m=\u001b[0m \u001b[0m_fromarray_typemap\u001b[0m\u001b[0;34m[\u001b[0m\u001b[0mtypekey\u001b[0m\u001b[0;34m]\u001b[0m\u001b[0;34m\u001b[0m\u001b[0;34m\u001b[0m\u001b[0m\n\u001b[1;32m   2765\u001b[0m         \u001b[0;32mexcept\u001b[0m \u001b[0mKeyError\u001b[0m \u001b[0;32mas\u001b[0m \u001b[0me\u001b[0m\u001b[0;34m:\u001b[0m\u001b[0;34m\u001b[0m\u001b[0;34m\u001b[0m\u001b[0m\n\u001b[0;32m-> 2766\u001b[0;31m             \u001b[0;32mraise\u001b[0m \u001b[0mTypeError\u001b[0m\u001b[0;34m(\u001b[0m\u001b[0;34m\"Cannot handle this data type: %s, %s\"\u001b[0m \u001b[0;34m%\u001b[0m \u001b[0mtypekey\u001b[0m\u001b[0;34m)\u001b[0m \u001b[0;32mfrom\u001b[0m \u001b[0me\u001b[0m\u001b[0;34m\u001b[0m\u001b[0;34m\u001b[0m\u001b[0m\n\u001b[0m\u001b[1;32m   2767\u001b[0m     \u001b[0;32melse\u001b[0m\u001b[0;34m:\u001b[0m\u001b[0;34m\u001b[0m\u001b[0;34m\u001b[0m\u001b[0m\n\u001b[1;32m   2768\u001b[0m         \u001b[0mrawmode\u001b[0m \u001b[0;34m=\u001b[0m \u001b[0mmode\u001b[0m\u001b[0;34m\u001b[0m\u001b[0;34m\u001b[0m\u001b[0m\n",
      "\u001b[0;31mTypeError\u001b[0m: Cannot handle this data type: (1, 1, 224), <f4"
     ]
    }
   ],
   "metadata": {}
  },
  {
   "cell_type": "code",
   "execution_count": 193,
   "source": [
    "input_tensor.float().numpy().shape"
   ],
   "outputs": [
    {
     "output_type": "execute_result",
     "data": {
      "text/plain": [
       "(1, 3, 224, 224)"
      ]
     },
     "metadata": {},
     "execution_count": 193
    }
   ],
   "metadata": {}
  },
  {
   "cell_type": "code",
   "execution_count": null,
   "source": [],
   "outputs": [],
   "metadata": {}
  },
  {
   "cell_type": "code",
   "execution_count": 162,
   "source": [
    "dmodel"
   ],
   "outputs": [
    {
     "output_type": "execute_result",
     "data": {
      "text/plain": [
       "Conv1dNetRAW(\n",
       "  (conv1): Conv1d(1, 16, kernel_size=(3,), stride=(1,))\n",
       "  (bn1): BatchNorm1d(16, eps=1e-05, momentum=0.1, affine=True, track_running_stats=True)\n",
       "  (pool1): MaxPool1d(kernel_size=2, stride=2, padding=0, dilation=1, ceil_mode=False)\n",
       "  (conv2): Conv1d(16, 32, kernel_size=(3,), stride=(1,))\n",
       "  (bn2): BatchNorm1d(32, eps=1e-05, momentum=0.1, affine=True, track_running_stats=True)\n",
       "  (pool2): MaxPool1d(kernel_size=2, stride=2, padding=0, dilation=1, ceil_mode=False)\n",
       "  (conv3): Conv1d(32, 64, kernel_size=(3,), stride=(1,))\n",
       "  (bn3): BatchNorm1d(64, eps=1e-05, momentum=0.1, affine=True, track_running_stats=True)\n",
       "  (pool3): MaxPool1d(kernel_size=2, stride=2, padding=0, dilation=1, ceil_mode=False)\n",
       "  (conv4): Conv1d(64, 128, kernel_size=(3,), stride=(1,))\n",
       "  (bn4): BatchNorm1d(128, eps=1e-05, momentum=0.1, affine=True, track_running_stats=True)\n",
       "  (pool4): MaxPool1d(kernel_size=2, stride=2, padding=0, dilation=1, ceil_mode=False)\n",
       "  (conv5): Conv1d(128, 256, kernel_size=(3,), stride=(1,))\n",
       "  (bn5): BatchNorm1d(256, eps=1e-05, momentum=0.1, affine=True, track_running_stats=True)\n",
       "  (pool5): MaxPool1d(kernel_size=2, stride=2, padding=0, dilation=1, ceil_mode=False)\n",
       "  (dropout): Dropout(p=0.5, inplace=False)\n",
       "  (avgPool): AvgPool1d(kernel_size=(154,), stride=(154,), padding=(0,))\n",
       "  (fc1): Linear(in_features=256, out_features=2, bias=True)\n",
       ")"
      ]
     },
     "metadata": {},
     "execution_count": 162
    }
   ],
   "metadata": {}
  },
  {
   "cell_type": "code",
   "execution_count": null,
   "source": [],
   "outputs": [],
   "metadata": {}
  },
  {
   "cell_type": "code",
   "execution_count": 123,
   "source": [
    "submodule_dict = dict(model.named_modules())"
   ],
   "outputs": [],
   "metadata": {}
  },
  {
   "cell_type": "code",
   "execution_count": 134,
   "source": [
    "from torchsummary import summary\n",
    "model = model.to('cuda', dtype=torch.float)\n"
   ],
   "outputs": [],
   "metadata": {}
  },
  {
   "cell_type": "code",
   "execution_count": 135,
   "source": [
    "summary(model, (3, 224, 224))\n"
   ],
   "outputs": [
    {
     "output_type": "stream",
     "name": "stdout",
     "text": [
      "----------------------------------------------------------------\n",
      "        Layer (type)               Output Shape         Param #\n",
      "================================================================\n",
      "            Conv2d-1         [-1, 64, 112, 112]           9,408\n",
      "       BatchNorm2d-2         [-1, 64, 112, 112]             128\n",
      "              ReLU-3         [-1, 64, 112, 112]               0\n",
      "         MaxPool2d-4           [-1, 64, 56, 56]               0\n",
      "            Conv2d-5           [-1, 64, 56, 56]          36,864\n",
      "       BatchNorm2d-6           [-1, 64, 56, 56]             128\n",
      "              ReLU-7           [-1, 64, 56, 56]               0\n",
      "            Conv2d-8           [-1, 64, 56, 56]          36,864\n",
      "       BatchNorm2d-9           [-1, 64, 56, 56]             128\n",
      "             ReLU-10           [-1, 64, 56, 56]               0\n",
      "       BasicBlock-11           [-1, 64, 56, 56]               0\n",
      "           Conv2d-12           [-1, 64, 56, 56]          36,864\n",
      "      BatchNorm2d-13           [-1, 64, 56, 56]             128\n",
      "             ReLU-14           [-1, 64, 56, 56]               0\n",
      "           Conv2d-15           [-1, 64, 56, 56]          36,864\n",
      "      BatchNorm2d-16           [-1, 64, 56, 56]             128\n",
      "             ReLU-17           [-1, 64, 56, 56]               0\n",
      "       BasicBlock-18           [-1, 64, 56, 56]               0\n",
      "           Conv2d-19          [-1, 128, 28, 28]          73,728\n",
      "      BatchNorm2d-20          [-1, 128, 28, 28]             256\n",
      "             ReLU-21          [-1, 128, 28, 28]               0\n",
      "           Conv2d-22          [-1, 128, 28, 28]         147,456\n",
      "      BatchNorm2d-23          [-1, 128, 28, 28]             256\n",
      "           Conv2d-24          [-1, 128, 28, 28]           8,192\n",
      "      BatchNorm2d-25          [-1, 128, 28, 28]             256\n",
      "             ReLU-26          [-1, 128, 28, 28]               0\n",
      "       BasicBlock-27          [-1, 128, 28, 28]               0\n",
      "           Conv2d-28          [-1, 128, 28, 28]         147,456\n",
      "      BatchNorm2d-29          [-1, 128, 28, 28]             256\n",
      "             ReLU-30          [-1, 128, 28, 28]               0\n",
      "           Conv2d-31          [-1, 128, 28, 28]         147,456\n",
      "      BatchNorm2d-32          [-1, 128, 28, 28]             256\n",
      "             ReLU-33          [-1, 128, 28, 28]               0\n",
      "       BasicBlock-34          [-1, 128, 28, 28]               0\n",
      "           Conv2d-35          [-1, 256, 14, 14]         294,912\n",
      "      BatchNorm2d-36          [-1, 256, 14, 14]             512\n",
      "             ReLU-37          [-1, 256, 14, 14]               0\n",
      "           Conv2d-38          [-1, 256, 14, 14]         589,824\n",
      "      BatchNorm2d-39          [-1, 256, 14, 14]             512\n",
      "           Conv2d-40          [-1, 256, 14, 14]          32,768\n",
      "      BatchNorm2d-41          [-1, 256, 14, 14]             512\n",
      "             ReLU-42          [-1, 256, 14, 14]               0\n",
      "       BasicBlock-43          [-1, 256, 14, 14]               0\n",
      "           Conv2d-44          [-1, 256, 14, 14]         589,824\n",
      "      BatchNorm2d-45          [-1, 256, 14, 14]             512\n",
      "             ReLU-46          [-1, 256, 14, 14]               0\n",
      "           Conv2d-47          [-1, 256, 14, 14]         589,824\n",
      "      BatchNorm2d-48          [-1, 256, 14, 14]             512\n",
      "             ReLU-49          [-1, 256, 14, 14]               0\n",
      "       BasicBlock-50          [-1, 256, 14, 14]               0\n",
      "           Conv2d-51            [-1, 512, 7, 7]       1,179,648\n",
      "      BatchNorm2d-52            [-1, 512, 7, 7]           1,024\n",
      "             ReLU-53            [-1, 512, 7, 7]               0\n",
      "           Conv2d-54            [-1, 512, 7, 7]       2,359,296\n",
      "      BatchNorm2d-55            [-1, 512, 7, 7]           1,024\n",
      "           Conv2d-56            [-1, 512, 7, 7]         131,072\n",
      "      BatchNorm2d-57            [-1, 512, 7, 7]           1,024\n",
      "             ReLU-58            [-1, 512, 7, 7]               0\n",
      "       BasicBlock-59            [-1, 512, 7, 7]               0\n",
      "           Conv2d-60            [-1, 512, 7, 7]       2,359,296\n",
      "      BatchNorm2d-61            [-1, 512, 7, 7]           1,024\n",
      "             ReLU-62            [-1, 512, 7, 7]               0\n",
      "           Conv2d-63            [-1, 512, 7, 7]       2,359,296\n",
      "      BatchNorm2d-64            [-1, 512, 7, 7]           1,024\n",
      "             ReLU-65            [-1, 512, 7, 7]               0\n",
      "       BasicBlock-66            [-1, 512, 7, 7]               0\n",
      "AdaptiveAvgPool2d-67            [-1, 512, 1, 1]               0\n",
      "           Linear-68                 [-1, 1000]         513,000\n",
      "================================================================\n",
      "Total params: 11,689,512\n",
      "Trainable params: 11,689,512\n",
      "Non-trainable params: 0\n",
      "----------------------------------------------------------------\n",
      "Input size (MB): 0.57\n",
      "Forward/backward pass size (MB): 62.79\n",
      "Params size (MB): 44.59\n",
      "Estimated Total Size (MB): 107.96\n",
      "----------------------------------------------------------------\n"
     ]
    }
   ],
   "metadata": {}
  },
  {
   "cell_type": "code",
   "execution_count": null,
   "source": [],
   "outputs": [],
   "metadata": {}
  },
  {
   "cell_type": "code",
   "execution_count": 67,
   "source": [
    "# dmodel.features.denseblock4.denselayer16.conv2\n",
    "extractor = CAM(dmodel, 'features', 'classifier')\n",
    "\n",
    "extractor._hooks_enabled = False\n",
    "idx = 1\n",
    "extractor._hooks_enabled = True\n",
    "dmodel.zero_grad()\n",
    "\n",
    "i = 21600\n",
    "sig = train_dataset[i][0].numpy()\n",
    "\n",
    "sig = np.moveaxis(sig, 0, -1)#.shape\n",
    "\n",
    "from PIL import Image\n",
    "pil_img = Image.fromarray(sig.astype(np.uint8))\n",
    "\n",
    "scores = dmodel(train_dataset[i][0].unsqueeze(0).to(device='cuda'))\n",
    "class_idx = 0 #scores.squeeze(0).argmax().item() if args.class_idx is None else args.class_idx\n",
    "\n",
    "# Use the hooked data to compute activation map\n",
    "activation_map = extractor(class_idx, scores).cpu()\n",
    "\n",
    "# Clean data\n",
    "extractor.clear_hooks()\n",
    "extractor._hooks_enabled = False\n",
    "# Convert it to PIL image\n",
    "# The indexing below means first image in batch\n",
    "heatmap = to_pil_image(activation_map, mode='F')\n",
    "# Plot the result\n",
    "result = overlay_mask(pil_img, heatmap)\n",
    "\n",
    "plt.imshow(result)\n"
   ],
   "outputs": [
    {
     "output_type": "error",
     "ename": "ValueError",
     "evalue": "Unable to find submodule features in the model",
     "traceback": [
      "\u001b[0;31m---------------------------------------------------------------------------\u001b[0m",
      "\u001b[0;31mValueError\u001b[0m                                Traceback (most recent call last)",
      "\u001b[0;32m<ipython-input-67-f34968d045bd>\u001b[0m in \u001b[0;36m<module>\u001b[0;34m\u001b[0m\n\u001b[1;32m      1\u001b[0m \u001b[0;31m# dmodel.features.denseblock4.denselayer16.conv2\u001b[0m\u001b[0;34m\u001b[0m\u001b[0;34m\u001b[0m\u001b[0;34m\u001b[0m\u001b[0m\n\u001b[0;32m----> 2\u001b[0;31m \u001b[0mextractor\u001b[0m \u001b[0;34m=\u001b[0m \u001b[0mCAM\u001b[0m\u001b[0;34m(\u001b[0m\u001b[0mdmodel\u001b[0m\u001b[0;34m,\u001b[0m \u001b[0;34m'features'\u001b[0m\u001b[0;34m,\u001b[0m \u001b[0;34m'classifier'\u001b[0m\u001b[0;34m)\u001b[0m\u001b[0;34m\u001b[0m\u001b[0;34m\u001b[0m\u001b[0m\n\u001b[0m\u001b[1;32m      3\u001b[0m \u001b[0;34m\u001b[0m\u001b[0m\n\u001b[1;32m      4\u001b[0m \u001b[0mextractor\u001b[0m\u001b[0;34m.\u001b[0m\u001b[0m_hooks_enabled\u001b[0m \u001b[0;34m=\u001b[0m \u001b[0;32mFalse\u001b[0m\u001b[0;34m\u001b[0m\u001b[0;34m\u001b[0m\u001b[0m\n\u001b[1;32m      5\u001b[0m \u001b[0midx\u001b[0m \u001b[0;34m=\u001b[0m \u001b[0;36m1\u001b[0m\u001b[0;34m\u001b[0m\u001b[0;34m\u001b[0m\u001b[0m\n",
      "\u001b[0;32m~/anaconda3/envs/wbai/lib/python3.6/site-packages/torchcam/cams/cam.py\u001b[0m in \u001b[0;36m__init__\u001b[0;34m(self, model, conv_layer, fc_layer)\u001b[0m\n\u001b[1;32m    151\u001b[0m     \u001b[0;32mdef\u001b[0m \u001b[0m__init__\u001b[0m\u001b[0;34m(\u001b[0m\u001b[0mself\u001b[0m\u001b[0;34m,\u001b[0m \u001b[0mmodel\u001b[0m\u001b[0;34m,\u001b[0m \u001b[0mconv_layer\u001b[0m\u001b[0;34m,\u001b[0m \u001b[0mfc_layer\u001b[0m\u001b[0;34m)\u001b[0m\u001b[0;34m:\u001b[0m\u001b[0;34m\u001b[0m\u001b[0;34m\u001b[0m\u001b[0m\n\u001b[1;32m    152\u001b[0m \u001b[0;34m\u001b[0m\u001b[0m\n\u001b[0;32m--> 153\u001b[0;31m         \u001b[0msuper\u001b[0m\u001b[0;34m(\u001b[0m\u001b[0;34m)\u001b[0m\u001b[0;34m.\u001b[0m\u001b[0m__init__\u001b[0m\u001b[0;34m(\u001b[0m\u001b[0mmodel\u001b[0m\u001b[0;34m,\u001b[0m \u001b[0mconv_layer\u001b[0m\u001b[0;34m)\u001b[0m\u001b[0;34m\u001b[0m\u001b[0;34m\u001b[0m\u001b[0m\n\u001b[0m\u001b[1;32m    154\u001b[0m         \u001b[0;31m# Softmax weight\u001b[0m\u001b[0;34m\u001b[0m\u001b[0;34m\u001b[0m\u001b[0;34m\u001b[0m\u001b[0m\n\u001b[1;32m    155\u001b[0m         \u001b[0mself\u001b[0m\u001b[0;34m.\u001b[0m\u001b[0m_fc_weights\u001b[0m \u001b[0;34m=\u001b[0m \u001b[0mself\u001b[0m\u001b[0;34m.\u001b[0m\u001b[0mmodel\u001b[0m\u001b[0;34m.\u001b[0m\u001b[0m_modules\u001b[0m\u001b[0;34m.\u001b[0m\u001b[0mget\u001b[0m\u001b[0;34m(\u001b[0m\u001b[0mfc_layer\u001b[0m\u001b[0;34m)\u001b[0m\u001b[0;34m.\u001b[0m\u001b[0mweight\u001b[0m\u001b[0;34m.\u001b[0m\u001b[0mdata\u001b[0m\u001b[0;34m\u001b[0m\u001b[0;34m\u001b[0m\u001b[0m\n",
      "\u001b[0;32m~/anaconda3/envs/wbai/lib/python3.6/site-packages/torchcam/cams/cam.py\u001b[0m in \u001b[0;36m__init__\u001b[0;34m(self, model, conv_layer)\u001b[0m\n\u001b[1;32m     27\u001b[0m \u001b[0;34m\u001b[0m\u001b[0m\n\u001b[1;32m     28\u001b[0m         \u001b[0;32mif\u001b[0m \u001b[0;32mnot\u001b[0m \u001b[0mhasattr\u001b[0m\u001b[0;34m(\u001b[0m\u001b[0mmodel\u001b[0m\u001b[0;34m,\u001b[0m \u001b[0mconv_layer\u001b[0m\u001b[0;34m)\u001b[0m\u001b[0;34m:\u001b[0m\u001b[0;34m\u001b[0m\u001b[0;34m\u001b[0m\u001b[0m\n\u001b[0;32m---> 29\u001b[0;31m             \u001b[0;32mraise\u001b[0m \u001b[0mValueError\u001b[0m\u001b[0;34m(\u001b[0m\u001b[0;34mf\"Unable to find submodule {conv_layer} in the model\"\u001b[0m\u001b[0;34m)\u001b[0m\u001b[0;34m\u001b[0m\u001b[0;34m\u001b[0m\u001b[0m\n\u001b[0m\u001b[1;32m     30\u001b[0m         \u001b[0mself\u001b[0m\u001b[0;34m.\u001b[0m\u001b[0mmodel\u001b[0m \u001b[0;34m=\u001b[0m \u001b[0mmodel\u001b[0m\u001b[0;34m\u001b[0m\u001b[0;34m\u001b[0m\u001b[0m\n\u001b[1;32m     31\u001b[0m         \u001b[0;31m# Forward hook\u001b[0m\u001b[0;34m\u001b[0m\u001b[0;34m\u001b[0m\u001b[0;34m\u001b[0m\u001b[0m\n",
      "\u001b[0;31mValueError\u001b[0m: Unable to find submodule features in the model"
     ]
    }
   ],
   "metadata": {}
  },
  {
   "cell_type": "code",
   "execution_count": 42,
   "source": [
    "extractor._get_weights(class_idx, scores)"
   ],
   "outputs": [
    {
     "output_type": "execute_result",
     "data": {
      "text/plain": [
       "tensor([0.0904, 0.0234, 0.0746,  ..., 0.0857, 0.0749, 0.0823], device='cuda:0')"
      ]
     },
     "metadata": {},
     "execution_count": 42
    }
   ],
   "metadata": {}
  },
  {
   "cell_type": "code",
   "execution_count": 43,
   "source": [
    "extractor(class_idx, scores).cpu()"
   ],
   "outputs": [
    {
     "output_type": "execute_result",
     "data": {
      "text/plain": [
       "tensor([[1.0000, 0.4715, 0.1592],\n",
       "        [0.0198, 0.0000, 0.0147],\n",
       "        [0.1106, 0.1661, 0.0278],\n",
       "        [0.5891, 0.1979, 0.0832]])"
      ]
     },
     "metadata": {},
     "execution_count": 43
    }
   ],
   "metadata": {}
  },
  {
   "cell_type": "code",
   "execution_count": 44,
   "source": [
    "np.array(to_pil_image(activation_map, mode='F'))"
   ],
   "outputs": [
    {
     "output_type": "execute_result",
     "data": {
      "text/plain": [
       "array([[1.        , 0.47150204, 0.15924002],\n",
       "       [0.01981649, 0.        , 0.01466209],\n",
       "       [0.110572  , 0.16608258, 0.02778095],\n",
       "       [0.58906263, 0.19793193, 0.08322237]], dtype=float32)"
      ]
     },
     "metadata": {},
     "execution_count": 44
    }
   ],
   "metadata": {}
  },
  {
   "cell_type": "code",
   "execution_count": 45,
   "source": [
    "scores"
   ],
   "outputs": [
    {
     "output_type": "execute_result",
     "data": {
      "text/plain": [
       "tensor([[  4.9193,  21.1196, -34.5184, -30.3399, -31.7354, -32.2826, -31.0275,\n",
       "         -31.7701, -32.0444, -30.3498, -30.8187, -32.6558, -30.7483, -32.3830,\n",
       "         -31.4920, -30.9372, -31.1872, -32.2130, -32.3830, -32.5334, -30.2837,\n",
       "         -31.8698, -32.9458, -31.4479, -32.2566, -31.9666, -31.9589, -31.9754,\n",
       "         -32.1911, -31.7015, -31.2342, -30.9143, -31.0538, -31.6976, -32.4750,\n",
       "         -31.5355, -31.3371, -32.0217, -31.5578, -31.7144, -31.4491, -31.1477,\n",
       "         -31.9661, -31.4754, -32.7703, -32.4528, -31.1979, -31.7406, -31.8033,\n",
       "         -32.2399, -30.8804, -32.3391, -31.2313, -30.9442, -31.4948, -32.0966,\n",
       "         -32.5105, -32.8625, -31.6262, -31.5330, -32.5766, -32.4860, -31.7021,\n",
       "         -31.7586, -31.8965, -32.5752, -30.6580, -33.0337, -33.3467, -32.1025,\n",
       "         -33.2925, -32.2856, -30.4291, -31.0327, -32.7031, -30.9577, -32.9343,\n",
       "         -32.1762, -31.3644, -31.4740, -30.5822, -31.8139, -31.8437, -32.1417,\n",
       "         -31.6595, -31.8381, -31.3300, -32.0934, -32.6005, -31.5117, -30.8494,\n",
       "         -31.2781, -31.2019, -31.6885, -31.6863, -31.8154, -31.9269, -32.1665,\n",
       "         -31.7272, -31.4253, -31.1537, -31.3765, -31.3397, -31.9122, -30.9608,\n",
       "         -31.6018, -31.8424, -32.2769, -31.6040, -32.0961, -30.3564, -31.9810,\n",
       "         -31.4543, -32.3825, -31.2991, -31.2745, -31.9388, -30.8648, -31.8509,\n",
       "         -30.0229, -30.9191, -31.7009, -31.3877, -31.7204, -33.3287, -30.7120,\n",
       "         -31.7051, -32.7377, -32.4279, -30.7284, -30.0761, -31.9209, -31.0452,\n",
       "         -30.5920, -31.9122, -33.0044, -30.3284, -31.4320, -31.2614, -32.6477,\n",
       "         -31.9364, -31.6060, -32.0325, -31.5885, -30.8183, -33.2161, -31.2519,\n",
       "         -31.9393, -32.1387, -31.4329, -31.2302, -32.5421, -32.9273, -32.4125,\n",
       "         -30.7829, -32.1439, -32.0066, -31.9637, -31.8147, -31.8776, -31.2502,\n",
       "         -31.7371, -32.4288, -31.9676, -31.9456, -31.6048, -30.7054, -32.6876,\n",
       "         -31.3187, -31.9751, -31.6094, -30.6820, -30.7145, -31.1439, -31.5608,\n",
       "         -32.8915, -32.3618, -31.9657, -31.2669, -32.0914, -30.6941, -33.3588,\n",
       "         -31.9683, -32.1046, -31.2332, -31.5498, -32.6558, -30.1877, -31.2266,\n",
       "         -32.4150, -33.5230, -31.0540, -33.5527, -32.3341, -31.5882, -32.3770,\n",
       "         -32.6590, -31.6323, -31.7147, -31.5863, -32.2843, -32.3376, -32.0877,\n",
       "         -31.6344, -32.2897, -30.8617, -32.9324, -32.6866, -31.8941, -31.3520,\n",
       "         -32.6301, -31.4484, -31.4259, -32.2869, -33.3522, -32.0313, -31.0445,\n",
       "         -32.6556, -32.7181, -30.6801, -30.8907, -32.7698, -31.6781, -32.1812,\n",
       "         -31.4766, -31.9518, -32.9988, -31.1828, -30.5392, -32.3933, -31.4482,\n",
       "         -31.9765, -32.3690, -31.4381, -31.3612, -31.1746, -30.6054, -32.6917,\n",
       "         -32.1822, -30.9727, -31.7568, -31.8007, -31.4474, -31.8607, -31.5492,\n",
       "         -31.7182, -31.8029, -32.5477, -31.2398, -31.4887, -30.3805, -31.6433,\n",
       "         -31.4375, -31.3199, -32.5343, -31.9440, -32.6901, -30.7911, -31.5269,\n",
       "         -31.0418, -31.0484, -31.2952, -31.6757, -31.3219, -32.2091, -32.5541,\n",
       "         -32.8146, -30.6558, -32.2944, -32.4745, -32.6977, -31.4945, -33.1355,\n",
       "         -31.0728, -31.5133, -31.0598, -32.3290, -30.8556, -31.2246, -33.4272,\n",
       "         -30.7568, -32.7252, -31.6441, -31.4512, -32.3279, -30.8460, -32.0467,\n",
       "         -31.8694, -30.8673, -32.2769, -32.0400, -31.7000, -31.8208, -31.9985,\n",
       "         -31.6054, -32.3359, -32.5005, -31.7814, -31.5829, -32.1625, -31.8233,\n",
       "         -31.9073, -31.3086, -31.6670, -31.5990, -31.7987, -32.2882, -32.2841,\n",
       "         -31.6632, -31.0271, -31.4943, -31.6298, -31.4988, -32.8678, -30.1028,\n",
       "         -32.0646, -32.5511, -31.5283, -31.3009, -30.8546, -33.1886, -31.8139,\n",
       "         -31.1800, -32.8724, -31.2317, -31.9261, -32.3395, -31.5127, -32.8362,\n",
       "         -31.6176, -32.1356, -30.3903, -32.5517, -32.9253, -31.0726, -31.5246,\n",
       "         -31.4831, -32.0663, -32.6046, -32.3013, -32.0250, -30.9401, -31.3918,\n",
       "         -30.1505, -31.5859, -32.9589, -32.5873, -31.2524, -32.1382, -30.0810,\n",
       "         -31.9107, -31.4983, -32.5283, -32.1516, -32.9667, -30.9901, -31.2179,\n",
       "         -32.0167, -32.7842, -32.5443, -31.3546, -31.3810, -30.7830, -30.2726,\n",
       "         -31.7056, -30.8827, -30.9576, -32.8484, -31.6041, -32.5339, -33.4914,\n",
       "         -31.7300, -32.0269, -31.2211, -32.0622, -31.9222, -31.3362, -32.8387,\n",
       "         -32.3054, -31.8874, -30.2363, -31.3517, -32.1820, -31.7537, -29.3683,\n",
       "         -31.3226, -30.9622, -30.4627, -31.1298, -31.9690, -31.8346, -32.9023,\n",
       "         -32.5148, -30.8486, -31.2699, -31.3521, -31.2542, -32.2627, -33.1776,\n",
       "         -32.8729, -31.6947, -31.2466, -32.5394, -32.3338, -31.2999, -31.4293,\n",
       "         -31.1349, -31.4945, -32.3361, -32.4295, -32.5653, -32.5300, -31.3983,\n",
       "         -32.4897, -32.0646, -32.0953, -31.5565, -32.0330, -30.9802, -31.6490,\n",
       "         -31.9820, -32.0140, -31.8434, -32.6469, -31.4560, -31.1217, -31.1308,\n",
       "         -32.1582, -31.7615, -31.9154, -32.2919, -32.5035, -32.5758, -30.8789,\n",
       "         -30.9345, -31.4344, -31.3784, -31.9470, -31.0521, -31.1286, -30.2514,\n",
       "         -32.5855, -31.9179, -31.4278, -32.2504, -29.8484, -32.7116, -32.1964,\n",
       "         -32.1809, -29.7896, -31.3404, -31.5893, -32.1739, -31.8355, -31.7805,\n",
       "         -30.7067, -32.2729, -32.5879, -32.2967, -31.8857, -32.7697, -32.6789,\n",
       "         -30.3085, -31.6985, -30.3008, -32.3577, -30.5730, -34.0909, -31.2853,\n",
       "         -30.5588, -31.9970, -32.9130, -30.9500, -32.4092, -31.8396, -31.1752,\n",
       "         -31.3984, -31.9704, -31.6728, -31.2473, -31.6985, -31.6067, -31.4545,\n",
       "         -31.5799, -32.6498, -33.6705, -32.2163, -30.8338, -31.9366, -30.8670,\n",
       "         -32.4639, -31.8130, -31.9181, -30.4019, -31.9113, -31.9920, -31.9255,\n",
       "         -30.8793, -33.4349, -32.7430, -32.5015, -32.5859, -31.6345, -33.1501,\n",
       "         -31.0017, -31.5721, -32.8673, -31.9789, -32.2229, -31.6788, -31.8861,\n",
       "         -33.4230, -31.0765, -31.9469, -33.0858, -31.7407, -30.9697, -31.5059,\n",
       "         -32.3911, -32.5999, -31.1813, -31.2811, -31.4146, -32.3883, -32.4990,\n",
       "         -31.5768, -32.0193, -31.8091, -31.2813, -31.4784, -31.8888, -30.8585,\n",
       "         -31.7460, -31.2238, -32.2958, -31.7479, -31.4786, -32.4448, -31.6300,\n",
       "         -32.6004, -31.1382, -31.7443, -31.5996, -31.5945, -32.0484, -31.5107,\n",
       "         -31.4984, -32.1520, -31.9006, -31.9786, -31.3605, -31.8464, -32.1846,\n",
       "         -31.5672, -30.5497, -32.0475, -31.3513, -31.3229, -31.5703, -31.4146,\n",
       "         -31.9917, -31.8716, -31.1629, -32.9955, -31.1869, -32.7190, -31.2423,\n",
       "         -31.5694, -31.2809, -31.5629, -31.7809, -31.9729, -31.8805, -30.5294,\n",
       "         -31.1381, -31.4506, -32.4684, -31.1063, -31.6193, -31.3369, -31.4441,\n",
       "         -32.1595, -32.6255, -31.7460, -31.8667, -31.0696, -31.4656, -32.5554,\n",
       "         -31.8046, -31.2528, -31.7355, -33.5303, -31.0615, -32.5202, -32.1905,\n",
       "         -32.6368, -31.2157, -31.3506, -30.6362, -30.2945, -31.0533, -31.8293,\n",
       "         -31.3331, -32.1840, -31.9749, -31.8858, -31.8893, -31.3369, -32.7855,\n",
       "         -32.0204, -32.4557, -32.2129, -32.2443, -31.7284, -32.9100, -30.9402,\n",
       "         -33.9050, -31.2443, -30.8835, -31.6077, -31.7614, -31.4612, -31.9879,\n",
       "         -30.6457, -31.8600, -31.1354, -32.8381, -31.1627, -31.0204, -32.6380,\n",
       "         -31.5971, -31.2105, -31.5265, -31.1122, -32.5228, -32.3961, -32.6339,\n",
       "         -31.7700, -31.7225, -32.8148, -32.7313, -31.2136, -32.1692, -31.2453,\n",
       "         -32.9002, -31.8798, -32.9934, -32.7720, -31.5390, -32.2019, -31.4528,\n",
       "         -31.8502, -31.8623, -31.1098, -32.0175, -31.2407, -33.1754, -31.3194,\n",
       "         -32.3391, -31.9233, -31.4251, -32.4382, -30.7764, -30.7494, -31.5559,\n",
       "         -32.5723, -31.4253, -31.4492, -31.8764, -32.1509, -32.3421, -33.0255,\n",
       "         -31.1442, -32.1722, -32.1619, -31.0634, -31.2985, -30.2581, -32.9364,\n",
       "         -32.6692, -32.3056, -32.1374, -31.0338, -31.6989, -31.7604, -30.7444,\n",
       "         -31.3761, -31.9988, -30.7724, -31.5765, -33.0623, -32.9220, -31.3416,\n",
       "         -32.0596, -30.8561, -31.9891, -31.1616, -32.4815, -31.2008, -31.7227,\n",
       "         -30.3699, -31.6786, -30.8437, -31.5493, -30.7650, -32.2268, -32.0029,\n",
       "         -32.5067, -31.8262, -30.9735, -32.0452, -31.9593, -31.4694, -30.5279,\n",
       "         -32.4267, -31.5088, -32.4209, -31.8253, -31.4331, -31.3092, -33.0793,\n",
       "         -31.2692, -31.6706, -30.9661, -33.2532, -31.4514, -30.7138, -32.6649,\n",
       "         -31.1460, -32.5076, -30.8361, -31.8224, -30.2964, -31.7379, -33.2110,\n",
       "         -32.1617, -32.1011, -32.0560, -31.5179, -31.3768, -31.4956, -32.2830,\n",
       "         -31.6942, -31.7669, -31.8830, -31.2576, -31.3508, -31.7083, -32.8629,\n",
       "         -32.0415, -32.9608, -31.7969, -31.8543, -31.1657, -32.2565, -31.2945,\n",
       "         -31.2342, -32.5981, -31.4658, -32.4734, -33.1453, -30.9317, -31.7909,\n",
       "         -31.1276, -31.6654, -31.1331, -30.8707, -30.4742, -32.6815, -30.1697,\n",
       "         -31.3086, -31.5217, -31.8963, -31.2786, -31.7766, -30.9236, -32.0223,\n",
       "         -30.7262, -31.5263, -31.7591, -30.8646, -30.7274, -33.6806, -32.4054,\n",
       "         -31.9053, -32.9160, -31.8077, -32.6345, -31.9200, -30.9184, -31.5483,\n",
       "         -31.9774, -30.6787, -30.8932, -31.8084, -32.2224, -31.4708, -32.3768,\n",
       "         -31.8287, -33.1664, -31.8225, -30.3601, -32.1005, -30.9850, -31.7732,\n",
       "         -31.3248, -31.6520, -31.2714, -32.3623, -32.1447, -31.0151, -32.2100,\n",
       "         -32.5239, -31.6395, -33.0179, -30.9420, -32.4795, -31.4340, -31.8564,\n",
       "         -32.7232, -31.0532, -31.6886, -30.7167, -32.2710, -32.1115, -31.8629,\n",
       "         -32.0093, -30.7022, -31.4366, -31.5257, -30.9534, -31.9285, -31.3208,\n",
       "         -31.1846, -31.8886, -33.5456, -32.4697, -32.4112, -30.3610, -32.7962,\n",
       "         -31.7406, -32.8706, -31.8916, -31.1075, -31.7099, -31.6940, -31.1208,\n",
       "         -32.2812, -32.9606, -32.1416, -30.0340, -31.3466, -32.2626, -31.9226,\n",
       "         -32.2048, -29.6921, -31.1851, -32.9215, -32.2002, -30.9979, -31.9949,\n",
       "         -31.8687, -31.1945, -33.1308, -31.7654, -32.8068, -32.4665, -31.0161,\n",
       "         -31.4714, -30.5244, -29.6440, -31.3860, -33.3492, -30.9910, -31.1950,\n",
       "         -31.1523, -31.1303, -32.1127, -31.3286, -31.7674, -31.7451, -31.6736,\n",
       "         -31.9100, -32.4212, -32.4913, -31.5804, -32.3523, -31.8166, -31.4070,\n",
       "         -31.4806, -31.8384, -31.6982, -32.3518, -33.3796, -33.3823, -32.1173,\n",
       "         -31.8046, -31.5383, -30.6408, -31.8561, -31.4962, -31.0783, -32.7986,\n",
       "         -34.2579, -31.1063, -33.6174, -32.7167, -33.6835, -31.0968, -33.1949,\n",
       "         -31.9935, -31.7147, -30.9375, -31.7822, -32.0680, -33.3612, -30.6864,\n",
       "         -32.9382, -31.8951, -31.1468, -32.1871, -29.8372, -30.3032, -31.6302,\n",
       "         -32.1448, -30.8380, -31.0129, -30.4530, -30.6785, -32.1353, -31.6754,\n",
       "         -32.2555, -31.0823, -32.4427, -31.3403, -31.7779, -32.2571, -31.5722,\n",
       "         -31.0341, -31.9954, -32.3297, -32.1163, -32.2254, -31.3897, -31.1549,\n",
       "         -31.8294, -31.5384, -30.8407, -32.0085, -31.6147, -32.0701, -31.5770,\n",
       "         -32.3075, -32.7096, -32.2160, -31.8790, -31.5852, -31.7479, -32.5672,\n",
       "         -31.0679, -31.5300, -31.5934, -31.2802, -32.3237, -29.6952, -30.0723,\n",
       "         -32.2607, -32.1736, -32.1769, -31.3995, -31.1788, -32.0657, -33.0057,\n",
       "         -31.4277, -30.7466, -31.8628, -31.5231, -31.0556, -31.9837, -31.0657,\n",
       "         -32.3991, -31.2771, -32.3606, -31.1998, -32.4069, -31.6146, -31.8990,\n",
       "         -30.6992, -31.8259, -31.7143, -31.6171, -31.6094, -31.9981, -31.6101,\n",
       "         -30.6920, -30.6911, -31.0421, -31.5592, -31.2391, -31.7220]],\n",
       "       device='cuda:0', grad_fn=<AddmmBackward>)"
      ]
     },
     "metadata": {},
     "execution_count": 45
    }
   ],
   "metadata": {}
  },
  {
   "cell_type": "code",
   "execution_count": 79,
   "source": [
    "# for name, layer in model.named_modules():\n",
    "# ...     if isinstance(layer, torch.nn.Conv2d):\n",
    "# ...             print(name, layer)"
   ],
   "outputs": [],
   "metadata": {}
  }
 ],
 "metadata": {
  "kernelspec": {
   "display_name": "Python 3",
   "language": "python",
   "name": "python3"
  },
  "language_info": {
   "codemirror_mode": {
    "name": "ipython",
    "version": 3
   },
   "file_extension": ".py",
   "mimetype": "text/x-python",
   "name": "python",
   "nbconvert_exporter": "python",
   "pygments_lexer": "ipython3",
   "version": "3.6.12"
  }
 },
 "nbformat": 4,
 "nbformat_minor": 4
}