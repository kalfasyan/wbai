{
 "cells": [
  {
   "cell_type": "code",
   "execution_count": 1,
   "metadata": {},
   "outputs": [],
   "source": [
    "%reset -f\n",
    "%reload_ext autoreload\n",
    "%autoreload 2\n",
    "%matplotlib inline\n",
    "%config Completer.use_jedi = False"
   ]
  },
  {
   "cell_type": "code",
   "execution_count": 2,
   "metadata": {},
   "outputs": [
    {
     "name": "stderr",
     "output_type": "stream",
     "text": [
      "/home/kalfasyan/anaconda3/envs/wbai/lib/python3.6/site-packages/torchaudio/backend/utils.py:54: UserWarning: \"sox\" backend is being deprecated. The default backend will be changed to \"sox_io\" backend in 0.8.0 and \"sox\" backend will be removed in 0.9.0. Please migrate to \"sox_io\" backend. Please refer to https://github.com/pytorch/audio/issues/903 for the detail.\n",
      "  '\"sox\" backend is being deprecated. '\n"
     ]
    },
    {
     "name": "stdout",
     "output_type": "stream",
     "text": [
      "Available workers: 16\n",
      "Total RAM      : 31.21 GB\n",
      "Available RAM  : 26.23 GB\n",
      "\n"
     ]
    }
   ],
   "source": [
    "from tqdm import tqdm\n",
    "# from tqdm.notebook import tqdm as tqdm\n",
    "import numpy as np\n",
    "import pandas as pd\n",
    "import torch\n",
    "torch.manual_seed(42)\n",
    "import torch.nn as nn\n",
    "import torch.optim as optim\n",
    "import torchaudio\n",
    "from torch.utils.data import Dataset, ConcatDataset\n",
    "from torch.utils.data.sampler import SubsetRandomSampler\n",
    "from torchvision import datasets, transforms\n",
    "from tsai.all import *\n",
    "\n",
    "torchaudio.USE_SOUNDFILE_LEGACY_INTERFACE = False\n",
    "torchaudio.set_audio_backend('soundfile')\n",
    "import os\n",
    "import random\n",
    "from pathlib import Path\n",
    "\n",
    "import matplotlib.pyplot as plt\n",
    "import psutil\n",
    "import requests\n",
    "\n",
    "from utils import *\n",
    "from wingbeat_datasets import *\n",
    "from wingbeat_models import *\n",
    "\n",
    "print(f'Total RAM      : {bytes2GB(psutil.virtual_memory().total):5.2f} GB')\n",
    "print(f'Available RAM  : {bytes2GB(psutil.virtual_memory().available):5.2f} GB\\n')"
   ]
  },
  {
   "cell_type": "code",
   "execution_count": 3,
   "metadata": {},
   "outputs": [],
   "source": [
    "num_epochs = 35\n",
    "batch_size = 32\n",
    "batch_size_val = batch_size * 2\n",
    "validation_split = .2\n",
    "shuffle_dataset = True\n",
    "num_workers = psutil.cpu_count()\n",
    "random_seed= 42\n",
    "setting = 'raw'\n",
    "modeltype = 'conv1draw'\n",
    "normalize = \"sample\""
   ]
  },
  {
   "cell_type": "code",
   "execution_count": 4,
   "metadata": {},
   "outputs": [
    {
     "name": "stdout",
     "output_type": "stream",
     "text": [
      "Found 29002 in dataset: Melanogaster_RL/Y, and 1 label(s): ['D. melanogaster']\n",
      "Label(s) changed to [0]\n",
      "Nr. of valid wingbeats: 12819\n",
      "Found 24763 in dataset: Melanogaster_RL/Z, and 1 label(s): ['D. melanogaster']\n",
      "Label(s) changed to [0]\n",
      "Nr. of valid wingbeats: 11778\n",
      "Found 25732 in dataset: Suzukii_RL/Y, and 1 label(s): ['D. suzukii']\n",
      "Label(s) changed to [1]\n",
      "Nr. of valid wingbeats: 17088\n",
      "Found 10640 in dataset: Suzukii_RL/X, and 1 label(s): ['D. suzukii']\n",
      "Label(s) changed to [1]\n",
      "Nr. of valid wingbeats: 7441\n"
     ]
    }
   ],
   "source": [
    "transforms_list = [FilterWingbeat(setting='bandpass')]\n",
    "\n",
    "if normalize == \"whole\":\n",
    "    dmel1 = WingbeatsDataset(dsname=\"Melanogaster_RL/Y\", transform=transforms.Compose(transforms_list)).clean()\n",
    "    dsuz1 = WingbeatsDataset(dsname=\"Suzukii_RL/L\", transform=transforms.Compose(transforms_list)).clean()\n",
    "    transformed_dataset = ConcatDataset([dmel1, dsuz1])\n",
    "    trainval_dataloader = DataLoader(transformed_dataset, batch_size=batch_size, num_workers=num_workers)\n",
    "\n",
    "    mean, std = calc_mean_std_1D(loader=trainval_dataloader)\n",
    "    transforms_list += [Normalize(mean=mean, std=std, axes=(0,2))]\n",
    "elif normalize == \"sample\":\n",
    "    transforms_list += [Normalize()]\n",
    "else:\n",
    "    pass\n",
    "\n",
    "dmel1 = WingbeatsDataset(dsname=\"Melanogaster_RL/Y\", custom_label=[0], transform=transforms.Compose(transforms_list)).clean()\n",
    "dmel2 = WingbeatsDataset(dsname=\"Melanogaster_RL/Z\", custom_label=[0], transform=transforms.Compose(transforms_list)).clean()\n",
    "dsuz1 = WingbeatsDataset(dsname=\"Suzukii_RL/Y\",      custom_label=[1], transform=transforms.Compose(transforms_list)).clean()\n",
    "dsuz2 = WingbeatsDataset(dsname=\"Suzukii_RL/X\",      custom_label=[1], transform=transforms.Compose(transforms_list)).clean()"
   ]
  },
  {
   "cell_type": "code",
   "execution_count": 5,
   "metadata": {},
   "outputs": [],
   "source": [
    "transformed_dataset = ConcatDataset([dmel1, dsuz1])\n",
    "trainval_dataloader = DataLoader(transformed_dataset, batch_size=batch_size, num_workers=num_workers)\n",
    "train_size = int(0.8 * len(transformed_dataset))\n",
    "valid_size = len(transformed_dataset) - train_size\n",
    "train_dataset, valid_dataset = torch.utils.data.random_split(transformed_dataset, [train_size, valid_size])\n",
    "test_dataset = ConcatDataset([dmel2, dsuz2])\n",
    "\n",
    "train_dataloader = DataLoader(train_dataset, batch_size=batch_size, num_workers=num_workers)\n",
    "valid_dataloader = DataLoader(valid_dataset, batch_size=batch_size_val, num_workers=num_workers)\n",
    "test_dataloader = DataLoader(test_dataset, batch_size=batch_size_val, num_workers=num_workers)"
   ]
  },
  {
   "cell_type": "code",
   "execution_count": 6,
   "metadata": {},
   "outputs": [
    {
     "data": {
      "text/html": [
       "\n",
       "                <audio  controls=\"controls\" autoplay=\"autoplay\">\n",
       "                    <source src=\"data:audio/wav;base64,UklGRjQnAABXQVZFZm10IBAAAAABAAEAQB8AAIA+AAACABAAZGF0YRAnAACb/9T9S/qB9jn3JwGmDgcTUwvS/kb18/M5+u8AGAM3A3YE9gRZAykCVAJgAdT98Pmw+XH99wBIAaD+Bfw6/noDzgSYAlcCCQW3B8sGZACl92bzYPae+9D9C/6F/2kBDAJAAuwB5P+B/uEBLwhVCkoFPf2r+BT6u/3v/nL97PoS+E/3T/t0AY8EugOxAUMAHQBxAXsD8QfODkMPjARO+Kv02fh5/pIBQgJIAY/+pPwQ/zkD7QI4/n/7V/6SA04GIQUgApD/S/3O/OYBLgiNBVv7SfSD9DD4Rvvu+7f6zPpF/jMDTgWpARv7XviD+4cAIgWJDJMXTxyUEaf/1fYU+l79pvjH8hL09/iW+Wn2Ofe//30J/QpjA1j7mfr//zkFXwY5AeX0sutQ9YYM3xkeFJEHDgGqAbcD6QKt/5H9YP7Q/3r/9v2B/L36Wfld+zMBiAYDCJ0G7QNkAGj94vyF/8ECPgEY/Ln7zwAOA5n+O/dY89D11PlU+XH2EPds+5X/vAE+Aw8F7QV0BfkETARsAtT/jP6dAaUINA1oCu8B3vaC74L3eQxSF8ML0vkf9W/+YArJDY8Dp/N67Xf0IP0o/sj5Evet+aH/rAOsAk3/qf9LBRoJWwYiA9IEOAcYBV8AHv5P/9UAzgCEAE0BswKFA/wC9QDL/ef7ev3j/qn75fZG9xT9tQBP/Dv0UfIx+fgA2gEB/dv5HP2KA4AHzgkfDqYQxArW//v5tPxhAtwEuwJi/qn7NfxI/jsAoQHOAXsBDQM8BgIHNQO6/Wr6ivkW+Y74qPhf+Yb6O/xT/t0A1wPwBQYG2QQ5BHEF+AdECXgH/wNNASoASQBj/yT7o/b99kf8kgKoBskHAQeQBnEG+wCb87bnPuiT8zX+Jf/T96DxafOV+ngA9wKvA1gDMgOsBb0JCAshCcAIjQsUDcQJFASsAAgAj/+3/tf+ZQD3AccCBgfqEGIV/gbA7M3g1vAmCQsOHf8B8aDv0PQf91D2SPfb+gL/cgN9BT0BS/v2+tb+WQI1BYwI2Ao1CUoELwDW/lP/eQB+AKP+yP0fAJwCfAFx/qP9pP/CAnQG8AnsCtAH+wGZ/Bv5XPcz+ID7+f0b/fH77P4+AxwC2PuY+NL91AaaCv0G1AGVAGoC0QGk+1305vL2953+HwJcAQ7/TP+SAmcEYQLZAB0EiQfRACHyde+zAcsUzRP/AxD5XfsKAl4C9fyq+Tj8WAFCBKEDmQKjBPoHTQdeAdP6DPjZ+Cv6sfkS+E/42/txACUD2gLb/4v8T/35AxYMWg7KB878mvXU9jD9EwES/0/7RPuu/vgAz/+u/bn+DQTfCpwPaQ41BVD6mvbD+In5Wffa9Sr4+/3FA9cGdwdIBrgDMgGKAA4E5wvrEkYT1Qel7ZvT0tXe+NYdbSQcDT3zT+w09u8BZAVwAeD87Py7AeAHdwtCCcIA9/dz9sv6nfzK+WL4NfsU/3ICBAYLCPYFBQGJ/poC/Qk8DNkFRfw29or1f/gn/En/JwNxBpIEfv1k9w33Gfuk/zsDxwXcBSoDPwBN/5j/pf68+nz0QO9t71P2QAADCEYL6wpuCWoJcwuWDV8NEgoTBej/dPsP+ZP5CPwC/4ICSAZTByoDc/zM+Kj6MP7v/c76nvri/mQCMQD7+IzxU+869B39/QRlBuj/wfgP+Cb8wADtBg0RLxpOGZYNtgBp+0383Psm9zP0RvnkAmQIDgedA/EC3wQIBjYE9v+c+/z52Pue/e76yfT18L7zQfuGAPP9QvXJ7ufwA/mg/1wCzQYyEU0c+x55Fm4I+fy9+GD7QwBIARH8afVV9fb96wgJD2IPlgwYB8D/VPtq/ML+f/1E+aj1gPT29Q/5WvpJ99/yR/K29Zj43fi8+Ub+RgbDD0UWFBSCCXD+OfkL+WX5MPjI+N3+3Qc5D0gU/RVDEsUORhIFE54Dy+yY4njpy/R9+cX5pvwfAdwBzP7O+6X6LPqw+Sn6P/wD/47/wPvH+Nj/JQ5TFLYLaP5t+H77kQGtBZAHPwnhC5oNMguuBH79lPgv9hr1pPQw9ATzB/P99xwA7QVsCqsOxgsF//zwHeqw6lrw8/pyCHcSkBKkBozzZOW+5175NQyOFIcTSxHEEZASdxKQE8kUwxEeCpsC//7u/ZP6RfG749jaqOGO+NgPHBVcBfLuk+LA5t71RgIzA0//bwF7B1cGb/vr8f30zAJVD0ER8wsMCwASABi7FU4N3QRh/w77RvZ29Ir47fr88BbgPd3R9AwY5CqnIeQIhPSJ7TTvuPHO8l30Wvgw//YGtQojBUX3ker86aT3zgk2FkcazhLh/zDz8vw7EfkZihP/B3L/pPup+Rb2NPAb7PHy5wi0InIuxCXxEOD7U+2r5qvmDepr7NrsLfDz+Bz/JvgY533c9eTg+zoR1hkPGNcWexwjI54hfBfHCxkExv9H+bjtLOH32H/YFeFK754AyxXXJ4MqpxvrBYH2svFW8QTv8OwR8qj+vAhbBa3zf98J2lPs6QyCJy4wkiqaIX4dsR16GRUMa/wE89TwQfFt7wLqoeHn1WnJH8eN3E4I9TALONocqQK8AxUNXwFo6HnfPO8uBVcMhABJ7ULjKe0ACC8lbzfqO4Y2uyw+JPUewBhzDAD6Aejo3greUdndyxjBWb7Stwas4bi2+EdMF3B6TQcQS+vY6Xr1yvlh9ULzWPztCysSkgaX9AjwDwHNH6w8hErLRtc53S0iJtYeiRPXAsTsvdLDvMK3RcRHzpzC0qVmkuGl1eZyNblhklc5LOoBteot5l/t9vjvAWgFPgbABbf/aPbG+6kdj0vHYhNXKT/4M4g0HzHaIbUKA/PA3rLN879luF627rFkpUaXcZZYsFjojCwRWXVW3jAzCJjwUekI6mLuEfbw//EHNQltART3w/uzG95JA2qCbRZdsUl4Ox0vBR7JBT7qodIfxEG+fbwruuezJqjYmhiXjara3EMjT1wAZx9DgBCW7s7k8ujU8o7/8AcpCGgGLAH48D3kWvdPKnpaimv2YDlNGj2FM2Eppxbv/gXnYcz1tDCtFbLuswKqs5nwkD2eSMoJDzxQx2kUUIAbWfE05g/yGv8yBGYHVgxRDzsLS/4h8sH7nSSXV4ZzpG2dVnRC3zWpKDQTivho4Q/QHsHQs2CpUKLankidNJvjneC1fO0zMAlX/1InNWQS2faB6dDqvfM7/BgCfwZUBwYBuvhw/xYhsFHfddt85WrnTss1qiRIFz4FA+zU0YC+ALRprtGooKD5lVWNsZFssSjypj8fbTRaIxkf4pzZUe9m/6gANwE3CRcToRUZDZoAQQD4F8JBRWr/f5t4KFU7KVwNXgWrAMLxhdsPyW6+zLVYq96jS6MhpTamMrJh3Eoh7FlGYPE3oASf5KvdqeTg7Vr1Hv0VBp0KjANY9QX05hFzRkFuP27vUKM3NzR2OdcwpBWa9PHa4MzYxtTD2MG/v2u6ELGxrMq+WPCPL5FXEFJmK4gBdudi3FHY9dj13l3ne+6P8+j1P/Q29PMDvCmMVR5teGUlSyQyDCPPGNsLv/oY6TnbodOg0b3RH9B7yx/EeLuUu+PVQgzBQb5RDjYfC8/u2uaF6GTqSepg68jw5ffX+vr4lvq2Cn0r1FGDbEpsnE6tJhYOLwhUAWfuo90f3eDjauIM2HrNasYvwBu7xcCY3RkPYzsdRn8tVAmq8C3n5+K+33PlJvf+CA4PpQkD/RntpOUg9i4dn0JoT9NDuTDYI5EetxnSDob+0+714yzdCdnc1+3XkNQ3zMbGx9Mc+3osjUhzP48eEv8y7lzpwOnQ6rjq0+r47GHwpvKA8lf1/wcWLIlLMVEcQgUxJSd8IRoaKg63/v7ubeJw2l/WtNXa1lnV9M1BxD3D59bCALsuS0O2MG0IVeoK5+Xz0vxO+trxSOxt78r5iwKoAu//Mwl3Igc8v0O/OOMoXx7cF60R4ApeAc/zY+bN3nrdAt+54Gfg8Ntk1kbbRfTkGKsx5i8yGjcCZvb49cnvBtzszA/V8e3BAVwDSPhf72n0mgp1KUpAF0SzOMUpmx48FwQRgAme/xf1K+zW5GrfFt5l4J7het6e2c7bIu/PEWMvoTKpHE4BA/EL7sDxT/UD9nj0+vL/86f2YfY18pn0IQx7NCpQLEicKBIPjQjjDJgPJQqj+w/pmt0m4Gfo6OgQ4Xvas9nk20PgEOwzAogZnyThIGsUcgXt+dD1X/f5+VD75/um/OT8wvvD/P0Fpha8JOAndCJeG2EUywykBsECq/2y9ezuUOye6iDnCuUK58fo+OQT4FnmH/6QHXQvVCigFAgGlPwF8iPrOe4s99n9NP8//c761fht+FH+wQ06IDoqsCdrHoMVVg5vBob9XveS9vb3ZvbT8E3qLOZk5cvlwuM43zPfve3aC1cpbDF4IVYJYfcT79vuEPRf+rD96f16/o8AywBN/nf/vglQGGchRiJYHzYb+hQjDfkEovsW8rDsxes46YDhMNxR49jwafOO6IjiXvEvEI4qITCCIpwPzwFt+kX3rfad92/5yvp0+tD5Q/oq+uv5+/4ZC+8WdBvzGWgWSBFECj0Dl/0W+DTyfe7h7WXtwOvP64nvO/RF9bLxXe7A80EH2yCFLU0jFgpq8HfjVOnW+QcIQQ/BD8EKNAPD+3r40/6QDDkWPhW0D2wNdw0yC4kGsQH9+7zzqOrG5ePnD+3u7tnsIOxQ8HT2MvmT95f4RgZXHeopzR+jCRX59fNB9b73Jfom/cwA2AJfAH36JfgH/9gKhhLPExkSTg8BDEYIqwLz+9f3qPbr9PrxrPAG8t/0MvkU/rb/n/xh+RT9OArEGWYguxnyCpT8EPRH8VrxuvKQ9Zz5ofxr/B76l/lG/icHFA5CD/0N1Q0tDVEJEQLS+NHwXO788UH3ovkn+Hv1qvV++T790P3k/Pn/pApvF+0aOBG8Agv6g/mS/PX+Wv8q/ur8bfxJ+0b5VfrpAF4IxQoMCREIwAj6BwwERv++/Zz/5P4P+BrxVvFN9078t/ym+ev2iPgYAMoMphooIeMZfwh292Lv3PFe+V/+e/2H+Bzzuu9s7wHz5/olBCoK+Ay+DiMOtAmaA13+t/oW+e35nPxW/xsAc/4i/Jb7Yf3P/5wBUQMlBvgLEBSkFqMMbvsR8Mfx0/xcBjAGuP63+KP4ZPsq/KX63fpV/0cF/gfmBeUBh/6M+Wf0fPfFAfQG2QHj+Evze/Lr9DL6vwCyBLoEQQSlBwkPiBQrEwENuAQO+1P0mPMg9m75Kv3l/4j/IP2q/Pn/ngbID1cVgw5b/q7yvvIk+e/8M/vS99/2Bvhp+TT7WP7pAt8HtAroCK4DbgCJAuIHsQwIDukKdQWN/yX43vBv8O/3Rf6j/QX7ofy6ASsFlgO2/jf7vPu7/sUAc/88+xf3lfWI90/8qgG0BVcIWwkBCfgIZwhaBJUAzwVbD6UNdwGG+Y75R/vm+zr8cvyp/F79Pf5z/lr+9v5L/3v9lfra+WD8n/5o+zrzie4x9IH/vAUyBKEB+gKxBuAJDQtTCR4GQQXKB6oKCQvzB7ECw/7Z/Sr+aP4e/7H/e/7v+0v6fPo1+4v7Bvsi9ijsfuYX7d77zAnjD5YMFQYwBMQHXgsgC1MIowYDCJQKJgscCXYGBQUbBDIBQvvF9H3xyfIE9/n5APiO9ML2d/0MASb/YPyO/F3++/6i/Uz6ivUn8l/zufmpAS0FewIaAJoEjQyOD8IM9AqgDa4QrA+DC+QFCwAQAHcH5ggN+17q6ufI8vP8sf6z/Gf9yf8OACL/Ov/B/28AfAE7AaP+7fpJ90/1nfci/awAfwBxAAYD1QW2BtoHcgszD8UPLw21CacGQAOp/hj6O/cX9kL2HfgD/MkAUgODAaX9zftt/Er95v0p/nr9Ef1c/UX8EPlm9cnz0/X0+f78t/7iAaUGXgn4CIAI7AluDFcODA7KCoMFawBO/TL8DPwA/JP7/vseABoHsgo9Bjj8FfSf8i/24/q0/En46vLy91IF1QqmATn0Su/L9eMASgZRAp39BgKmCzUPqwpoBbQETwc9CR8IRgWUAwYDFQHW/Dr4jPbF+TH/eQG6AG4CwgZnBdz6G/Lo9TcALgR+/wL67Pmb/VgBigScBegBlvu197v4j/2iAqsEcwMqAVEAegIVBlMGoQEP/S78MvwF+pf1YPHN8SD55QUnEsUUKA32BP0COwc7DH8LOQbmALj8pfq8+kT6F/cO80fyOPUA9y70CfOy/B0L2g4cB7UA9wF+BqAILgbEAOj81Pxm/ev74frK/X0DpgcjCA0GsQMXAwIFKAjmBqv7i+2H63r3IATuBiABU/pz+DX8HwIzBZUCR/0h+7X98gGoBMkEBgSXBOoF3gUhBHcBCP5J/L4AWghOCDr+fPTa8wf7/ALvBWMDAgA4/5X+afzK+978P/t99hv0D/jA/6UGQw07FeIYxhCu/cPoEOC06tj9vQjMBt3/Wvxl/ML6CfRK6lzmvPEICyIjWCkIHecNtwhbC3cMDQiyAff9jv0w/kX+QP6Y/n/+8vz/+cX2N/Oq7jjtPPOJ+7//3gKrB4AJPwZJA9ADlAPz/rj5b/n5/DT/NP8RALIB5f+8+t/4y/28BOYHogZJA73/Qf3P/GL9xvwP/CH+gwHXAaj+MPyY/XgBggaLDqAVjg9x+tvn9ecP9lkBUwHR+wj6Df58BI0IPASQ+Yv3jwUHFoQYrAxR/1/73AB5CCULcQktCuwKXQBn7Ynkau4B/7kFxP+49qXyT/TN+Ir8c/10/XsABwZoCPYE9f82/rr/wAI1B98JVAbBAWwClwL9/Jz3fvhP/OL8rfoR+83/hgSGBMQARv5v/zkCqAOBAkgAt/8SAW8BGP8V/Qn/AQNuA5r/9P1PArwGYARI/p/8cAI9DCYSuQtp+XzonOaj8oL/pgPcAKn+JgAzAugB/v8n/tL8VPyO/SMANgJbAz0Fawd6BaH9jvdY/CUGRgbk/G33NvuzAssIjwvHCdIE8f/Q+xD78gJsDAQIKPcG7MLwgP3jBLUCtf2x/REBzv/u+uP8kwUgCKP/n/Z3933/0gUxB5gFhQSBBhAHT//a9FH00f3uBQ4GYgHJ/B76//rPAHAIzQrjBAX8EPiM+xECwQX0BHQBJv0g+oD6Sf6DAvgCu/5P+q36Bv9HAcH9pfpwAkIPbQsC9n7r5fmWDFAOAAOt+uv8sgS5CQsLWgyoCvH/F/Hr6vTxO/3zATf/z/to/C4ABgZGDDgL8/1R7unp8PDW+c7+bAAXAGv/7wE8CF8Nqg3pCWcDNvwy+UT9tQT0CD8HMgJU/vH9zf/ZAYMDgARQBDEDVwHg/oz9GP8bAooDDgKx/vH7evxuAAMEIQO5/TT3a/NP9Dj5VgCQCMkPmw4lALvvAe3F9jkB/gVPBWgBL/18+kH40vNx60zj4Oeo/90bhCZhHIIMbQNWAaABTwReDc8YPBgPB9bzJe3x8o77rv7D+9731PgcAvQMDQng9IrmzeyI+8EAcvud9sT4iv7VAU4BFAC3ANMDhwjpChUHg//w+1gAogdZCmsHswLA//P/wQF3AmABM/8M/ez8L/9HAe8A8/6s/hUAZ/4Q+pH60gLvC5MNdQc+AMT8xvsI+9P6SvrX9yn2avl0ALAFbAWmAXr/2wAXA6oDTALZ/n76XvjQ+Wf9FAEAA0QCnv9//br+QQIkAZL3su8x9Dr9mAGDB0ARwxRDDsoFmAJMBHgGfwUoAZP8Svva/f4AGAGI/tn7f/n49+/5Z/+BA90BMPzX+KH7gAEFBBcASfk99sn5LwF5CS8SAReBDkf5N+kX7DD5SQBg/sz6ovoG/UT/LQAEAJz/l/+P/lP5hPLh9YwHrxdZFowIUP5T/+QGjAs5CToEiQFAARIBZv/q/Or7Df1k/oP+If6v/lMBMAMg/eHwfezX9lsGIw87D48L3gdvBAYAUfoP9g34RACkBisEvvsE9HHuRu6e+twJZAcD+ZH3kQVHEBIOqAVXAOL/AgCT/s/9Bv8bAWMDugZfCXMEFvgM8bP1oPxy/VT7IPyX/zYBZf6W+Rv3i/hu/SoFmA3rETAObQR/+3/4V/unAFUEEAO+/SD6Ufu7/VH+2f0d/Zf+6wJvAy//W//hBeIKMQqfBnQD+wAt/6P/UgLYA3QCgAA//xH9SPyCA0gQ/BP4BXHwqOaE7vv5ffvq9R30o/q8A9kF/v5y9xT2z/e/+B39+gYbDicMLQZxBMkHNArhB2kD8v9t/Zn8/P43AkUCLv9Z/Bf82v1U/wj/iP+1A4cHzwXQAOb8cPp5+bj7zwAzBckF4gLS/rz5PvS19UkBcQrXBh7+b/uZ/nUBawEg/737lfku+nX79/vs/scFpAvICzcFC/pJ8nj2aQO0DRwP1AjL/1X7xP5xBGcF1gGe/gf+Ff6N/Ij5Y/bO887yufdaBe8ShRIEBSf6OvpY/pz/KACvA+MG0AIx+r34MQGvCfoIa/+b9SnzbffV/Q4E8wcDBzwCG/28+tP9qgbMDpILNfwD7+HvlvrUAqIBofpq9vn4AAADBjoHeAh8D44T5Qdk8Y3hCuPv8j8Fcw09CLH+EPyxAKgDbgA2/ZwBjwsZE3wVSxRQDqsDUvvJ+mf+Jv/l+in1qfJi9XT78/9O/uL3ZvWg/WYKzw0RBGX5o/mCAWIGPARG/sD4s/Y3+SL+DgJaA0wBBfwV+Hr7QwRnCq0J+ANw/rX9wAFQBnAHUgSB/vP4Yfdl+ib+AQDeAHYBuwF/AhwEawUmBTID1gBe/yr+LPxk+sz5NPp7/GoA0gL+AaX/1P0+/aP92f4iAUwD1wL5/zb+0v8YA6YEjwKf/bn5/voLAGwDvwMSBLQEQgMHAE797vsn/Iv+ngH+AZr+k/pY+lL9zPz79qzzq/aD+G/2GfugCMcOQgfGAoANmxwGHykSBgNrAhYSHBx9DYb02Owm9nb7Z/fA9fP7mAH8/3P+HgJQAeX0mePR2tbiD/cLChEOPAED86rx0PrtA84GewZSCwoWpxq+DeHzoeC24+r37wh2CRsA2f2iBnsKbQCp+fYFPhVQCxfq79LY3YwBmyM3Mi8sWBgrAo/2Lvb5+LT9RgZeDVEH/u9k2MHYI/PgD0wY+wwo/2j8jAbyFaAefxsbEgMGDvJ81fe/08NJ3w/+3g8tFDgOGAEP/DELLh0cGqsINwDrBkUQPQ4H/nnsTehh8M74x/r4+Lr2IvLq73n9qhdrJFQUJfli7H/wyPeC+Xv3hPirAZ4MMwnL95vvfvplCgQXMh8nGtIHq/rbAAoRFRVfB3345vS5+XAAQwK990nkw9tu7MwFTQs3/hv5EwVrEFwNKAKL+4n9vQJOBooI/AZ3/QzzCPS7/HP8ovBx60H44QodEkEM3gMSAYICyQKiAv8GEAudBFP3XPHA+HYGiQ2iBnf4+u+n8Tr4vv0w/1f8Jv3oClsb4RjFAG7lxNuL6oMBIwsjCAoKfBP/DsTwvtF404L04hVvIgUe7xafFXQWzRBGAfXu5Oj89Q4J3wuY9/fg6uOoAfQdiCAbDp78RfnY/rkAj/tS+A78v/2U983wke+P9VkCLg4KEakLEANa+wj3HPpHBlsPPghX+hn2R/nF+Q/4OPnY+3P8S/4DBQMJuQB/8jvu9fp7EEwavQoe8Nji2eZx8xUFhhc+IL0Wkf8X7gLy7QRmFJ0UwwbZ9+7zEfm4/x0J7hbmHDMOz/Fr3UnhXPeCCfsLKQWm/rX85fxX99vtW+9K/QMHIAbeAm0C6wYWEQgXCg49/rj5SAMsC6QCtu/D6hP/pRoGJpMZ+PwT4sLaVOft9K/09Ov36HPvTff++XH4V/aP904A2w5tGGMW4Q79B+8Avv0ZBEcNxw5MCaQElQSLB7gLwgy9AVnupOlJ+9AMgg/bCYAB7flO+eH//wdgC1YEDvhW99QC5QRb9xDu/PLW+hb/PgMOAgP1Z+nL7q/87AF//kz9hQDeAXb/B/1x+1v6KAEZFB0iHxnjBO37ov6MAC/+gPz8/aj/ZAB8BEoMnQ8vCNj22OI13BTtTweOE2QMTf9O+nX9nv3s9ZvvL/JG9jXzuvAE/hIZqStlJmYUCwyiEWYTBQSK7bjkQfAFAqQJmgWA/er2UfV7+Vv+4f72/A391/6t/j370Pew+TwBhwedBB/4he56843+ogGS/68BZQZgBnkBIf4a/xoBdQGgAOX+tfxO/pwITRiqIAEYfQLg7Q7ngPAv/WH+Nfe89Kb4D/w9/vwB9wRLAwf/1f1dADUCsgBD/Xj8zwGeCbgMeQnEAykA0AAiBL8GHwdECRYRPxbkDY79XPKg7+Hwl/Jg84/ycvEJ8033Lvoj+jX7hwBvBcYD1f/dAScItgszCwUJ0gWiAab+zv+kBJ4H5gNN/YL84AGSBFsBTf0X+kb3Tfeq+QH7Ifvu+zf+wwEIBP4AZvte/FkEBQmmBEb8zfek+b7+HgS3B/kHMAZkBPgBIv9V/4sD3AbVBbcDiAM3AvH7gPFp58LmWPfGD10a1hAKA87/3QRZBhj/RvdM+I//kQRzBK4B/v6g/fb8O/sH+Yn5v/xU/l/8tPr3/HL/5vw4+vr+mAb/B4cDif9g/9EBFQSKBEkDzQE8AZ8A+f5T/cP8j/2I/2YA1/2a+jv8ygLDB7UGmAJgANEAsgCG/Zf5cPkO/gkEhgdAB9UEWwNyA+cBaP53/kEE6AiTBd78BPdZ+Df+NAJV/xL4MvVO+twA5gCu+vr11Pg4ARAHhgRr/jH+FwSmCC0IbASo/5H74/nI+7sAgQUsBhkCcP0t/dD/s//D/fD/dAWJB8AE7AHvAJf/zf1+/Xj+l/+vAP0ADgB4/83/jP+6/pX+wP66/gP/If/E/j7/6f84/qv7TPyp/sn9Nfp4+Y39AgKWAgYBjwEGBXEJMAz2CbMCUfzL+7r+XP+L/JL6Vvy5/6sBawGz/2v+R//UAOD/SfxR+uf8AwH1AjgDUgO7A7MEUAWNA2P/MfuZ+Df4+vrA/w8D3wPRA5kD8QJAAqECtgPnAsf/Vv06/Eb6Ivnu/BMEQgjKBtkCjwDLAIsB2ABp/gf8nfynAE8ErQPE/zz8r/mk9tb02/ej/sUCSABN+3z62v7JA0wEbQDj/QUAIwMHBIwElwWxBIsBcf/c/7EArAAcAYAC0AL9AKv/AAHRAhsDQwNRA4IAAPss+DX8+wITBTwCCf+n/Ev6Nvkd+kf7HPyf/f3+1v4S/sb+zgFtBX0GZgO//bD5cPtpA/ALLw1TBnr/Kf9sAiAD4QBP/xAA0wHTAaX+wPqN+R37GP3X/Xn9Rv2F/noAoQCp/nT98P6NAWECfwDq/Z39LAAPA2wE7QTGBGEC6P3w+gP7T/v6+l78Ef+mAPsBmwR/BjwGbwXBA4X/Y/tG+zH+ngAvAaQAlv9n/az63PpH/wMD3QHW/mP+EQDgAS0EHwexB2YDTv3A+jb93wGJBDsDCACf/a/8hv1S/5j/FP7B/fL/kQF+//H7BfwrAJgDcwPCAZgAIv9q/IL6lvwLAdsCawG+/8n+o/42AL4CRwNiAGj8Xfq8+ib9swF6BgwImAVJATP+wP7HARkDqACt/BP7cf1PAboDeQSEBOoDowK8Ab0BXAEx/9b6OPb79Wr7ywD/AG39KPqS+fP7qf8fAjECzwHXA2IHFwiYBAMBRwH1A+8EbwNaAsMCAgJ//nL6bPmu/CoBhQKEAI/+ev7t/ob+Vf0J+xT4tvfv+6IBywOvAUIAHgPcBpYGRgKm/HT4nPh4/bgC+QOLAX3++/z1/bgAXwKWAMX9U/81BVkIugSh/rL7cvww/gf/wf6A/n7/OQF/AmcD9wNoAy8CSgEBAZgBMQIwATf/Lf6m/l0AzQKFAzL//Pfv9eL8+wbyCtYFzf3k+d/6bf3R/hj/wf+wAN8ANwCa/if8pvof/Pn/hAIUAc79If1wAL0E0gU0AtH8Tvrn+7P+HQDkAPUCQAWHBPEA8v2c/O36QPhs95b7IwNhCHcIgwYYBtMGYweDB6EFgQCK+0r89AJLCCQFivu+9D324PwvAr4CoP9T/M379P16AMsBRAHo/u/70vlP+V36MPwP/p8AsATIB14FBP4q+fb7swEhAzwBNgHuAicDFwJjAWz/yvv5+4kCHQj9Bfn/fv1W/2MAIP51/DP/+wPXBUgD6f6s+1H6q/rK/DUAPgMrA0j/h/um/CACLQY7BOT+//wwAK8CvAAv/iH/tgGvAj8CawEiAGj/IgC+AOT/H/+P/8r+P/sE+VX8VgKOBf8ExwKKANP+Uf1E/Fv90gBpAyQCW/5R/Fj+6QFYAkD/kf1u/10Acv3S+hX9xAEUA4wA4P6HAMcCBQOsA1sGeQYvAoP/bgGuAvj+9PjZ9X73o/sR/+T/Z/4p/c3+hQO9CV4QCxQMDaX7Hu+X8sT9LAIt/R73wPaO+sL90f4Z/g/8qPslAH8HFQxpC3EHFgLx+9r3NPpwAZ8FFQPe/Qn7lvzFADEEUwaGCDwJTQbXAaD/FgDSALEAYgBk/9v8WPrM+Y76SPt0/Nj9XP0p+yv6dvs9/fIAsQrWE9AOw/3N8a/zm/sr/0v9B/t2+8D89/zo/Zz/+//RAIwDmwTuAbL/rgFGBaYGhAUlAxwBJQD//7MBwQU7CfQI1wRN/3z7gfvH/f79Lvyh/C//1v9O/hr+cAFFBiQHnAGj+6X7Sv5D/Wz6Dfu3/qQBVgJpAN/7gffl9oP6n/8SAnUAwf6JAE8DrgJY/+n9rf88AS0Ayv3T/P/+7wNcCW8M1wrKAwn7bfeh+gz/bgChANUBjAJZAqwEBAuPEEsOwwJO9Rzv/PDU9Kn3wvoL/Yz7LfgK+cj/zgfTDIQMdAbd/rv6bvsbAQ4J+AvDBtr/lP1k/in9QPfc8PfxKPrgAIMCKAOvBe4HFwi2BlQDWf71+sv6Sf28AQEGvAfABucDBwEnATIEWwVhAdn6Yffq+Ur/GgKYAGD9Ufy0/gwCawNZAhUApf1Y+xj5wfZN9bL2tvpY/oP/cf4S/er+HAWoCvMJHgVxAicCsP8e+7P5U/7rBegKPgpmBG78svfA+rIF1hITFusHyPSm72r3JfxI+Ab2mP0qCG4K/gOf/Gb59vmY+638Pv6lAFIAQvqI8yj2bQJXDCwMFwcfBCkDwAEPAFr/rP/B/dP2J/KM++4PoR1bGnoMtv9Y+qv7P/3s98LvQ/IbASwNCApJ/MTyWPQY+lz76vch9Y/2tfsjAl0H/gkhCTYE0P7G/uYCgAQlAkT/O/0s/Ar9b/6d+r/u6uUF8UINzSIUIsAROgCN9uz20v3CBBAHtwOc+8/xvu6O+oQNNxOABvD5oPy1B8MMtAisAmEA\" type=\"audio/wav\" />\n",
       "                    Your browser does not support the audio element.\n",
       "                </audio>\n",
       "              "
      ],
      "text/plain": [
       "<IPython.lib.display.Audio object>"
      ]
     },
     "execution_count": 6,
     "metadata": {},
     "output_type": "execute_result"
    },
    {
     "data": {
      "image/png": "[encoded data removed]",
      "text/plain": [
       "<Figure size 432x288 with 1 Axes>"
      ]
     },
     "metadata": {
      "needs_background": "light"
     },
     "output_type": "display_data"
    }
   ],
   "source": [
    "from IPython.display import Audio\n",
    "sig = train_dataset[6][0]\n",
    "plt.plot(sig.T); plt.ylim(-.04,.04)\n",
    "Audio(sig, rate=8000, autoplay=True)"
   ]
  },
  {
   "cell_type": "code",
   "execution_count": 7,
   "metadata": {},
   "outputs": [],
   "source": [
    "if setting.startswith('psd'):\n",
    "    model = Conv1dNetPSD()\n",
    "elif modeltype == 'conv1draw':\n",
    "    model = Conv1dNetRAW()\n",
    "elif modeltype == 'inception':\n",
    "    model = nn.Sequential(\n",
    "                    InceptionBlock(\n",
    "                        in_channels=1, \n",
    "                        n_filters=32, \n",
    "                        kernel_sizes=[5, 11, 23],\n",
    "                        bottleneck_channels=32,\n",
    "                        use_residual=True,\n",
    "                        activation=nn.ReLU()\n",
    "                    ),\n",
    "                    InceptionBlock(\n",
    "                        in_channels=32*4, \n",
    "                        n_filters=32, \n",
    "                        kernel_sizes=[5, 11, 23],\n",
    "                        bottleneck_channels=32,\n",
    "                        use_residual=True,\n",
    "                        activation=nn.ReLU()\n",
    "                    ),\n",
    "                    nn.AdaptiveAvgPool1d(output_size=1),\n",
    "                    Flatten(out_features=32*4*1),\n",
    "                    nn.Linear(in_features=4*32*1, out_features=2))\n",
    "\n",
    "criterion = nn.CrossEntropyLoss()\n",
    "optimizer = torch.optim.Adam(model.parameters(), lr=0.01, betas=(0.9, 0.999))\n",
    "scheduler = optim.lr_scheduler.ReduceLROnPlateau(optimizer, patience=3, verbose=True)\n",
    "early_stopping = EarlyStopping(patience=7, verbose=1)\n",
    "# print(model)"
   ]
  },
  {
   "cell_type": "code",
   "execution_count": 8,
   "metadata": {},
   "outputs": [],
   "source": [
    "# list(model.children())[0]"
   ]
  },
  {
   "cell_type": "code",
   "execution_count": 9,
   "metadata": {},
   "outputs": [],
   "source": [
    "# test if everything works with mock input\n",
    "# import torchsummary\n",
    "# torchsummary.summary(model, (1,10000))\n",
    "# x = torch.randn(32, 1, 5000)\n",
    "\n",
    "# output = model(x)\n",
    "# output"
   ]
  },
  {
   "cell_type": "markdown",
   "metadata": {},
   "source": [
    "## Training"
   ]
  },
  {
   "cell_type": "code",
   "execution_count": 10,
   "metadata": {},
   "outputs": [
    {
     "name": "stdout",
     "output_type": "stream",
     "text": [
      "Train on gpu: True\n"
     ]
    },
    {
     "name": "stderr",
     "output_type": "stream",
     "text": [
      "Training..\t: 100%|██████████| 748/748 [00:09<00:00, 74.91it/s]\n",
      "Validating..\t: 100%|██████████| 94/94 [00:01<00:00, 69.42it/s] \n",
      "Training..\t:   0%|          | 0/748 [00:00<?, ?it/s]"
     ]
    },
    {
     "name": "stdout",
     "output_type": "stream",
     "text": [
      "Validation loss decreased (inf --> 5.051859).  Saving model ...\n",
      "Epoch 0: train_acc: 85.57% loss: 0.447,  val_loss: 5.052 val_acc: 42.20%\n"
     ]
    },
    {
     "name": "stderr",
     "output_type": "stream",
     "text": [
      "Training..\t: 100%|██████████| 748/748 [00:08<00:00, 86.23it/s]\n",
      "Validating..\t: 100%|██████████| 94/94 [00:01<00:00, 71.62it/s] \n",
      "Training..\t:   0%|          | 0/748 [00:00<?, ?it/s]"
     ]
    },
    {
     "name": "stdout",
     "output_type": "stream",
     "text": [
      "Validation loss decreased (5.051859 --> 1.583335).  Saving model ...\n",
      "Epoch 1: train_acc: 89.64% loss: 0.393,  val_loss: 1.583 val_acc: 58.38%\n"
     ]
    },
    {
     "name": "stderr",
     "output_type": "stream",
     "text": [
      "Training..\t: 100%|██████████| 748/748 [00:08<00:00, 89.91it/s]\n",
      "Validating..\t: 100%|██████████| 94/94 [00:01<00:00, 77.13it/s] \n",
      "Training..\t:   0%|          | 0/748 [00:00<?, ?it/s]"
     ]
    },
    {
     "name": "stdout",
     "output_type": "stream",
     "text": [
      "Validation loss decreased (1.583335 --> 0.743407).  Saving model ...\n",
      "Epoch 2: train_acc: 90.62% loss: 0.433,  val_loss: 0.743 val_acc: 58.96%\n"
     ]
    },
    {
     "name": "stderr",
     "output_type": "stream",
     "text": [
      "Training..\t: 100%|██████████| 748/748 [00:08<00:00, 88.86it/s]\n",
      "Validating..\t: 100%|██████████| 94/94 [00:01<00:00, 76.10it/s] \n",
      "Training..\t:   0%|          | 0/748 [00:00<?, ?it/s]"
     ]
    },
    {
     "name": "stdout",
     "output_type": "stream",
     "text": [
      "Epoch 3: train_acc: 91.45% loss: 0.449,  val_loss: 0.897 val_acc: 56.22%\n"
     ]
    },
    {
     "name": "stderr",
     "output_type": "stream",
     "text": [
      "Training..\t: 100%|██████████| 748/748 [00:08<00:00, 87.88it/s]\n",
      "Validating..\t: 100%|██████████| 94/94 [00:01<00:00, 75.87it/s] \n",
      "Training..\t:   0%|          | 0/748 [00:00<?, ?it/s]"
     ]
    },
    {
     "name": "stdout",
     "output_type": "stream",
     "text": [
      "Validation loss decreased (0.743407 --> 0.663359).  Saving model ...\n",
      "Epoch 4: train_acc: 92.18% loss: 0.557,  val_loss: 0.663 val_acc: 57.98%\n"
     ]
    },
    {
     "name": "stderr",
     "output_type": "stream",
     "text": [
      "Training..\t: 100%|██████████| 748/748 [00:08<00:00, 89.15it/s]\n",
      "Validating..\t: 100%|██████████| 94/94 [00:01<00:00, 76.38it/s] \n",
      "Training..\t:   0%|          | 0/748 [00:00<?, ?it/s]"
     ]
    },
    {
     "name": "stdout",
     "output_type": "stream",
     "text": [
      "Epoch 5: train_acc: 92.69% loss: 0.474,  val_loss: 1.351 val_acc: 57.26%\n"
     ]
    },
    {
     "name": "stderr",
     "output_type": "stream",
     "text": [
      "Training..\t: 100%|██████████| 748/748 [00:08<00:00, 86.14it/s]\n",
      "Validating..\t: 100%|██████████| 94/94 [00:01<00:00, 73.74it/s] \n",
      "Training..\t:   0%|          | 0/748 [00:00<?, ?it/s]"
     ]
    },
    {
     "name": "stdout",
     "output_type": "stream",
     "text": [
      "Epoch 6: train_acc: 93.19% loss: 0.458,  val_loss: 2.176 val_acc: 57.08%\n"
     ]
    },
    {
     "name": "stderr",
     "output_type": "stream",
     "text": [
      "Training..\t: 100%|██████████| 748/748 [00:08<00:00, 86.46it/s]\n",
      "Validating..\t: 100%|██████████| 94/94 [00:01<00:00, 77.50it/s] \n",
      "Training..\t:   0%|          | 0/748 [00:00<?, ?it/s]"
     ]
    },
    {
     "name": "stdout",
     "output_type": "stream",
     "text": [
      "Validation loss decreased (0.663359 --> 0.601552).  Saving model ...\n",
      "Epoch 7: train_acc: 93.74% loss: 0.449,  val_loss: 0.602 val_acc: 64.83%\n"
     ]
    },
    {
     "name": "stderr",
     "output_type": "stream",
     "text": [
      "Training..\t: 100%|██████████| 748/748 [00:08<00:00, 85.04it/s]\n",
      "Validating..\t: 100%|██████████| 94/94 [00:01<00:00, 77.09it/s] \n",
      "Training..\t:   0%|          | 0/748 [00:00<?, ?it/s]"
     ]
    },
    {
     "name": "stdout",
     "output_type": "stream",
     "text": [
      "Epoch 8: train_acc: 94.15% loss: 0.458,  val_loss: 3.070 val_acc: 52.66%\n"
     ]
    },
    {
     "name": "stderr",
     "output_type": "stream",
     "text": [
      "Training..\t: 100%|██████████| 748/748 [00:08<00:00, 86.71it/s]\n",
      "Validating..\t: 100%|██████████| 94/94 [00:01<00:00, 77.08it/s] \n",
      "Training..\t:   0%|          | 0/748 [00:00<?, ?it/s]"
     ]
    },
    {
     "name": "stdout",
     "output_type": "stream",
     "text": [
      "Validation loss decreased (0.601552 --> 0.442988).  Saving model ...\n",
      "Epoch 9: train_acc: 94.52% loss: 0.500,  val_loss: 0.443 val_acc: 83.39%\n"
     ]
    },
    {
     "name": "stderr",
     "output_type": "stream",
     "text": [
      "Training..\t: 100%|██████████| 748/748 [00:08<00:00, 86.41it/s]\n",
      "Validating..\t: 100%|██████████| 94/94 [00:01<00:00, 77.31it/s] \n",
      "Training..\t:   0%|          | 0/748 [00:00<?, ?it/s]"
     ]
    },
    {
     "name": "stdout",
     "output_type": "stream",
     "text": [
      "Epoch 10: train_acc: 94.88% loss: 0.425,  val_loss: 1.880 val_acc: 70.26%\n"
     ]
    },
    {
     "name": "stderr",
     "output_type": "stream",
     "text": [
      "Training..\t: 100%|██████████| 748/748 [00:08<00:00, 86.47it/s]\n",
      "Validating..\t: 100%|██████████| 94/94 [00:01<00:00, 76.55it/s] \n",
      "Training..\t:   0%|          | 0/748 [00:00<?, ?it/s]"
     ]
    },
    {
     "name": "stdout",
     "output_type": "stream",
     "text": [
      "Epoch 11: train_acc: 95.14% loss: 0.330,  val_loss: 0.829 val_acc: 58.61%\n"
     ]
    },
    {
     "name": "stderr",
     "output_type": "stream",
     "text": [
      "Training..\t: 100%|██████████| 748/748 [00:08<00:00, 86.71it/s]\n",
      "Validating..\t: 100%|██████████| 94/94 [00:01<00:00, 76.61it/s] \n",
      "Training..\t:   0%|          | 0/748 [00:00<?, ?it/s]"
     ]
    },
    {
     "name": "stdout",
     "output_type": "stream",
     "text": [
      "Epoch 12: train_acc: 95.50% loss: 0.330,  val_loss: 0.648 val_acc: 68.40%\n"
     ]
    },
    {
     "name": "stderr",
     "output_type": "stream",
     "text": [
      "Training..\t: 100%|██████████| 748/748 [00:08<00:00, 86.22it/s]\n",
      "Validating..\t: 100%|██████████| 94/94 [00:01<00:00, 77.03it/s] \n",
      "Training..\t:   0%|          | 0/748 [00:00<?, ?it/s]"
     ]
    },
    {
     "name": "stdout",
     "output_type": "stream",
     "text": [
      "Epoch    14: reducing learning rate of group 0 to 1.0000e-03.\n",
      "Epoch 13: train_acc: 95.93% loss: 0.481,  val_loss: 1.436 val_acc: 58.59%\n"
     ]
    },
    {
     "name": "stderr",
     "output_type": "stream",
     "text": [
      "Training..\t: 100%|██████████| 748/748 [00:08<00:00, 86.37it/s]\n",
      "Validating..\t: 100%|██████████| 94/94 [00:01<00:00, 77.02it/s] \n",
      "Training..\t:   0%|          | 0/748 [00:00<?, ?it/s]"
     ]
    },
    {
     "name": "stdout",
     "output_type": "stream",
     "text": [
      "Validation loss decreased (0.442988 --> 0.191859).  Saving model ...\n",
      "Epoch 14: train_acc: 96.75% loss: 0.062,  val_loss: 0.192 val_acc: 89.20%\n"
     ]
    },
    {
     "name": "stderr",
     "output_type": "stream",
     "text": [
      "Training..\t: 100%|██████████| 748/748 [00:08<00:00, 86.82it/s]\n",
      "Validating..\t: 100%|██████████| 94/94 [00:01<00:00, 76.54it/s] \n",
      "Training..\t:   0%|          | 0/748 [00:00<?, ?it/s]"
     ]
    },
    {
     "name": "stdout",
     "output_type": "stream",
     "text": [
      "Epoch 15: train_acc: 97.21% loss: 0.060,  val_loss: 0.393 val_acc: 79.50%\n"
     ]
    },
    {
     "name": "stderr",
     "output_type": "stream",
     "text": [
      "Training..\t: 100%|██████████| 748/748 [00:08<00:00, 86.17it/s]\n",
      "Validating..\t: 100%|██████████| 94/94 [00:01<00:00, 77.71it/s] \n",
      "Training..\t:   0%|          | 0/748 [00:00<?, ?it/s]"
     ]
    },
    {
     "name": "stdout",
     "output_type": "stream",
     "text": [
      "Epoch 16: train_acc: 97.47% loss: 0.048,  val_loss: 0.207 val_acc: 91.77%\n"
     ]
    },
    {
     "name": "stderr",
     "output_type": "stream",
     "text": [
      "Training..\t: 100%|██████████| 748/748 [00:08<00:00, 84.75it/s]\n",
      "Validating..\t: 100%|██████████| 94/94 [00:01<00:00, 72.94it/s] \n",
      "Training..\t:   0%|          | 0/748 [00:00<?, ?it/s]"
     ]
    },
    {
     "name": "stdout",
     "output_type": "stream",
     "text": [
      "Epoch 17: train_acc: 97.56% loss: 0.039,  val_loss: 0.344 val_acc: 84.91%\n"
     ]
    },
    {
     "name": "stderr",
     "output_type": "stream",
     "text": [
      "Training..\t: 100%|██████████| 748/748 [00:08<00:00, 85.15it/s]\n",
      "Validating..\t: 100%|██████████| 94/94 [00:01<00:00, 73.46it/s] \n",
      "Training..\t:   0%|          | 0/748 [00:00<?, ?it/s]"
     ]
    },
    {
     "name": "stdout",
     "output_type": "stream",
     "text": [
      "Epoch    19: reducing learning rate of group 0 to 1.0000e-04.\n",
      "Epoch 18: train_acc: 97.84% loss: 0.035,  val_loss: 0.210 val_acc: 92.37%\n"
     ]
    },
    {
     "name": "stderr",
     "output_type": "stream",
     "text": [
      "Training..\t: 100%|██████████| 748/748 [00:08<00:00, 86.38it/s]\n",
      "Validating..\t: 100%|██████████| 94/94 [00:01<00:00, 76.59it/s] \n",
      "Training..\t:   0%|          | 0/748 [00:00<?, ?it/s]"
     ]
    },
    {
     "name": "stdout",
     "output_type": "stream",
     "text": [
      "Validation loss decreased (0.191859 --> 0.163645).  Saving model ...\n",
      "Epoch 19: train_acc: 98.20% loss: 0.041,  val_loss: 0.164 val_acc: 93.97%\n"
     ]
    },
    {
     "name": "stderr",
     "output_type": "stream",
     "text": [
      "Training..\t: 100%|██████████| 748/748 [00:08<00:00, 86.48it/s]\n",
      "Validating..\t: 100%|██████████| 94/94 [00:01<00:00, 76.84it/s] \n",
      "Training..\t:   0%|          | 0/748 [00:00<?, ?it/s]"
     ]
    },
    {
     "name": "stdout",
     "output_type": "stream",
     "text": [
      "Validation loss decreased (0.163645 --> 0.142900).  Saving model ...\n",
      "Epoch 20: train_acc: 98.18% loss: 0.054,  val_loss: 0.143 val_acc: 93.95%\n"
     ]
    },
    {
     "name": "stderr",
     "output_type": "stream",
     "text": [
      "Training..\t: 100%|██████████| 748/748 [00:08<00:00, 86.19it/s]\n",
      "Validating..\t: 100%|██████████| 94/94 [00:01<00:00, 77.18it/s] \n",
      "Training..\t:   0%|          | 0/748 [00:00<?, ?it/s]"
     ]
    },
    {
     "name": "stdout",
     "output_type": "stream",
     "text": [
      "Epoch 21: train_acc: 98.22% loss: 0.063,  val_loss: 0.158 val_acc: 94.03%\n"
     ]
    },
    {
     "name": "stderr",
     "output_type": "stream",
     "text": [
      "Training..\t: 100%|██████████| 748/748 [00:08<00:00, 85.89it/s]\n",
      "Validating..\t: 100%|██████████| 94/94 [00:01<00:00, 77.15it/s] \n",
      "Training..\t:   0%|          | 0/748 [00:00<?, ?it/s]"
     ]
    },
    {
     "name": "stdout",
     "output_type": "stream",
     "text": [
      "Epoch 22: train_acc: 98.24% loss: 0.067,  val_loss: 0.166 val_acc: 93.97%\n"
     ]
    },
    {
     "name": "stderr",
     "output_type": "stream",
     "text": [
      "Training..\t: 100%|██████████| 748/748 [00:08<00:00, 85.32it/s]\n",
      "Validating..\t: 100%|██████████| 94/94 [00:01<00:00, 76.92it/s] \n",
      "Training..\t:   0%|          | 0/748 [00:00<?, ?it/s]"
     ]
    },
    {
     "name": "stdout",
     "output_type": "stream",
     "text": [
      "Validation loss decreased (0.142900 --> 0.129846).  Saving model ...\n",
      "Epoch 23: train_acc: 98.23% loss: 0.049,  val_loss: 0.130 val_acc: 93.85%\n"
     ]
    },
    {
     "name": "stderr",
     "output_type": "stream",
     "text": [
      "Training..\t: 100%|██████████| 748/748 [00:08<00:00, 86.55it/s]\n",
      "Validating..\t: 100%|██████████| 94/94 [00:01<00:00, 76.48it/s] \n",
      "Training..\t:   0%|          | 0/748 [00:00<?, ?it/s]"
     ]
    },
    {
     "name": "stdout",
     "output_type": "stream",
     "text": [
      "Validation loss decreased (0.129846 --> 0.125435).  Saving model ...\n",
      "Epoch 24: train_acc: 98.33% loss: 0.046,  val_loss: 0.125 val_acc: 93.83%\n"
     ]
    },
    {
     "name": "stderr",
     "output_type": "stream",
     "text": [
      "Training..\t: 100%|██████████| 748/748 [00:08<00:00, 87.10it/s]\n",
      "Validating..\t: 100%|██████████| 94/94 [00:01<00:00, 75.59it/s] \n",
      "Training..\t:   0%|          | 0/748 [00:00<?, ?it/s]"
     ]
    },
    {
     "name": "stdout",
     "output_type": "stream",
     "text": [
      "Epoch 25: train_acc: 98.39% loss: 0.055,  val_loss: 0.170 val_acc: 93.90%\n"
     ]
    },
    {
     "name": "stderr",
     "output_type": "stream",
     "text": [
      "Training..\t: 100%|██████████| 748/748 [00:08<00:00, 87.87it/s]\n",
      "Validating..\t: 100%|██████████| 94/94 [00:01<00:00, 75.97it/s] \n",
      "Training..\t:   0%|          | 0/748 [00:00<?, ?it/s]"
     ]
    },
    {
     "name": "stdout",
     "output_type": "stream",
     "text": [
      "Epoch 26: train_acc: 98.37% loss: 0.054,  val_loss: 0.255 val_acc: 92.65%\n"
     ]
    },
    {
     "name": "stderr",
     "output_type": "stream",
     "text": [
      "Training..\t: 100%|██████████| 748/748 [00:08<00:00, 86.10it/s]\n",
      "Validating..\t: 100%|██████████| 94/94 [00:01<00:00, 76.86it/s] \n",
      "Training..\t:   0%|          | 0/748 [00:00<?, ?it/s]"
     ]
    },
    {
     "name": "stdout",
     "output_type": "stream",
     "text": [
      "Epoch 27: train_acc: 98.29% loss: 0.060,  val_loss: 0.166 val_acc: 93.98%\n"
     ]
    },
    {
     "name": "stderr",
     "output_type": "stream",
     "text": [
      "Training..\t: 100%|██████████| 748/748 [00:08<00:00, 87.09it/s]\n",
      "Validating..\t: 100%|██████████| 94/94 [00:01<00:00, 77.10it/s] \n",
      "Training..\t:   0%|          | 0/748 [00:00<?, ?it/s]"
     ]
    },
    {
     "name": "stdout",
     "output_type": "stream",
     "text": [
      "Epoch    29: reducing learning rate of group 0 to 1.0000e-05.\n",
      "Epoch 28: train_acc: 98.36% loss: 0.055,  val_loss: 0.135 val_acc: 93.80%\n"
     ]
    },
    {
     "name": "stderr",
     "output_type": "stream",
     "text": [
      "Training..\t: 100%|██████████| 748/748 [00:08<00:00, 86.60it/s]\n",
      "Validating..\t: 100%|██████████| 94/94 [00:01<00:00, 75.80it/s] \n",
      "Training..\t:   0%|          | 0/748 [00:00<?, ?it/s]"
     ]
    },
    {
     "name": "stdout",
     "output_type": "stream",
     "text": [
      "Epoch 29: train_acc: 98.44% loss: 0.033,  val_loss: 0.158 val_acc: 94.07%\n"
     ]
    },
    {
     "name": "stderr",
     "output_type": "stream",
     "text": [
      "Training..\t: 100%|██████████| 748/748 [00:08<00:00, 86.97it/s]\n",
      "Validating..\t: 100%|██████████| 94/94 [00:01<00:00, 77.48it/s] \n",
      "Training..\t:   0%|          | 0/748 [00:00<?, ?it/s]"
     ]
    },
    {
     "name": "stdout",
     "output_type": "stream",
     "text": [
      "Epoch 30: train_acc: 98.42% loss: 0.049,  val_loss: 0.162 val_acc: 94.03%\n"
     ]
    },
    {
     "name": "stderr",
     "output_type": "stream",
     "text": [
      "Training..\t: 100%|██████████| 748/748 [00:08<00:00, 86.96it/s]\n",
      "Validating..\t: 100%|██████████| 94/94 [00:01<00:00, 77.26it/s] "
     ]
    },
    {
     "name": "stdout",
     "output_type": "stream",
     "text": [
      "Early stopping\n"
     ]
    },
    {
     "name": "stderr",
     "output_type": "stream",
     "text": [
      "\n"
     ]
    }
   ],
   "source": [
    "# Choosing whether to train on a gpu\n",
    "train_on_gpu = torch.cuda.is_available()\n",
    "print(f'Train on gpu: {train_on_gpu}')# Number of gpus\n",
    "model = model.to('cuda', dtype=torch.float)\n",
    "\n",
    "# Model training\n",
    "for epoch in range(num_epochs):\n",
    "    # Going through the training set\n",
    "    correct_train = 0\n",
    "    model.train()\n",
    "    for x_batch,y_batch,path_batch,idx_batch in tqdm(train_dataloader, desc='Training..\\t'):        \n",
    "\n",
    "        y_batch = torch.as_tensor(y_batch).type(torch.LongTensor)\n",
    "        x_batch,y_batch = x_batch.cuda(), y_batch.cuda()\n",
    "        \n",
    "        optimizer.zero_grad()\n",
    "        pred = model(x_batch)\n",
    "        loss = criterion(pred, y_batch)\n",
    "        loss.backward()\n",
    "        optimizer.step()\n",
    "        correct_train += (pred.argmax(axis=1) == y_batch).float().sum().item()\n",
    "\n",
    "    train_accuracy = correct_train / (len(train_dataloader)*batch_size) * 100.\n",
    "    # Going through the validation set\n",
    "    correct_valid = 0\n",
    "    model.eval()\n",
    "    for x_batch,y_batch,path_batch,idx_batch in tqdm(valid_dataloader, desc='Validating..\\t'):\n",
    "        \n",
    "        y_batch = torch.as_tensor(y_batch).type(torch.LongTensor)\n",
    "        x_batch,y_batch = x_batch.cuda(), y_batch.cuda()\n",
    "\n",
    "        pred = model(x_batch)\n",
    "        val_loss = criterion(pred, y_batch)\n",
    "        correct_valid += (pred.argmax(axis=1) == y_batch).float().sum().item()\n",
    "    valid_accuracy = correct_valid / (len(valid_dataloader)*batch_size_val) * 100.\n",
    "    scheduler.step(val_loss)\n",
    "    early_stopping(val_loss, model)\n",
    "    if early_stopping.early_stop:\n",
    "        print(\"Early stopping\")\n",
    "        break\n",
    "\n",
    "        # Printing results\n",
    "    print(f\"Epoch {epoch}: train_acc: {train_accuracy:.2f}% loss: {loss:.3f},  val_loss: {val_loss:.3f} val_acc: {valid_accuracy:.2f}%\")\n"
   ]
  },
  {
   "cell_type": "markdown",
   "metadata": {},
   "source": [
    "## Testing"
   ]
  },
  {
   "cell_type": "markdown",
   "metadata": {},
   "source": [
    "### testing on datasets with same conditions"
   ]
  },
  {
   "cell_type": "code",
   "execution_count": 260,
   "metadata": {},
   "outputs": [
    {
     "name": "stdout",
     "output_type": "stream",
     "text": [
      "Train on gpu: True\n"
     ]
    }
   ],
   "source": [
    "# Choosing whether to train on a gpu\n",
    "train_on_gpu = torch.cuda.is_available()\n",
    "print(f'Train on gpu: {train_on_gpu}')# Number of gpus\n",
    "model = model.to('cuda', dtype=torch.float)"
   ]
  },
  {
   "cell_type": "code",
   "execution_count": 261,
   "metadata": {},
   "outputs": [],
   "source": [
    "test_dataset = ConcatDataset([dmel2, dsuz2])\n",
    "test_dataloader = DataLoader(test_dataset, batch_size=batch_size_val, num_workers=num_workers)\n",
    "\n",
    "def test(model, test_dataloader):\n",
    "    correct_test = 0\n",
    "    model.eval()\n",
    "    for x_batch,y_batch,path_batch,idx_batch in tqdm(test_dataloader, desc='Testing..\\t'):\n",
    "\n",
    "        y_batch = torch.as_tensor(y_batch).type(torch.LongTensor)\n",
    "        x_batch,y_batch = x_batch.cuda(), y_batch.cuda()\n",
    "\n",
    "        pred = model(x_batch)\n",
    "        val_loss = criterion(pred, y_batch)\n",
    "        correct_test += (pred.argmax(axis=1) == y_batch).float().sum().item()\n",
    "    test_accuracy = correct_test / (len(test_dataloader)*batch_size_val) * 100.\n",
    "    print(test_accuracy)"
   ]
  },
  {
   "cell_type": "code",
   "execution_count": 262,
   "metadata": {},
   "outputs": [
    {
     "name": "stderr",
     "output_type": "stream",
     "text": [
      "Testing..\t: 100%|██████████| 301/301 [00:02<00:00, 118.07it/s]"
     ]
    },
    {
     "name": "stdout",
     "output_type": "stream",
     "text": [
      "94.35735049833886\n"
     ]
    },
    {
     "name": "stderr",
     "output_type": "stream",
     "text": [
      "\n"
     ]
    }
   ],
   "source": [
    "test(model,test_dataloader)"
   ]
  },
  {
   "cell_type": "markdown",
   "metadata": {},
   "source": [
    "### testing on ALL available datasets (collected with the same sensor)"
   ]
  },
  {
   "cell_type": "code",
   "execution_count": 13,
   "metadata": {},
   "outputs": [
    {
     "name": "stdout",
     "output_type": "stream",
     "text": [
      "Found 14348 in dataset: Suzukii_RL/R, and 1 label(s): ['D. suzukii']\n",
      "Label(s) changed to [1]\n",
      "Nr. of valid wingbeats: 10372\n",
      "Found 21940 in dataset: Suzukii_RL/L, and 1 label(s): ['D. suzukii']\n",
      "Label(s) changed to [1]\n",
      "Nr. of valid wingbeats: 14729\n"
     ]
    },
    {
     "name": "stderr",
     "output_type": "stream",
     "text": [
      "Testing..\t:   0%|          | 0/600 [00:00<?, ?it/s]"
     ]
    },
    {
     "name": "stdout",
     "output_type": "stream",
     "text": [
      "Found 24763 in dataset: Melanogaster_RL/Z, and 1 label(s): ['D. melanogaster']\n",
      "Label(s) changed to [0]\n",
      "Nr. of valid wingbeats: 11778\n",
      "Found 2086 in dataset: Melanogaster_RL/X, and 1 label(s): ['D. melanogaster']\n",
      "Label(s) changed to [0]\n",
      "Nr. of valid wingbeats: 646\n",
      "Found 1882 in dataset: Melanogaster_RL/W, and 1 label(s): ['D. melanogaster']\n",
      "Label(s) changed to [0]\n",
      "Nr. of valid wingbeats: 875\n"
     ]
    },
    {
     "name": "stderr",
     "output_type": "stream",
     "text": [
      "Testing..\t: 100%|██████████| 600/600 [00:05<00:00, 111.05it/s]"
     ]
    },
    {
     "name": "stdout",
     "output_type": "stream",
     "text": [
      "86.32291666666667\n"
     ]
    },
    {
     "name": "stderr",
     "output_type": "stream",
     "text": [
      "\n"
     ]
    }
   ],
   "source": [
    "ds1 = WingbeatsDataset(dsname=\"Suzukii_RL/R\", custom_label=[1], transform=transforms.Compose(transforms_list)).clean()\n",
    "ds2 = WingbeatsDataset(dsname=\"Suzukii_RL/L\", custom_label=[1], transform=transforms.Compose(transforms_list)).clean()\n",
    "ds3 = WingbeatsDataset(dsname=\"Melanogaster_RL/Z\", custom_label=[0], transform=transforms.Compose(transforms_list)).clean()\n",
    "ds4 = WingbeatsDataset(dsname=\"Melanogaster_RL/X\", custom_label=[0], transform=transforms.Compose(transforms_list)).clean()\n",
    "ds5 = WingbeatsDataset(dsname=\"Melanogaster_RL/W\", custom_label=[0], transform=transforms.Compose(transforms_list)).clean()\n",
    "\n",
    "dslist = [ds1, ds2, ds3, ds4, ds5]#, dmel2, dsuz2]\n",
    "\n",
    "test_dataset = ConcatDataset(dslist)\n",
    "test_dataloader = DataLoader(test_dataset, batch_size=batch_size_val, num_workers=num_workers)\n",
    "\n",
    "test(model,test_dataloader)"
   ]
  },
  {
   "cell_type": "code",
   "execution_count": 155,
   "metadata": {},
   "outputs": [
    {
     "name": "stderr",
     "output_type": "stream",
     "text": [
      "100%|██████████| 600/600 [01:49<00:00,  5.48it/s]\n"
     ]
    }
   ],
   "source": [
    "@torch.no_grad()\n",
    "def get_all_preds(model, loader):\n",
    "#     model = model.to('cuda', dtype=torch.float)\n",
    "    model.eval()\n",
    "\n",
    "    results = {}\n",
    "    results['preds'] = torch.tensor([])\n",
    "    results['fnames'] = ()\n",
    "    results['labels'] = torch.tensor([])\n",
    "    results['idx'] = torch.tensor([])\n",
    "\n",
    "    for x_batch,y_batch,path_batch,idx_batch in tqdm(loader):\n",
    "\n",
    "        y_batch = torch.as_tensor(y_batch).type(torch.LongTensor)\n",
    "\n",
    "        results['fnames'] += path_batch\n",
    "        results['labels'] = torch.cat( (results['labels'], y_batch), dim=0)\n",
    "        results['idx'] = torch.cat( (results['idx'], idx_batch), dim=0)\n",
    "\n",
    "        preds = model(x_batch.float())\n",
    "        results['preds'] = torch.cat(\n",
    "            (results['preds'], preds)\n",
    "            ,dim=0\n",
    "        )\n",
    "    return results\n",
    "model = model.to('cpu', dtype=torch.float)\n",
    "results = get_all_preds(model, test_dataloader)\n",
    "\n",
    "def softmax_out(x):\n",
    "    return np.argmax(F.softmax(x.reshape(1,-1), dim=1), axis=1).tolist()[0]\n",
    "\n",
    "results['preds_labels'] = list(map(softmax_out, results['preds']))"
   ]
  },
  {
   "cell_type": "code",
   "execution_count": 257,
   "metadata": {},
   "outputs": [
    {
     "data": {
      "text/html": [
       "<div>\n",
       "<style scoped>\n",
       "    .dataframe tbody tr th:only-of-type {\n",
       "        vertical-align: middle;\n",
       "    }\n",
       "\n",
       "    .dataframe tbody tr th {\n",
       "        vertical-align: top;\n",
       "    }\n",
       "\n",
       "    .dataframe thead th {\n",
       "        text-align: right;\n",
       "    }\n",
       "</style>\n",
       "<table border=\"1\" class=\"dataframe\">\n",
       "  <thead>\n",
       "    <tr style=\"text-align: right;\">\n",
       "      <th></th>\n",
       "      <th>preds</th>\n",
       "      <th>fnames</th>\n",
       "      <th>labels</th>\n",
       "      <th>idx</th>\n",
       "      <th>preds_labels</th>\n",
       "      <th>humidity</th>\n",
       "      <th>temperature</th>\n",
       "    </tr>\n",
       "  </thead>\n",
       "  <tbody>\n",
       "    <tr>\n",
       "      <th>27452</th>\n",
       "      <td>(tensor(4.2523), tensor(-4.3155))</td>\n",
       "      <td>/home/kalfasyan/data/wingbeats/Melanogaster_RL/Z/D_20_12_04_18_48_47/F201204_211108_170_G_050_T_21.8_H_105.3.wav</td>\n",
       "      <td>0.0</td>\n",
       "      <td>4987.0</td>\n",
       "      <td>0</td>\n",
       "      <td>105.3</td>\n",
       "      <td>21.8</td>\n",
       "    </tr>\n",
       "    <tr>\n",
       "      <th>15009</th>\n",
       "      <td>(tensor(-9.0598), tensor(9.0092))</td>\n",
       "      <td>/home/kalfasyan/data/wingbeats/Suzukii_RL/L/D_20_08_24_13_19_40/F200824_132011_156_G_050_T_21.8_H_101.4.wav</td>\n",
       "      <td>1.0</td>\n",
       "      <td>6821.0</td>\n",
       "      <td>1</td>\n",
       "      <td>101.4</td>\n",
       "      <td>21.8</td>\n",
       "    </tr>\n",
       "    <tr>\n",
       "      <th>8124</th>\n",
       "      <td>(tensor(-11.2704), tensor(11.1093))</td>\n",
       "      <td>/home/kalfasyan/data/wingbeats/Suzukii_RL/R/D_20_07_17_14_46_45/F200717_144826_091_G_050_T_21.8_H_-5.0.wav</td>\n",
       "      <td>1.0</td>\n",
       "      <td>11256.0</td>\n",
       "      <td>1</td>\n",
       "      <td>-5.0</td>\n",
       "      <td>21.8</td>\n",
       "    </tr>\n",
       "  </tbody>\n",
       "</table>\n",
       "</div>"
      ],
      "text/plain": [
       "                                     preds  \\\n",
       "27452    (tensor(4.2523), tensor(-4.3155))   \n",
       "15009    (tensor(-9.0598), tensor(9.0092))   \n",
       "8124   (tensor(-11.2704), tensor(11.1093))   \n",
       "\n",
       "                                                                                                                 fnames  \\\n",
       "27452  /home/kalfasyan/data/wingbeats/Melanogaster_RL/Z/D_20_12_04_18_48_47/F201204_211108_170_G_050_T_21.8_H_105.3.wav   \n",
       "15009       /home/kalfasyan/data/wingbeats/Suzukii_RL/L/D_20_08_24_13_19_40/F200824_132011_156_G_050_T_21.8_H_101.4.wav   \n",
       "8124         /home/kalfasyan/data/wingbeats/Suzukii_RL/R/D_20_07_17_14_46_45/F200717_144826_091_G_050_T_21.8_H_-5.0.wav   \n",
       "\n",
       "       labels      idx  preds_labels  humidity  temperature  \n",
       "27452     0.0   4987.0             0     105.3         21.8  \n",
       "15009     1.0   6821.0             1     101.4         21.8  \n",
       "8124      1.0  11256.0             1      -5.0         21.8  "
      ]
     },
     "execution_count": 257,
     "metadata": {},
     "output_type": "execute_result"
    }
   ],
   "source": [
    "df = pd.DataFrame(results)\n",
    "df['humidity'] = df.fnames.apply(lambda x: x.split('/')[-1].split('_')[-1][:-4]).astype(float).values\n",
    "df['temperature'] = df.fnames.apply(lambda x: x.split('/')[-1].split('_')[-3]).astype(float).values\n",
    "df.sample(3)"
   ]
  },
  {
   "cell_type": "markdown",
   "metadata": {},
   "source": [
    "## Plotting"
   ]
  },
  {
   "cell_type": "code",
   "execution_count": 197,
   "metadata": {},
   "outputs": [],
   "source": [
    "from sklearn.metrics import confusion_matrix\n",
    "import seaborn as sns\n",
    "sns.set()\n",
    "ticklabels = ['Melanogaster','Suzukii']"
   ]
  },
  {
   "cell_type": "code",
   "execution_count": 213,
   "metadata": {},
   "outputs": [
    {
     "name": "stdout",
     "output_type": "stream",
     "text": [
      "True vs Predicted\n"
     ]
    },
    {
     "data": {
      "image/png": "[encoded data removed]",
      "text/plain": [
       "<Figure size 1440x288 with 6 Axes>"
      ]
     },
     "metadata": {},
     "output_type": "display_data"
    }
   ],
   "source": [
    "plt.figure(figsize=(20,4));\n",
    "print(\"True vs Predicted\")\n",
    "plt.subplot(1,3,1); plt.title('All predictions');\n",
    "cm = confusion_matrix(y_true=df.labels.astype(int), y_pred=df.preds_labels, normalize=None)\n",
    "sns.heatmap(cm, annot=True, fmt='g', xticklabels=ticklabels, yticklabels=ticklabels);\n",
    "plt.subplot(1,3,2); plt.title('Normalized true')\n",
    "cm = confusion_matrix(y_true=df.labels.astype(int), y_pred=df.preds_labels, normalize='true')\n",
    "sns.heatmap(cm, annot=True, fmt='.1%', xticklabels=ticklabels, yticklabels=ticklabels);\n",
    "plt.subplot(1,3,3); plt.title('Normalized pred')\n",
    "cm = confusion_matrix(y_true=df.labels.astype(int), y_pred=df.preds_labels, normalize='pred')\n",
    "sns.heatmap(cm, annot=True, fmt='.1%', xticklabels=ticklabels, yticklabels=ticklabels);"
   ]
  },
  {
   "cell_type": "code",
   "execution_count": 254,
   "metadata": {},
   "outputs": [
    {
     "data": {
      "image/png": "[encoded data removed]",
      "text/plain": [
       "<Figure size 1440x864 with 1 Axes>"
      ]
     },
     "metadata": {},
     "output_type": "display_data"
    }
   ],
   "source": [
    "from utils import np_hist\n",
    "plt.figure(figsize=(20,12))\n",
    "# np_hist(df, 'humidity', fs=20)\n",
    "np_hist(df, 'temperature', fs=20)"
   ]
  }
 ],
 "metadata": {
  "kernelspec": {
   "display_name": "Python 3",
   "language": "python",
   "name": "python3"
  },
  "language_info": {
   "codemirror_mode": {
    "name": "ipython",
    "version": 3
   },
   "file_extension": ".py",
   "mimetype": "text/x-python",
   "name": "python",
   "nbconvert_exporter": "python",
   "pygments_lexer": "ipython3",
   "version": "3.6.12"
  }
 },
 "nbformat": 4,
 "nbformat_minor": 4
}
