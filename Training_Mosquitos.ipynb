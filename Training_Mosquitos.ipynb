{
 "cells": [
  {
   "cell_type": "code",
   "execution_count": 1,
   "metadata": {},
   "outputs": [],
   "source": [
    "%reset -f\n",
    "%reload_ext autoreload\n",
    "%autoreload 2\n",
    "%matplotlib inline\n",
    "%config Completer.use_jedi = False"
   ]
  },
  {
   "cell_type": "code",
   "execution_count": 2,
   "metadata": {},
   "outputs": [
    {
     "name": "stderr",
     "output_type": "stream",
     "text": [
      "/home/kalfasyan/anaconda3/envs/wbai/lib/python3.6/site-packages/torchaudio/backend/utils.py:54: UserWarning: \"sox\" backend is being deprecated. The default backend will be changed to \"sox_io\" backend in 0.8.0 and \"sox\" backend will be removed in 0.9.0. Please migrate to \"sox_io\" backend. Please refer to https://github.com/pytorch/audio/issues/903 for the detail.\n",
      "  '\"sox\" backend is being deprecated. '\n"
     ]
    },
    {
     "name": "stdout",
     "output_type": "stream",
     "text": [
      "Available workers: 16\n",
      "Total RAM      : 31.21 GB\n",
      "Available RAM  : 25.47 GB\n",
      "\n"
     ]
    }
   ],
   "source": [
    "from tqdm import tqdm\n",
    "# from tqdm.notebook import tqdm as tqdm\n",
    "import numpy as np\n",
    "import pandas as pd\n",
    "import torch\n",
    "torch.manual_seed(42)\n",
    "import torch.nn as nn\n",
    "import torch.optim as optim\n",
    "import torchaudio\n",
    "from torch.utils.data import Dataset, ConcatDataset\n",
    "from torch.utils.data.sampler import SubsetRandomSampler\n",
    "from torchvision import datasets, transforms\n",
    "from tsai.all import *\n",
    "\n",
    "torchaudio.USE_SOUNDFILE_LEGACY_INTERFACE = False\n",
    "torchaudio.set_audio_backend('soundfile')\n",
    "import os\n",
    "import random\n",
    "from pathlib import Path\n",
    "\n",
    "import matplotlib.pyplot as plt\n",
    "import psutil\n",
    "import requests\n",
    "\n",
    "from utils import *\n",
    "from wingbeat_datasets import *\n",
    "from wingbeat_models import *\n",
    "\n",
    "print(f'Total RAM      : {bytes2GB(psutil.virtual_memory().total):5.2f} GB')\n",
    "print(f'Available RAM  : {bytes2GB(psutil.virtual_memory().available):5.2f} GB\\n')"
   ]
  },
  {
   "cell_type": "code",
   "execution_count": 3,
   "metadata": {},
   "outputs": [],
   "source": [
    "num_epochs = 35\n",
    "batch_size = 32\n",
    "batch_size_val = batch_size * 2\n",
    "validation_split = .2\n",
    "shuffle_dataset = True\n",
    "num_workers = psutil.cpu_count()\n",
    "random_seed= 42\n",
    "setting = 'raw'\n",
    "modeltype = 'conv1draw'\n",
    "normalize = \"sample\""
   ]
  },
  {
   "cell_type": "code",
   "execution_count": 4,
   "metadata": {},
   "outputs": [
    {
     "name": "stdout",
     "output_type": "stream",
     "text": [
      "Found 279566 in dataset: Wingbeats, and 6 label(s): ['Ae. aegypti' 'Ae. albopictus' 'An. arabiensis' 'An. gambiae'\n",
      " 'C. pipiens' 'C. quinquefasciatus']\n",
      "No custom label applied.\n",
      "Nr. of valid wingbeats: 278307\n"
     ]
    }
   ],
   "source": [
    "transforms_list = [FilterWingbeat(setting='bandpass')]\n",
    "\n",
    "if normalize == \"whole\":\n",
    "    dmel1 = WingbeatsDataset(dsname=\"Melanogaster_RL/Y\", transform=transforms.Compose(transforms_list)).clean()\n",
    "    dsuz1 = WingbeatsDataset(dsname=\"Suzukii_RL/L\", transform=transforms.Compose(transforms_list)).clean()\n",
    "    transformed_dataset = ConcatDataset([dmel1, dsuz1])\n",
    "    trainval_dataloader = DataLoader(transformed_dataset, batch_size=batch_size, num_workers=num_workers)\n",
    "\n",
    "    mean, std = calc_mean_std_1D(loader=trainval_dataloader)\n",
    "    transforms_list += [Normalize(mean=mean, std=std, axes=(0,2))]\n",
    "elif normalize == \"sample\": # normalize each sample\n",
    "    transforms_list += [Normalize()]\n",
    "else:\n",
    "    pass\n",
    "\n",
    "# dmel1 = WingbeatsDataset(dsname=\"Wingbeats/Y\", custom_label=[0], transform=transforms.Compose(transforms_list)).clean()\n",
    "# dmel2 = WingbeatsDataset(dsname=\"Melanogaster_RL/Z\", custom_label=[0], transform=transforms.Compose(transforms_list)).clean()\n",
    "# dsuz1 = WingbeatsDataset(dsname=\"Suzukii_RL/Y\",      custom_label=[1], transform=transforms.Compose(transforms_list)).clean()\n",
    "# dsuz2 = WingbeatsDataset(dsname=\"Suzukii_RL/X\",      custom_label=[1], transform=transforms.Compose(transforms_list)).clean()\n",
    "dset = WingbeatsDataset(dsname=\"Wingbeats\", transform=transforms.Compose(transforms_list)).clean()"
   ]
  },
  {
   "cell_type": "code",
   "execution_count": 5,
   "metadata": {},
   "outputs": [],
   "source": [
    "transformed_dataset = dset\n",
    "trainval_dataloader = DataLoader(transformed_dataset, batch_size=batch_size, num_workers=num_workers)\n",
    "train_size = int(0.8 * len(transformed_dataset))\n",
    "valid_size = len(transformed_dataset) - train_size\n",
    "train_dataset, valid_dataset = torch.utils.data.random_split(transformed_dataset, [train_size, valid_size])\n",
    "\n",
    "train_dataloader = DataLoader(train_dataset, batch_size=batch_size, num_workers=num_workers)\n",
    "valid_dataloader = DataLoader(valid_dataset, batch_size=batch_size_val, num_workers=num_workers)"
   ]
  },
  {
   "cell_type": "code",
   "execution_count": 6,
   "metadata": {},
   "outputs": [
    {
     "name": "stderr",
     "output_type": "stream",
     "text": [
      "100%|██████████| 6958/6958 [00:30<00:00, 231.83it/s]\n"
     ]
    }
   ],
   "source": [
    "all_labels = ()\n",
    "for x,y,path,idx in tqdm(train_dataloader):\n",
    "#     print(f\"x:{x},\\ny:{y},\\npath:{path},\\nidx:{idx}\")\n",
    "    all_labels += y\n",
    "#     print(y)\n",
    "#     break"
   ]
  },
  {
   "cell_type": "code",
   "execution_count": 7,
   "metadata": {},
   "outputs": [],
   "source": [
    "from sklearn.preprocessing import LabelEncoder\n",
    "lb = LabelEncoder()\n",
    "lb.fit(all_labels)\n",
    "\n",
    "def encodelabels(ybatch):\n",
    "    return torch.from_numpy(lb.transform(ybatch))"
   ]
  },
  {
   "cell_type": "code",
   "execution_count": 8,
   "metadata": {},
   "outputs": [
    {
     "data": {
      "text/html": [
       "\n",
       "                <audio  controls=\"controls\" autoplay=\"autoplay\">\n",
       "                    <source src=\"data:audio/wav;base64,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\" type=\"audio/wav\" />\n",
       "                    Your browser does not support the audio element.\n",
       "                </audio>\n",
       "              "
      ],
      "text/plain": [
       "<IPython.lib.display.Audio object>"
      ]
     },
     "execution_count": 8,
     "metadata": {},
     "output_type": "execute_result"
    },
    {
     "data": {
      "image/png": "[encoded data removed]",
      "text/plain": [
       "<Figure size 432x288 with 1 Axes>"
      ]
     },
     "metadata": {
      "needs_background": "light"
     },
     "output_type": "display_data"
    }
   ],
   "source": [
    "from IPython.display import Audio\n",
    "sig = train_dataset[6][0]\n",
    "plt.plot(sig.T); plt.ylim(-.04,.04)\n",
    "Audio(sig, rate=8000, autoplay=True)"
   ]
  },
  {
   "cell_type": "code",
   "execution_count": 9,
   "metadata": {},
   "outputs": [],
   "source": [
    "if setting.startswith('psd'):\n",
    "    model = Conv1dNetPSD()\n",
    "elif modeltype == 'conv1draw':\n",
    "    model = Conv1dNetRAW()\n",
    "elif modeltype == 'inception':\n",
    "    model = nn.Sequential(\n",
    "                    InceptionBlock(\n",
    "                        in_channels=1, \n",
    "                        n_filters=32, \n",
    "                        kernel_sizes=[5, 11, 23],\n",
    "                        bottleneck_channels=32,\n",
    "                        use_residual=True,\n",
    "                        activation=nn.ReLU()\n",
    "                    ),\n",
    "                    InceptionBlock(\n",
    "                        in_channels=32*4, \n",
    "                        n_filters=32, \n",
    "                        kernel_sizes=[5, 11, 23],\n",
    "                        bottleneck_channels=32,\n",
    "                        use_residual=True,\n",
    "                        activation=nn.ReLU()\n",
    "                    ),\n",
    "                    nn.AdaptiveAvgPool1d(output_size=1),\n",
    "                    Flatten(out_features=32*4*1),\n",
    "                    nn.Linear(in_features=4*32*1, out_features=2))\n",
    "\n",
    "num_ftrs = model.fc1.in_features\n",
    "model.fc1 = nn.Linear(num_ftrs,6) \n",
    "    \n",
    "criterion = nn.CrossEntropyLoss()\n",
    "optimizer = torch.optim.Adam(model.parameters(), lr=0.01, betas=(0.9, 0.999))\n",
    "scheduler = optim.lr_scheduler.ReduceLROnPlateau(optimizer, patience=3, verbose=True)\n",
    "early_stopping = EarlyStopping(patience=7, verbose=1)\n",
    "# print(model)"
   ]
  },
  {
   "cell_type": "code",
   "execution_count": 10,
   "metadata": {},
   "outputs": [
    {
     "data": {
      "text/plain": [
       "Conv1dNetRAW(\n",
       "  (conv1): Conv1d(1, 16, kernel_size=(3,), stride=(1,))\n",
       "  (bn1): BatchNorm1d(16, eps=1e-05, momentum=0.1, affine=True, track_running_stats=True)\n",
       "  (pool1): MaxPool1d(kernel_size=2, stride=2, padding=0, dilation=1, ceil_mode=False)\n",
       "  (conv2): Conv1d(16, 32, kernel_size=(3,), stride=(1,))\n",
       "  (bn2): BatchNorm1d(32, eps=1e-05, momentum=0.1, affine=True, track_running_stats=True)\n",
       "  (pool2): MaxPool1d(kernel_size=2, stride=2, padding=0, dilation=1, ceil_mode=False)\n",
       "  (conv3): Conv1d(32, 64, kernel_size=(3,), stride=(1,))\n",
       "  (bn3): BatchNorm1d(64, eps=1e-05, momentum=0.1, affine=True, track_running_stats=True)\n",
       "  (pool3): MaxPool1d(kernel_size=2, stride=2, padding=0, dilation=1, ceil_mode=False)\n",
       "  (conv4): Conv1d(64, 128, kernel_size=(3,), stride=(1,))\n",
       "  (bn4): BatchNorm1d(128, eps=1e-05, momentum=0.1, affine=True, track_running_stats=True)\n",
       "  (pool4): MaxPool1d(kernel_size=2, stride=2, padding=0, dilation=1, ceil_mode=False)\n",
       "  (conv5): Conv1d(128, 256, kernel_size=(3,), stride=(1,))\n",
       "  (bn5): BatchNorm1d(256, eps=1e-05, momentum=0.1, affine=True, track_running_stats=True)\n",
       "  (pool5): MaxPool1d(kernel_size=2, stride=2, padding=0, dilation=1, ceil_mode=False)\n",
       "  (dropout): Dropout(p=0.5, inplace=False)\n",
       "  (avgPool): AvgPool1d(kernel_size=(154,), stride=(154,), padding=(0,))\n",
       "  (fc1): Linear(in_features=256, out_features=6, bias=True)\n",
       ")"
      ]
     },
     "execution_count": 10,
     "metadata": {},
     "output_type": "execute_result"
    }
   ],
   "source": [
    "model"
   ]
  },
  {
   "cell_type": "code",
   "execution_count": 11,
   "metadata": {},
   "outputs": [],
   "source": [
    "# list(model.children())[0]"
   ]
  },
  {
   "cell_type": "code",
   "execution_count": 12,
   "metadata": {},
   "outputs": [],
   "source": [
    "# test if everything works with mock input\n",
    "# import torchsummary\n",
    "# torchsummary.summary(model, (1,10000))\n",
    "# x = torch.randn(32, 1, 5000)\n",
    "\n",
    "# output = model(x)\n",
    "# output"
   ]
  },
  {
   "cell_type": "markdown",
   "metadata": {},
   "source": [
    "## Training"
   ]
  },
  {
   "cell_type": "code",
   "execution_count": 13,
   "metadata": {},
   "outputs": [
    {
     "name": "stdout",
     "output_type": "stream",
     "text": [
      "Train on gpu: True\n"
     ]
    },
    {
     "name": "stderr",
     "output_type": "stream",
     "text": [
      "Training..\t: 100%|██████████| 6958/6958 [01:16<00:00, 90.47it/s]\n",
      "Validating..\t: 100%|██████████| 870/870 [00:07<00:00, 116.15it/s]\n",
      "Training..\t:   0%|          | 0/6958 [00:00<?, ?it/s]"
     ]
    },
    {
     "name": "stdout",
     "output_type": "stream",
     "text": [
      "Validation loss decreased (inf --> 26.226006).  Saving model ...\n",
      "Epoch 0: train_acc: 75.22% loss: 0.263,  val_loss: 26.226 val_acc: 7.26%\n"
     ]
    },
    {
     "name": "stderr",
     "output_type": "stream",
     "text": [
      "Training..\t: 100%|██████████| 6958/6958 [01:17<00:00, 90.18it/s]\n",
      "Validating..\t: 100%|██████████| 870/870 [00:07<00:00, 116.51it/s]\n",
      "Training..\t:   0%|          | 0/6958 [00:00<?, ?it/s]"
     ]
    },
    {
     "name": "stdout",
     "output_type": "stream",
     "text": [
      "Epoch 1: train_acc: 81.22% loss: 0.276,  val_loss: 55.149 val_acc: 7.91%\n"
     ]
    },
    {
     "name": "stderr",
     "output_type": "stream",
     "text": [
      "Training..\t: 100%|██████████| 6958/6958 [01:16<00:00, 90.44it/s]\n",
      "Validating..\t: 100%|██████████| 870/870 [00:07<00:00, 117.05it/s]\n",
      "Training..\t:   0%|          | 0/6958 [00:00<?, ?it/s]"
     ]
    },
    {
     "name": "stdout",
     "output_type": "stream",
     "text": [
      "Epoch 2: train_acc: 83.32% loss: 0.293,  val_loss: 28.945 val_acc: 10.09%\n"
     ]
    },
    {
     "name": "stderr",
     "output_type": "stream",
     "text": [
      "Training..\t: 100%|██████████| 6958/6958 [01:16<00:00, 90.62it/s]\n",
      "Validating..\t: 100%|██████████| 870/870 [00:07<00:00, 116.74it/s]\n",
      "Training..\t:   0%|          | 0/6958 [00:00<?, ?it/s]"
     ]
    },
    {
     "name": "stdout",
     "output_type": "stream",
     "text": [
      "Epoch 3: train_acc: 84.54% loss: 0.349,  val_loss: 36.413 val_acc: 10.24%\n"
     ]
    },
    {
     "name": "stderr",
     "output_type": "stream",
     "text": [
      "Training..\t: 100%|██████████| 6958/6958 [01:16<00:00, 90.51it/s]\n",
      "Validating..\t: 100%|██████████| 870/870 [00:07<00:00, 116.85it/s]\n",
      "Training..\t:   0%|          | 0/6958 [00:00<?, ?it/s]"
     ]
    },
    {
     "name": "stdout",
     "output_type": "stream",
     "text": [
      "Validation loss decreased (26.226006 --> 5.187073).  Saving model ...\n",
      "Epoch 4: train_acc: 85.36% loss: 0.212,  val_loss: 5.187 val_acc: 14.32%\n"
     ]
    },
    {
     "name": "stderr",
     "output_type": "stream",
     "text": [
      "Training..\t: 100%|██████████| 6958/6958 [01:16<00:00, 90.62it/s]\n",
      "Validating..\t: 100%|██████████| 870/870 [00:07<00:00, 117.32it/s]\n",
      "Training..\t:   0%|          | 0/6958 [00:00<?, ?it/s]"
     ]
    },
    {
     "name": "stdout",
     "output_type": "stream",
     "text": [
      "Validation loss decreased (5.187073 --> 2.490898).  Saving model ...\n",
      "Epoch 5: train_acc: 85.82% loss: 0.281,  val_loss: 2.491 val_acc: 30.71%\n"
     ]
    },
    {
     "name": "stderr",
     "output_type": "stream",
     "text": [
      "Training..\t: 100%|██████████| 6958/6958 [01:16<00:00, 90.41it/s]\n",
      "Validating..\t: 100%|██████████| 870/870 [00:07<00:00, 114.36it/s]\n",
      "Training..\t:   0%|          | 0/6958 [00:00<?, ?it/s]"
     ]
    },
    {
     "name": "stdout",
     "output_type": "stream",
     "text": [
      "Epoch 6: train_acc: 86.41% loss: 0.276,  val_loss: 3.744 val_acc: 14.22%\n"
     ]
    },
    {
     "name": "stderr",
     "output_type": "stream",
     "text": [
      "Training..\t: 100%|██████████| 6958/6958 [01:16<00:00, 90.37it/s]\n",
      "Validating..\t: 100%|██████████| 870/870 [00:07<00:00, 117.18it/s]\n",
      "Training..\t:   0%|          | 0/6958 [00:00<?, ?it/s]"
     ]
    },
    {
     "name": "stdout",
     "output_type": "stream",
     "text": [
      "Epoch 7: train_acc: 86.84% loss: 0.226,  val_loss: 12.071 val_acc: 11.90%\n"
     ]
    },
    {
     "name": "stderr",
     "output_type": "stream",
     "text": [
      "Training..\t: 100%|██████████| 6958/6958 [01:16<00:00, 90.41it/s]\n",
      "Validating..\t: 100%|██████████| 870/870 [00:07<00:00, 116.50it/s]\n",
      "Training..\t:   0%|          | 0/6958 [00:00<?, ?it/s]"
     ]
    },
    {
     "name": "stdout",
     "output_type": "stream",
     "text": [
      "Epoch 8: train_acc: 87.15% loss: 0.262,  val_loss: 59.028 val_acc: 12.72%\n"
     ]
    },
    {
     "name": "stderr",
     "output_type": "stream",
     "text": [
      "Training..\t: 100%|██████████| 6958/6958 [01:16<00:00, 90.78it/s]\n",
      "Validating..\t: 100%|██████████| 870/870 [00:07<00:00, 116.77it/s]\n",
      "Training..\t:   0%|          | 0/6958 [00:00<?, ?it/s]"
     ]
    },
    {
     "name": "stdout",
     "output_type": "stream",
     "text": [
      "Epoch    10: reducing learning rate of group 0 to 1.0000e-03.\n",
      "Epoch 9: train_acc: 87.44% loss: 0.292,  val_loss: 2.946 val_acc: 36.58%\n"
     ]
    },
    {
     "name": "stderr",
     "output_type": "stream",
     "text": [
      "Training..\t: 100%|██████████| 6958/6958 [01:16<00:00, 90.72it/s]\n",
      "Validating..\t: 100%|██████████| 870/870 [00:07<00:00, 117.54it/s]\n",
      "Training..\t:   0%|          | 0/6958 [00:00<?, ?it/s]"
     ]
    },
    {
     "name": "stdout",
     "output_type": "stream",
     "text": [
      "Epoch 10: train_acc: 89.45% loss: 0.154,  val_loss: 23.297 val_acc: 26.41%\n"
     ]
    },
    {
     "name": "stderr",
     "output_type": "stream",
     "text": [
      "Training..\t: 100%|██████████| 6958/6958 [01:16<00:00, 90.70it/s]\n",
      "Validating..\t: 100%|██████████| 870/870 [00:07<00:00, 117.09it/s]\n",
      "Training..\t:   0%|          | 0/6958 [00:00<?, ?it/s]"
     ]
    },
    {
     "name": "stdout",
     "output_type": "stream",
     "text": [
      "Epoch 11: train_acc: 89.83% loss: 0.204,  val_loss: 8.117 val_acc: 35.77%\n"
     ]
    },
    {
     "name": "stderr",
     "output_type": "stream",
     "text": [
      "Training..\t: 100%|██████████| 6958/6958 [01:16<00:00, 90.60it/s]\n",
      "Validating..\t: 100%|██████████| 870/870 [00:07<00:00, 115.34it/s]"
     ]
    },
    {
     "name": "stdout",
     "output_type": "stream",
     "text": [
      "Early stopping\n"
     ]
    },
    {
     "name": "stderr",
     "output_type": "stream",
     "text": [
      "\n"
     ]
    }
   ],
   "source": [
    "# Choosing whether to train on a gpu\n",
    "train_on_gpu = torch.cuda.is_available()\n",
    "print(f'Train on gpu: {train_on_gpu}')# Number of gpus\n",
    "model = model.to('cuda', dtype=torch.float)\n",
    "\n",
    "# Model training\n",
    "for epoch in range(num_epochs):\n",
    "    # Going through the training set\n",
    "    correct_train = 0\n",
    "    model.train()\n",
    "    for x_batch,y_batch,path_batch,idx_batch in tqdm(train_dataloader, desc='Training..\\t'):        \n",
    "\n",
    "        y_batch = encodelabels(y_batch).type(torch.LongTensor)\n",
    "        x_batch,y_batch = x_batch.cuda(), y_batch.cuda()\n",
    "        \n",
    "        optimizer.zero_grad()\n",
    "        pred = model(x_batch)\n",
    "        loss = criterion(pred, y_batch)\n",
    "        loss.backward()\n",
    "        optimizer.step()\n",
    "        correct_train += (pred.argmax(axis=1) == y_batch).float().sum().item()\n",
    "\n",
    "    train_accuracy = correct_train / (len(train_dataloader)*batch_size) * 100.\n",
    "    # Going through the validation set\n",
    "    correct_valid = 0\n",
    "    model.eval()\n",
    "    for x_batch,y_batch,path_batch,idx_batch in tqdm(valid_dataloader, desc='Validating..\\t'):\n",
    "        \n",
    "        y_batch = encodelabels(y_batch).type(torch.LongTensor)\n",
    "        x_batch,y_batch = x_batch.cuda(), y_batch.cuda()\n",
    "        pred = model(x_batch)\n",
    "        val_loss = criterion(pred, y_batch)\n",
    "        correct_valid += (pred.argmax(axis=1) == y_batch).float().sum().item()\n",
    "    valid_accuracy = correct_valid / (len(valid_dataloader)*batch_size_val) * 100.\n",
    "    scheduler.step(val_loss)\n",
    "    early_stopping(val_loss, model)\n",
    "    if early_stopping.early_stop:\n",
    "        print(\"Early stopping\")\n",
    "        break\n",
    "\n",
    "        # Printing results\n",
    "    print(f\"Epoch {epoch}: train_acc: {train_accuracy:.2f}% loss: {loss:.3f},  val_loss: {val_loss:.3f} val_acc: {valid_accuracy:.2f}%\")\n"
   ]
  },
  {
   "cell_type": "markdown",
   "metadata": {},
   "source": [
    "## Testing"
   ]
  },
  {
   "cell_type": "markdown",
   "metadata": {},
   "source": [
    "### testing on datasets with same conditions"
   ]
  },
  {
   "cell_type": "code",
   "execution_count": 14,
   "metadata": {},
   "outputs": [
    {
     "name": "stdout",
     "output_type": "stream",
     "text": [
      "Train on gpu: True\n"
     ]
    }
   ],
   "source": [
    "# Choosing whether to train on a gpu\n",
    "train_on_gpu = torch.cuda.is_available()\n",
    "print(f'Train on gpu: {train_on_gpu}')# Number of gpus\n",
    "model = model.to('cuda', dtype=torch.float)"
   ]
  },
  {
   "cell_type": "code",
   "execution_count": 15,
   "metadata": {},
   "outputs": [
    {
     "ename": "NameError",
     "evalue": "name 'dmel2' is not defined",
     "output_type": "error",
     "traceback": [
      "\u001b[0;31m-------------------------------------------------\u001b[0m",
      "\u001b[0;31mNameError\u001b[0m       Traceback (most recent call last)",
      "\u001b[0;32m<ipython-input-15-de9297c6dc75>\u001b[0m in \u001b[0;36m<module>\u001b[0;34m\u001b[0m\n\u001b[0;32m----> 1\u001b[0;31m \u001b[0mtest_dataset\u001b[0m \u001b[0;34m=\u001b[0m \u001b[0mConcatDataset\u001b[0m\u001b[0;34m(\u001b[0m\u001b[0;34m[\u001b[0m\u001b[0mdmel2\u001b[0m\u001b[0;34m,\u001b[0m \u001b[0mdsuz2\u001b[0m\u001b[0;34m]\u001b[0m\u001b[0;34m)\u001b[0m\u001b[0;34m\u001b[0m\u001b[0;34m\u001b[0m\u001b[0m\n\u001b[0m\u001b[1;32m      2\u001b[0m \u001b[0mtest_dataloader\u001b[0m \u001b[0;34m=\u001b[0m \u001b[0mDataLoader\u001b[0m\u001b[0;34m(\u001b[0m\u001b[0mtest_dataset\u001b[0m\u001b[0;34m,\u001b[0m \u001b[0mbatch_size\u001b[0m\u001b[0;34m=\u001b[0m\u001b[0mbatch_size_val\u001b[0m\u001b[0;34m,\u001b[0m \u001b[0mnum_workers\u001b[0m\u001b[0;34m=\u001b[0m\u001b[0mnum_workers\u001b[0m\u001b[0;34m)\u001b[0m\u001b[0;34m\u001b[0m\u001b[0;34m\u001b[0m\u001b[0m\n\u001b[1;32m      3\u001b[0m \u001b[0;34m\u001b[0m\u001b[0m\n\u001b[1;32m      4\u001b[0m \u001b[0;32mdef\u001b[0m \u001b[0mtest\u001b[0m\u001b[0;34m(\u001b[0m\u001b[0mmodel\u001b[0m\u001b[0;34m,\u001b[0m \u001b[0mtest_dataloader\u001b[0m\u001b[0;34m)\u001b[0m\u001b[0;34m:\u001b[0m\u001b[0;34m\u001b[0m\u001b[0;34m\u001b[0m\u001b[0m\n\u001b[1;32m      5\u001b[0m     \u001b[0mcorrect_test\u001b[0m \u001b[0;34m=\u001b[0m \u001b[0;36m0\u001b[0m\u001b[0;34m\u001b[0m\u001b[0;34m\u001b[0m\u001b[0m\n",
      "\u001b[0;31mNameError\u001b[0m: name 'dmel2' is not defined"
     ]
    }
   ],
   "source": [
    "test_dataset = ConcatDataset([dmel2, dsuz2])\n",
    "test_dataloader = DataLoader(test_dataset, batch_size=batch_size_val, num_workers=num_workers)\n",
    "\n",
    "def test(model, test_dataloader):\n",
    "    correct_test = 0\n",
    "    model.eval()\n",
    "    for x_batch,y_batch,path_batch,idx_batch in tqdm(test_dataloader, desc='Testing..\\t'):\n",
    "\n",
    "        y_batch = torch.as_tensor(y_batch).type(torch.LongTensor)\n",
    "        x_batch,y_batch = x_batch.cuda(), y_batch.cuda()\n",
    "\n",
    "        pred = model(x_batch)\n",
    "        val_loss = criterion(pred, y_batch)\n",
    "        correct_test += (pred.argmax(axis=1) == y_batch).float().sum().item()\n",
    "    test_accuracy = correct_test / (len(test_dataloader)*batch_size_val) * 100.\n",
    "    print(test_accuracy)"
   ]
  },
  {
   "cell_type": "code",
   "execution_count": null,
   "metadata": {},
   "outputs": [],
   "source": [
    "test(model,test_dataloader)"
   ]
  }
 ],
 "metadata": {
  "kernelspec": {
   "display_name": "Python 3.6.12 64-bit ('wbai': conda)",
   "language": "python",
   "name": "python361264bitwbaiconda266a283de1054ff0a4833719d03ff907"
  },
  "language_info": {
   "codemirror_mode": {
    "name": "ipython",
    "version": 3
   },
   "file_extension": ".py",
   "mimetype": "text/x-python",
   "name": "python",
   "nbconvert_exporter": "python",
   "pygments_lexer": "ipython3",
   "version": "3.6.12"
  }
 },
 "nbformat": 4,
 "nbformat_minor": 4
}
